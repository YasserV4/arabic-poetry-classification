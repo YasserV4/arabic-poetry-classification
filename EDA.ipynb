{
 "cells": [
  {
   "cell_type": "code",
   "execution_count": 7,
   "id": "276748ea",
   "metadata": {},
   "outputs": [],
   "source": [
    "import pandas as pd\n",
    "\n",
    "df = pd.read_csv(\"dataset/Arabic_Poetry_Dataset.csv\")"
   ]
  },
  {
   "cell_type": "code",
   "execution_count": null,
   "id": "1fa4e155",
   "metadata": {},
   "outputs": [
    {
     "data": {
      "text/html": [
       "<div>\n",
       "<style scoped>\n",
       "    .dataframe tbody tr th:only-of-type {\n",
       "        vertical-align: middle;\n",
       "    }\n",
       "\n",
       "    .dataframe tbody tr th {\n",
       "        vertical-align: top;\n",
       "    }\n",
       "\n",
       "    .dataframe thead th {\n",
       "        text-align: right;\n",
       "    }\n",
       "</style>\n",
       "<table border=\"1\" class=\"dataframe\">\n",
       "  <thead>\n",
       "    <tr style=\"text-align: right;\">\n",
       "      <th></th>\n",
       "      <th>poet_name</th>\n",
       "      <th>poet_era</th>\n",
       "      <th>poem_tags</th>\n",
       "      <th>poem_title</th>\n",
       "      <th>poem_text</th>\n",
       "      <th>poem_count</th>\n",
       "    </tr>\n",
       "  </thead>\n",
       "  <tbody>\n",
       "    <tr>\n",
       "      <th>0</th>\n",
       "      <td>لقيط بن يعمر الإيادي</td>\n",
       "      <td>العصر الجاهلي</td>\n",
       "      <td>قصائد هجاء, عموديه, بحر الوافر,  قافية الدال (د)</td>\n",
       "      <td>سلام في الصحيفة من لقيط</td>\n",
       "      <td>سَلامٌ في الصَحيفَةِ مِن لَقيطٍ\\nإِلى مَن بِال...</td>\n",
       "      <td>عدد الابيات : 4</td>\n",
       "    </tr>\n",
       "    <tr>\n",
       "      <th>1</th>\n",
       "      <td>لقيط بن يعمر الإيادي</td>\n",
       "      <td>العصر الجاهلي</td>\n",
       "      <td>قصائد حزينه, عموديه, بحر البسيط,  قافية الألف ...</td>\n",
       "      <td>يا دار عمرة من محتلها الجرعا</td>\n",
       "      <td>يا دارَ عَمرَةَ مِن مُحتَلِّها الجَرَعا\\nهاجَت...</td>\n",
       "      <td>عدد الابيات : 60</td>\n",
       "    </tr>\n",
       "    <tr>\n",
       "      <th>2</th>\n",
       "      <td>لقيط بن يعمر الإيادي</td>\n",
       "      <td>العصر الجاهلي</td>\n",
       "      <td>قصائد قصيره, عموديه, بحر الرجز,  قافية الألف (ا)</td>\n",
       "      <td>وخاننا خوان في ارتباعنا</td>\n",
       "      <td>وَخانَنا خَوّانٌ في اِرتِباعِنا\\nفَاِنفَدَّ لِ...</td>\n",
       "      <td>عدد الابيات : 1</td>\n",
       "    </tr>\n",
       "    <tr>\n",
       "      <th>3</th>\n",
       "      <td>زبان بن سيار الفزاري</td>\n",
       "      <td>العصر الجاهلي</td>\n",
       "      <td>قصائد قصيره, عموديه, بحر الطويل,  قافية الألف ...</td>\n",
       "      <td>تنح إليكم يا ابن كوز فإننا</td>\n",
       "      <td>تَنَحَّ إِلَيكُم يا اِبنَ كوزٍ فَإِنَّنا\\nوَإِ...</td>\n",
       "      <td>عدد الابيات : 1</td>\n",
       "    </tr>\n",
       "    <tr>\n",
       "      <th>4</th>\n",
       "      <td>زبان بن سيار الفزاري</td>\n",
       "      <td>العصر الجاهلي</td>\n",
       "      <td>قصائد قصيره, عموديه, بحر الطويل,  قافية الباء ...</td>\n",
       "      <td>تطارحه الأنساب حتى رددنه</td>\n",
       "      <td>تُطارِحُهُ الأَنسابُ حَتّى رَدَدنَهُ\\nإِلى نَس...</td>\n",
       "      <td>عدد الابيات : 1</td>\n",
       "    </tr>\n",
       "  </tbody>\n",
       "</table>\n",
       "</div>"
      ],
      "text/plain": [
       "              poet_name       poet_era  \\\n",
       "0  لقيط بن يعمر الإيادي  العصر الجاهلي   \n",
       "1  لقيط بن يعمر الإيادي  العصر الجاهلي   \n",
       "2  لقيط بن يعمر الإيادي  العصر الجاهلي   \n",
       "3  زبان بن سيار الفزاري  العصر الجاهلي   \n",
       "4  زبان بن سيار الفزاري  العصر الجاهلي   \n",
       "\n",
       "                                           poem_tags  \\\n",
       "0  قصائد هجاء, عموديه, بحر الوافر,  قافية الدال (د)    \n",
       "1  قصائد حزينه, عموديه, بحر البسيط,  قافية الألف ...   \n",
       "2  قصائد قصيره, عموديه, بحر الرجز,  قافية الألف (ا)    \n",
       "3  قصائد قصيره, عموديه, بحر الطويل,  قافية الألف ...   \n",
       "4  قصائد قصيره, عموديه, بحر الطويل,  قافية الباء ...   \n",
       "\n",
       "                     poem_title  \\\n",
       "0       سلام في الصحيفة من لقيط   \n",
       "1  يا دار عمرة من محتلها الجرعا   \n",
       "2       وخاننا خوان في ارتباعنا   \n",
       "3    تنح إليكم يا ابن كوز فإننا   \n",
       "4      تطارحه الأنساب حتى رددنه   \n",
       "\n",
       "                                           poem_text        poem_count  \n",
       "0  سَلامٌ في الصَحيفَةِ مِن لَقيطٍ\\nإِلى مَن بِال...   عدد الابيات : 4  \n",
       "1  يا دارَ عَمرَةَ مِن مُحتَلِّها الجَرَعا\\nهاجَت...  عدد الابيات : 60  \n",
       "2  وَخانَنا خَوّانٌ في اِرتِباعِنا\\nفَاِنفَدَّ لِ...   عدد الابيات : 1  \n",
       "3  تَنَحَّ إِلَيكُم يا اِبنَ كوزٍ فَإِنَّنا\\nوَإِ...   عدد الابيات : 1  \n",
       "4  تُطارِحُهُ الأَنسابُ حَتّى رَدَدنَهُ\\nإِلى نَس...   عدد الابيات : 1  "
      ]
     },
     "execution_count": 8,
     "metadata": {},
     "output_type": "execute_result"
    }
   ],
   "source": [
    "df.head()\n",
    "#I noticed that the title col value is the beginning of each poem"
   ]
  },
  {
   "cell_type": "markdown",
   "id": "d3924f1c",
   "metadata": {},
   "source": [
    "**EDA**"
   ]
  },
  {
   "cell_type": "code",
   "execution_count": 9,
   "id": "0152b630",
   "metadata": {},
   "outputs": [
    {
     "data": {
      "text/html": [
       "<div>\n",
       "<style scoped>\n",
       "    .dataframe tbody tr th:only-of-type {\n",
       "        vertical-align: middle;\n",
       "    }\n",
       "\n",
       "    .dataframe tbody tr th {\n",
       "        vertical-align: top;\n",
       "    }\n",
       "\n",
       "    .dataframe thead th {\n",
       "        text-align: right;\n",
       "    }\n",
       "</style>\n",
       "<table border=\"1\" class=\"dataframe\">\n",
       "  <thead>\n",
       "    <tr style=\"text-align: right;\">\n",
       "      <th></th>\n",
       "      <th>poet_name</th>\n",
       "      <th>poet_era</th>\n",
       "      <th>poem_tags</th>\n",
       "      <th>poem_title</th>\n",
       "      <th>poem_text</th>\n",
       "      <th>poem_count</th>\n",
       "    </tr>\n",
       "  </thead>\n",
       "  <tbody>\n",
       "    <tr>\n",
       "      <th>0</th>\n",
       "      <td>لقيط بن يعمر الإيادي</td>\n",
       "      <td>العصر الجاهلي</td>\n",
       "      <td>قصائد هجاء, عموديه, بحر الوافر,  قافية الدال (د)</td>\n",
       "      <td>سلام في الصحيفة من لقيط</td>\n",
       "      <td>سَلامٌ في الصَحيفَةِ مِن لَقيطٍ\\nإِلى مَن بِال...</td>\n",
       "      <td>عدد الابيات : 4</td>\n",
       "    </tr>\n",
       "    <tr>\n",
       "      <th>1</th>\n",
       "      <td>لقيط بن يعمر الإيادي</td>\n",
       "      <td>العصر الجاهلي</td>\n",
       "      <td>قصائد حزينه, عموديه, بحر البسيط,  قافية الألف ...</td>\n",
       "      <td>يا دار عمرة من محتلها الجرعا</td>\n",
       "      <td>يا دارَ عَمرَةَ مِن مُحتَلِّها الجَرَعا\\nهاجَت...</td>\n",
       "      <td>عدد الابيات : 60</td>\n",
       "    </tr>\n",
       "    <tr>\n",
       "      <th>2</th>\n",
       "      <td>لقيط بن يعمر الإيادي</td>\n",
       "      <td>العصر الجاهلي</td>\n",
       "      <td>قصائد قصيره, عموديه, بحر الرجز,  قافية الألف (ا)</td>\n",
       "      <td>وخاننا خوان في ارتباعنا</td>\n",
       "      <td>وَخانَنا خَوّانٌ في اِرتِباعِنا\\nفَاِنفَدَّ لِ...</td>\n",
       "      <td>عدد الابيات : 1</td>\n",
       "    </tr>\n",
       "    <tr>\n",
       "      <th>3</th>\n",
       "      <td>زبان بن سيار الفزاري</td>\n",
       "      <td>العصر الجاهلي</td>\n",
       "      <td>قصائد قصيره, عموديه, بحر الطويل,  قافية الألف ...</td>\n",
       "      <td>تنح إليكم يا ابن كوز فإننا</td>\n",
       "      <td>تَنَحَّ إِلَيكُم يا اِبنَ كوزٍ فَإِنَّنا\\nوَإِ...</td>\n",
       "      <td>عدد الابيات : 1</td>\n",
       "    </tr>\n",
       "    <tr>\n",
       "      <th>4</th>\n",
       "      <td>زبان بن سيار الفزاري</td>\n",
       "      <td>العصر الجاهلي</td>\n",
       "      <td>قصائد قصيره, عموديه, بحر الطويل,  قافية الباء ...</td>\n",
       "      <td>تطارحه الأنساب حتى رددنه</td>\n",
       "      <td>تُطارِحُهُ الأَنسابُ حَتّى رَدَدنَهُ\\nإِلى نَس...</td>\n",
       "      <td>عدد الابيات : 1</td>\n",
       "    </tr>\n",
       "    <tr>\n",
       "      <th>5</th>\n",
       "      <td>زبان بن سيار الفزاري</td>\n",
       "      <td>العصر الجاهلي</td>\n",
       "      <td>قصائد مدح, عموديه, بحر الطويل,  قافية الألف (ا)</td>\n",
       "      <td>إن تنسبوني تنسبوا ذا دسيعة</td>\n",
       "      <td>إِن تَنسُبوني تَنسُبوا ذا دَسيعَةٍ\\nبَريئاً مِ...</td>\n",
       "      <td>عدد الابيات : 5</td>\n",
       "    </tr>\n",
       "    <tr>\n",
       "      <th>6</th>\n",
       "      <td>زبان بن سيار الفزاري</td>\n",
       "      <td>العصر الجاهلي</td>\n",
       "      <td>قصائد هجاء, عموديه, بحر الطويل,  قافية الألف (ا)</td>\n",
       "      <td>نبئت ركبان الطريق تناذروا</td>\n",
       "      <td>نُبِّئتُ رُكبانَ الطَريقِ تَناذَروا\\nعَقيلاً إ...</td>\n",
       "      <td>عدد الابيات : 8</td>\n",
       "    </tr>\n",
       "    <tr>\n",
       "      <th>7</th>\n",
       "      <td>زبان بن سيار الفزاري</td>\n",
       "      <td>العصر الجاهلي</td>\n",
       "      <td>قصائد حزينه, عموديه, بحر الوافر,  قافية الدال ...</td>\n",
       "      <td>لأن فجعت بالقرباء منى</td>\n",
       "      <td>لَأَن فُجِّعتُ بِالقُرَباءِ مِنّى\\nلَقَد مُتِّ...</td>\n",
       "      <td>عدد الابيات : 3</td>\n",
       "    </tr>\n",
       "    <tr>\n",
       "      <th>8</th>\n",
       "      <td>زبان بن سيار الفزاري</td>\n",
       "      <td>العصر الجاهلي</td>\n",
       "      <td>قصائد مدح, عموديه, بحر الوافر,  قافية الراء (ر)</td>\n",
       "      <td>تخبر طيره فيها زياد</td>\n",
       "      <td>تَخَبَّرَ طَيرَهُ فيها زِيادٌ\\nلِتُخبِرَهُ وَم...</td>\n",
       "      <td>عدد الابيات : 5</td>\n",
       "    </tr>\n",
       "    <tr>\n",
       "      <th>9</th>\n",
       "      <td>زبان بن سيار الفزاري</td>\n",
       "      <td>العصر الجاهلي</td>\n",
       "      <td>قصائد قصيره, عموديه, بحر الطويل,  قافية الألف ...</td>\n",
       "      <td>ونحن حملنا عن كنانة جرمها</td>\n",
       "      <td>وَنَحنُ حَمَلنا عَن كِنانَةَ جُرمَها\\nوَجُرمَ ...</td>\n",
       "      <td>عدد الابيات : 1</td>\n",
       "    </tr>\n",
       "  </tbody>\n",
       "</table>\n",
       "</div>"
      ],
      "text/plain": [
       "              poet_name       poet_era  \\\n",
       "0  لقيط بن يعمر الإيادي  العصر الجاهلي   \n",
       "1  لقيط بن يعمر الإيادي  العصر الجاهلي   \n",
       "2  لقيط بن يعمر الإيادي  العصر الجاهلي   \n",
       "3  زبان بن سيار الفزاري  العصر الجاهلي   \n",
       "4  زبان بن سيار الفزاري  العصر الجاهلي   \n",
       "5  زبان بن سيار الفزاري  العصر الجاهلي   \n",
       "6  زبان بن سيار الفزاري  العصر الجاهلي   \n",
       "7  زبان بن سيار الفزاري  العصر الجاهلي   \n",
       "8  زبان بن سيار الفزاري  العصر الجاهلي   \n",
       "9  زبان بن سيار الفزاري  العصر الجاهلي   \n",
       "\n",
       "                                           poem_tags  \\\n",
       "0  قصائد هجاء, عموديه, بحر الوافر,  قافية الدال (د)    \n",
       "1  قصائد حزينه, عموديه, بحر البسيط,  قافية الألف ...   \n",
       "2  قصائد قصيره, عموديه, بحر الرجز,  قافية الألف (ا)    \n",
       "3  قصائد قصيره, عموديه, بحر الطويل,  قافية الألف ...   \n",
       "4  قصائد قصيره, عموديه, بحر الطويل,  قافية الباء ...   \n",
       "5   قصائد مدح, عموديه, بحر الطويل,  قافية الألف (ا)    \n",
       "6  قصائد هجاء, عموديه, بحر الطويل,  قافية الألف (ا)    \n",
       "7  قصائد حزينه, عموديه, بحر الوافر,  قافية الدال ...   \n",
       "8   قصائد مدح, عموديه, بحر الوافر,  قافية الراء (ر)    \n",
       "9  قصائد قصيره, عموديه, بحر الطويل,  قافية الألف ...   \n",
       "\n",
       "                     poem_title  \\\n",
       "0       سلام في الصحيفة من لقيط   \n",
       "1  يا دار عمرة من محتلها الجرعا   \n",
       "2       وخاننا خوان في ارتباعنا   \n",
       "3    تنح إليكم يا ابن كوز فإننا   \n",
       "4      تطارحه الأنساب حتى رددنه   \n",
       "5    إن تنسبوني تنسبوا ذا دسيعة   \n",
       "6     نبئت ركبان الطريق تناذروا   \n",
       "7         لأن فجعت بالقرباء منى   \n",
       "8           تخبر طيره فيها زياد   \n",
       "9     ونحن حملنا عن كنانة جرمها   \n",
       "\n",
       "                                           poem_text        poem_count  \n",
       "0  سَلامٌ في الصَحيفَةِ مِن لَقيطٍ\\nإِلى مَن بِال...   عدد الابيات : 4  \n",
       "1  يا دارَ عَمرَةَ مِن مُحتَلِّها الجَرَعا\\nهاجَت...  عدد الابيات : 60  \n",
       "2  وَخانَنا خَوّانٌ في اِرتِباعِنا\\nفَاِنفَدَّ لِ...   عدد الابيات : 1  \n",
       "3  تَنَحَّ إِلَيكُم يا اِبنَ كوزٍ فَإِنَّنا\\nوَإِ...   عدد الابيات : 1  \n",
       "4  تُطارِحُهُ الأَنسابُ حَتّى رَدَدنَهُ\\nإِلى نَس...   عدد الابيات : 1  \n",
       "5  إِن تَنسُبوني تَنسُبوا ذا دَسيعَةٍ\\nبَريئاً مِ...   عدد الابيات : 5  \n",
       "6  نُبِّئتُ رُكبانَ الطَريقِ تَناذَروا\\nعَقيلاً إ...   عدد الابيات : 8  \n",
       "7  لَأَن فُجِّعتُ بِالقُرَباءِ مِنّى\\nلَقَد مُتِّ...   عدد الابيات : 3  \n",
       "8  تَخَبَّرَ طَيرَهُ فيها زِيادٌ\\nلِتُخبِرَهُ وَم...   عدد الابيات : 5  \n",
       "9  وَنَحنُ حَمَلنا عَن كِنانَةَ جُرمَها\\nوَجُرمَ ...   عدد الابيات : 1  "
      ]
     },
     "execution_count": 9,
     "metadata": {},
     "output_type": "execute_result"
    }
   ],
   "source": [
    "df.head(10)\n"
   ]
  },
  {
   "cell_type": "code",
   "execution_count": 24,
   "id": "33c5d37a",
   "metadata": {},
   "outputs": [
    {
     "data": {
      "text/plain": [
       "(75022, 6)"
      ]
     },
     "execution_count": 24,
     "metadata": {},
     "output_type": "execute_result"
    }
   ],
   "source": [
    "df.shape"
   ]
  },
  {
   "cell_type": "code",
   "execution_count": 21,
   "id": "fcc86188",
   "metadata": {},
   "outputs": [
    {
     "data": {
      "text/plain": [
       "poet_name       755\n",
       "poet_era          9\n",
       "poem_tags      6033\n",
       "poem_title    73502\n",
       "poem_text     74581\n",
       "poem_count      224\n",
       "dtype: int64"
      ]
     },
     "execution_count": 21,
     "metadata": {},
     "output_type": "execute_result"
    }
   ],
   "source": [
    "df.nunique()"
   ]
  },
  {
   "cell_type": "code",
   "execution_count": 32,
   "id": "38784d47",
   "metadata": {},
   "outputs": [
    {
     "name": "stdout",
     "output_type": "stream",
     "text": [
      "<class 'pandas.core.frame.DataFrame'>\n",
      "Index: 74988 entries, 0 to 75021\n",
      "Data columns (total 6 columns):\n",
      " #   Column      Non-Null Count  Dtype \n",
      "---  ------      --------------  ----- \n",
      " 0   poet_name   74988 non-null  object\n",
      " 1   poet_era    74988 non-null  object\n",
      " 2   poem_tags   74988 non-null  object\n",
      " 3   poem_title  74988 non-null  object\n",
      " 4   poem_text   74988 non-null  object\n",
      " 5   poem_count  74988 non-null  int64 \n",
      "dtypes: int64(1), object(5)\n",
      "memory usage: 4.0+ MB\n"
     ]
    }
   ],
   "source": [
    "df.info()"
   ]
  },
  {
   "cell_type": "code",
   "execution_count": 26,
   "id": "e9581238",
   "metadata": {},
   "outputs": [
    {
     "data": {
      "text/html": [
       "<div>\n",
       "<style scoped>\n",
       "    .dataframe tbody tr th:only-of-type {\n",
       "        vertical-align: middle;\n",
       "    }\n",
       "\n",
       "    .dataframe tbody tr th {\n",
       "        vertical-align: top;\n",
       "    }\n",
       "\n",
       "    .dataframe thead th {\n",
       "        text-align: right;\n",
       "    }\n",
       "</style>\n",
       "<table border=\"1\" class=\"dataframe\">\n",
       "  <thead>\n",
       "    <tr style=\"text-align: right;\">\n",
       "      <th></th>\n",
       "      <th>poet_name</th>\n",
       "      <th>poet_era</th>\n",
       "      <th>poem_tags</th>\n",
       "      <th>poem_title</th>\n",
       "      <th>poem_text</th>\n",
       "      <th>poem_count</th>\n",
       "    </tr>\n",
       "  </thead>\n",
       "  <tbody>\n",
       "    <tr>\n",
       "      <th>count</th>\n",
       "      <td>75022</td>\n",
       "      <td>75022</td>\n",
       "      <td>74990</td>\n",
       "      <td>75020</td>\n",
       "      <td>74010</td>\n",
       "      <td>74010</td>\n",
       "    </tr>\n",
       "    <tr>\n",
       "      <th>unique</th>\n",
       "      <td>755</td>\n",
       "      <td>9</td>\n",
       "      <td>6033</td>\n",
       "      <td>73502</td>\n",
       "      <td>73640</td>\n",
       "      <td>224</td>\n",
       "    </tr>\n",
       "    <tr>\n",
       "      <th>top</th>\n",
       "      <td>ابن الرومي</td>\n",
       "      <td>العصر العباسي</td>\n",
       "      <td>قصائد قصيره, عموديه, بحر الطويل,  قافية الراء ...</td>\n",
       "      <td>جزى الله خيرا والجزاء بكفه</td>\n",
       "      <td>في اليَأسِ لي عِزٌّ كَفاني ذُلّي\\nيَشرِكُني في...</td>\n",
       "      <td>عدد الابيات : 2</td>\n",
       "    </tr>\n",
       "    <tr>\n",
       "      <th>freq</th>\n",
       "      <td>2020</td>\n",
       "      <td>26725</td>\n",
       "      <td>1075</td>\n",
       "      <td>6</td>\n",
       "      <td>3</td>\n",
       "      <td>17948</td>\n",
       "    </tr>\n",
       "  </tbody>\n",
       "</table>\n",
       "</div>"
      ],
      "text/plain": [
       "         poet_name       poet_era  \\\n",
       "count        75022          75022   \n",
       "unique         755              9   \n",
       "top     ابن الرومي  العصر العباسي   \n",
       "freq          2020          26725   \n",
       "\n",
       "                                                poem_tags  \\\n",
       "count                                               74990   \n",
       "unique                                               6033   \n",
       "top     قصائد قصيره, عموديه, بحر الطويل,  قافية الراء ...   \n",
       "freq                                                 1075   \n",
       "\n",
       "                        poem_title  \\\n",
       "count                        75020   \n",
       "unique                       73502   \n",
       "top     جزى الله خيرا والجزاء بكفه   \n",
       "freq                             6   \n",
       "\n",
       "                                                poem_text       poem_count  \n",
       "count                                               74010            74010  \n",
       "unique                                              73640              224  \n",
       "top     في اليَأسِ لي عِزٌّ كَفاني ذُلّي\\nيَشرِكُني في...  عدد الابيات : 2  \n",
       "freq                                                    3            17948  "
      ]
     },
     "execution_count": 26,
     "metadata": {},
     "output_type": "execute_result"
    }
   ],
   "source": [
    "df.describe()"
   ]
  },
  {
   "cell_type": "code",
   "execution_count": null,
   "id": "16028609",
   "metadata": {},
   "outputs": [
    {
     "data": {
      "text/plain": [
       "poet_name        0\n",
       "poet_era         0\n",
       "poem_tags       32\n",
       "poem_title       2\n",
       "poem_text     1012\n",
       "poem_count    1012\n",
       "dtype: int64"
      ]
     },
     "execution_count": 29,
     "metadata": {},
     "output_type": "execute_result"
    }
   ],
   "source": [
    "df.isnull().sum()\n",
    "\n"
   ]
  },
  {
   "cell_type": "markdown",
   "id": "3e02e78f",
   "metadata": {},
   "source": [
    "So, if the title is the beginning of each poem, we will use this information to impute the null values in the poem_text."
   ]
  },
  {
   "cell_type": "code",
   "execution_count": null,
   "id": "2b59eea1",
   "metadata": {},
   "outputs": [],
   "source": [
    "import pandas as pd\n",
    "\n",
    "# Fill null values in 'poem_text' with the corresponding 'poem_title'\n",
    "df['poem_text'] = df.apply(\n",
    "    lambda row: row['poem_title'] if pd.isna(row['poem_text']) else row['poem_text'],\n",
    "    axis=1\n",
    ")\n",
    "\n"
   ]
  },
  {
   "cell_type": "code",
   "execution_count": 12,
   "id": "120d56b6",
   "metadata": {},
   "outputs": [
    {
     "data": {
      "text/plain": [
       "poet_name        0\n",
       "poet_era         0\n",
       "poem_tags       32\n",
       "poem_title       2\n",
       "poem_text        0\n",
       "poem_count    1012\n",
       "dtype: int64"
      ]
     },
     "execution_count": 12,
     "metadata": {},
     "output_type": "execute_result"
    }
   ],
   "source": [
    "df.isnull().sum()\n",
    "\n"
   ]
  },
  {
   "cell_type": "markdown",
   "id": "1a77f910",
   "metadata": {},
   "source": [
    "Now, for the null values in poem_count, we will calculate the average poem_count for each poet_era and use that to fill in the missing values."
   ]
  },
  {
   "cell_type": "code",
   "execution_count": null,
   "id": "2f5af1b7",
   "metadata": {},
   "outputs": [
    {
     "name": "stdout",
     "output_type": "stream",
     "text": [
      "poet_era\n",
      "العصر الأندلسي    15.978300\n",
      "العصر الاسلامي     6.317343\n",
      "العصر الاموي       8.026349\n",
      "العصر الايوبي     14.247746\n",
      "العصر الجاهلي      8.179454\n",
      "العصر العباسي      9.902433\n",
      "العصر العثماني    14.246961\n",
      "العصر المملوكي    10.481632\n",
      "المخضرمون          7.556160\n",
      "Name: poem_count, dtype: float64\n"
     ]
    }
   ],
   "source": [
    "\n",
    "df['poem_count'] = df['poem_count'].astype(str).str.extract('(\\d+)')\n",
    "df['poem_count'] = pd.to_numeric(df['poem_count'], errors='coerce')\n",
    "\n",
    "mean_per_era = df.groupby('poet_era')['poem_count'].mean()\n",
    "print(mean_per_era)\n"
   ]
  },
  {
   "cell_type": "code",
   "execution_count": null,
   "id": "6e4a1079",
   "metadata": {},
   "outputs": [],
   "source": [
    "df['poem_count'] = df.apply(\n",
    "    lambda row: mean_per_era[row['poet_era']] if pd.isna(row['poem_count']) else row['poem_count'],\n",
    "    axis=1\n",
    ")\n",
    "\n",
    "df['poem_count'] = df['poem_count'].round().astype(int)"
   ]
  },
  {
   "cell_type": "code",
   "execution_count": 17,
   "id": "e9d95a2b",
   "metadata": {},
   "outputs": [
    {
     "data": {
      "text/plain": [
       "poet_name      0\n",
       "poet_era       0\n",
       "poem_tags     32\n",
       "poem_title     2\n",
       "poem_text      0\n",
       "poem_count     0\n",
       "dtype: int64"
      ]
     },
     "execution_count": 17,
     "metadata": {},
     "output_type": "execute_result"
    }
   ],
   "source": [
    "df.isnull().sum()\n"
   ]
  },
  {
   "cell_type": "markdown",
   "id": "cbf08a75",
   "metadata": {},
   "source": [
    "Now we have only 32 null values in poem_tags and 2 null values in poem_title, which we will drop them"
   ]
  },
  {
   "cell_type": "code",
   "execution_count": 22,
   "id": "31a2f3df",
   "metadata": {},
   "outputs": [],
   "source": [
    "df = df.dropna(subset=['poem_tags', 'poem_title'])"
   ]
  },
  {
   "cell_type": "code",
   "execution_count": 23,
   "id": "8675440c",
   "metadata": {},
   "outputs": [
    {
     "data": {
      "text/plain": [
       "poet_name     0\n",
       "poet_era      0\n",
       "poem_tags     0\n",
       "poem_title    0\n",
       "poem_text     0\n",
       "poem_count    0\n",
       "dtype: int64"
      ]
     },
     "execution_count": 23,
     "metadata": {},
     "output_type": "execute_result"
    }
   ],
   "source": [
    "df.isnull().sum()"
   ]
  },
  {
   "cell_type": "code",
   "execution_count": null,
   "id": "a8da6869",
   "metadata": {},
   "outputs": [
    {
     "data": {
      "application/vnd.plotly.v1+json": {
       "config": {
        "plotlyServerURL": "https://plot.ly"
       },
       "data": [
        {
         "hovertemplate": "Poet Era=%{x}<br>Number of Poems=%{y}<extra></extra>",
         "legendgroup": "العصر العباسي",
         "marker": {
          "color": "rgb(95, 70, 144)",
          "pattern": {
           "shape": ""
          }
         },
         "name": "العصر العباسي",
         "orientation": "v",
         "showlegend": true,
         "textposition": "auto",
         "type": "bar",
         "x": [
          "العصر العباسي"
         ],
         "xaxis": "x",
         "y": {
          "bdata": "Y2g=",
          "dtype": "i2"
         },
         "yaxis": "y"
        },
        {
         "hovertemplate": "Poet Era=%{x}<br>Number of Poems=%{y}<extra></extra>",
         "legendgroup": "العصر المملوكي",
         "marker": {
          "color": "rgb(29, 105, 150)",
          "pattern": {
           "shape": ""
          }
         },
         "name": "العصر المملوكي",
         "orientation": "v",
         "showlegend": true,
         "textposition": "auto",
         "type": "bar",
         "x": [
          "العصر المملوكي"
         ],
         "xaxis": "x",
         "y": {
          "bdata": "HTM=",
          "dtype": "i2"
         },
         "yaxis": "y"
        },
        {
         "hovertemplate": "Poet Era=%{x}<br>Number of Poems=%{y}<extra></extra>",
         "legendgroup": "العصر الايوبي",
         "marker": {
          "color": "rgb(56, 166, 165)",
          "pattern": {
           "shape": ""
          }
         },
         "name": "العصر الايوبي",
         "orientation": "v",
         "showlegend": true,
         "textposition": "auto",
         "type": "bar",
         "x": [
          "العصر الايوبي"
         ],
         "xaxis": "x",
         "y": {
          "bdata": "3R8=",
          "dtype": "i2"
         },
         "yaxis": "y"
        },
        {
         "hovertemplate": "Poet Era=%{x}<br>Number of Poems=%{y}<extra></extra>",
         "legendgroup": "العصر العثماني",
         "marker": {
          "color": "rgb(15, 133, 84)",
          "pattern": {
           "shape": ""
          }
         },
         "name": "العصر العثماني",
         "orientation": "v",
         "showlegend": true,
         "textposition": "auto",
         "type": "bar",
         "x": [
          "العصر العثماني"
         ],
         "xaxis": "x",
         "y": {
          "bdata": "eR0=",
          "dtype": "i2"
         },
         "yaxis": "y"
        },
        {
         "hovertemplate": "Poet Era=%{x}<br>Number of Poems=%{y}<extra></extra>",
         "legendgroup": "العصر الاموي",
         "marker": {
          "color": "rgb(115, 175, 72)",
          "pattern": {
           "shape": ""
          }
         },
         "name": "العصر الاموي",
         "orientation": "v",
         "showlegend": true,
         "textposition": "auto",
         "type": "bar",
         "x": [
          "العصر الاموي"
         ],
         "xaxis": "x",
         "y": {
          "bdata": "ohw=",
          "dtype": "i2"
         },
         "yaxis": "y"
        },
        {
         "hovertemplate": "Poet Era=%{x}<br>Number of Poems=%{y}<extra></extra>",
         "legendgroup": "العصر الأندلسي",
         "marker": {
          "color": "rgb(237, 173, 8)",
          "pattern": {
           "shape": ""
          }
         },
         "name": "العصر الأندلسي",
         "orientation": "v",
         "showlegend": true,
         "textposition": "auto",
         "type": "bar",
         "x": [
          "العصر الأندلسي"
         ],
         "xaxis": "x",
         "y": {
          "bdata": "Gxg=",
          "dtype": "i2"
         },
         "yaxis": "y"
        },
        {
         "hovertemplate": "Poet Era=%{x}<br>Number of Poems=%{y}<extra></extra>",
         "legendgroup": "المخضرمون",
         "marker": {
          "color": "rgb(225, 124, 5)",
          "pattern": {
           "shape": ""
          }
         },
         "name": "المخضرمون",
         "orientation": "v",
         "showlegend": true,
         "textposition": "auto",
         "type": "bar",
         "x": [
          "المخضرمون"
         ],
         "xaxis": "x",
         "y": {
          "bdata": "2gw=",
          "dtype": "i2"
         },
         "yaxis": "y"
        },
        {
         "hovertemplate": "Poet Era=%{x}<br>Number of Poems=%{y}<extra></extra>",
         "legendgroup": "العصر الجاهلي",
         "marker": {
          "color": "rgb(204, 80, 62)",
          "pattern": {
           "shape": ""
          }
         },
         "name": "العصر الجاهلي",
         "orientation": "v",
         "showlegend": true,
         "textposition": "auto",
         "type": "bar",
         "x": [
          "العصر الجاهلي"
         ],
         "xaxis": "x",
         "y": {
          "bdata": "Lgk=",
          "dtype": "i2"
         },
         "yaxis": "y"
        },
        {
         "hovertemplate": "Poet Era=%{x}<br>Number of Poems=%{y}<extra></extra>",
         "legendgroup": "العصر الاسلامي",
         "marker": {
          "color": "rgb(148, 52, 110)",
          "pattern": {
           "shape": ""
          }
         },
         "name": "العصر الاسلامي",
         "orientation": "v",
         "showlegend": true,
         "textposition": "auto",
         "type": "bar",
         "x": [
          "العصر الاسلامي"
         ],
         "xaxis": "x",
         "y": {
          "bdata": "UQE=",
          "dtype": "i2"
         },
         "yaxis": "y"
        }
       ],
       "layout": {
        "barmode": "relative",
        "legend": {
         "title": {
          "text": "Poet Era"
         },
         "tracegroupgap": 0
        },
        "template": {
         "data": {
          "bar": [
           {
            "error_x": {
             "color": "#2a3f5f"
            },
            "error_y": {
             "color": "#2a3f5f"
            },
            "marker": {
             "line": {
              "color": "white",
              "width": 0.5
             },
             "pattern": {
              "fillmode": "overlay",
              "size": 10,
              "solidity": 0.2
             }
            },
            "type": "bar"
           }
          ],
          "barpolar": [
           {
            "marker": {
             "line": {
              "color": "white",
              "width": 0.5
             },
             "pattern": {
              "fillmode": "overlay",
              "size": 10,
              "solidity": 0.2
             }
            },
            "type": "barpolar"
           }
          ],
          "carpet": [
           {
            "aaxis": {
             "endlinecolor": "#2a3f5f",
             "gridcolor": "#C8D4E3",
             "linecolor": "#C8D4E3",
             "minorgridcolor": "#C8D4E3",
             "startlinecolor": "#2a3f5f"
            },
            "baxis": {
             "endlinecolor": "#2a3f5f",
             "gridcolor": "#C8D4E3",
             "linecolor": "#C8D4E3",
             "minorgridcolor": "#C8D4E3",
             "startlinecolor": "#2a3f5f"
            },
            "type": "carpet"
           }
          ],
          "choropleth": [
           {
            "colorbar": {
             "outlinewidth": 0,
             "ticks": ""
            },
            "type": "choropleth"
           }
          ],
          "contour": [
           {
            "colorbar": {
             "outlinewidth": 0,
             "ticks": ""
            },
            "colorscale": [
             [
              0,
              "#0d0887"
             ],
             [
              0.1111111111111111,
              "#46039f"
             ],
             [
              0.2222222222222222,
              "#7201a8"
             ],
             [
              0.3333333333333333,
              "#9c179e"
             ],
             [
              0.4444444444444444,
              "#bd3786"
             ],
             [
              0.5555555555555556,
              "#d8576b"
             ],
             [
              0.6666666666666666,
              "#ed7953"
             ],
             [
              0.7777777777777778,
              "#fb9f3a"
             ],
             [
              0.8888888888888888,
              "#fdca26"
             ],
             [
              1,
              "#f0f921"
             ]
            ],
            "type": "contour"
           }
          ],
          "contourcarpet": [
           {
            "colorbar": {
             "outlinewidth": 0,
             "ticks": ""
            },
            "type": "contourcarpet"
           }
          ],
          "heatmap": [
           {
            "colorbar": {
             "outlinewidth": 0,
             "ticks": ""
            },
            "colorscale": [
             [
              0,
              "#0d0887"
             ],
             [
              0.1111111111111111,
              "#46039f"
             ],
             [
              0.2222222222222222,
              "#7201a8"
             ],
             [
              0.3333333333333333,
              "#9c179e"
             ],
             [
              0.4444444444444444,
              "#bd3786"
             ],
             [
              0.5555555555555556,
              "#d8576b"
             ],
             [
              0.6666666666666666,
              "#ed7953"
             ],
             [
              0.7777777777777778,
              "#fb9f3a"
             ],
             [
              0.8888888888888888,
              "#fdca26"
             ],
             [
              1,
              "#f0f921"
             ]
            ],
            "type": "heatmap"
           }
          ],
          "histogram": [
           {
            "marker": {
             "pattern": {
              "fillmode": "overlay",
              "size": 10,
              "solidity": 0.2
             }
            },
            "type": "histogram"
           }
          ],
          "histogram2d": [
           {
            "colorbar": {
             "outlinewidth": 0,
             "ticks": ""
            },
            "colorscale": [
             [
              0,
              "#0d0887"
             ],
             [
              0.1111111111111111,
              "#46039f"
             ],
             [
              0.2222222222222222,
              "#7201a8"
             ],
             [
              0.3333333333333333,
              "#9c179e"
             ],
             [
              0.4444444444444444,
              "#bd3786"
             ],
             [
              0.5555555555555556,
              "#d8576b"
             ],
             [
              0.6666666666666666,
              "#ed7953"
             ],
             [
              0.7777777777777778,
              "#fb9f3a"
             ],
             [
              0.8888888888888888,
              "#fdca26"
             ],
             [
              1,
              "#f0f921"
             ]
            ],
            "type": "histogram2d"
           }
          ],
          "histogram2dcontour": [
           {
            "colorbar": {
             "outlinewidth": 0,
             "ticks": ""
            },
            "colorscale": [
             [
              0,
              "#0d0887"
             ],
             [
              0.1111111111111111,
              "#46039f"
             ],
             [
              0.2222222222222222,
              "#7201a8"
             ],
             [
              0.3333333333333333,
              "#9c179e"
             ],
             [
              0.4444444444444444,
              "#bd3786"
             ],
             [
              0.5555555555555556,
              "#d8576b"
             ],
             [
              0.6666666666666666,
              "#ed7953"
             ],
             [
              0.7777777777777778,
              "#fb9f3a"
             ],
             [
              0.8888888888888888,
              "#fdca26"
             ],
             [
              1,
              "#f0f921"
             ]
            ],
            "type": "histogram2dcontour"
           }
          ],
          "mesh3d": [
           {
            "colorbar": {
             "outlinewidth": 0,
             "ticks": ""
            },
            "type": "mesh3d"
           }
          ],
          "parcoords": [
           {
            "line": {
             "colorbar": {
              "outlinewidth": 0,
              "ticks": ""
             }
            },
            "type": "parcoords"
           }
          ],
          "pie": [
           {
            "automargin": true,
            "type": "pie"
           }
          ],
          "scatter": [
           {
            "fillpattern": {
             "fillmode": "overlay",
             "size": 10,
             "solidity": 0.2
            },
            "type": "scatter"
           }
          ],
          "scatter3d": [
           {
            "line": {
             "colorbar": {
              "outlinewidth": 0,
              "ticks": ""
             }
            },
            "marker": {
             "colorbar": {
              "outlinewidth": 0,
              "ticks": ""
             }
            },
            "type": "scatter3d"
           }
          ],
          "scattercarpet": [
           {
            "marker": {
             "colorbar": {
              "outlinewidth": 0,
              "ticks": ""
             }
            },
            "type": "scattercarpet"
           }
          ],
          "scattergeo": [
           {
            "marker": {
             "colorbar": {
              "outlinewidth": 0,
              "ticks": ""
             }
            },
            "type": "scattergeo"
           }
          ],
          "scattergl": [
           {
            "marker": {
             "colorbar": {
              "outlinewidth": 0,
              "ticks": ""
             }
            },
            "type": "scattergl"
           }
          ],
          "scattermap": [
           {
            "marker": {
             "colorbar": {
              "outlinewidth": 0,
              "ticks": ""
             }
            },
            "type": "scattermap"
           }
          ],
          "scattermapbox": [
           {
            "marker": {
             "colorbar": {
              "outlinewidth": 0,
              "ticks": ""
             }
            },
            "type": "scattermapbox"
           }
          ],
          "scatterpolar": [
           {
            "marker": {
             "colorbar": {
              "outlinewidth": 0,
              "ticks": ""
             }
            },
            "type": "scatterpolar"
           }
          ],
          "scatterpolargl": [
           {
            "marker": {
             "colorbar": {
              "outlinewidth": 0,
              "ticks": ""
             }
            },
            "type": "scatterpolargl"
           }
          ],
          "scatterternary": [
           {
            "marker": {
             "colorbar": {
              "outlinewidth": 0,
              "ticks": ""
             }
            },
            "type": "scatterternary"
           }
          ],
          "surface": [
           {
            "colorbar": {
             "outlinewidth": 0,
             "ticks": ""
            },
            "colorscale": [
             [
              0,
              "#0d0887"
             ],
             [
              0.1111111111111111,
              "#46039f"
             ],
             [
              0.2222222222222222,
              "#7201a8"
             ],
             [
              0.3333333333333333,
              "#9c179e"
             ],
             [
              0.4444444444444444,
              "#bd3786"
             ],
             [
              0.5555555555555556,
              "#d8576b"
             ],
             [
              0.6666666666666666,
              "#ed7953"
             ],
             [
              0.7777777777777778,
              "#fb9f3a"
             ],
             [
              0.8888888888888888,
              "#fdca26"
             ],
             [
              1,
              "#f0f921"
             ]
            ],
            "type": "surface"
           }
          ],
          "table": [
           {
            "cells": {
             "fill": {
              "color": "#EBF0F8"
             },
             "line": {
              "color": "white"
             }
            },
            "header": {
             "fill": {
              "color": "#C8D4E3"
             },
             "line": {
              "color": "white"
             }
            },
            "type": "table"
           }
          ]
         },
         "layout": {
          "annotationdefaults": {
           "arrowcolor": "#2a3f5f",
           "arrowhead": 0,
           "arrowwidth": 1
          },
          "autotypenumbers": "strict",
          "coloraxis": {
           "colorbar": {
            "outlinewidth": 0,
            "ticks": ""
           }
          },
          "colorscale": {
           "diverging": [
            [
             0,
             "#8e0152"
            ],
            [
             0.1,
             "#c51b7d"
            ],
            [
             0.2,
             "#de77ae"
            ],
            [
             0.3,
             "#f1b6da"
            ],
            [
             0.4,
             "#fde0ef"
            ],
            [
             0.5,
             "#f7f7f7"
            ],
            [
             0.6,
             "#e6f5d0"
            ],
            [
             0.7,
             "#b8e186"
            ],
            [
             0.8,
             "#7fbc41"
            ],
            [
             0.9,
             "#4d9221"
            ],
            [
             1,
             "#276419"
            ]
           ],
           "sequential": [
            [
             0,
             "#0d0887"
            ],
            [
             0.1111111111111111,
             "#46039f"
            ],
            [
             0.2222222222222222,
             "#7201a8"
            ],
            [
             0.3333333333333333,
             "#9c179e"
            ],
            [
             0.4444444444444444,
             "#bd3786"
            ],
            [
             0.5555555555555556,
             "#d8576b"
            ],
            [
             0.6666666666666666,
             "#ed7953"
            ],
            [
             0.7777777777777778,
             "#fb9f3a"
            ],
            [
             0.8888888888888888,
             "#fdca26"
            ],
            [
             1,
             "#f0f921"
            ]
           ],
           "sequentialminus": [
            [
             0,
             "#0d0887"
            ],
            [
             0.1111111111111111,
             "#46039f"
            ],
            [
             0.2222222222222222,
             "#7201a8"
            ],
            [
             0.3333333333333333,
             "#9c179e"
            ],
            [
             0.4444444444444444,
             "#bd3786"
            ],
            [
             0.5555555555555556,
             "#d8576b"
            ],
            [
             0.6666666666666666,
             "#ed7953"
            ],
            [
             0.7777777777777778,
             "#fb9f3a"
            ],
            [
             0.8888888888888888,
             "#fdca26"
            ],
            [
             1,
             "#f0f921"
            ]
           ]
          },
          "colorway": [
           "#636efa",
           "#EF553B",
           "#00cc96",
           "#ab63fa",
           "#FFA15A",
           "#19d3f3",
           "#FF6692",
           "#B6E880",
           "#FF97FF",
           "#FECB52"
          ],
          "font": {
           "color": "#2a3f5f"
          },
          "geo": {
           "bgcolor": "white",
           "lakecolor": "white",
           "landcolor": "white",
           "showlakes": true,
           "showland": true,
           "subunitcolor": "#C8D4E3"
          },
          "hoverlabel": {
           "align": "left"
          },
          "hovermode": "closest",
          "mapbox": {
           "style": "light"
          },
          "paper_bgcolor": "white",
          "plot_bgcolor": "white",
          "polar": {
           "angularaxis": {
            "gridcolor": "#EBF0F8",
            "linecolor": "#EBF0F8",
            "ticks": ""
           },
           "bgcolor": "white",
           "radialaxis": {
            "gridcolor": "#EBF0F8",
            "linecolor": "#EBF0F8",
            "ticks": ""
           }
          },
          "scene": {
           "xaxis": {
            "backgroundcolor": "white",
            "gridcolor": "#DFE8F3",
            "gridwidth": 2,
            "linecolor": "#EBF0F8",
            "showbackground": true,
            "ticks": "",
            "zerolinecolor": "#EBF0F8"
           },
           "yaxis": {
            "backgroundcolor": "white",
            "gridcolor": "#DFE8F3",
            "gridwidth": 2,
            "linecolor": "#EBF0F8",
            "showbackground": true,
            "ticks": "",
            "zerolinecolor": "#EBF0F8"
           },
           "zaxis": {
            "backgroundcolor": "white",
            "gridcolor": "#DFE8F3",
            "gridwidth": 2,
            "linecolor": "#EBF0F8",
            "showbackground": true,
            "ticks": "",
            "zerolinecolor": "#EBF0F8"
           }
          },
          "shapedefaults": {
           "line": {
            "color": "#2a3f5f"
           }
          },
          "ternary": {
           "aaxis": {
            "gridcolor": "#DFE8F3",
            "linecolor": "#A2B1C6",
            "ticks": ""
           },
           "baxis": {
            "gridcolor": "#DFE8F3",
            "linecolor": "#A2B1C6",
            "ticks": ""
           },
           "bgcolor": "white",
           "caxis": {
            "gridcolor": "#DFE8F3",
            "linecolor": "#A2B1C6",
            "ticks": ""
           }
          },
          "title": {
           "x": 0.05
          },
          "xaxis": {
           "automargin": true,
           "gridcolor": "#EBF0F8",
           "linecolor": "#EBF0F8",
           "ticks": "",
           "title": {
            "standoff": 15
           },
           "zerolinecolor": "#EBF0F8",
           "zerolinewidth": 2
          },
          "yaxis": {
           "automargin": true,
           "gridcolor": "#EBF0F8",
           "linecolor": "#EBF0F8",
           "ticks": "",
           "title": {
            "standoff": 15
           },
           "zerolinecolor": "#EBF0F8",
           "zerolinewidth": 2
          }
         }
        },
        "title": {
         "font": {
          "size": 20
         },
         "text": "Number of Poems in Each Era"
        },
        "xaxis": {
         "anchor": "y",
         "categoryarray": [
          "العصر العباسي",
          "العصر المملوكي",
          "العصر الايوبي",
          "العصر العثماني",
          "العصر الاموي",
          "العصر الأندلسي",
          "المخضرمون",
          "العصر الجاهلي",
          "العصر الاسلامي"
         ],
         "categoryorder": "array",
         "domain": [
          0,
          1
         ],
         "title": {
          "standoff": 15,
          "text": "Poet Era"
         }
        },
        "yaxis": {
         "anchor": "x",
         "domain": [
          0,
          1
         ],
         "title": {
          "standoff": 15,
          "text": "Number of Poems"
         }
        }
       }
      }
     },
     "metadata": {},
     "output_type": "display_data"
    }
   ],
   "source": [
    "# Here, we will visualize the number of poems in each era.\n",
    "import plotly.express as px\n",
    "\n",
    "\n",
    "poet_era = 'poet_era'\n",
    "\n",
    "poems_per_era = df[poet_era].value_counts().reset_index()\n",
    "poems_per_era.columns = [poet_era, 'poem_count']\n",
    "\n",
    "poems_per_era = poems_per_era.sort_values(by='poem_count', ascending=False)\n",
    "\n",
    "fig = px.bar(\n",
    "    poems_per_era,\n",
    "    x=poet_era,\n",
    "    y='poem_count',\n",
    "    title='Number of Poems in Each Era',\n",
    "    labels={\n",
    "        poet_era: 'Poet Era',\n",
    "        'poem_count': 'Number of Poems'\n",
    "    },\n",
    "    template='plotly_white', \n",
    "    color=poet_era,\n",
    "    color_discrete_sequence=px.colors.qualitative.Prism \n",
    ")\n",
    "\n",
    "fig.update_layout(\n",
    "    xaxis_title_standoff=15,\n",
    "    yaxis_title_standoff=15,\n",
    "    title_font_size=20,\n",
    "\n",
    ")\n",
    "\n",
    "fig.show()\n",
    "\n"
   ]
  },
  {
   "cell_type": "code",
   "execution_count": null,
   "id": "246b31da",
   "metadata": {},
   "outputs": [
    {
     "data": {
      "application/vnd.plotly.v1+json": {
       "config": {
        "plotlyServerURL": "https://plot.ly"
       },
       "data": [
        {
         "hovertemplate": "Poet Name=%{x}<br>Number of Poems=%{y}<extra></extra>",
         "legendgroup": "ابن الرومي",
         "marker": {
          "color": "rgb(95, 70, 144)",
          "pattern": {
           "shape": ""
          }
         },
         "name": "ابن الرومي",
         "orientation": "v",
         "showlegend": true,
         "textposition": "auto",
         "type": "bar",
         "x": [
          "ابن الرومي"
         ],
         "xaxis": "x",
         "y": {
          "bdata": "5Ac=",
          "dtype": "i2"
         },
         "yaxis": "y"
        },
        {
         "hovertemplate": "Poet Name=%{x}<br>Number of Poems=%{y}<extra></extra>",
         "legendgroup": "ابن نباته المصري",
         "marker": {
          "color": "rgb(29, 105, 150)",
          "pattern": {
           "shape": ""
          }
         },
         "name": "ابن نباته المصري",
         "orientation": "v",
         "showlegend": true,
         "textposition": "auto",
         "type": "bar",
         "x": [
          "ابن نباته المصري"
         ],
         "xaxis": "x",
         "y": {
          "bdata": "vwY=",
          "dtype": "i2"
         },
         "yaxis": "y"
        },
        {
         "hovertemplate": "Poet Name=%{x}<br>Number of Poems=%{y}<extra></extra>",
         "legendgroup": "أبو العلاء المعري",
         "marker": {
          "color": "rgb(56, 166, 165)",
          "pattern": {
           "shape": ""
          }
         },
         "name": "أبو العلاء المعري",
         "orientation": "v",
         "showlegend": true,
         "textposition": "auto",
         "type": "bar",
         "x": [
          "أبو العلاء المعري"
         ],
         "xaxis": "x",
         "y": {
          "bdata": "SwY=",
          "dtype": "i2"
         },
         "yaxis": "y"
        },
        {
         "hovertemplate": "Poet Name=%{x}<br>Number of Poems=%{y}<extra></extra>",
         "legendgroup": "ابن الوردي",
         "marker": {
          "color": "rgb(15, 133, 84)",
          "pattern": {
           "shape": ""
          }
         },
         "name": "ابن الوردي",
         "orientation": "v",
         "showlegend": true,
         "textposition": "auto",
         "type": "bar",
         "x": [
          "ابن الوردي"
         ],
         "xaxis": "x",
         "y": {
          "bdata": "0QQ=",
          "dtype": "i2"
         },
         "yaxis": "y"
        },
        {
         "hovertemplate": "Poet Name=%{x}<br>Number of Poems=%{y}<extra></extra>",
         "legendgroup": "ابو نواس",
         "marker": {
          "color": "rgb(115, 175, 72)",
          "pattern": {
           "shape": ""
          }
         },
         "name": "ابو نواس",
         "orientation": "v",
         "showlegend": true,
         "textposition": "auto",
         "type": "bar",
         "x": [
          "ابو نواس"
         ],
         "xaxis": "x",
         "y": {
          "bdata": "lwQ=",
          "dtype": "i2"
         },
         "yaxis": "y"
        },
        {
         "hovertemplate": "Poet Name=%{x}<br>Number of Poems=%{y}<extra></extra>",
         "legendgroup": "الشريف العقيلي",
         "marker": {
          "color": "rgb(237, 173, 8)",
          "pattern": {
           "shape": ""
          }
         },
         "name": "الشريف العقيلي",
         "orientation": "v",
         "showlegend": true,
         "textposition": "auto",
         "type": "bar",
         "x": [
          "الشريف العقيلي"
         ],
         "xaxis": "x",
         "y": {
          "bdata": "1wM=",
          "dtype": "i2"
         },
         "yaxis": "y"
        },
        {
         "hovertemplate": "Poet Name=%{x}<br>Number of Poems=%{y}<extra></extra>",
         "legendgroup": "عبد الغني النابلسي",
         "marker": {
          "color": "rgb(225, 124, 5)",
          "pattern": {
           "shape": ""
          }
         },
         "name": "عبد الغني النابلسي",
         "orientation": "v",
         "showlegend": true,
         "textposition": "auto",
         "type": "bar",
         "x": [
          "عبد الغني النابلسي"
         ],
         "xaxis": "x",
         "y": {
          "bdata": "xwM=",
          "dtype": "i2"
         },
         "yaxis": "y"
        },
        {
         "hovertemplate": "Poet Name=%{x}<br>Number of Poems=%{y}<extra></extra>",
         "legendgroup": "البحتري",
         "marker": {
          "color": "rgb(204, 80, 62)",
          "pattern": {
           "shape": ""
          }
         },
         "name": "البحتري",
         "orientation": "v",
         "showlegend": true,
         "textposition": "auto",
         "type": "bar",
         "x": [
          "البحتري"
         ],
         "xaxis": "x",
         "y": {
          "bdata": "pAM=",
          "dtype": "i2"
         },
         "yaxis": "y"
        },
        {
         "hovertemplate": "Poet Name=%{x}<br>Number of Poems=%{y}<extra></extra>",
         "legendgroup": "محيي الدين بن عربي",
         "marker": {
          "color": "rgb(148, 52, 110)",
          "pattern": {
           "shape": ""
          }
         },
         "name": "محيي الدين بن عربي",
         "orientation": "v",
         "showlegend": true,
         "textposition": "auto",
         "type": "bar",
         "x": [
          "محيي الدين بن عربي"
         ],
         "xaxis": "x",
         "y": {
          "bdata": "mgM=",
          "dtype": "i2"
         },
         "yaxis": "y"
        },
        {
         "hovertemplate": "Poet Name=%{x}<br>Number of Poems=%{y}<extra></extra>",
         "legendgroup": "صفي الدين الحلي",
         "marker": {
          "color": "rgb(111, 64, 112)",
          "pattern": {
           "shape": ""
          }
         },
         "name": "صفي الدين الحلي",
         "orientation": "v",
         "showlegend": true,
         "textposition": "auto",
         "type": "bar",
         "x": [
          "صفي الدين الحلي"
         ],
         "xaxis": "x",
         "y": {
          "bdata": "gwM=",
          "dtype": "i2"
         },
         "yaxis": "y"
        }
       ],
       "layout": {
        "barmode": "relative",
        "legend": {
         "title": {
          "text": "Poet Name"
         },
         "tracegroupgap": 0
        },
        "template": {
         "data": {
          "bar": [
           {
            "error_x": {
             "color": "#2a3f5f"
            },
            "error_y": {
             "color": "#2a3f5f"
            },
            "marker": {
             "line": {
              "color": "white",
              "width": 0.5
             },
             "pattern": {
              "fillmode": "overlay",
              "size": 10,
              "solidity": 0.2
             }
            },
            "type": "bar"
           }
          ],
          "barpolar": [
           {
            "marker": {
             "line": {
              "color": "white",
              "width": 0.5
             },
             "pattern": {
              "fillmode": "overlay",
              "size": 10,
              "solidity": 0.2
             }
            },
            "type": "barpolar"
           }
          ],
          "carpet": [
           {
            "aaxis": {
             "endlinecolor": "#2a3f5f",
             "gridcolor": "#C8D4E3",
             "linecolor": "#C8D4E3",
             "minorgridcolor": "#C8D4E3",
             "startlinecolor": "#2a3f5f"
            },
            "baxis": {
             "endlinecolor": "#2a3f5f",
             "gridcolor": "#C8D4E3",
             "linecolor": "#C8D4E3",
             "minorgridcolor": "#C8D4E3",
             "startlinecolor": "#2a3f5f"
            },
            "type": "carpet"
           }
          ],
          "choropleth": [
           {
            "colorbar": {
             "outlinewidth": 0,
             "ticks": ""
            },
            "type": "choropleth"
           }
          ],
          "contour": [
           {
            "colorbar": {
             "outlinewidth": 0,
             "ticks": ""
            },
            "colorscale": [
             [
              0,
              "#0d0887"
             ],
             [
              0.1111111111111111,
              "#46039f"
             ],
             [
              0.2222222222222222,
              "#7201a8"
             ],
             [
              0.3333333333333333,
              "#9c179e"
             ],
             [
              0.4444444444444444,
              "#bd3786"
             ],
             [
              0.5555555555555556,
              "#d8576b"
             ],
             [
              0.6666666666666666,
              "#ed7953"
             ],
             [
              0.7777777777777778,
              "#fb9f3a"
             ],
             [
              0.8888888888888888,
              "#fdca26"
             ],
             [
              1,
              "#f0f921"
             ]
            ],
            "type": "contour"
           }
          ],
          "contourcarpet": [
           {
            "colorbar": {
             "outlinewidth": 0,
             "ticks": ""
            },
            "type": "contourcarpet"
           }
          ],
          "heatmap": [
           {
            "colorbar": {
             "outlinewidth": 0,
             "ticks": ""
            },
            "colorscale": [
             [
              0,
              "#0d0887"
             ],
             [
              0.1111111111111111,
              "#46039f"
             ],
             [
              0.2222222222222222,
              "#7201a8"
             ],
             [
              0.3333333333333333,
              "#9c179e"
             ],
             [
              0.4444444444444444,
              "#bd3786"
             ],
             [
              0.5555555555555556,
              "#d8576b"
             ],
             [
              0.6666666666666666,
              "#ed7953"
             ],
             [
              0.7777777777777778,
              "#fb9f3a"
             ],
             [
              0.8888888888888888,
              "#fdca26"
             ],
             [
              1,
              "#f0f921"
             ]
            ],
            "type": "heatmap"
           }
          ],
          "histogram": [
           {
            "marker": {
             "pattern": {
              "fillmode": "overlay",
              "size": 10,
              "solidity": 0.2
             }
            },
            "type": "histogram"
           }
          ],
          "histogram2d": [
           {
            "colorbar": {
             "outlinewidth": 0,
             "ticks": ""
            },
            "colorscale": [
             [
              0,
              "#0d0887"
             ],
             [
              0.1111111111111111,
              "#46039f"
             ],
             [
              0.2222222222222222,
              "#7201a8"
             ],
             [
              0.3333333333333333,
              "#9c179e"
             ],
             [
              0.4444444444444444,
              "#bd3786"
             ],
             [
              0.5555555555555556,
              "#d8576b"
             ],
             [
              0.6666666666666666,
              "#ed7953"
             ],
             [
              0.7777777777777778,
              "#fb9f3a"
             ],
             [
              0.8888888888888888,
              "#fdca26"
             ],
             [
              1,
              "#f0f921"
             ]
            ],
            "type": "histogram2d"
           }
          ],
          "histogram2dcontour": [
           {
            "colorbar": {
             "outlinewidth": 0,
             "ticks": ""
            },
            "colorscale": [
             [
              0,
              "#0d0887"
             ],
             [
              0.1111111111111111,
              "#46039f"
             ],
             [
              0.2222222222222222,
              "#7201a8"
             ],
             [
              0.3333333333333333,
              "#9c179e"
             ],
             [
              0.4444444444444444,
              "#bd3786"
             ],
             [
              0.5555555555555556,
              "#d8576b"
             ],
             [
              0.6666666666666666,
              "#ed7953"
             ],
             [
              0.7777777777777778,
              "#fb9f3a"
             ],
             [
              0.8888888888888888,
              "#fdca26"
             ],
             [
              1,
              "#f0f921"
             ]
            ],
            "type": "histogram2dcontour"
           }
          ],
          "mesh3d": [
           {
            "colorbar": {
             "outlinewidth": 0,
             "ticks": ""
            },
            "type": "mesh3d"
           }
          ],
          "parcoords": [
           {
            "line": {
             "colorbar": {
              "outlinewidth": 0,
              "ticks": ""
             }
            },
            "type": "parcoords"
           }
          ],
          "pie": [
           {
            "automargin": true,
            "type": "pie"
           }
          ],
          "scatter": [
           {
            "fillpattern": {
             "fillmode": "overlay",
             "size": 10,
             "solidity": 0.2
            },
            "type": "scatter"
           }
          ],
          "scatter3d": [
           {
            "line": {
             "colorbar": {
              "outlinewidth": 0,
              "ticks": ""
             }
            },
            "marker": {
             "colorbar": {
              "outlinewidth": 0,
              "ticks": ""
             }
            },
            "type": "scatter3d"
           }
          ],
          "scattercarpet": [
           {
            "marker": {
             "colorbar": {
              "outlinewidth": 0,
              "ticks": ""
             }
            },
            "type": "scattercarpet"
           }
          ],
          "scattergeo": [
           {
            "marker": {
             "colorbar": {
              "outlinewidth": 0,
              "ticks": ""
             }
            },
            "type": "scattergeo"
           }
          ],
          "scattergl": [
           {
            "marker": {
             "colorbar": {
              "outlinewidth": 0,
              "ticks": ""
             }
            },
            "type": "scattergl"
           }
          ],
          "scattermap": [
           {
            "marker": {
             "colorbar": {
              "outlinewidth": 0,
              "ticks": ""
             }
            },
            "type": "scattermap"
           }
          ],
          "scattermapbox": [
           {
            "marker": {
             "colorbar": {
              "outlinewidth": 0,
              "ticks": ""
             }
            },
            "type": "scattermapbox"
           }
          ],
          "scatterpolar": [
           {
            "marker": {
             "colorbar": {
              "outlinewidth": 0,
              "ticks": ""
             }
            },
            "type": "scatterpolar"
           }
          ],
          "scatterpolargl": [
           {
            "marker": {
             "colorbar": {
              "outlinewidth": 0,
              "ticks": ""
             }
            },
            "type": "scatterpolargl"
           }
          ],
          "scatterternary": [
           {
            "marker": {
             "colorbar": {
              "outlinewidth": 0,
              "ticks": ""
             }
            },
            "type": "scatterternary"
           }
          ],
          "surface": [
           {
            "colorbar": {
             "outlinewidth": 0,
             "ticks": ""
            },
            "colorscale": [
             [
              0,
              "#0d0887"
             ],
             [
              0.1111111111111111,
              "#46039f"
             ],
             [
              0.2222222222222222,
              "#7201a8"
             ],
             [
              0.3333333333333333,
              "#9c179e"
             ],
             [
              0.4444444444444444,
              "#bd3786"
             ],
             [
              0.5555555555555556,
              "#d8576b"
             ],
             [
              0.6666666666666666,
              "#ed7953"
             ],
             [
              0.7777777777777778,
              "#fb9f3a"
             ],
             [
              0.8888888888888888,
              "#fdca26"
             ],
             [
              1,
              "#f0f921"
             ]
            ],
            "type": "surface"
           }
          ],
          "table": [
           {
            "cells": {
             "fill": {
              "color": "#EBF0F8"
             },
             "line": {
              "color": "white"
             }
            },
            "header": {
             "fill": {
              "color": "#C8D4E3"
             },
             "line": {
              "color": "white"
             }
            },
            "type": "table"
           }
          ]
         },
         "layout": {
          "annotationdefaults": {
           "arrowcolor": "#2a3f5f",
           "arrowhead": 0,
           "arrowwidth": 1
          },
          "autotypenumbers": "strict",
          "coloraxis": {
           "colorbar": {
            "outlinewidth": 0,
            "ticks": ""
           }
          },
          "colorscale": {
           "diverging": [
            [
             0,
             "#8e0152"
            ],
            [
             0.1,
             "#c51b7d"
            ],
            [
             0.2,
             "#de77ae"
            ],
            [
             0.3,
             "#f1b6da"
            ],
            [
             0.4,
             "#fde0ef"
            ],
            [
             0.5,
             "#f7f7f7"
            ],
            [
             0.6,
             "#e6f5d0"
            ],
            [
             0.7,
             "#b8e186"
            ],
            [
             0.8,
             "#7fbc41"
            ],
            [
             0.9,
             "#4d9221"
            ],
            [
             1,
             "#276419"
            ]
           ],
           "sequential": [
            [
             0,
             "#0d0887"
            ],
            [
             0.1111111111111111,
             "#46039f"
            ],
            [
             0.2222222222222222,
             "#7201a8"
            ],
            [
             0.3333333333333333,
             "#9c179e"
            ],
            [
             0.4444444444444444,
             "#bd3786"
            ],
            [
             0.5555555555555556,
             "#d8576b"
            ],
            [
             0.6666666666666666,
             "#ed7953"
            ],
            [
             0.7777777777777778,
             "#fb9f3a"
            ],
            [
             0.8888888888888888,
             "#fdca26"
            ],
            [
             1,
             "#f0f921"
            ]
           ],
           "sequentialminus": [
            [
             0,
             "#0d0887"
            ],
            [
             0.1111111111111111,
             "#46039f"
            ],
            [
             0.2222222222222222,
             "#7201a8"
            ],
            [
             0.3333333333333333,
             "#9c179e"
            ],
            [
             0.4444444444444444,
             "#bd3786"
            ],
            [
             0.5555555555555556,
             "#d8576b"
            ],
            [
             0.6666666666666666,
             "#ed7953"
            ],
            [
             0.7777777777777778,
             "#fb9f3a"
            ],
            [
             0.8888888888888888,
             "#fdca26"
            ],
            [
             1,
             "#f0f921"
            ]
           ]
          },
          "colorway": [
           "#636efa",
           "#EF553B",
           "#00cc96",
           "#ab63fa",
           "#FFA15A",
           "#19d3f3",
           "#FF6692",
           "#B6E880",
           "#FF97FF",
           "#FECB52"
          ],
          "font": {
           "color": "#2a3f5f"
          },
          "geo": {
           "bgcolor": "white",
           "lakecolor": "white",
           "landcolor": "white",
           "showlakes": true,
           "showland": true,
           "subunitcolor": "#C8D4E3"
          },
          "hoverlabel": {
           "align": "left"
          },
          "hovermode": "closest",
          "mapbox": {
           "style": "light"
          },
          "paper_bgcolor": "white",
          "plot_bgcolor": "white",
          "polar": {
           "angularaxis": {
            "gridcolor": "#EBF0F8",
            "linecolor": "#EBF0F8",
            "ticks": ""
           },
           "bgcolor": "white",
           "radialaxis": {
            "gridcolor": "#EBF0F8",
            "linecolor": "#EBF0F8",
            "ticks": ""
           }
          },
          "scene": {
           "xaxis": {
            "backgroundcolor": "white",
            "gridcolor": "#DFE8F3",
            "gridwidth": 2,
            "linecolor": "#EBF0F8",
            "showbackground": true,
            "ticks": "",
            "zerolinecolor": "#EBF0F8"
           },
           "yaxis": {
            "backgroundcolor": "white",
            "gridcolor": "#DFE8F3",
            "gridwidth": 2,
            "linecolor": "#EBF0F8",
            "showbackground": true,
            "ticks": "",
            "zerolinecolor": "#EBF0F8"
           },
           "zaxis": {
            "backgroundcolor": "white",
            "gridcolor": "#DFE8F3",
            "gridwidth": 2,
            "linecolor": "#EBF0F8",
            "showbackground": true,
            "ticks": "",
            "zerolinecolor": "#EBF0F8"
           }
          },
          "shapedefaults": {
           "line": {
            "color": "#2a3f5f"
           }
          },
          "ternary": {
           "aaxis": {
            "gridcolor": "#DFE8F3",
            "linecolor": "#A2B1C6",
            "ticks": ""
           },
           "baxis": {
            "gridcolor": "#DFE8F3",
            "linecolor": "#A2B1C6",
            "ticks": ""
           },
           "bgcolor": "white",
           "caxis": {
            "gridcolor": "#DFE8F3",
            "linecolor": "#A2B1C6",
            "ticks": ""
           }
          },
          "title": {
           "x": 0.05
          },
          "xaxis": {
           "automargin": true,
           "gridcolor": "#EBF0F8",
           "linecolor": "#EBF0F8",
           "ticks": "",
           "title": {
            "standoff": 15
           },
           "zerolinecolor": "#EBF0F8",
           "zerolinewidth": 2
          },
          "yaxis": {
           "automargin": true,
           "gridcolor": "#EBF0F8",
           "linecolor": "#EBF0F8",
           "ticks": "",
           "title": {
            "standoff": 15
           },
           "zerolinecolor": "#EBF0F8",
           "zerolinewidth": 2
          }
         }
        },
        "title": {
         "font": {
          "size": 20
         },
         "text": "Top 10 Poets by Number of Poems"
        },
        "xaxis": {
         "anchor": "y",
         "categoryarray": [
          "ابن الرومي",
          "ابن نباته المصري",
          "أبو العلاء المعري",
          "ابن الوردي",
          "ابو نواس",
          "الشريف العقيلي",
          "عبد الغني النابلسي",
          "البحتري",
          "محيي الدين بن عربي",
          "صفي الدين الحلي"
         ],
         "categoryorder": "array",
         "domain": [
          0,
          1
         ],
         "title": {
          "standoff": 15,
          "text": "Poet Name"
         }
        },
        "yaxis": {
         "anchor": "x",
         "domain": [
          0,
          1
         ],
         "title": {
          "standoff": 15,
          "text": "Number of Poems"
         }
        }
       }
      }
     },
     "metadata": {},
     "output_type": "display_data"
    }
   ],
   "source": [
    "# Here, we will visualize the top 10 poets based on the number of poems.\n",
    "import plotly.express as px\n",
    "\n",
    "poet_name = 'poet_name'\n",
    "\n",
    "poems_by_poet = df[poet_name].value_counts().reset_index()\n",
    "poems_by_poet.columns = [poet_name, 'poem_count']\n",
    "\n",
    "poems_by_poet = poems_by_poet.sort_values(by='poem_count', ascending=False).head(10)\n",
    "\n",
    "fig = px.bar(\n",
    "    poems_by_poet,\n",
    "    x=poet_name,\n",
    "    y='poem_count',\n",
    "    title='Top 10 Poets by Number of Poems',\n",
    "    labels={\n",
    "        poet_name: 'Poet Name',\n",
    "        'poem_count': 'Number of Poems'\n",
    "    },\n",
    "    template='plotly_white',\n",
    "    color=poet_name,\n",
    "    color_discrete_sequence=px.colors.qualitative.Prism\n",
    ")\n",
    "\n",
    "fig.update_layout(\n",
    "    xaxis_title_standoff=15,\n",
    "    yaxis_title_standoff=15,\n",
    "    title_font_size=20,\n",
    ")\n",
    "\n",
    "fig.show()\n",
    "\n"
   ]
  },
  {
   "cell_type": "code",
   "execution_count": 40,
   "id": "3431ade4",
   "metadata": {},
   "outputs": [
    {
     "data": {
      "text/html": [
       "<div>\n",
       "<style scoped>\n",
       "    .dataframe tbody tr th:only-of-type {\n",
       "        vertical-align: middle;\n",
       "    }\n",
       "\n",
       "    .dataframe tbody tr th {\n",
       "        vertical-align: top;\n",
       "    }\n",
       "\n",
       "    .dataframe thead th {\n",
       "        text-align: right;\n",
       "    }\n",
       "</style>\n",
       "<table border=\"1\" class=\"dataframe\">\n",
       "  <thead>\n",
       "    <tr style=\"text-align: right;\">\n",
       "      <th></th>\n",
       "      <th>poet_name</th>\n",
       "      <th>poet_era</th>\n",
       "      <th>poem_tags</th>\n",
       "      <th>poem_title</th>\n",
       "      <th>poem_text</th>\n",
       "      <th>poem_count</th>\n",
       "    </tr>\n",
       "  </thead>\n",
       "  <tbody>\n",
       "    <tr>\n",
       "      <th>0</th>\n",
       "      <td>لقيط بن يعمر الإيادي</td>\n",
       "      <td>العصر الجاهلي</td>\n",
       "      <td>قصائد هجاء, عموديه, بحر الوافر,  قافية الدال (د)</td>\n",
       "      <td>سلام في الصحيفة من لقيط</td>\n",
       "      <td>سَلامٌ في الصَحيفَةِ مِن لَقيطٍ\\nإِلى مَن بِال...</td>\n",
       "      <td>4</td>\n",
       "    </tr>\n",
       "    <tr>\n",
       "      <th>1</th>\n",
       "      <td>لقيط بن يعمر الإيادي</td>\n",
       "      <td>العصر الجاهلي</td>\n",
       "      <td>قصائد حزينه, عموديه, بحر البسيط,  قافية الألف ...</td>\n",
       "      <td>يا دار عمرة من محتلها الجرعا</td>\n",
       "      <td>يا دارَ عَمرَةَ مِن مُحتَلِّها الجَرَعا\\nهاجَت...</td>\n",
       "      <td>60</td>\n",
       "    </tr>\n",
       "    <tr>\n",
       "      <th>2</th>\n",
       "      <td>لقيط بن يعمر الإيادي</td>\n",
       "      <td>العصر الجاهلي</td>\n",
       "      <td>قصائد قصيره, عموديه, بحر الرجز,  قافية الألف (ا)</td>\n",
       "      <td>وخاننا خوان في ارتباعنا</td>\n",
       "      <td>وَخانَنا خَوّانٌ في اِرتِباعِنا\\nفَاِنفَدَّ لِ...</td>\n",
       "      <td>1</td>\n",
       "    </tr>\n",
       "    <tr>\n",
       "      <th>3</th>\n",
       "      <td>زبان بن سيار الفزاري</td>\n",
       "      <td>العصر الجاهلي</td>\n",
       "      <td>قصائد قصيره, عموديه, بحر الطويل,  قافية الألف ...</td>\n",
       "      <td>تنح إليكم يا ابن كوز فإننا</td>\n",
       "      <td>تَنَحَّ إِلَيكُم يا اِبنَ كوزٍ فَإِنَّنا\\nوَإِ...</td>\n",
       "      <td>1</td>\n",
       "    </tr>\n",
       "    <tr>\n",
       "      <th>4</th>\n",
       "      <td>زبان بن سيار الفزاري</td>\n",
       "      <td>العصر الجاهلي</td>\n",
       "      <td>قصائد قصيره, عموديه, بحر الطويل,  قافية الباء ...</td>\n",
       "      <td>تطارحه الأنساب حتى رددنه</td>\n",
       "      <td>تُطارِحُهُ الأَنسابُ حَتّى رَدَدنَهُ\\nإِلى نَس...</td>\n",
       "      <td>1</td>\n",
       "    </tr>\n",
       "  </tbody>\n",
       "</table>\n",
       "</div>"
      ],
      "text/plain": [
       "              poet_name       poet_era  \\\n",
       "0  لقيط بن يعمر الإيادي  العصر الجاهلي   \n",
       "1  لقيط بن يعمر الإيادي  العصر الجاهلي   \n",
       "2  لقيط بن يعمر الإيادي  العصر الجاهلي   \n",
       "3  زبان بن سيار الفزاري  العصر الجاهلي   \n",
       "4  زبان بن سيار الفزاري  العصر الجاهلي   \n",
       "\n",
       "                                           poem_tags  \\\n",
       "0  قصائد هجاء, عموديه, بحر الوافر,  قافية الدال (د)    \n",
       "1  قصائد حزينه, عموديه, بحر البسيط,  قافية الألف ...   \n",
       "2  قصائد قصيره, عموديه, بحر الرجز,  قافية الألف (ا)    \n",
       "3  قصائد قصيره, عموديه, بحر الطويل,  قافية الألف ...   \n",
       "4  قصائد قصيره, عموديه, بحر الطويل,  قافية الباء ...   \n",
       "\n",
       "                     poem_title  \\\n",
       "0       سلام في الصحيفة من لقيط   \n",
       "1  يا دار عمرة من محتلها الجرعا   \n",
       "2       وخاننا خوان في ارتباعنا   \n",
       "3    تنح إليكم يا ابن كوز فإننا   \n",
       "4      تطارحه الأنساب حتى رددنه   \n",
       "\n",
       "                                           poem_text  poem_count  \n",
       "0  سَلامٌ في الصَحيفَةِ مِن لَقيطٍ\\nإِلى مَن بِال...           4  \n",
       "1  يا دارَ عَمرَةَ مِن مُحتَلِّها الجَرَعا\\nهاجَت...          60  \n",
       "2  وَخانَنا خَوّانٌ في اِرتِباعِنا\\nفَاِنفَدَّ لِ...           1  \n",
       "3  تَنَحَّ إِلَيكُم يا اِبنَ كوزٍ فَإِنَّنا\\nوَإِ...           1  \n",
       "4  تُطارِحُهُ الأَنسابُ حَتّى رَدَدنَهُ\\nإِلى نَس...           1  "
      ]
     },
     "execution_count": 40,
     "metadata": {},
     "output_type": "execute_result"
    }
   ],
   "source": [
    "df.head()"
   ]
  },
  {
   "cell_type": "code",
   "execution_count": 56,
   "id": "32043258",
   "metadata": {},
   "outputs": [
    {
     "name": "stdout",
     "output_type": "stream",
     "text": [
      "count    74988.000000\n",
      "mean        11.059196\n",
      "std         21.255740\n",
      "min          1.000000\n",
      "25%          2.000000\n",
      "50%          4.000000\n",
      "75%         11.000000\n",
      "max       2367.000000\n",
      "Name: poem_count, dtype: float64\n"
     ]
    }
   ],
   "source": [
    "print(df['poem_count'].describe())\n"
   ]
  },
  {
   "cell_type": "code",
   "execution_count": 59,
   "id": "0c54c609",
   "metadata": {},
   "outputs": [
    {
     "name": "stdout",
     "output_type": "stream",
     "text": [
      "[2367 1338  839  760  701  694  603  546  494  457]\n"
     ]
    }
   ],
   "source": [
    "# Top 10 highest unique poem_count values\n",
    "top_10_highest = df['poem_count'].sort_values(ascending=False).unique()[:10]\n",
    "print(top_10_highest)\n"
   ]
  },
  {
   "cell_type": "code",
   "execution_count": 62,
   "id": "f0b635e3",
   "metadata": {},
   "outputs": [
    {
     "data": {
      "text/plain": [
       "poem_tags\n",
       "قصائد قصيره, عموديه, بحر الطويل,  قافية الراء (ر)     1075\n",
       "قصائد قصيره, عموديه, بحر الطويل,  قافية اللام (ل)      745\n",
       "قصائد قصيره, عموديه, بحر الطويل,  قافية الباء (ب)      735\n",
       "قصائد عامه, عموديه, بحر الطويل,  قافية الراء (ر)       683\n",
       "قصائد قصيره, عموديه, بحر الطويل,  قافية الميم (م)      643\n",
       "قصائد قصيره, عموديه, بحر الطويل,  قافية الدال (د)      604\n",
       "قصائد قصيره, عموديه, بحر البسيط,  قافية الراء (ر)      579\n",
       "قصائد قصيره, عموديه, بحر الطويل,  قافية الياء (ي)      538\n",
       "قصائد عامه, عموديه, بحر الطويل,  قافية اللام (ل)       517\n",
       "قصائد عامه, عموديه, بحر الطويل,  قافية الباء (ب)       501\n",
       "قصائد عامه, عموديه, بحر الطويل,  قافية الميم (م)       482\n",
       "قصائد قصيره, عموديه, بحر الكامل,  قافية الراء (ر)      435\n",
       "قصائد عامه, عموديه, بحر الطويل,  قافية الدال (د)       399\n",
       "قصائد عامه, عموديه, بحر البسيط,  قافية الراء (ر)       352\n",
       "قصائد عامه, عموديه, بحر الطويل,  قافية الياء (ي)       348\n",
       "قصائد قصيره, عموديه, بحر البسيط,  قافية الياء (ي)      344\n",
       "بحر الطويل                                             342\n",
       "قصائد قصيره, عموديه, بحر البسيط,  قافية الباء (ب)      342\n",
       "قصائد قصيره, عموديه, بحر الطويل,  قافية العين (ع)      341\n",
       "قصائد عامه, عموديه, بحر الكامل,  قافية الراء (ر)       327\n",
       "قصائد قصيره, عموديه, بحر البسيط,  قافية اللام (ل)      323\n",
       "قصائد قصيره, عموديه, بحر الوافر,  قافية الياء (ي)      322\n",
       "قصائد قصيره, عموديه, بحر الكامل,  قافية اللام (ل)      320\n",
       "قصائد قصيره, عموديه, بحر الطويل,  قافية النون (ن)      319\n",
       "قصائد قصيره, عموديه, بحر البسيط,  قافية الدال (د)      312\n",
       "قصائد مدح, عموديه, بحر الطويل,  قافية الراء (ر)        299\n",
       "قصائد قصيره, عموديه, بحر البسيط,  قافية النون (ن)      295\n",
       "قصائد قصيره, عموديه, بحر الكامل,  قافية الدال (د)      288\n",
       "قصائد قصيره, عموديه, بحر السريع,  قافية الراء (ر)      288\n",
       "قصائد قصيره, عموديه, بحر الكامل,  قافية الميم (م)      287\n",
       "Name: count, dtype: int64"
      ]
     },
     "execution_count": 62,
     "metadata": {},
     "output_type": "execute_result"
    }
   ],
   "source": [
    "df['poem_tags'].value_counts().head(30)"
   ]
  },
  {
   "cell_type": "code",
   "execution_count": null,
   "id": "39c9d680",
   "metadata": {},
   "outputs": [
    {
     "data": {
      "text/plain": [
       "poem_count\n",
       "2     17938\n",
       "3      8280\n",
       "4      7591\n",
       "1      5432\n",
       "5      4517\n",
       "6      3193\n",
       "7      2649\n",
       "8      2527\n",
       "10     2088\n",
       "9      1638\n",
       "11     1222\n",
       "14     1174\n",
       "12     1038\n",
       "13      934\n",
       "16      814\n",
       "15      772\n",
       "17      600\n",
       "20      561\n",
       "18      491\n",
       "21      472\n",
       "19      469\n",
       "22      434\n",
       "27      398\n",
       "23      382\n",
       "25      355\n",
       "30      343\n",
       "31      332\n",
       "24      330\n",
       "26      329\n",
       "29      312\n",
       "Name: count, dtype: int64"
      ]
     },
     "execution_count": 60,
     "metadata": {},
     "output_type": "execute_result"
    }
   ],
   "source": [
    "df['poem_count'].value_counts().head(30)"
   ]
  },
  {
   "cell_type": "code",
   "execution_count": null,
   "id": "17f99d98",
   "metadata": {},
   "outputs": [
    {
     "data": {
      "application/vnd.plotly.v1+json": {
       "config": {
        "plotlyServerURL": "https://plot.ly"
       },
       "data": [
        {
         "hovertemplate": "Poem Count=%{x}<br>Frequency (Number of Poems)=%{y}<extra></extra>",
         "legendgroup": "2",
         "marker": {
          "color": "rgb(95, 70, 144)",
          "pattern": {
           "shape": ""
          }
         },
         "name": "2",
         "orientation": "v",
         "showlegend": true,
         "textposition": "auto",
         "type": "bar",
         "x": [
          "2"
         ],
         "xaxis": "x",
         "y": {
          "bdata": "EkY=",
          "dtype": "i2"
         },
         "yaxis": "y"
        },
        {
         "hovertemplate": "Poem Count=%{x}<br>Frequency (Number of Poems)=%{y}<extra></extra>",
         "legendgroup": "3",
         "marker": {
          "color": "rgb(29, 105, 150)",
          "pattern": {
           "shape": ""
          }
         },
         "name": "3",
         "orientation": "v",
         "showlegend": true,
         "textposition": "auto",
         "type": "bar",
         "x": [
          "3"
         ],
         "xaxis": "x",
         "y": {
          "bdata": "WCA=",
          "dtype": "i2"
         },
         "yaxis": "y"
        },
        {
         "hovertemplate": "Poem Count=%{x}<br>Frequency (Number of Poems)=%{y}<extra></extra>",
         "legendgroup": "4",
         "marker": {
          "color": "rgb(56, 166, 165)",
          "pattern": {
           "shape": ""
          }
         },
         "name": "4",
         "orientation": "v",
         "showlegend": true,
         "textposition": "auto",
         "type": "bar",
         "x": [
          "4"
         ],
         "xaxis": "x",
         "y": {
          "bdata": "px0=",
          "dtype": "i2"
         },
         "yaxis": "y"
        },
        {
         "hovertemplate": "Poem Count=%{x}<br>Frequency (Number of Poems)=%{y}<extra></extra>",
         "legendgroup": "1",
         "marker": {
          "color": "rgb(15, 133, 84)",
          "pattern": {
           "shape": ""
          }
         },
         "name": "1",
         "orientation": "v",
         "showlegend": true,
         "textposition": "auto",
         "type": "bar",
         "x": [
          "1"
         ],
         "xaxis": "x",
         "y": {
          "bdata": "OBU=",
          "dtype": "i2"
         },
         "yaxis": "y"
        },
        {
         "hovertemplate": "Poem Count=%{x}<br>Frequency (Number of Poems)=%{y}<extra></extra>",
         "legendgroup": "5",
         "marker": {
          "color": "rgb(115, 175, 72)",
          "pattern": {
           "shape": ""
          }
         },
         "name": "5",
         "orientation": "v",
         "showlegend": true,
         "textposition": "auto",
         "type": "bar",
         "x": [
          "5"
         ],
         "xaxis": "x",
         "y": {
          "bdata": "pRE=",
          "dtype": "i2"
         },
         "yaxis": "y"
        },
        {
         "hovertemplate": "Poem Count=%{x}<br>Frequency (Number of Poems)=%{y}<extra></extra>",
         "legendgroup": "6",
         "marker": {
          "color": "rgb(237, 173, 8)",
          "pattern": {
           "shape": ""
          }
         },
         "name": "6",
         "orientation": "v",
         "showlegend": true,
         "textposition": "auto",
         "type": "bar",
         "x": [
          "6"
         ],
         "xaxis": "x",
         "y": {
          "bdata": "eQw=",
          "dtype": "i2"
         },
         "yaxis": "y"
        },
        {
         "hovertemplate": "Poem Count=%{x}<br>Frequency (Number of Poems)=%{y}<extra></extra>",
         "legendgroup": "7",
         "marker": {
          "color": "rgb(225, 124, 5)",
          "pattern": {
           "shape": ""
          }
         },
         "name": "7",
         "orientation": "v",
         "showlegend": true,
         "textposition": "auto",
         "type": "bar",
         "x": [
          "7"
         ],
         "xaxis": "x",
         "y": {
          "bdata": "WQo=",
          "dtype": "i2"
         },
         "yaxis": "y"
        },
        {
         "hovertemplate": "Poem Count=%{x}<br>Frequency (Number of Poems)=%{y}<extra></extra>",
         "legendgroup": "8",
         "marker": {
          "color": "rgb(204, 80, 62)",
          "pattern": {
           "shape": ""
          }
         },
         "name": "8",
         "orientation": "v",
         "showlegend": true,
         "textposition": "auto",
         "type": "bar",
         "x": [
          "8"
         ],
         "xaxis": "x",
         "y": {
          "bdata": "3wk=",
          "dtype": "i2"
         },
         "yaxis": "y"
        },
        {
         "hovertemplate": "Poem Count=%{x}<br>Frequency (Number of Poems)=%{y}<extra></extra>",
         "legendgroup": "10",
         "marker": {
          "color": "rgb(148, 52, 110)",
          "pattern": {
           "shape": ""
          }
         },
         "name": "10",
         "orientation": "v",
         "showlegend": true,
         "textposition": "auto",
         "type": "bar",
         "x": [
          "10"
         ],
         "xaxis": "x",
         "y": {
          "bdata": "KAg=",
          "dtype": "i2"
         },
         "yaxis": "y"
        },
        {
         "hovertemplate": "Poem Count=%{x}<br>Frequency (Number of Poems)=%{y}<extra></extra>",
         "legendgroup": "9",
         "marker": {
          "color": "rgb(111, 64, 112)",
          "pattern": {
           "shape": ""
          }
         },
         "name": "9",
         "orientation": "v",
         "showlegend": true,
         "textposition": "auto",
         "type": "bar",
         "x": [
          "9"
         ],
         "xaxis": "x",
         "y": {
          "bdata": "ZgY=",
          "dtype": "i2"
         },
         "yaxis": "y"
        }
       ],
       "layout": {
        "barmode": "relative",
        "font": {
         "family": "Arial"
        },
        "legend": {
         "title": {
          "text": "Poem Count"
         },
         "tracegroupgap": 0
        },
        "template": {
         "data": {
          "bar": [
           {
            "error_x": {
             "color": "#2a3f5f"
            },
            "error_y": {
             "color": "#2a3f5f"
            },
            "marker": {
             "line": {
              "color": "white",
              "width": 0.5
             },
             "pattern": {
              "fillmode": "overlay",
              "size": 10,
              "solidity": 0.2
             }
            },
            "type": "bar"
           }
          ],
          "barpolar": [
           {
            "marker": {
             "line": {
              "color": "white",
              "width": 0.5
             },
             "pattern": {
              "fillmode": "overlay",
              "size": 10,
              "solidity": 0.2
             }
            },
            "type": "barpolar"
           }
          ],
          "carpet": [
           {
            "aaxis": {
             "endlinecolor": "#2a3f5f",
             "gridcolor": "#C8D4E3",
             "linecolor": "#C8D4E3",
             "minorgridcolor": "#C8D4E3",
             "startlinecolor": "#2a3f5f"
            },
            "baxis": {
             "endlinecolor": "#2a3f5f",
             "gridcolor": "#C8D4E3",
             "linecolor": "#C8D4E3",
             "minorgridcolor": "#C8D4E3",
             "startlinecolor": "#2a3f5f"
            },
            "type": "carpet"
           }
          ],
          "choropleth": [
           {
            "colorbar": {
             "outlinewidth": 0,
             "ticks": ""
            },
            "type": "choropleth"
           }
          ],
          "contour": [
           {
            "colorbar": {
             "outlinewidth": 0,
             "ticks": ""
            },
            "colorscale": [
             [
              0,
              "#0d0887"
             ],
             [
              0.1111111111111111,
              "#46039f"
             ],
             [
              0.2222222222222222,
              "#7201a8"
             ],
             [
              0.3333333333333333,
              "#9c179e"
             ],
             [
              0.4444444444444444,
              "#bd3786"
             ],
             [
              0.5555555555555556,
              "#d8576b"
             ],
             [
              0.6666666666666666,
              "#ed7953"
             ],
             [
              0.7777777777777778,
              "#fb9f3a"
             ],
             [
              0.8888888888888888,
              "#fdca26"
             ],
             [
              1,
              "#f0f921"
             ]
            ],
            "type": "contour"
           }
          ],
          "contourcarpet": [
           {
            "colorbar": {
             "outlinewidth": 0,
             "ticks": ""
            },
            "type": "contourcarpet"
           }
          ],
          "heatmap": [
           {
            "colorbar": {
             "outlinewidth": 0,
             "ticks": ""
            },
            "colorscale": [
             [
              0,
              "#0d0887"
             ],
             [
              0.1111111111111111,
              "#46039f"
             ],
             [
              0.2222222222222222,
              "#7201a8"
             ],
             [
              0.3333333333333333,
              "#9c179e"
             ],
             [
              0.4444444444444444,
              "#bd3786"
             ],
             [
              0.5555555555555556,
              "#d8576b"
             ],
             [
              0.6666666666666666,
              "#ed7953"
             ],
             [
              0.7777777777777778,
              "#fb9f3a"
             ],
             [
              0.8888888888888888,
              "#fdca26"
             ],
             [
              1,
              "#f0f921"
             ]
            ],
            "type": "heatmap"
           }
          ],
          "histogram": [
           {
            "marker": {
             "pattern": {
              "fillmode": "overlay",
              "size": 10,
              "solidity": 0.2
             }
            },
            "type": "histogram"
           }
          ],
          "histogram2d": [
           {
            "colorbar": {
             "outlinewidth": 0,
             "ticks": ""
            },
            "colorscale": [
             [
              0,
              "#0d0887"
             ],
             [
              0.1111111111111111,
              "#46039f"
             ],
             [
              0.2222222222222222,
              "#7201a8"
             ],
             [
              0.3333333333333333,
              "#9c179e"
             ],
             [
              0.4444444444444444,
              "#bd3786"
             ],
             [
              0.5555555555555556,
              "#d8576b"
             ],
             [
              0.6666666666666666,
              "#ed7953"
             ],
             [
              0.7777777777777778,
              "#fb9f3a"
             ],
             [
              0.8888888888888888,
              "#fdca26"
             ],
             [
              1,
              "#f0f921"
             ]
            ],
            "type": "histogram2d"
           }
          ],
          "histogram2dcontour": [
           {
            "colorbar": {
             "outlinewidth": 0,
             "ticks": ""
            },
            "colorscale": [
             [
              0,
              "#0d0887"
             ],
             [
              0.1111111111111111,
              "#46039f"
             ],
             [
              0.2222222222222222,
              "#7201a8"
             ],
             [
              0.3333333333333333,
              "#9c179e"
             ],
             [
              0.4444444444444444,
              "#bd3786"
             ],
             [
              0.5555555555555556,
              "#d8576b"
             ],
             [
              0.6666666666666666,
              "#ed7953"
             ],
             [
              0.7777777777777778,
              "#fb9f3a"
             ],
             [
              0.8888888888888888,
              "#fdca26"
             ],
             [
              1,
              "#f0f921"
             ]
            ],
            "type": "histogram2dcontour"
           }
          ],
          "mesh3d": [
           {
            "colorbar": {
             "outlinewidth": 0,
             "ticks": ""
            },
            "type": "mesh3d"
           }
          ],
          "parcoords": [
           {
            "line": {
             "colorbar": {
              "outlinewidth": 0,
              "ticks": ""
             }
            },
            "type": "parcoords"
           }
          ],
          "pie": [
           {
            "automargin": true,
            "type": "pie"
           }
          ],
          "scatter": [
           {
            "fillpattern": {
             "fillmode": "overlay",
             "size": 10,
             "solidity": 0.2
            },
            "type": "scatter"
           }
          ],
          "scatter3d": [
           {
            "line": {
             "colorbar": {
              "outlinewidth": 0,
              "ticks": ""
             }
            },
            "marker": {
             "colorbar": {
              "outlinewidth": 0,
              "ticks": ""
             }
            },
            "type": "scatter3d"
           }
          ],
          "scattercarpet": [
           {
            "marker": {
             "colorbar": {
              "outlinewidth": 0,
              "ticks": ""
             }
            },
            "type": "scattercarpet"
           }
          ],
          "scattergeo": [
           {
            "marker": {
             "colorbar": {
              "outlinewidth": 0,
              "ticks": ""
             }
            },
            "type": "scattergeo"
           }
          ],
          "scattergl": [
           {
            "marker": {
             "colorbar": {
              "outlinewidth": 0,
              "ticks": ""
             }
            },
            "type": "scattergl"
           }
          ],
          "scattermap": [
           {
            "marker": {
             "colorbar": {
              "outlinewidth": 0,
              "ticks": ""
             }
            },
            "type": "scattermap"
           }
          ],
          "scattermapbox": [
           {
            "marker": {
             "colorbar": {
              "outlinewidth": 0,
              "ticks": ""
             }
            },
            "type": "scattermapbox"
           }
          ],
          "scatterpolar": [
           {
            "marker": {
             "colorbar": {
              "outlinewidth": 0,
              "ticks": ""
             }
            },
            "type": "scatterpolar"
           }
          ],
          "scatterpolargl": [
           {
            "marker": {
             "colorbar": {
              "outlinewidth": 0,
              "ticks": ""
             }
            },
            "type": "scatterpolargl"
           }
          ],
          "scatterternary": [
           {
            "marker": {
             "colorbar": {
              "outlinewidth": 0,
              "ticks": ""
             }
            },
            "type": "scatterternary"
           }
          ],
          "surface": [
           {
            "colorbar": {
             "outlinewidth": 0,
             "ticks": ""
            },
            "colorscale": [
             [
              0,
              "#0d0887"
             ],
             [
              0.1111111111111111,
              "#46039f"
             ],
             [
              0.2222222222222222,
              "#7201a8"
             ],
             [
              0.3333333333333333,
              "#9c179e"
             ],
             [
              0.4444444444444444,
              "#bd3786"
             ],
             [
              0.5555555555555556,
              "#d8576b"
             ],
             [
              0.6666666666666666,
              "#ed7953"
             ],
             [
              0.7777777777777778,
              "#fb9f3a"
             ],
             [
              0.8888888888888888,
              "#fdca26"
             ],
             [
              1,
              "#f0f921"
             ]
            ],
            "type": "surface"
           }
          ],
          "table": [
           {
            "cells": {
             "fill": {
              "color": "#EBF0F8"
             },
             "line": {
              "color": "white"
             }
            },
            "header": {
             "fill": {
              "color": "#C8D4E3"
             },
             "line": {
              "color": "white"
             }
            },
            "type": "table"
           }
          ]
         },
         "layout": {
          "annotationdefaults": {
           "arrowcolor": "#2a3f5f",
           "arrowhead": 0,
           "arrowwidth": 1
          },
          "autotypenumbers": "strict",
          "coloraxis": {
           "colorbar": {
            "outlinewidth": 0,
            "ticks": ""
           }
          },
          "colorscale": {
           "diverging": [
            [
             0,
             "#8e0152"
            ],
            [
             0.1,
             "#c51b7d"
            ],
            [
             0.2,
             "#de77ae"
            ],
            [
             0.3,
             "#f1b6da"
            ],
            [
             0.4,
             "#fde0ef"
            ],
            [
             0.5,
             "#f7f7f7"
            ],
            [
             0.6,
             "#e6f5d0"
            ],
            [
             0.7,
             "#b8e186"
            ],
            [
             0.8,
             "#7fbc41"
            ],
            [
             0.9,
             "#4d9221"
            ],
            [
             1,
             "#276419"
            ]
           ],
           "sequential": [
            [
             0,
             "#0d0887"
            ],
            [
             0.1111111111111111,
             "#46039f"
            ],
            [
             0.2222222222222222,
             "#7201a8"
            ],
            [
             0.3333333333333333,
             "#9c179e"
            ],
            [
             0.4444444444444444,
             "#bd3786"
            ],
            [
             0.5555555555555556,
             "#d8576b"
            ],
            [
             0.6666666666666666,
             "#ed7953"
            ],
            [
             0.7777777777777778,
             "#fb9f3a"
            ],
            [
             0.8888888888888888,
             "#fdca26"
            ],
            [
             1,
             "#f0f921"
            ]
           ],
           "sequentialminus": [
            [
             0,
             "#0d0887"
            ],
            [
             0.1111111111111111,
             "#46039f"
            ],
            [
             0.2222222222222222,
             "#7201a8"
            ],
            [
             0.3333333333333333,
             "#9c179e"
            ],
            [
             0.4444444444444444,
             "#bd3786"
            ],
            [
             0.5555555555555556,
             "#d8576b"
            ],
            [
             0.6666666666666666,
             "#ed7953"
            ],
            [
             0.7777777777777778,
             "#fb9f3a"
            ],
            [
             0.8888888888888888,
             "#fdca26"
            ],
            [
             1,
             "#f0f921"
            ]
           ]
          },
          "colorway": [
           "#636efa",
           "#EF553B",
           "#00cc96",
           "#ab63fa",
           "#FFA15A",
           "#19d3f3",
           "#FF6692",
           "#B6E880",
           "#FF97FF",
           "#FECB52"
          ],
          "font": {
           "color": "#2a3f5f"
          },
          "geo": {
           "bgcolor": "white",
           "lakecolor": "white",
           "landcolor": "white",
           "showlakes": true,
           "showland": true,
           "subunitcolor": "#C8D4E3"
          },
          "hoverlabel": {
           "align": "left"
          },
          "hovermode": "closest",
          "mapbox": {
           "style": "light"
          },
          "paper_bgcolor": "white",
          "plot_bgcolor": "white",
          "polar": {
           "angularaxis": {
            "gridcolor": "#EBF0F8",
            "linecolor": "#EBF0F8",
            "ticks": ""
           },
           "bgcolor": "white",
           "radialaxis": {
            "gridcolor": "#EBF0F8",
            "linecolor": "#EBF0F8",
            "ticks": ""
           }
          },
          "scene": {
           "xaxis": {
            "backgroundcolor": "white",
            "gridcolor": "#DFE8F3",
            "gridwidth": 2,
            "linecolor": "#EBF0F8",
            "showbackground": true,
            "ticks": "",
            "zerolinecolor": "#EBF0F8"
           },
           "yaxis": {
            "backgroundcolor": "white",
            "gridcolor": "#DFE8F3",
            "gridwidth": 2,
            "linecolor": "#EBF0F8",
            "showbackground": true,
            "ticks": "",
            "zerolinecolor": "#EBF0F8"
           },
           "zaxis": {
            "backgroundcolor": "white",
            "gridcolor": "#DFE8F3",
            "gridwidth": 2,
            "linecolor": "#EBF0F8",
            "showbackground": true,
            "ticks": "",
            "zerolinecolor": "#EBF0F8"
           }
          },
          "shapedefaults": {
           "line": {
            "color": "#2a3f5f"
           }
          },
          "ternary": {
           "aaxis": {
            "gridcolor": "#DFE8F3",
            "linecolor": "#A2B1C6",
            "ticks": ""
           },
           "baxis": {
            "gridcolor": "#DFE8F3",
            "linecolor": "#A2B1C6",
            "ticks": ""
           },
           "bgcolor": "white",
           "caxis": {
            "gridcolor": "#DFE8F3",
            "linecolor": "#A2B1C6",
            "ticks": ""
           }
          },
          "title": {
           "x": 0.05
          },
          "xaxis": {
           "automargin": true,
           "gridcolor": "#EBF0F8",
           "linecolor": "#EBF0F8",
           "ticks": "",
           "title": {
            "standoff": 15
           },
           "zerolinecolor": "#EBF0F8",
           "zerolinewidth": 2
          },
          "yaxis": {
           "automargin": true,
           "gridcolor": "#EBF0F8",
           "linecolor": "#EBF0F8",
           "ticks": "",
           "title": {
            "standoff": 15
           },
           "zerolinecolor": "#EBF0F8",
           "zerolinewidth": 2
          }
         }
        },
        "title": {
         "font": {
          "size": 20
         },
         "text": "Top 10 Most Common Poem Counts"
        },
        "xaxis": {
         "anchor": "y",
         "categoryarray": [
          "2",
          "3",
          "4",
          "1",
          "5",
          "6",
          "7",
          "8",
          "10",
          "9"
         ],
         "categoryorder": "array",
         "domain": [
          0,
          1
         ],
         "tickangle": 0,
         "title": {
          "standoff": 15,
          "text": "Poem Count"
         }
        },
        "yaxis": {
         "anchor": "x",
         "domain": [
          0,
          1
         ],
         "title": {
          "standoff": 15,
          "text": "Frequency (Number of Poems)"
         }
        }
       }
      }
     },
     "metadata": {},
     "output_type": "display_data"
    }
   ],
   "source": [
    "## Here, we will visualize the top 10 poems counts.\n",
    "import plotly.express as px\n",
    "\n",
    "\n",
    "top_counts = (\n",
    "    df['poem_count']\n",
    "    .value_counts()\n",
    "    .head(10)\n",
    "    .reset_index()\n",
    ")\n",
    "\n",
    "top_counts.columns = ['poem_count', 'frequency']\n",
    "\n",
    "top_counts['poem_count'] = top_counts['poem_count'].astype(str)\n",
    "\n",
    "fig = px.bar(\n",
    "    top_counts,\n",
    "    x='poem_count',\n",
    "    y='frequency',\n",
    "    title='Top 10 Most Common Poem Counts',\n",
    "    labels={'poem_count': 'Poem Count', 'frequency': 'Frequency (Number of Poems)'},\n",
    "    template='plotly_white',\n",
    "    color='poem_count',\n",
    "    color_discrete_sequence=px.colors.qualitative.Prism\n",
    ")\n",
    "\n",
    "fig.update_layout(\n",
    "    xaxis_title_standoff=15,\n",
    "    yaxis_title_standoff=15,\n",
    "    title_font_size=20,\n",
    "    font_family=\"Arial\",\n",
    "    xaxis_tickangle=0\n",
    ")\n",
    "\n",
    "fig.show()"
   ]
  },
  {
   "cell_type": "markdown",
   "id": "6b72b20e",
   "metadata": {},
   "source": [
    "**Data preprocessing**"
   ]
  },
  {
   "cell_type": "code",
   "execution_count": 63,
   "id": "4a0ebe97",
   "metadata": {},
   "outputs": [
    {
     "data": {
      "text/html": [
       "<div>\n",
       "<style scoped>\n",
       "    .dataframe tbody tr th:only-of-type {\n",
       "        vertical-align: middle;\n",
       "    }\n",
       "\n",
       "    .dataframe tbody tr th {\n",
       "        vertical-align: top;\n",
       "    }\n",
       "\n",
       "    .dataframe thead th {\n",
       "        text-align: right;\n",
       "    }\n",
       "</style>\n",
       "<table border=\"1\" class=\"dataframe\">\n",
       "  <thead>\n",
       "    <tr style=\"text-align: right;\">\n",
       "      <th></th>\n",
       "      <th>poet_name</th>\n",
       "      <th>poet_era</th>\n",
       "      <th>poem_tags</th>\n",
       "      <th>poem_title</th>\n",
       "      <th>poem_text</th>\n",
       "      <th>poem_count</th>\n",
       "    </tr>\n",
       "  </thead>\n",
       "  <tbody>\n",
       "    <tr>\n",
       "      <th>0</th>\n",
       "      <td>لقيط بن يعمر الإيادي</td>\n",
       "      <td>العصر الجاهلي</td>\n",
       "      <td>قصائد هجاء, عموديه, بحر الوافر,  قافية الدال (د)</td>\n",
       "      <td>سلام في الصحيفة من لقيط</td>\n",
       "      <td>سَلامٌ في الصَحيفَةِ مِن لَقيطٍ\\nإِلى مَن بِال...</td>\n",
       "      <td>4</td>\n",
       "    </tr>\n",
       "    <tr>\n",
       "      <th>1</th>\n",
       "      <td>لقيط بن يعمر الإيادي</td>\n",
       "      <td>العصر الجاهلي</td>\n",
       "      <td>قصائد حزينه, عموديه, بحر البسيط,  قافية الألف ...</td>\n",
       "      <td>يا دار عمرة من محتلها الجرعا</td>\n",
       "      <td>يا دارَ عَمرَةَ مِن مُحتَلِّها الجَرَعا\\nهاجَت...</td>\n",
       "      <td>60</td>\n",
       "    </tr>\n",
       "    <tr>\n",
       "      <th>2</th>\n",
       "      <td>لقيط بن يعمر الإيادي</td>\n",
       "      <td>العصر الجاهلي</td>\n",
       "      <td>قصائد قصيره, عموديه, بحر الرجز,  قافية الألف (ا)</td>\n",
       "      <td>وخاننا خوان في ارتباعنا</td>\n",
       "      <td>وَخانَنا خَوّانٌ في اِرتِباعِنا\\nفَاِنفَدَّ لِ...</td>\n",
       "      <td>1</td>\n",
       "    </tr>\n",
       "    <tr>\n",
       "      <th>3</th>\n",
       "      <td>زبان بن سيار الفزاري</td>\n",
       "      <td>العصر الجاهلي</td>\n",
       "      <td>قصائد قصيره, عموديه, بحر الطويل,  قافية الألف ...</td>\n",
       "      <td>تنح إليكم يا ابن كوز فإننا</td>\n",
       "      <td>تَنَحَّ إِلَيكُم يا اِبنَ كوزٍ فَإِنَّنا\\nوَإِ...</td>\n",
       "      <td>1</td>\n",
       "    </tr>\n",
       "    <tr>\n",
       "      <th>4</th>\n",
       "      <td>زبان بن سيار الفزاري</td>\n",
       "      <td>العصر الجاهلي</td>\n",
       "      <td>قصائد قصيره, عموديه, بحر الطويل,  قافية الباء ...</td>\n",
       "      <td>تطارحه الأنساب حتى رددنه</td>\n",
       "      <td>تُطارِحُهُ الأَنسابُ حَتّى رَدَدنَهُ\\nإِلى نَس...</td>\n",
       "      <td>1</td>\n",
       "    </tr>\n",
       "    <tr>\n",
       "      <th>5</th>\n",
       "      <td>زبان بن سيار الفزاري</td>\n",
       "      <td>العصر الجاهلي</td>\n",
       "      <td>قصائد مدح, عموديه, بحر الطويل,  قافية الألف (ا)</td>\n",
       "      <td>إن تنسبوني تنسبوا ذا دسيعة</td>\n",
       "      <td>إِن تَنسُبوني تَنسُبوا ذا دَسيعَةٍ\\nبَريئاً مِ...</td>\n",
       "      <td>5</td>\n",
       "    </tr>\n",
       "    <tr>\n",
       "      <th>6</th>\n",
       "      <td>زبان بن سيار الفزاري</td>\n",
       "      <td>العصر الجاهلي</td>\n",
       "      <td>قصائد هجاء, عموديه, بحر الطويل,  قافية الألف (ا)</td>\n",
       "      <td>نبئت ركبان الطريق تناذروا</td>\n",
       "      <td>نُبِّئتُ رُكبانَ الطَريقِ تَناذَروا\\nعَقيلاً إ...</td>\n",
       "      <td>8</td>\n",
       "    </tr>\n",
       "    <tr>\n",
       "      <th>7</th>\n",
       "      <td>زبان بن سيار الفزاري</td>\n",
       "      <td>العصر الجاهلي</td>\n",
       "      <td>قصائد حزينه, عموديه, بحر الوافر,  قافية الدال ...</td>\n",
       "      <td>لأن فجعت بالقرباء منى</td>\n",
       "      <td>لَأَن فُجِّعتُ بِالقُرَباءِ مِنّى\\nلَقَد مُتِّ...</td>\n",
       "      <td>3</td>\n",
       "    </tr>\n",
       "    <tr>\n",
       "      <th>8</th>\n",
       "      <td>زبان بن سيار الفزاري</td>\n",
       "      <td>العصر الجاهلي</td>\n",
       "      <td>قصائد مدح, عموديه, بحر الوافر,  قافية الراء (ر)</td>\n",
       "      <td>تخبر طيره فيها زياد</td>\n",
       "      <td>تَخَبَّرَ طَيرَهُ فيها زِيادٌ\\nلِتُخبِرَهُ وَم...</td>\n",
       "      <td>5</td>\n",
       "    </tr>\n",
       "    <tr>\n",
       "      <th>9</th>\n",
       "      <td>زبان بن سيار الفزاري</td>\n",
       "      <td>العصر الجاهلي</td>\n",
       "      <td>قصائد قصيره, عموديه, بحر الطويل,  قافية الألف ...</td>\n",
       "      <td>ونحن حملنا عن كنانة جرمها</td>\n",
       "      <td>وَنَحنُ حَمَلنا عَن كِنانَةَ جُرمَها\\nوَجُرمَ ...</td>\n",
       "      <td>1</td>\n",
       "    </tr>\n",
       "  </tbody>\n",
       "</table>\n",
       "</div>"
      ],
      "text/plain": [
       "              poet_name       poet_era  \\\n",
       "0  لقيط بن يعمر الإيادي  العصر الجاهلي   \n",
       "1  لقيط بن يعمر الإيادي  العصر الجاهلي   \n",
       "2  لقيط بن يعمر الإيادي  العصر الجاهلي   \n",
       "3  زبان بن سيار الفزاري  العصر الجاهلي   \n",
       "4  زبان بن سيار الفزاري  العصر الجاهلي   \n",
       "5  زبان بن سيار الفزاري  العصر الجاهلي   \n",
       "6  زبان بن سيار الفزاري  العصر الجاهلي   \n",
       "7  زبان بن سيار الفزاري  العصر الجاهلي   \n",
       "8  زبان بن سيار الفزاري  العصر الجاهلي   \n",
       "9  زبان بن سيار الفزاري  العصر الجاهلي   \n",
       "\n",
       "                                           poem_tags  \\\n",
       "0  قصائد هجاء, عموديه, بحر الوافر,  قافية الدال (د)    \n",
       "1  قصائد حزينه, عموديه, بحر البسيط,  قافية الألف ...   \n",
       "2  قصائد قصيره, عموديه, بحر الرجز,  قافية الألف (ا)    \n",
       "3  قصائد قصيره, عموديه, بحر الطويل,  قافية الألف ...   \n",
       "4  قصائد قصيره, عموديه, بحر الطويل,  قافية الباء ...   \n",
       "5   قصائد مدح, عموديه, بحر الطويل,  قافية الألف (ا)    \n",
       "6  قصائد هجاء, عموديه, بحر الطويل,  قافية الألف (ا)    \n",
       "7  قصائد حزينه, عموديه, بحر الوافر,  قافية الدال ...   \n",
       "8   قصائد مدح, عموديه, بحر الوافر,  قافية الراء (ر)    \n",
       "9  قصائد قصيره, عموديه, بحر الطويل,  قافية الألف ...   \n",
       "\n",
       "                     poem_title  \\\n",
       "0       سلام في الصحيفة من لقيط   \n",
       "1  يا دار عمرة من محتلها الجرعا   \n",
       "2       وخاننا خوان في ارتباعنا   \n",
       "3    تنح إليكم يا ابن كوز فإننا   \n",
       "4      تطارحه الأنساب حتى رددنه   \n",
       "5    إن تنسبوني تنسبوا ذا دسيعة   \n",
       "6     نبئت ركبان الطريق تناذروا   \n",
       "7         لأن فجعت بالقرباء منى   \n",
       "8           تخبر طيره فيها زياد   \n",
       "9     ونحن حملنا عن كنانة جرمها   \n",
       "\n",
       "                                           poem_text  poem_count  \n",
       "0  سَلامٌ في الصَحيفَةِ مِن لَقيطٍ\\nإِلى مَن بِال...           4  \n",
       "1  يا دارَ عَمرَةَ مِن مُحتَلِّها الجَرَعا\\nهاجَت...          60  \n",
       "2  وَخانَنا خَوّانٌ في اِرتِباعِنا\\nفَاِنفَدَّ لِ...           1  \n",
       "3  تَنَحَّ إِلَيكُم يا اِبنَ كوزٍ فَإِنَّنا\\nوَإِ...           1  \n",
       "4  تُطارِحُهُ الأَنسابُ حَتّى رَدَدنَهُ\\nإِلى نَس...           1  \n",
       "5  إِن تَنسُبوني تَنسُبوا ذا دَسيعَةٍ\\nبَريئاً مِ...           5  \n",
       "6  نُبِّئتُ رُكبانَ الطَريقِ تَناذَروا\\nعَقيلاً إ...           8  \n",
       "7  لَأَن فُجِّعتُ بِالقُرَباءِ مِنّى\\nلَقَد مُتِّ...           3  \n",
       "8  تَخَبَّرَ طَيرَهُ فيها زِيادٌ\\nلِتُخبِرَهُ وَم...           5  \n",
       "9  وَنَحنُ حَمَلنا عَن كِنانَةَ جُرمَها\\nوَجُرمَ ...           1  "
      ]
     },
     "execution_count": 63,
     "metadata": {},
     "output_type": "execute_result"
    }
   ],
   "source": [
    "df.head(10)"
   ]
  },
  {
   "cell_type": "markdown",
   "id": "13ed4bfd",
   "metadata": {},
   "source": [
    "Here as a part of processing the data we need to take a look at the outliers in the poet_era"
   ]
  },
  {
   "cell_type": "code",
   "execution_count": null,
   "id": "cdfd5fa4",
   "metadata": {},
   "outputs": [
    {
     "name": "stdout",
     "output_type": "stream",
     "text": [
      "Dataset shape: (74988, 6)\n",
      "Total records: 74988\n",
      "\n",
      "Era Distribution:\n",
      "العصر العباسي: 26,723 (35.64%)\n",
      "العصر المملوكي: 13,085 (17.45%)\n",
      "العصر الايوبي: 8,157 (10.88%)\n",
      "العصر العثماني: 7,545 (10.06%)\n",
      "العصر الاموي: 7,330 (9.77%)\n",
      "العصر الأندلسي: 6,171 (8.23%)\n",
      "المخضرمون: 3,290 (4.39%)\n",
      "العصر الجاهلي: 2,350 (3.13%)\n",
      "العصر الاسلامي: 337 (0.45%)\n",
      "\n",
      "Imbalance Ratio: 79.3:1\n",
      "Outliers (>99th percentile): 742 poems\n"
     ]
    }
   ],
   "source": [
    "print(f\"Dataset shape: {df.shape}\")\n",
    "print(f\"Total records: {len(df)}\")\n",
    "\n",
    "#class distribution\n",
    "era_counts = df['poet_era'].value_counts()\n",
    "print(\"\\nEra Distribution:\")\n",
    "for era, count in era_counts.items():\n",
    "    percentage = (count / len(df)) * 100\n",
    "    print(f\"{era}: {count:,} ({percentage:.2f}%)\")\n",
    "\n",
    "#imbalance ratio\n",
    "max_count = era_counts.max()\n",
    "min_count = era_counts.min()\n",
    "imbalance_ratio = max_count / min_count\n",
    "print(f\"\\nImbalance Ratio: {imbalance_ratio:.1f}:1\")\n",
    "\n",
    "#check for outliers\n",
    "outlier_threshold = df['poem_count'].quantile(0.99)\n",
    "outliers = df[df['poem_count'] > outlier_threshold]\n",
    "print(f\"Outliers (>99th percentile): {len(outliers)} poems\")"
   ]
  },
  {
   "cell_type": "code",
   "execution_count": null,
   "id": "736cdece",
   "metadata": {},
   "outputs": [
    {
     "name": "stdout",
     "output_type": "stream",
     "text": [
      "New shape after removing outliers: (74246, 6)\n"
     ]
    }
   ],
   "source": [
    "#drop top 1% longest poems\n",
    "df = df[df['poem_count'] <= outlier_threshold]\n",
    "print(f\"New shape after removing outliers: {df.shape}\")\n"
   ]
  },
  {
   "cell_type": "code",
   "execution_count": null,
   "id": "5c0a7891",
   "metadata": {},
   "outputs": [
    {
     "name": "stdout",
     "output_type": "stream",
     "text": [
      "\n",
      "Era Distribution:\n",
      "العصر العباسي: 26,437 (35.61%)\n",
      "العصر المملوكي: 12,970 (17.47%)\n",
      "العصر الايوبي: 8,087 (10.89%)\n",
      "العصر العثماني: 7,453 (10.04%)\n",
      "العصر الاموي: 7,288 (9.82%)\n",
      "العصر الأندلسي: 6,047 (8.14%)\n",
      "المخضرمون: 3,280 (4.42%)\n",
      "العصر الجاهلي: 2,347 (3.16%)\n",
      "العصر الاسلامي: 337 (0.45%)\n",
      "\n",
      "Imbalance Ratio: 78.4:1\n"
     ]
    }
   ],
   "source": [
    "#class distribution\n",
    "era_counts = df['poet_era'].value_counts()\n",
    "print(\"\\nEra Distribution:\")\n",
    "for era, count in era_counts.items():\n",
    "    percentage = (count / len(df)) * 100\n",
    "    print(f\"{era}: {count:,} ({percentage:.2f}%)\")\n",
    "\n",
    "#imbalance ratio\n",
    "max_count = era_counts.max()\n",
    "min_count = era_counts.min()\n",
    "imbalance_ratio = max_count / min_count\n",
    "print(f\"\\nImbalance Ratio: {imbalance_ratio:.1f}:1\")"
   ]
  },
  {
   "cell_type": "code",
   "execution_count": 85,
   "id": "794a1ddc",
   "metadata": {},
   "outputs": [
    {
     "name": "stdout",
     "output_type": "stream",
     "text": [
      "Detected style-like entries:\n",
      "['التفعيله', 'عموديه', 'نثريه']\n",
      "Total unique styles found: 3\n"
     ]
    }
   ],
   "source": [
    "import re\n",
    "def extract_all_styles(df):\n",
    "    styles_found = set()\n",
    "\n",
    "    for tags in df['poem_tags'].dropna():\n",
    "        tag_parts = [part.strip() for part in str(tags).split(',')]\n",
    "\n",
    "        for part in tag_parts:\n",
    "            if (\n",
    "                not part.startswith('قصائد') and\n",
    "                not part.startswith('بحر') and\n",
    "                not part.startswith('قافية') and\n",
    "                3 <= len(part) <= 10 and\n",
    "                re.search(r'[اأإآبتثجحخدذرزسشصضطظعغفقكلمنهوية]', part)\n",
    "            ):\n",
    "                styles_found.add(part)\n",
    "\n",
    "    return sorted(styles_found)\n",
    "\n",
    "\n",
    "styles = extract_all_styles(df)\n",
    "\n",
    "print(\"Detected style-like entries:\")\n",
    "print(styles)\n",
    "print(f\"Total unique styles found: {len(styles)}\")\n"
   ]
  },
  {
   "cell_type": "code",
   "execution_count": 86,
   "id": "f9171411",
   "metadata": {},
   "outputs": [],
   "source": [
    "import re\n",
    "import pandas as pd\n",
    "\n",
    "def extract_all_tag_components(df):\n",
    "    genres = set()\n",
    "    styles = set()\n",
    "    meters = set()\n",
    "    rhymes = set()\n",
    "\n",
    "    for tags in df['poem_tags'].dropna():\n",
    "        tag_parts = [part.strip() for part in str(tags).split(',')]\n",
    "\n",
    "        for part in tag_parts:\n",
    "            # Genre\n",
    "            if re.match(r'^قصائد\\s+\\w+', part):\n",
    "                genres.add(part)\n",
    "            # Style\n",
    "            elif part in ['التفعيله', 'عموديه', 'نثريه']:\n",
    "                styles.add(part)\n",
    "            # Meter\n",
    "            elif part.startswith('بحر'):\n",
    "                meters.add(part)\n",
    "            # Rhyme\n",
    "            elif part.startswith('قافية'):\n",
    "                rhymes.add(part)\n",
    "\n",
    "    return {\n",
    "        'genres': sorted(genres),\n",
    "        'styles': sorted(styles),\n",
    "        'meters': sorted(meters),\n",
    "        'rhymes': sorted(rhymes)\n",
    "    }\n"
   ]
  },
  {
   "cell_type": "code",
   "execution_count": null,
   "id": "60665b28",
   "metadata": {},
   "outputs": [
    {
     "name": "stdout",
     "output_type": "stream",
     "text": [
      " Detected Genres:\n",
      "['قصائد ابتهال', 'قصائد اعتذار', 'قصائد الاناشيد', 'قصائد المعلقات', 'قصائد جود وكرم', 'قصائد حزينه', 'قصائد حكمة', 'قصائد دينية', 'قصائد ذم', 'قصائد رثاء', 'قصائد رحمة', 'قصائد رومنسيه', 'قصائد سياسية', 'قصائد شوق', 'قصائد صبر', 'قصائد عامه', 'قصائد عتاب', 'قصائد عدل', 'قصائد غزل', 'قصائد فراق', 'قصائد قصيره', 'قصائد مدح', 'قصائد نصيحة', 'قصائد هجاء', 'قصائد وطنيه']\n",
      "\n",
      " Detected Styles:\n",
      "['التفعيله', 'عموديه', 'نثريه']\n",
      "\n",
      " Detected Meters:\n",
      "['بحر أحذ الكامل', 'بحر أحذ الوافر', 'بحر البسيط', 'بحر الخفيف', 'بحر الدوبيت', 'بحر الرجز', 'بحر الرمل', 'بحر السريع', 'بحر السلسلة', 'بحر الطويل', 'بحر القوما', 'بحر الكامل', 'بحر المتدارك', 'بحر المتقارب', 'بحر المجتث', 'بحر المديد', 'بحر المضارع', 'بحر المقتضب', 'بحر المنسرح', 'بحر المواليا', 'بحر الهزج', 'بحر الوافر', 'بحر تفعيلة الكامل', 'بحر مجزوء البسيط', 'بحر مجزوء الخفيف', 'بحر مجزوء الدوبيت', 'بحر مجزوء الرجز', 'بحر مجزوء الرمل', 'بحر مجزوء السريع', 'بحر مجزوء الطويل', 'بحر مجزوء الكامل', 'بحر مجزوء المتدارك', 'بحر مجزوء المتقارب', 'بحر مجزوء المجتث', 'بحر مجزوء المديد', 'بحر مجزوء المنسرح', 'بحر مجزوء المواليا', 'بحر مجزوء الهزج', 'بحر مجزوء الوافر', 'بحر مجزوء موشح', 'بحر مخلع البسيط', 'بحر مخلع الرجز', 'بحر مخلع الرمل', 'بحر مخلع السريع', 'بحر مخلع الكامل', 'بحر مخلع موشح', 'بحر مربع الرجز', 'بحر مشطور الرجز', 'بحر مشطور السريع', 'بحر مشطور الطويل', 'بحر منهوك البسيط', 'بحر منهوك الرجز', 'بحر منهوك الكامل', 'بحر منهوك المنسرح', 'بحر موشح']\n",
      "\n",
      " Detected Rhymes:\n",
      "['قافية  الحاء (ح)', 'قافية (#)', 'قافية (الالف)', 'قافية (الحاء)', 'قافية (الدال)', 'قافية (الراء)', 'قافية (العين)', 'قافية (الفاء)', 'قافية (القاف)', 'قافية (اللام)', 'قافية (الميم)', 'قافية (النون)', 'قافية (الياء)', 'قافية (لا)', 'قافية (لام مكسورة)', 'قافية ألف الهمزة (أ)', 'قافية الألف (إ)', 'قافية الألف (ا)', 'قافية الباء (ب)', 'قافية التاء (ت)', 'قافية التاء المربوطة (ة)', 'قافية الثاء (ث)', 'قافية الجيم (ج)', 'قافية الحاء (ح)', 'قافية الخاء (خ)', 'قافية الدال (د)', 'قافية الذال (ذ)', 'قافية الراء (ر)', 'قافية الزاى (ز)', 'قافية السين (س)', 'قافية الشين (ش)', 'قافية الصاد (ص)', 'قافية الضاد (ض)', 'قافية الطاء (ط)', 'قافية الظاء (ظ)', 'قافية العين (ع)', 'قافية الغين (غ)', 'قافية الفاء (ف)', 'قافية القاف (ق)', 'قافية الكاف (ك)', 'قافية اللام (ل)', 'قافية الميم (م)', 'قافية النون (ن)', 'قافية الهاء (ه)', 'قافية الهمزة (ء)', 'قافية الواو (و)', 'قافية الياء (ى)', 'قافية الياء (ي)', 'قافية واو همزة (ؤ)', 'قافية ياء همزة (ئ)']\n",
      "\n",
      " Count Summary:\n",
      "{'genres': 25, 'styles': 3, 'meters': 55, 'rhymes': 50}\n"
     ]
    }
   ],
   "source": [
    "tag_components = extract_all_tag_components(df)\n",
    "\n",
    "print(\" Detected Genres:\")\n",
    "print(tag_components['genres'])\n",
    "print(\"\\n Detected Styles:\")\n",
    "print(tag_components['styles'])\n",
    "print(\"\\n Detected Meters:\")\n",
    "print(tag_components['meters'])\n",
    "print(\"\\n Detected Rhymes:\")\n",
    "print(tag_components['rhymes'])\n",
    "\n",
    "print(\"\\n Count Summary:\")\n",
    "print({k: len(v) for k, v in tag_components.items()})\n"
   ]
  },
  {
   "cell_type": "code",
   "execution_count": null,
   "id": "18199754",
   "metadata": {},
   "outputs": [
    {
     "name": "stderr",
     "output_type": "stream",
     "text": [
      "/tmp/ipykernel_2094873/1194742794.py:79: PerformanceWarning:\n",
      "\n",
      "DataFrame is highly fragmented.  This is usually the result of calling `frame.insert` many times, which has poor performance.  Consider joining all columns at once using pd.concat(axis=1) instead. To get a de-fragmented frame, use `newframe = frame.copy()`\n",
      "\n",
      "/tmp/ipykernel_2094873/1194742794.py:79: PerformanceWarning:\n",
      "\n",
      "DataFrame is highly fragmented.  This is usually the result of calling `frame.insert` many times, which has poor performance.  Consider joining all columns at once using pd.concat(axis=1) instead. To get a de-fragmented frame, use `newframe = frame.copy()`\n",
      "\n",
      "/tmp/ipykernel_2094873/1194742794.py:79: PerformanceWarning:\n",
      "\n",
      "DataFrame is highly fragmented.  This is usually the result of calling `frame.insert` many times, which has poor performance.  Consider joining all columns at once using pd.concat(axis=1) instead. To get a de-fragmented frame, use `newframe = frame.copy()`\n",
      "\n",
      "/tmp/ipykernel_2094873/1194742794.py:79: PerformanceWarning:\n",
      "\n",
      "DataFrame is highly fragmented.  This is usually the result of calling `frame.insert` many times, which has poor performance.  Consider joining all columns at once using pd.concat(axis=1) instead. To get a de-fragmented frame, use `newframe = frame.copy()`\n",
      "\n",
      "/tmp/ipykernel_2094873/1194742794.py:79: PerformanceWarning:\n",
      "\n",
      "DataFrame is highly fragmented.  This is usually the result of calling `frame.insert` many times, which has poor performance.  Consider joining all columns at once using pd.concat(axis=1) instead. To get a de-fragmented frame, use `newframe = frame.copy()`\n",
      "\n",
      "/tmp/ipykernel_2094873/1194742794.py:79: PerformanceWarning:\n",
      "\n",
      "DataFrame is highly fragmented.  This is usually the result of calling `frame.insert` many times, which has poor performance.  Consider joining all columns at once using pd.concat(axis=1) instead. To get a de-fragmented frame, use `newframe = frame.copy()`\n",
      "\n",
      "/tmp/ipykernel_2094873/1194742794.py:79: PerformanceWarning:\n",
      "\n",
      "DataFrame is highly fragmented.  This is usually the result of calling `frame.insert` many times, which has poor performance.  Consider joining all columns at once using pd.concat(axis=1) instead. To get a de-fragmented frame, use `newframe = frame.copy()`\n",
      "\n",
      "/tmp/ipykernel_2094873/1194742794.py:79: PerformanceWarning:\n",
      "\n",
      "DataFrame is highly fragmented.  This is usually the result of calling `frame.insert` many times, which has poor performance.  Consider joining all columns at once using pd.concat(axis=1) instead. To get a de-fragmented frame, use `newframe = frame.copy()`\n",
      "\n",
      "/tmp/ipykernel_2094873/1194742794.py:79: PerformanceWarning:\n",
      "\n",
      "DataFrame is highly fragmented.  This is usually the result of calling `frame.insert` many times, which has poor performance.  Consider joining all columns at once using pd.concat(axis=1) instead. To get a de-fragmented frame, use `newframe = frame.copy()`\n",
      "\n",
      "/tmp/ipykernel_2094873/1194742794.py:79: PerformanceWarning:\n",
      "\n",
      "DataFrame is highly fragmented.  This is usually the result of calling `frame.insert` many times, which has poor performance.  Consider joining all columns at once using pd.concat(axis=1) instead. To get a de-fragmented frame, use `newframe = frame.copy()`\n",
      "\n",
      "/tmp/ipykernel_2094873/1194742794.py:79: PerformanceWarning:\n",
      "\n",
      "DataFrame is highly fragmented.  This is usually the result of calling `frame.insert` many times, which has poor performance.  Consider joining all columns at once using pd.concat(axis=1) instead. To get a de-fragmented frame, use `newframe = frame.copy()`\n",
      "\n",
      "/tmp/ipykernel_2094873/1194742794.py:79: PerformanceWarning:\n",
      "\n",
      "DataFrame is highly fragmented.  This is usually the result of calling `frame.insert` many times, which has poor performance.  Consider joining all columns at once using pd.concat(axis=1) instead. To get a de-fragmented frame, use `newframe = frame.copy()`\n",
      "\n",
      "/tmp/ipykernel_2094873/1194742794.py:79: PerformanceWarning:\n",
      "\n",
      "DataFrame is highly fragmented.  This is usually the result of calling `frame.insert` many times, which has poor performance.  Consider joining all columns at once using pd.concat(axis=1) instead. To get a de-fragmented frame, use `newframe = frame.copy()`\n",
      "\n",
      "/tmp/ipykernel_2094873/1194742794.py:79: PerformanceWarning:\n",
      "\n",
      "DataFrame is highly fragmented.  This is usually the result of calling `frame.insert` many times, which has poor performance.  Consider joining all columns at once using pd.concat(axis=1) instead. To get a de-fragmented frame, use `newframe = frame.copy()`\n",
      "\n",
      "/tmp/ipykernel_2094873/1194742794.py:79: PerformanceWarning:\n",
      "\n",
      "DataFrame is highly fragmented.  This is usually the result of calling `frame.insert` many times, which has poor performance.  Consider joining all columns at once using pd.concat(axis=1) instead. To get a de-fragmented frame, use `newframe = frame.copy()`\n",
      "\n",
      "/tmp/ipykernel_2094873/1194742794.py:79: PerformanceWarning:\n",
      "\n",
      "DataFrame is highly fragmented.  This is usually the result of calling `frame.insert` many times, which has poor performance.  Consider joining all columns at once using pd.concat(axis=1) instead. To get a de-fragmented frame, use `newframe = frame.copy()`\n",
      "\n",
      "/tmp/ipykernel_2094873/1194742794.py:79: PerformanceWarning:\n",
      "\n",
      "DataFrame is highly fragmented.  This is usually the result of calling `frame.insert` many times, which has poor performance.  Consider joining all columns at once using pd.concat(axis=1) instead. To get a de-fragmented frame, use `newframe = frame.copy()`\n",
      "\n",
      "/tmp/ipykernel_2094873/1194742794.py:79: PerformanceWarning:\n",
      "\n",
      "DataFrame is highly fragmented.  This is usually the result of calling `frame.insert` many times, which has poor performance.  Consider joining all columns at once using pd.concat(axis=1) instead. To get a de-fragmented frame, use `newframe = frame.copy()`\n",
      "\n",
      "/tmp/ipykernel_2094873/1194742794.py:79: PerformanceWarning:\n",
      "\n",
      "DataFrame is highly fragmented.  This is usually the result of calling `frame.insert` many times, which has poor performance.  Consider joining all columns at once using pd.concat(axis=1) instead. To get a de-fragmented frame, use `newframe = frame.copy()`\n",
      "\n",
      "/tmp/ipykernel_2094873/1194742794.py:79: PerformanceWarning:\n",
      "\n",
      "DataFrame is highly fragmented.  This is usually the result of calling `frame.insert` many times, which has poor performance.  Consider joining all columns at once using pd.concat(axis=1) instead. To get a de-fragmented frame, use `newframe = frame.copy()`\n",
      "\n",
      "/tmp/ipykernel_2094873/1194742794.py:79: PerformanceWarning:\n",
      "\n",
      "DataFrame is highly fragmented.  This is usually the result of calling `frame.insert` many times, which has poor performance.  Consider joining all columns at once using pd.concat(axis=1) instead. To get a de-fragmented frame, use `newframe = frame.copy()`\n",
      "\n",
      "/tmp/ipykernel_2094873/1194742794.py:79: PerformanceWarning:\n",
      "\n",
      "DataFrame is highly fragmented.  This is usually the result of calling `frame.insert` many times, which has poor performance.  Consider joining all columns at once using pd.concat(axis=1) instead. To get a de-fragmented frame, use `newframe = frame.copy()`\n",
      "\n",
      "/tmp/ipykernel_2094873/1194742794.py:79: PerformanceWarning:\n",
      "\n",
      "DataFrame is highly fragmented.  This is usually the result of calling `frame.insert` many times, which has poor performance.  Consider joining all columns at once using pd.concat(axis=1) instead. To get a de-fragmented frame, use `newframe = frame.copy()`\n",
      "\n",
      "/tmp/ipykernel_2094873/1194742794.py:79: PerformanceWarning:\n",
      "\n",
      "DataFrame is highly fragmented.  This is usually the result of calling `frame.insert` many times, which has poor performance.  Consider joining all columns at once using pd.concat(axis=1) instead. To get a de-fragmented frame, use `newframe = frame.copy()`\n",
      "\n",
      "/tmp/ipykernel_2094873/1194742794.py:79: PerformanceWarning:\n",
      "\n",
      "DataFrame is highly fragmented.  This is usually the result of calling `frame.insert` many times, which has poor performance.  Consider joining all columns at once using pd.concat(axis=1) instead. To get a de-fragmented frame, use `newframe = frame.copy()`\n",
      "\n",
      "/tmp/ipykernel_2094873/1194742794.py:79: PerformanceWarning:\n",
      "\n",
      "DataFrame is highly fragmented.  This is usually the result of calling `frame.insert` many times, which has poor performance.  Consider joining all columns at once using pd.concat(axis=1) instead. To get a de-fragmented frame, use `newframe = frame.copy()`\n",
      "\n",
      "/tmp/ipykernel_2094873/1194742794.py:79: PerformanceWarning:\n",
      "\n",
      "DataFrame is highly fragmented.  This is usually the result of calling `frame.insert` many times, which has poor performance.  Consider joining all columns at once using pd.concat(axis=1) instead. To get a de-fragmented frame, use `newframe = frame.copy()`\n",
      "\n",
      "/tmp/ipykernel_2094873/1194742794.py:79: PerformanceWarning:\n",
      "\n",
      "DataFrame is highly fragmented.  This is usually the result of calling `frame.insert` many times, which has poor performance.  Consider joining all columns at once using pd.concat(axis=1) instead. To get a de-fragmented frame, use `newframe = frame.copy()`\n",
      "\n",
      "/tmp/ipykernel_2094873/1194742794.py:79: PerformanceWarning:\n",
      "\n",
      "DataFrame is highly fragmented.  This is usually the result of calling `frame.insert` many times, which has poor performance.  Consider joining all columns at once using pd.concat(axis=1) instead. To get a de-fragmented frame, use `newframe = frame.copy()`\n",
      "\n",
      "/tmp/ipykernel_2094873/1194742794.py:79: PerformanceWarning:\n",
      "\n",
      "DataFrame is highly fragmented.  This is usually the result of calling `frame.insert` many times, which has poor performance.  Consider joining all columns at once using pd.concat(axis=1) instead. To get a de-fragmented frame, use `newframe = frame.copy()`\n",
      "\n",
      "/tmp/ipykernel_2094873/1194742794.py:79: PerformanceWarning:\n",
      "\n",
      "DataFrame is highly fragmented.  This is usually the result of calling `frame.insert` many times, which has poor performance.  Consider joining all columns at once using pd.concat(axis=1) instead. To get a de-fragmented frame, use `newframe = frame.copy()`\n",
      "\n",
      "/tmp/ipykernel_2094873/1194742794.py:79: PerformanceWarning:\n",
      "\n",
      "DataFrame is highly fragmented.  This is usually the result of calling `frame.insert` many times, which has poor performance.  Consider joining all columns at once using pd.concat(axis=1) instead. To get a de-fragmented frame, use `newframe = frame.copy()`\n",
      "\n",
      "/tmp/ipykernel_2094873/1194742794.py:79: PerformanceWarning:\n",
      "\n",
      "DataFrame is highly fragmented.  This is usually the result of calling `frame.insert` many times, which has poor performance.  Consider joining all columns at once using pd.concat(axis=1) instead. To get a de-fragmented frame, use `newframe = frame.copy()`\n",
      "\n",
      "/tmp/ipykernel_2094873/1194742794.py:79: PerformanceWarning:\n",
      "\n",
      "DataFrame is highly fragmented.  This is usually the result of calling `frame.insert` many times, which has poor performance.  Consider joining all columns at once using pd.concat(axis=1) instead. To get a de-fragmented frame, use `newframe = frame.copy()`\n",
      "\n",
      "/tmp/ipykernel_2094873/1194742794.py:79: PerformanceWarning:\n",
      "\n",
      "DataFrame is highly fragmented.  This is usually the result of calling `frame.insert` many times, which has poor performance.  Consider joining all columns at once using pd.concat(axis=1) instead. To get a de-fragmented frame, use `newframe = frame.copy()`\n",
      "\n",
      "/tmp/ipykernel_2094873/1194742794.py:79: PerformanceWarning:\n",
      "\n",
      "DataFrame is highly fragmented.  This is usually the result of calling `frame.insert` many times, which has poor performance.  Consider joining all columns at once using pd.concat(axis=1) instead. To get a de-fragmented frame, use `newframe = frame.copy()`\n",
      "\n",
      "/tmp/ipykernel_2094873/1194742794.py:79: PerformanceWarning:\n",
      "\n",
      "DataFrame is highly fragmented.  This is usually the result of calling `frame.insert` many times, which has poor performance.  Consider joining all columns at once using pd.concat(axis=1) instead. To get a de-fragmented frame, use `newframe = frame.copy()`\n",
      "\n"
     ]
    },
    {
     "name": "stdout",
     "output_type": "stream",
     "text": [
      "Feature engineering completed\n"
     ]
    },
    {
     "name": "stderr",
     "output_type": "stream",
     "text": [
      "/tmp/ipykernel_2094873/1194742794.py:88: PerformanceWarning:\n",
      "\n",
      "DataFrame is highly fragmented.  This is usually the result of calling `frame.insert` many times, which has poor performance.  Consider joining all columns at once using pd.concat(axis=1) instead. To get a de-fragmented frame, use `newframe = frame.copy()`\n",
      "\n",
      "/tmp/ipykernel_2094873/1194742794.py:89: PerformanceWarning:\n",
      "\n",
      "DataFrame is highly fragmented.  This is usually the result of calling `frame.insert` many times, which has poor performance.  Consider joining all columns at once using pd.concat(axis=1) instead. To get a de-fragmented frame, use `newframe = frame.copy()`\n",
      "\n",
      "/tmp/ipykernel_2094873/1194742794.py:94: PerformanceWarning:\n",
      "\n",
      "DataFrame is highly fragmented.  This is usually the result of calling `frame.insert` many times, which has poor performance.  Consider joining all columns at once using pd.concat(axis=1) instead. To get a de-fragmented frame, use `newframe = frame.copy()`\n",
      "\n"
     ]
    }
   ],
   "source": [
    "import numpy as np\n",
    "def extract_features(df):\n",
    "    \"\"\"Extract features from the dataset\"\"\"\n",
    "    df_features = df.copy()\n",
    "    \n",
    "    df_features['is_short_poem'] = (df_features['poem_count'] <= 5).astype(int)\n",
    "    df_features['is_long_poem'] = (df_features['poem_count'] >= 6).astype(int)\n",
    "    \n",
    "    genre_patterns = ['قصائد ابتهال', 'قصائد اعتذار', 'قصائد الاناشيد', 'قصائد المعلقات',\n",
    "                     'قصائد جود وكرم', 'قصائد حزينه', 'قصائد حكمة', 'قصائد دينية', 'قصائد ذم',\n",
    "                     'قصائد رثاء', 'قصائد رحمة', 'قصائد رومنسيه', 'قصائد سياسية', 'قصائد شوق',\n",
    "                     'قصائد صبر', 'قصائد عامه', 'قصائد عتاب', 'قصائد عدل', 'قصائد غزل', 'قصائد فراق',\n",
    "                     'قصائد قصيره', 'قصائد مدح', 'قصائد نصيحة', 'قصائد هجاء', 'قصائد وطنيه']\n",
    "    \n",
    "    for genre in genre_patterns:\n",
    "        df_features[f'genre_{genre}'] = 0\n",
    "    \n",
    "    for idx, tags in df_features['poem_tags'].items():\n",
    "        tags_str = str(tags)\n",
    "        for genre in genre_patterns:\n",
    "            if genre in tags_str:\n",
    "                df_features.loc[idx, f'genre_{genre}'] = 1\n",
    "    \n",
    "    df_features['style_عموديه'] = 0\n",
    "    df_features['style_التفعيله'] = 0\n",
    "    df_features['style_نثريه'] = 0\n",
    "    \n",
    "    for idx, tags in df_features['poem_tags'].items():\n",
    "        tags_str = str(tags)\n",
    "        if 'عموديه' in tags_str:\n",
    "            df_features.loc[idx, 'style_عموديه'] = 1\n",
    "        elif 'التفعيله' in tags_str:\n",
    "            df_features.loc[idx, 'style_التفعيله'] = 1\n",
    "        elif 'نثريه' in tags_str:\n",
    "            df_features.loc[idx, 'style_نثريه'] = 1\n",
    "    \n",
    "    meter_patterns = ['بحر أحذ الكامل', 'بحر أحذ الوافر', 'بحر البسيط', 'بحر الخفيف', 'بحر الدوبيت', \n",
    "                     'بحر الرجز', 'بحر الرمل', 'بحر السريع', 'بحر السلسلة', 'بحر الطويل', 'بحر القوما', \n",
    "                     'بحر الكامل', 'بحر المتدارك', 'بحر المتقارب', 'بحر المجتث', 'بحر المديد', \n",
    "                     'بحر المضارع', 'بحر المقتضب', 'بحر المنسرح', 'بحر المواليا', 'بحر الهزج', 'بحر الوافر', \n",
    "                     'بحر تفعيلة الكامل', 'بحر مجزوء البسيط', 'بحر مجزوء الخفيف', 'بحر مجزوء الدوبيت', \n",
    "                     'بحر مجزوء الرجز', 'بحر مجزوء الرمل', 'بحر مجزوء السريع', 'بحر مجزوء الطويل', \n",
    "                     'بحر مجزوء الكامل', 'بحر مجزوء المتدارك', 'بحر مجزوء المتقارب', 'بحر مجزوء المجتث', \n",
    "                     'بحر مجزوء المديد', 'بحر مجزوء المنسرح', 'بحر مجزوء المواليا', 'بحر مجزوء الهزج', \n",
    "                     'بحر مجزوء الوافر', 'بحر مجزوء موشح', 'بحر مخلع البسيط', 'بحر مخلع الرجز', \n",
    "                     'بحر مخلع الرمل', 'بحر مخلع السريع', 'بحر مخلع الكامل', 'بحر مخلع موشح', \n",
    "                     'بحر مربع الرجز', 'بحر مشطور الرجز', 'بحر مشطور السريع', 'بحر مشطور الطويل', \n",
    "                     'بحر منهوك البسيط', 'بحر منهوك الرجز', 'بحر منهوك الكامل', 'بحر منهوك المنسرح', 'بحر موشح']\n",
    "    \n",
    "    for meter in meter_patterns:\n",
    "        df_features[f'meter_{meter}'] = 0\n",
    "    \n",
    "    for idx, tags in df_features['poem_tags'].items():\n",
    "        tags_str = str(tags)\n",
    "        for meter in meter_patterns:\n",
    "            if meter in tags_str:\n",
    "                df_features.loc[idx, f'meter_{meter}'] = 1\n",
    "    \n",
    "    rhyme_patterns = ['قافية  الحاء (ح)', 'قافية (#)', 'قافية (الالف)', 'قافية (الحاء)', 'قافية (الدال)', \n",
    "                     'قافية (الراء)', 'قافية (العين)', 'قافية (الفاء)', 'قافية (القاف)', 'قافية (اللام)', \n",
    "                     'قافية (الميم)', 'قافية (النون)', 'قافية (الياء)', 'قافية (لا)', 'قافية (لام مكسورة)', \n",
    "                     'قافية ألف الهمزة (أ)', 'قافية الألف (إ)', 'قافية الألف (ا)', 'قافية الباء (ب)', \n",
    "                     'قافية التاء (ت)', 'قافية التاء المربوطة (ة)', 'قافية الثاء (ث)', 'قافية الجيم (ج)', \n",
    "                     'قافية الحاء (ح)', 'قافية الخاء (خ)', 'قافية الدال (د)', 'قافية الذال (ذ)', \n",
    "                     'قافية الراء (ر)', 'قافية الزاى (ز)', 'قافية السين (س)', 'قافية الشين (ش)', \n",
    "                     'قافية الصاد (ص)', 'قافية الضاد (ض)', 'قافية الطاء (ط)', 'قافية الظاء (ظ)', \n",
    "                     'قافية العين (ع)', 'قافية الغين (غ)', 'قافية الفاء (ف)', 'قافية القاف (ق)', \n",
    "                     'قافية الكاف (ك)', 'قافية اللام (ل)', 'قافية الميم (م)', 'قافية النون (ن)', \n",
    "                     'قافية الهاء (ه)', 'قافية الهمزة (ء)', 'قافية الواو (و)', 'قافية الياء (ى)', \n",
    "                     'قافية الياء (ي)', 'قافية واو همزة (ؤ)', 'قافية ياء همزة (ئ)']\n",
    "    \n",
    "    for rhyme in rhyme_patterns:\n",
    "        df_features[f'rhyme_{rhyme}'] = 0\n",
    "    \n",
    "    for idx, tags in df_features['poem_tags'].items():\n",
    "        tags_str = str(tags)\n",
    "        for rhyme in rhyme_patterns:\n",
    "            if rhyme in tags_str:\n",
    "                df_features.loc[idx, f'rhyme_{rhyme}'] = 1\n",
    "    \n",
    "    df_features['text_length'] = df_features['poem_text'].str.len()\n",
    "    df_features['text_length_log'] = np.log1p(df_features['text_length'])\n",
    "    df_features['bert_input_text'] = df_features['poem_text'].str[:450]\n",
    "    \n",
    "    return df_features\n",
    "\n",
    "df_features = extract_features(df)\n",
    "print(\"Feature engineering completed\")"
   ]
  },
  {
   "cell_type": "code",
   "execution_count": 103,
   "id": "09eaa842",
   "metadata": {},
   "outputs": [
    {
     "data": {
      "text/plain": [
       "(74246, 144)"
      ]
     },
     "execution_count": 103,
     "metadata": {},
     "output_type": "execute_result"
    }
   ],
   "source": [
    "df_features.shape"
   ]
  },
  {
   "cell_type": "code",
   "execution_count": null,
   "id": "fd0f35da",
   "metadata": {},
   "outputs": [
    {
     "data": {
      "text/html": [
       "<div>\n",
       "<style scoped>\n",
       "    .dataframe tbody tr th:only-of-type {\n",
       "        vertical-align: middle;\n",
       "    }\n",
       "\n",
       "    .dataframe tbody tr th {\n",
       "        vertical-align: top;\n",
       "    }\n",
       "\n",
       "    .dataframe thead th {\n",
       "        text-align: right;\n",
       "    }\n",
       "</style>\n",
       "<table border=\"1\" class=\"dataframe\">\n",
       "  <thead>\n",
       "    <tr style=\"text-align: right;\">\n",
       "      <th></th>\n",
       "      <th>poet_name</th>\n",
       "      <th>poet_era</th>\n",
       "      <th>poem_tags</th>\n",
       "      <th>poem_title</th>\n",
       "      <th>poem_text</th>\n",
       "      <th>poem_count</th>\n",
       "      <th>is_short_poem</th>\n",
       "      <th>is_long_poem</th>\n",
       "      <th>genre_قصائد ابتهال</th>\n",
       "      <th>genre_قصائد اعتذار</th>\n",
       "      <th>genre_قصائد الاناشيد</th>\n",
       "      <th>genre_قصائد المعلقات</th>\n",
       "      <th>genre_قصائد جود وكرم</th>\n",
       "      <th>genre_قصائد حزينه</th>\n",
       "      <th>genre_قصائد حكمة</th>\n",
       "      <th>genre_قصائد دينية</th>\n",
       "      <th>genre_قصائد ذم</th>\n",
       "      <th>genre_قصائد رثاء</th>\n",
       "      <th>genre_قصائد رحمة</th>\n",
       "      <th>genre_قصائد رومنسيه</th>\n",
       "      <th>genre_قصائد سياسية</th>\n",
       "      <th>genre_قصائد شوق</th>\n",
       "      <th>genre_قصائد صبر</th>\n",
       "      <th>genre_قصائد عامه</th>\n",
       "      <th>genre_قصائد عتاب</th>\n",
       "      <th>genre_قصائد عدل</th>\n",
       "      <th>genre_قصائد غزل</th>\n",
       "      <th>genre_قصائد فراق</th>\n",
       "      <th>genre_قصائد قصيره</th>\n",
       "      <th>genre_قصائد مدح</th>\n",
       "      <th>genre_قصائد نصيحة</th>\n",
       "      <th>genre_قصائد هجاء</th>\n",
       "      <th>genre_قصائد وطنيه</th>\n",
       "      <th>style_عموديه</th>\n",
       "      <th>style_التفعيله</th>\n",
       "      <th>style_نثريه</th>\n",
       "      <th>meter_بحر أحذ الكامل</th>\n",
       "      <th>meter_بحر أحذ الوافر</th>\n",
       "      <th>meter_بحر البسيط</th>\n",
       "      <th>meter_بحر الخفيف</th>\n",
       "      <th>meter_بحر الدوبيت</th>\n",
       "      <th>meter_بحر الرجز</th>\n",
       "      <th>meter_بحر الرمل</th>\n",
       "      <th>meter_بحر السريع</th>\n",
       "      <th>meter_بحر السلسلة</th>\n",
       "      <th>meter_بحر الطويل</th>\n",
       "      <th>meter_بحر القوما</th>\n",
       "      <th>meter_بحر الكامل</th>\n",
       "      <th>meter_بحر المتدارك</th>\n",
       "      <th>meter_بحر المتقارب</th>\n",
       "      <th>meter_بحر المجتث</th>\n",
       "      <th>meter_بحر المديد</th>\n",
       "      <th>meter_بحر المضارع</th>\n",
       "      <th>meter_بحر المقتضب</th>\n",
       "      <th>meter_بحر المنسرح</th>\n",
       "      <th>meter_بحر المواليا</th>\n",
       "      <th>meter_بحر الهزج</th>\n",
       "      <th>meter_بحر الوافر</th>\n",
       "      <th>meter_بحر تفعيلة الكامل</th>\n",
       "      <th>meter_بحر مجزوء البسيط</th>\n",
       "      <th>meter_بحر مجزوء الخفيف</th>\n",
       "      <th>meter_بحر مجزوء الدوبيت</th>\n",
       "      <th>meter_بحر مجزوء الرجز</th>\n",
       "      <th>meter_بحر مجزوء الرمل</th>\n",
       "      <th>meter_بحر مجزوء السريع</th>\n",
       "      <th>meter_بحر مجزوء الطويل</th>\n",
       "      <th>meter_بحر مجزوء الكامل</th>\n",
       "      <th>meter_بحر مجزوء المتدارك</th>\n",
       "      <th>meter_بحر مجزوء المتقارب</th>\n",
       "      <th>meter_بحر مجزوء المجتث</th>\n",
       "      <th>meter_بحر مجزوء المديد</th>\n",
       "      <th>meter_بحر مجزوء المنسرح</th>\n",
       "      <th>meter_بحر مجزوء المواليا</th>\n",
       "      <th>meter_بحر مجزوء الهزج</th>\n",
       "      <th>meter_بحر مجزوء الوافر</th>\n",
       "      <th>meter_بحر مجزوء موشح</th>\n",
       "      <th>meter_بحر مخلع البسيط</th>\n",
       "      <th>meter_بحر مخلع الرجز</th>\n",
       "      <th>meter_بحر مخلع الرمل</th>\n",
       "      <th>meter_بحر مخلع السريع</th>\n",
       "      <th>meter_بحر مخلع الكامل</th>\n",
       "      <th>meter_بحر مخلع موشح</th>\n",
       "      <th>meter_بحر مربع الرجز</th>\n",
       "      <th>meter_بحر مشطور الرجز</th>\n",
       "      <th>meter_بحر مشطور السريع</th>\n",
       "      <th>meter_بحر مشطور الطويل</th>\n",
       "      <th>meter_بحر منهوك البسيط</th>\n",
       "      <th>meter_بحر منهوك الرجز</th>\n",
       "      <th>meter_بحر منهوك الكامل</th>\n",
       "      <th>meter_بحر منهوك المنسرح</th>\n",
       "      <th>meter_بحر موشح</th>\n",
       "      <th>rhyme_قافية  الحاء (ح)</th>\n",
       "      <th>rhyme_قافية (#)</th>\n",
       "      <th>rhyme_قافية (الالف)</th>\n",
       "      <th>rhyme_قافية (الحاء)</th>\n",
       "      <th>rhyme_قافية (الدال)</th>\n",
       "      <th>rhyme_قافية (الراء)</th>\n",
       "      <th>rhyme_قافية (العين)</th>\n",
       "      <th>rhyme_قافية (الفاء)</th>\n",
       "      <th>rhyme_قافية (القاف)</th>\n",
       "      <th>rhyme_قافية (اللام)</th>\n",
       "      <th>rhyme_قافية (الميم)</th>\n",
       "      <th>rhyme_قافية (النون)</th>\n",
       "      <th>rhyme_قافية (الياء)</th>\n",
       "      <th>rhyme_قافية (لا)</th>\n",
       "      <th>rhyme_قافية (لام مكسورة)</th>\n",
       "      <th>rhyme_قافية ألف الهمزة (أ)</th>\n",
       "      <th>rhyme_قافية الألف (إ)</th>\n",
       "      <th>rhyme_قافية الألف (ا)</th>\n",
       "      <th>rhyme_قافية الباء (ب)</th>\n",
       "      <th>rhyme_قافية التاء (ت)</th>\n",
       "      <th>rhyme_قافية التاء المربوطة (ة)</th>\n",
       "      <th>rhyme_قافية الثاء (ث)</th>\n",
       "      <th>rhyme_قافية الجيم (ج)</th>\n",
       "      <th>rhyme_قافية الحاء (ح)</th>\n",
       "      <th>rhyme_قافية الخاء (خ)</th>\n",
       "      <th>rhyme_قافية الدال (د)</th>\n",
       "      <th>rhyme_قافية الذال (ذ)</th>\n",
       "      <th>rhyme_قافية الراء (ر)</th>\n",
       "      <th>rhyme_قافية الزاى (ز)</th>\n",
       "      <th>rhyme_قافية السين (س)</th>\n",
       "      <th>rhyme_قافية الشين (ش)</th>\n",
       "      <th>rhyme_قافية الصاد (ص)</th>\n",
       "      <th>rhyme_قافية الضاد (ض)</th>\n",
       "      <th>rhyme_قافية الطاء (ط)</th>\n",
       "      <th>rhyme_قافية الظاء (ظ)</th>\n",
       "      <th>rhyme_قافية العين (ع)</th>\n",
       "      <th>rhyme_قافية الغين (غ)</th>\n",
       "      <th>rhyme_قافية الفاء (ف)</th>\n",
       "      <th>rhyme_قافية القاف (ق)</th>\n",
       "      <th>rhyme_قافية الكاف (ك)</th>\n",
       "      <th>rhyme_قافية اللام (ل)</th>\n",
       "      <th>rhyme_قافية الميم (م)</th>\n",
       "      <th>rhyme_قافية النون (ن)</th>\n",
       "      <th>rhyme_قافية الهاء (ه)</th>\n",
       "      <th>rhyme_قافية الهمزة (ء)</th>\n",
       "      <th>rhyme_قافية الواو (و)</th>\n",
       "      <th>rhyme_قافية الياء (ى)</th>\n",
       "      <th>rhyme_قافية الياء (ي)</th>\n",
       "      <th>rhyme_قافية واو همزة (ؤ)</th>\n",
       "      <th>rhyme_قافية ياء همزة (ئ)</th>\n",
       "      <th>text_length</th>\n",
       "      <th>text_length_log</th>\n",
       "      <th>bert_input_text</th>\n",
       "    </tr>\n",
       "  </thead>\n",
       "  <tbody>\n",
       "    <tr>\n",
       "      <th>0</th>\n",
       "      <td>لقيط بن يعمر الإيادي</td>\n",
       "      <td>العصر الجاهلي</td>\n",
       "      <td>قصائد هجاء, عموديه, بحر الوافر,  قافية الدال (د)</td>\n",
       "      <td>سلام في الصحيفة من لقيط</td>\n",
       "      <td>سَلامٌ في الصَحيفَةِ مِن لَقيطٍ\\nإِلى مَن بِال...</td>\n",
       "      <td>4</td>\n",
       "      <td>1</td>\n",
       "      <td>0</td>\n",
       "      <td>0</td>\n",
       "      <td>0</td>\n",
       "      <td>0</td>\n",
       "      <td>0</td>\n",
       "      <td>0</td>\n",
       "      <td>0</td>\n",
       "      <td>0</td>\n",
       "      <td>0</td>\n",
       "      <td>0</td>\n",
       "      <td>0</td>\n",
       "      <td>0</td>\n",
       "      <td>0</td>\n",
       "      <td>0</td>\n",
       "      <td>0</td>\n",
       "      <td>0</td>\n",
       "      <td>0</td>\n",
       "      <td>0</td>\n",
       "      <td>0</td>\n",
       "      <td>0</td>\n",
       "      <td>0</td>\n",
       "      <td>0</td>\n",
       "      <td>0</td>\n",
       "      <td>0</td>\n",
       "      <td>1</td>\n",
       "      <td>0</td>\n",
       "      <td>1</td>\n",
       "      <td>0</td>\n",
       "      <td>0</td>\n",
       "      <td>0</td>\n",
       "      <td>0</td>\n",
       "      <td>0</td>\n",
       "      <td>0</td>\n",
       "      <td>0</td>\n",
       "      <td>0</td>\n",
       "      <td>0</td>\n",
       "      <td>0</td>\n",
       "      <td>0</td>\n",
       "      <td>0</td>\n",
       "      <td>0</td>\n",
       "      <td>0</td>\n",
       "      <td>0</td>\n",
       "      <td>0</td>\n",
       "      <td>0</td>\n",
       "      <td>0</td>\n",
       "      <td>0</td>\n",
       "      <td>0</td>\n",
       "      <td>0</td>\n",
       "      <td>0</td>\n",
       "      <td>0</td>\n",
       "      <td>1</td>\n",
       "      <td>0</td>\n",
       "      <td>0</td>\n",
       "      <td>0</td>\n",
       "      <td>0</td>\n",
       "      <td>0</td>\n",
       "      <td>0</td>\n",
       "      <td>0</td>\n",
       "      <td>0</td>\n",
       "      <td>0</td>\n",
       "      <td>0</td>\n",
       "      <td>0</td>\n",
       "      <td>0</td>\n",
       "      <td>0</td>\n",
       "      <td>0</td>\n",
       "      <td>0</td>\n",
       "      <td>0</td>\n",
       "      <td>0</td>\n",
       "      <td>0</td>\n",
       "      <td>0</td>\n",
       "      <td>0</td>\n",
       "      <td>0</td>\n",
       "      <td>0</td>\n",
       "      <td>0</td>\n",
       "      <td>0</td>\n",
       "      <td>0</td>\n",
       "      <td>0</td>\n",
       "      <td>0</td>\n",
       "      <td>0</td>\n",
       "      <td>0</td>\n",
       "      <td>0</td>\n",
       "      <td>0</td>\n",
       "      <td>0</td>\n",
       "      <td>0</td>\n",
       "      <td>0</td>\n",
       "      <td>0</td>\n",
       "      <td>0</td>\n",
       "      <td>0</td>\n",
       "      <td>0</td>\n",
       "      <td>0</td>\n",
       "      <td>0</td>\n",
       "      <td>0</td>\n",
       "      <td>0</td>\n",
       "      <td>0</td>\n",
       "      <td>0</td>\n",
       "      <td>0</td>\n",
       "      <td>0</td>\n",
       "      <td>0</td>\n",
       "      <td>0</td>\n",
       "      <td>0</td>\n",
       "      <td>0</td>\n",
       "      <td>0</td>\n",
       "      <td>0</td>\n",
       "      <td>0</td>\n",
       "      <td>0</td>\n",
       "      <td>0</td>\n",
       "      <td>0</td>\n",
       "      <td>0</td>\n",
       "      <td>0</td>\n",
       "      <td>1</td>\n",
       "      <td>0</td>\n",
       "      <td>0</td>\n",
       "      <td>0</td>\n",
       "      <td>0</td>\n",
       "      <td>0</td>\n",
       "      <td>0</td>\n",
       "      <td>0</td>\n",
       "      <td>0</td>\n",
       "      <td>0</td>\n",
       "      <td>0</td>\n",
       "      <td>0</td>\n",
       "      <td>0</td>\n",
       "      <td>0</td>\n",
       "      <td>0</td>\n",
       "      <td>0</td>\n",
       "      <td>0</td>\n",
       "      <td>0</td>\n",
       "      <td>0</td>\n",
       "      <td>0</td>\n",
       "      <td>0</td>\n",
       "      <td>0</td>\n",
       "      <td>0</td>\n",
       "      <td>0</td>\n",
       "      <td>0</td>\n",
       "      <td>255</td>\n",
       "      <td>5.545177</td>\n",
       "      <td>سَلامٌ في الصَحيفَةِ مِن لَقيطٍ\\nإِلى مَن بِال...</td>\n",
       "    </tr>\n",
       "    <tr>\n",
       "      <th>1</th>\n",
       "      <td>لقيط بن يعمر الإيادي</td>\n",
       "      <td>العصر الجاهلي</td>\n",
       "      <td>قصائد حزينه, عموديه, بحر البسيط,  قافية الألف ...</td>\n",
       "      <td>يا دار عمرة من محتلها الجرعا</td>\n",
       "      <td>يا دارَ عَمرَةَ مِن مُحتَلِّها الجَرَعا\\nهاجَت...</td>\n",
       "      <td>60</td>\n",
       "      <td>0</td>\n",
       "      <td>1</td>\n",
       "      <td>0</td>\n",
       "      <td>0</td>\n",
       "      <td>0</td>\n",
       "      <td>0</td>\n",
       "      <td>0</td>\n",
       "      <td>1</td>\n",
       "      <td>0</td>\n",
       "      <td>0</td>\n",
       "      <td>0</td>\n",
       "      <td>0</td>\n",
       "      <td>0</td>\n",
       "      <td>0</td>\n",
       "      <td>0</td>\n",
       "      <td>0</td>\n",
       "      <td>0</td>\n",
       "      <td>0</td>\n",
       "      <td>0</td>\n",
       "      <td>0</td>\n",
       "      <td>0</td>\n",
       "      <td>0</td>\n",
       "      <td>0</td>\n",
       "      <td>0</td>\n",
       "      <td>0</td>\n",
       "      <td>0</td>\n",
       "      <td>0</td>\n",
       "      <td>1</td>\n",
       "      <td>0</td>\n",
       "      <td>0</td>\n",
       "      <td>0</td>\n",
       "      <td>0</td>\n",
       "      <td>1</td>\n",
       "      <td>0</td>\n",
       "      <td>0</td>\n",
       "      <td>0</td>\n",
       "      <td>0</td>\n",
       "      <td>0</td>\n",
       "      <td>0</td>\n",
       "      <td>0</td>\n",
       "      <td>0</td>\n",
       "      <td>0</td>\n",
       "      <td>0</td>\n",
       "      <td>0</td>\n",
       "      <td>0</td>\n",
       "      <td>0</td>\n",
       "      <td>0</td>\n",
       "      <td>0</td>\n",
       "      <td>0</td>\n",
       "      <td>0</td>\n",
       "      <td>0</td>\n",
       "      <td>0</td>\n",
       "      <td>0</td>\n",
       "      <td>0</td>\n",
       "      <td>0</td>\n",
       "      <td>0</td>\n",
       "      <td>0</td>\n",
       "      <td>0</td>\n",
       "      <td>0</td>\n",
       "      <td>0</td>\n",
       "      <td>0</td>\n",
       "      <td>0</td>\n",
       "      <td>0</td>\n",
       "      <td>0</td>\n",
       "      <td>0</td>\n",
       "      <td>0</td>\n",
       "      <td>0</td>\n",
       "      <td>0</td>\n",
       "      <td>0</td>\n",
       "      <td>0</td>\n",
       "      <td>0</td>\n",
       "      <td>0</td>\n",
       "      <td>0</td>\n",
       "      <td>0</td>\n",
       "      <td>0</td>\n",
       "      <td>0</td>\n",
       "      <td>0</td>\n",
       "      <td>0</td>\n",
       "      <td>0</td>\n",
       "      <td>0</td>\n",
       "      <td>0</td>\n",
       "      <td>0</td>\n",
       "      <td>0</td>\n",
       "      <td>0</td>\n",
       "      <td>0</td>\n",
       "      <td>0</td>\n",
       "      <td>0</td>\n",
       "      <td>0</td>\n",
       "      <td>0</td>\n",
       "      <td>0</td>\n",
       "      <td>0</td>\n",
       "      <td>0</td>\n",
       "      <td>0</td>\n",
       "      <td>0</td>\n",
       "      <td>0</td>\n",
       "      <td>0</td>\n",
       "      <td>0</td>\n",
       "      <td>0</td>\n",
       "      <td>0</td>\n",
       "      <td>0</td>\n",
       "      <td>0</td>\n",
       "      <td>0</td>\n",
       "      <td>1</td>\n",
       "      <td>0</td>\n",
       "      <td>0</td>\n",
       "      <td>0</td>\n",
       "      <td>0</td>\n",
       "      <td>0</td>\n",
       "      <td>0</td>\n",
       "      <td>0</td>\n",
       "      <td>0</td>\n",
       "      <td>0</td>\n",
       "      <td>0</td>\n",
       "      <td>0</td>\n",
       "      <td>0</td>\n",
       "      <td>0</td>\n",
       "      <td>0</td>\n",
       "      <td>0</td>\n",
       "      <td>0</td>\n",
       "      <td>0</td>\n",
       "      <td>0</td>\n",
       "      <td>0</td>\n",
       "      <td>0</td>\n",
       "      <td>0</td>\n",
       "      <td>0</td>\n",
       "      <td>0</td>\n",
       "      <td>0</td>\n",
       "      <td>0</td>\n",
       "      <td>0</td>\n",
       "      <td>0</td>\n",
       "      <td>0</td>\n",
       "      <td>0</td>\n",
       "      <td>0</td>\n",
       "      <td>0</td>\n",
       "      <td>0</td>\n",
       "      <td>4658</td>\n",
       "      <td>8.446556</td>\n",
       "      <td>يا دارَ عَمرَةَ مِن مُحتَلِّها الجَرَعا\\nهاجَت...</td>\n",
       "    </tr>\n",
       "    <tr>\n",
       "      <th>2</th>\n",
       "      <td>لقيط بن يعمر الإيادي</td>\n",
       "      <td>العصر الجاهلي</td>\n",
       "      <td>قصائد قصيره, عموديه, بحر الرجز,  قافية الألف (ا)</td>\n",
       "      <td>وخاننا خوان في ارتباعنا</td>\n",
       "      <td>وَخانَنا خَوّانٌ في اِرتِباعِنا\\nفَاِنفَدَّ لِ...</td>\n",
       "      <td>1</td>\n",
       "      <td>1</td>\n",
       "      <td>0</td>\n",
       "      <td>0</td>\n",
       "      <td>0</td>\n",
       "      <td>0</td>\n",
       "      <td>0</td>\n",
       "      <td>0</td>\n",
       "      <td>0</td>\n",
       "      <td>0</td>\n",
       "      <td>0</td>\n",
       "      <td>0</td>\n",
       "      <td>0</td>\n",
       "      <td>0</td>\n",
       "      <td>0</td>\n",
       "      <td>0</td>\n",
       "      <td>0</td>\n",
       "      <td>0</td>\n",
       "      <td>0</td>\n",
       "      <td>0</td>\n",
       "      <td>0</td>\n",
       "      <td>0</td>\n",
       "      <td>0</td>\n",
       "      <td>1</td>\n",
       "      <td>0</td>\n",
       "      <td>0</td>\n",
       "      <td>0</td>\n",
       "      <td>0</td>\n",
       "      <td>1</td>\n",
       "      <td>0</td>\n",
       "      <td>0</td>\n",
       "      <td>0</td>\n",
       "      <td>0</td>\n",
       "      <td>0</td>\n",
       "      <td>0</td>\n",
       "      <td>0</td>\n",
       "      <td>1</td>\n",
       "      <td>0</td>\n",
       "      <td>0</td>\n",
       "      <td>0</td>\n",
       "      <td>0</td>\n",
       "      <td>0</td>\n",
       "      <td>0</td>\n",
       "      <td>0</td>\n",
       "      <td>0</td>\n",
       "      <td>0</td>\n",
       "      <td>0</td>\n",
       "      <td>0</td>\n",
       "      <td>0</td>\n",
       "      <td>0</td>\n",
       "      <td>0</td>\n",
       "      <td>0</td>\n",
       "      <td>0</td>\n",
       "      <td>0</td>\n",
       "      <td>0</td>\n",
       "      <td>0</td>\n",
       "      <td>0</td>\n",
       "      <td>0</td>\n",
       "      <td>0</td>\n",
       "      <td>0</td>\n",
       "      <td>0</td>\n",
       "      <td>0</td>\n",
       "      <td>0</td>\n",
       "      <td>0</td>\n",
       "      <td>0</td>\n",
       "      <td>0</td>\n",
       "      <td>0</td>\n",
       "      <td>0</td>\n",
       "      <td>0</td>\n",
       "      <td>0</td>\n",
       "      <td>0</td>\n",
       "      <td>0</td>\n",
       "      <td>0</td>\n",
       "      <td>0</td>\n",
       "      <td>0</td>\n",
       "      <td>0</td>\n",
       "      <td>0</td>\n",
       "      <td>0</td>\n",
       "      <td>0</td>\n",
       "      <td>0</td>\n",
       "      <td>0</td>\n",
       "      <td>0</td>\n",
       "      <td>0</td>\n",
       "      <td>0</td>\n",
       "      <td>0</td>\n",
       "      <td>0</td>\n",
       "      <td>0</td>\n",
       "      <td>0</td>\n",
       "      <td>0</td>\n",
       "      <td>0</td>\n",
       "      <td>0</td>\n",
       "      <td>0</td>\n",
       "      <td>0</td>\n",
       "      <td>0</td>\n",
       "      <td>0</td>\n",
       "      <td>0</td>\n",
       "      <td>0</td>\n",
       "      <td>0</td>\n",
       "      <td>0</td>\n",
       "      <td>0</td>\n",
       "      <td>0</td>\n",
       "      <td>0</td>\n",
       "      <td>0</td>\n",
       "      <td>1</td>\n",
       "      <td>0</td>\n",
       "      <td>0</td>\n",
       "      <td>0</td>\n",
       "      <td>0</td>\n",
       "      <td>0</td>\n",
       "      <td>0</td>\n",
       "      <td>0</td>\n",
       "      <td>0</td>\n",
       "      <td>0</td>\n",
       "      <td>0</td>\n",
       "      <td>0</td>\n",
       "      <td>0</td>\n",
       "      <td>0</td>\n",
       "      <td>0</td>\n",
       "      <td>0</td>\n",
       "      <td>0</td>\n",
       "      <td>0</td>\n",
       "      <td>0</td>\n",
       "      <td>0</td>\n",
       "      <td>0</td>\n",
       "      <td>0</td>\n",
       "      <td>0</td>\n",
       "      <td>0</td>\n",
       "      <td>0</td>\n",
       "      <td>0</td>\n",
       "      <td>0</td>\n",
       "      <td>0</td>\n",
       "      <td>0</td>\n",
       "      <td>0</td>\n",
       "      <td>0</td>\n",
       "      <td>0</td>\n",
       "      <td>0</td>\n",
       "      <td>66</td>\n",
       "      <td>4.204693</td>\n",
       "      <td>وَخانَنا خَوّانٌ في اِرتِباعِنا\\nفَاِنفَدَّ لِ...</td>\n",
       "    </tr>\n",
       "    <tr>\n",
       "      <th>3</th>\n",
       "      <td>زبان بن سيار الفزاري</td>\n",
       "      <td>العصر الجاهلي</td>\n",
       "      <td>قصائد قصيره, عموديه, بحر الطويل,  قافية الألف ...</td>\n",
       "      <td>تنح إليكم يا ابن كوز فإننا</td>\n",
       "      <td>تَنَحَّ إِلَيكُم يا اِبنَ كوزٍ فَإِنَّنا\\nوَإِ...</td>\n",
       "      <td>1</td>\n",
       "      <td>1</td>\n",
       "      <td>0</td>\n",
       "      <td>0</td>\n",
       "      <td>0</td>\n",
       "      <td>0</td>\n",
       "      <td>0</td>\n",
       "      <td>0</td>\n",
       "      <td>0</td>\n",
       "      <td>0</td>\n",
       "      <td>0</td>\n",
       "      <td>0</td>\n",
       "      <td>0</td>\n",
       "      <td>0</td>\n",
       "      <td>0</td>\n",
       "      <td>0</td>\n",
       "      <td>0</td>\n",
       "      <td>0</td>\n",
       "      <td>0</td>\n",
       "      <td>0</td>\n",
       "      <td>0</td>\n",
       "      <td>0</td>\n",
       "      <td>0</td>\n",
       "      <td>1</td>\n",
       "      <td>0</td>\n",
       "      <td>0</td>\n",
       "      <td>0</td>\n",
       "      <td>0</td>\n",
       "      <td>1</td>\n",
       "      <td>0</td>\n",
       "      <td>0</td>\n",
       "      <td>0</td>\n",
       "      <td>0</td>\n",
       "      <td>0</td>\n",
       "      <td>0</td>\n",
       "      <td>0</td>\n",
       "      <td>0</td>\n",
       "      <td>0</td>\n",
       "      <td>0</td>\n",
       "      <td>0</td>\n",
       "      <td>1</td>\n",
       "      <td>0</td>\n",
       "      <td>0</td>\n",
       "      <td>0</td>\n",
       "      <td>0</td>\n",
       "      <td>0</td>\n",
       "      <td>0</td>\n",
       "      <td>0</td>\n",
       "      <td>0</td>\n",
       "      <td>0</td>\n",
       "      <td>0</td>\n",
       "      <td>0</td>\n",
       "      <td>0</td>\n",
       "      <td>0</td>\n",
       "      <td>0</td>\n",
       "      <td>0</td>\n",
       "      <td>0</td>\n",
       "      <td>0</td>\n",
       "      <td>0</td>\n",
       "      <td>0</td>\n",
       "      <td>0</td>\n",
       "      <td>0</td>\n",
       "      <td>0</td>\n",
       "      <td>0</td>\n",
       "      <td>0</td>\n",
       "      <td>0</td>\n",
       "      <td>0</td>\n",
       "      <td>0</td>\n",
       "      <td>0</td>\n",
       "      <td>0</td>\n",
       "      <td>0</td>\n",
       "      <td>0</td>\n",
       "      <td>0</td>\n",
       "      <td>0</td>\n",
       "      <td>0</td>\n",
       "      <td>0</td>\n",
       "      <td>0</td>\n",
       "      <td>0</td>\n",
       "      <td>0</td>\n",
       "      <td>0</td>\n",
       "      <td>0</td>\n",
       "      <td>0</td>\n",
       "      <td>0</td>\n",
       "      <td>0</td>\n",
       "      <td>0</td>\n",
       "      <td>0</td>\n",
       "      <td>0</td>\n",
       "      <td>0</td>\n",
       "      <td>0</td>\n",
       "      <td>0</td>\n",
       "      <td>0</td>\n",
       "      <td>0</td>\n",
       "      <td>0</td>\n",
       "      <td>0</td>\n",
       "      <td>0</td>\n",
       "      <td>0</td>\n",
       "      <td>0</td>\n",
       "      <td>0</td>\n",
       "      <td>0</td>\n",
       "      <td>0</td>\n",
       "      <td>0</td>\n",
       "      <td>0</td>\n",
       "      <td>0</td>\n",
       "      <td>1</td>\n",
       "      <td>0</td>\n",
       "      <td>0</td>\n",
       "      <td>0</td>\n",
       "      <td>0</td>\n",
       "      <td>0</td>\n",
       "      <td>0</td>\n",
       "      <td>0</td>\n",
       "      <td>0</td>\n",
       "      <td>0</td>\n",
       "      <td>0</td>\n",
       "      <td>0</td>\n",
       "      <td>0</td>\n",
       "      <td>0</td>\n",
       "      <td>0</td>\n",
       "      <td>0</td>\n",
       "      <td>0</td>\n",
       "      <td>0</td>\n",
       "      <td>0</td>\n",
       "      <td>0</td>\n",
       "      <td>0</td>\n",
       "      <td>0</td>\n",
       "      <td>0</td>\n",
       "      <td>0</td>\n",
       "      <td>0</td>\n",
       "      <td>0</td>\n",
       "      <td>0</td>\n",
       "      <td>0</td>\n",
       "      <td>0</td>\n",
       "      <td>0</td>\n",
       "      <td>0</td>\n",
       "      <td>0</td>\n",
       "      <td>0</td>\n",
       "      <td>78</td>\n",
       "      <td>4.369448</td>\n",
       "      <td>تَنَحَّ إِلَيكُم يا اِبنَ كوزٍ فَإِنَّنا\\nوَإِ...</td>\n",
       "    </tr>\n",
       "    <tr>\n",
       "      <th>4</th>\n",
       "      <td>زبان بن سيار الفزاري</td>\n",
       "      <td>العصر الجاهلي</td>\n",
       "      <td>قصائد قصيره, عموديه, بحر الطويل,  قافية الباء ...</td>\n",
       "      <td>تطارحه الأنساب حتى رددنه</td>\n",
       "      <td>تُطارِحُهُ الأَنسابُ حَتّى رَدَدنَهُ\\nإِلى نَس...</td>\n",
       "      <td>1</td>\n",
       "      <td>1</td>\n",
       "      <td>0</td>\n",
       "      <td>0</td>\n",
       "      <td>0</td>\n",
       "      <td>0</td>\n",
       "      <td>0</td>\n",
       "      <td>0</td>\n",
       "      <td>0</td>\n",
       "      <td>0</td>\n",
       "      <td>0</td>\n",
       "      <td>0</td>\n",
       "      <td>0</td>\n",
       "      <td>0</td>\n",
       "      <td>0</td>\n",
       "      <td>0</td>\n",
       "      <td>0</td>\n",
       "      <td>0</td>\n",
       "      <td>0</td>\n",
       "      <td>0</td>\n",
       "      <td>0</td>\n",
       "      <td>0</td>\n",
       "      <td>0</td>\n",
       "      <td>1</td>\n",
       "      <td>0</td>\n",
       "      <td>0</td>\n",
       "      <td>0</td>\n",
       "      <td>0</td>\n",
       "      <td>1</td>\n",
       "      <td>0</td>\n",
       "      <td>0</td>\n",
       "      <td>0</td>\n",
       "      <td>0</td>\n",
       "      <td>0</td>\n",
       "      <td>0</td>\n",
       "      <td>0</td>\n",
       "      <td>0</td>\n",
       "      <td>0</td>\n",
       "      <td>0</td>\n",
       "      <td>0</td>\n",
       "      <td>1</td>\n",
       "      <td>0</td>\n",
       "      <td>0</td>\n",
       "      <td>0</td>\n",
       "      <td>0</td>\n",
       "      <td>0</td>\n",
       "      <td>0</td>\n",
       "      <td>0</td>\n",
       "      <td>0</td>\n",
       "      <td>0</td>\n",
       "      <td>0</td>\n",
       "      <td>0</td>\n",
       "      <td>0</td>\n",
       "      <td>0</td>\n",
       "      <td>0</td>\n",
       "      <td>0</td>\n",
       "      <td>0</td>\n",
       "      <td>0</td>\n",
       "      <td>0</td>\n",
       "      <td>0</td>\n",
       "      <td>0</td>\n",
       "      <td>0</td>\n",
       "      <td>0</td>\n",
       "      <td>0</td>\n",
       "      <td>0</td>\n",
       "      <td>0</td>\n",
       "      <td>0</td>\n",
       "      <td>0</td>\n",
       "      <td>0</td>\n",
       "      <td>0</td>\n",
       "      <td>0</td>\n",
       "      <td>0</td>\n",
       "      <td>0</td>\n",
       "      <td>0</td>\n",
       "      <td>0</td>\n",
       "      <td>0</td>\n",
       "      <td>0</td>\n",
       "      <td>0</td>\n",
       "      <td>0</td>\n",
       "      <td>0</td>\n",
       "      <td>0</td>\n",
       "      <td>0</td>\n",
       "      <td>0</td>\n",
       "      <td>0</td>\n",
       "      <td>0</td>\n",
       "      <td>0</td>\n",
       "      <td>0</td>\n",
       "      <td>0</td>\n",
       "      <td>0</td>\n",
       "      <td>0</td>\n",
       "      <td>0</td>\n",
       "      <td>0</td>\n",
       "      <td>0</td>\n",
       "      <td>0</td>\n",
       "      <td>0</td>\n",
       "      <td>0</td>\n",
       "      <td>0</td>\n",
       "      <td>0</td>\n",
       "      <td>0</td>\n",
       "      <td>0</td>\n",
       "      <td>0</td>\n",
       "      <td>0</td>\n",
       "      <td>0</td>\n",
       "      <td>0</td>\n",
       "      <td>1</td>\n",
       "      <td>0</td>\n",
       "      <td>0</td>\n",
       "      <td>0</td>\n",
       "      <td>0</td>\n",
       "      <td>0</td>\n",
       "      <td>0</td>\n",
       "      <td>0</td>\n",
       "      <td>0</td>\n",
       "      <td>0</td>\n",
       "      <td>0</td>\n",
       "      <td>0</td>\n",
       "      <td>0</td>\n",
       "      <td>0</td>\n",
       "      <td>0</td>\n",
       "      <td>0</td>\n",
       "      <td>0</td>\n",
       "      <td>0</td>\n",
       "      <td>0</td>\n",
       "      <td>0</td>\n",
       "      <td>0</td>\n",
       "      <td>0</td>\n",
       "      <td>0</td>\n",
       "      <td>0</td>\n",
       "      <td>0</td>\n",
       "      <td>0</td>\n",
       "      <td>0</td>\n",
       "      <td>0</td>\n",
       "      <td>0</td>\n",
       "      <td>0</td>\n",
       "      <td>0</td>\n",
       "      <td>0</td>\n",
       "      <td>73</td>\n",
       "      <td>4.304065</td>\n",
       "      <td>تُطارِحُهُ الأَنسابُ حَتّى رَدَدنَهُ\\nإِلى نَس...</td>\n",
       "    </tr>\n",
       "  </tbody>\n",
       "</table>\n",
       "</div>"
      ],
      "text/plain": [
       "              poet_name       poet_era  \\\n",
       "0  لقيط بن يعمر الإيادي  العصر الجاهلي   \n",
       "1  لقيط بن يعمر الإيادي  العصر الجاهلي   \n",
       "2  لقيط بن يعمر الإيادي  العصر الجاهلي   \n",
       "3  زبان بن سيار الفزاري  العصر الجاهلي   \n",
       "4  زبان بن سيار الفزاري  العصر الجاهلي   \n",
       "\n",
       "                                           poem_tags  \\\n",
       "0  قصائد هجاء, عموديه, بحر الوافر,  قافية الدال (د)    \n",
       "1  قصائد حزينه, عموديه, بحر البسيط,  قافية الألف ...   \n",
       "2  قصائد قصيره, عموديه, بحر الرجز,  قافية الألف (ا)    \n",
       "3  قصائد قصيره, عموديه, بحر الطويل,  قافية الألف ...   \n",
       "4  قصائد قصيره, عموديه, بحر الطويل,  قافية الباء ...   \n",
       "\n",
       "                     poem_title  \\\n",
       "0       سلام في الصحيفة من لقيط   \n",
       "1  يا دار عمرة من محتلها الجرعا   \n",
       "2       وخاننا خوان في ارتباعنا   \n",
       "3    تنح إليكم يا ابن كوز فإننا   \n",
       "4      تطارحه الأنساب حتى رددنه   \n",
       "\n",
       "                                           poem_text  poem_count  \\\n",
       "0  سَلامٌ في الصَحيفَةِ مِن لَقيطٍ\\nإِلى مَن بِال...           4   \n",
       "1  يا دارَ عَمرَةَ مِن مُحتَلِّها الجَرَعا\\nهاجَت...          60   \n",
       "2  وَخانَنا خَوّانٌ في اِرتِباعِنا\\nفَاِنفَدَّ لِ...           1   \n",
       "3  تَنَحَّ إِلَيكُم يا اِبنَ كوزٍ فَإِنَّنا\\nوَإِ...           1   \n",
       "4  تُطارِحُهُ الأَنسابُ حَتّى رَدَدنَهُ\\nإِلى نَس...           1   \n",
       "\n",
       "   is_short_poem  is_long_poem  genre_قصائد ابتهال  genre_قصائد اعتذار  \\\n",
       "0              1             0                   0                   0   \n",
       "1              0             1                   0                   0   \n",
       "2              1             0                   0                   0   \n",
       "3              1             0                   0                   0   \n",
       "4              1             0                   0                   0   \n",
       "\n",
       "   genre_قصائد الاناشيد  genre_قصائد المعلقات  genre_قصائد جود وكرم  \\\n",
       "0                     0                     0                     0   \n",
       "1                     0                     0                     0   \n",
       "2                     0                     0                     0   \n",
       "3                     0                     0                     0   \n",
       "4                     0                     0                     0   \n",
       "\n",
       "   genre_قصائد حزينه  genre_قصائد حكمة  genre_قصائد دينية  genre_قصائد ذم  \\\n",
       "0                  0                 0                  0               0   \n",
       "1                  1                 0                  0               0   \n",
       "2                  0                 0                  0               0   \n",
       "3                  0                 0                  0               0   \n",
       "4                  0                 0                  0               0   \n",
       "\n",
       "   genre_قصائد رثاء  genre_قصائد رحمة  genre_قصائد رومنسيه  \\\n",
       "0                 0                 0                    0   \n",
       "1                 0                 0                    0   \n",
       "2                 0                 0                    0   \n",
       "3                 0                 0                    0   \n",
       "4                 0                 0                    0   \n",
       "\n",
       "   genre_قصائد سياسية  genre_قصائد شوق  genre_قصائد صبر  genre_قصائد عامه  \\\n",
       "0                   0                0                0                 0   \n",
       "1                   0                0                0                 0   \n",
       "2                   0                0                0                 0   \n",
       "3                   0                0                0                 0   \n",
       "4                   0                0                0                 0   \n",
       "\n",
       "   genre_قصائد عتاب  genre_قصائد عدل  genre_قصائد غزل  genre_قصائد فراق  \\\n",
       "0                 0                0                0                 0   \n",
       "1                 0                0                0                 0   \n",
       "2                 0                0                0                 0   \n",
       "3                 0                0                0                 0   \n",
       "4                 0                0                0                 0   \n",
       "\n",
       "   genre_قصائد قصيره  genre_قصائد مدح  genre_قصائد نصيحة  genre_قصائد هجاء  \\\n",
       "0                  0                0                  0                 1   \n",
       "1                  0                0                  0                 0   \n",
       "2                  1                0                  0                 0   \n",
       "3                  1                0                  0                 0   \n",
       "4                  1                0                  0                 0   \n",
       "\n",
       "   genre_قصائد وطنيه  style_عموديه  style_التفعيله  style_نثريه  \\\n",
       "0                  0             1               0            0   \n",
       "1                  0             1               0            0   \n",
       "2                  0             1               0            0   \n",
       "3                  0             1               0            0   \n",
       "4                  0             1               0            0   \n",
       "\n",
       "   meter_بحر أحذ الكامل  meter_بحر أحذ الوافر  meter_بحر البسيط  \\\n",
       "0                     0                     0                 0   \n",
       "1                     0                     0                 1   \n",
       "2                     0                     0                 0   \n",
       "3                     0                     0                 0   \n",
       "4                     0                     0                 0   \n",
       "\n",
       "   meter_بحر الخفيف  meter_بحر الدوبيت  meter_بحر الرجز  meter_بحر الرمل  \\\n",
       "0                 0                  0                0                0   \n",
       "1                 0                  0                0                0   \n",
       "2                 0                  0                1                0   \n",
       "3                 0                  0                0                0   \n",
       "4                 0                  0                0                0   \n",
       "\n",
       "   meter_بحر السريع  meter_بحر السلسلة  meter_بحر الطويل  meter_بحر القوما  \\\n",
       "0                 0                  0                 0                 0   \n",
       "1                 0                  0                 0                 0   \n",
       "2                 0                  0                 0                 0   \n",
       "3                 0                  0                 1                 0   \n",
       "4                 0                  0                 1                 0   \n",
       "\n",
       "   meter_بحر الكامل  meter_بحر المتدارك  meter_بحر المتقارب  meter_بحر المجتث  \\\n",
       "0                 0                   0                   0                 0   \n",
       "1                 0                   0                   0                 0   \n",
       "2                 0                   0                   0                 0   \n",
       "3                 0                   0                   0                 0   \n",
       "4                 0                   0                   0                 0   \n",
       "\n",
       "   meter_بحر المديد  meter_بحر المضارع  meter_بحر المقتضب  meter_بحر المنسرح  \\\n",
       "0                 0                  0                  0                  0   \n",
       "1                 0                  0                  0                  0   \n",
       "2                 0                  0                  0                  0   \n",
       "3                 0                  0                  0                  0   \n",
       "4                 0                  0                  0                  0   \n",
       "\n",
       "   meter_بحر المواليا  meter_بحر الهزج  meter_بحر الوافر  \\\n",
       "0                   0                0                 1   \n",
       "1                   0                0                 0   \n",
       "2                   0                0                 0   \n",
       "3                   0                0                 0   \n",
       "4                   0                0                 0   \n",
       "\n",
       "   meter_بحر تفعيلة الكامل  meter_بحر مجزوء البسيط  meter_بحر مجزوء الخفيف  \\\n",
       "0                        0                       0                       0   \n",
       "1                        0                       0                       0   \n",
       "2                        0                       0                       0   \n",
       "3                        0                       0                       0   \n",
       "4                        0                       0                       0   \n",
       "\n",
       "   meter_بحر مجزوء الدوبيت  meter_بحر مجزوء الرجز  meter_بحر مجزوء الرمل  \\\n",
       "0                        0                      0                      0   \n",
       "1                        0                      0                      0   \n",
       "2                        0                      0                      0   \n",
       "3                        0                      0                      0   \n",
       "4                        0                      0                      0   \n",
       "\n",
       "   meter_بحر مجزوء السريع  meter_بحر مجزوء الطويل  meter_بحر مجزوء الكامل  \\\n",
       "0                       0                       0                       0   \n",
       "1                       0                       0                       0   \n",
       "2                       0                       0                       0   \n",
       "3                       0                       0                       0   \n",
       "4                       0                       0                       0   \n",
       "\n",
       "   meter_بحر مجزوء المتدارك  meter_بحر مجزوء المتقارب  meter_بحر مجزوء المجتث  \\\n",
       "0                         0                         0                       0   \n",
       "1                         0                         0                       0   \n",
       "2                         0                         0                       0   \n",
       "3                         0                         0                       0   \n",
       "4                         0                         0                       0   \n",
       "\n",
       "   meter_بحر مجزوء المديد  meter_بحر مجزوء المنسرح  meter_بحر مجزوء المواليا  \\\n",
       "0                       0                        0                         0   \n",
       "1                       0                        0                         0   \n",
       "2                       0                        0                         0   \n",
       "3                       0                        0                         0   \n",
       "4                       0                        0                         0   \n",
       "\n",
       "   meter_بحر مجزوء الهزج  meter_بحر مجزوء الوافر  meter_بحر مجزوء موشح  \\\n",
       "0                      0                       0                     0   \n",
       "1                      0                       0                     0   \n",
       "2                      0                       0                     0   \n",
       "3                      0                       0                     0   \n",
       "4                      0                       0                     0   \n",
       "\n",
       "   meter_بحر مخلع البسيط  meter_بحر مخلع الرجز  meter_بحر مخلع الرمل  \\\n",
       "0                      0                     0                     0   \n",
       "1                      0                     0                     0   \n",
       "2                      0                     0                     0   \n",
       "3                      0                     0                     0   \n",
       "4                      0                     0                     0   \n",
       "\n",
       "   meter_بحر مخلع السريع  meter_بحر مخلع الكامل  meter_بحر مخلع موشح  \\\n",
       "0                      0                      0                    0   \n",
       "1                      0                      0                    0   \n",
       "2                      0                      0                    0   \n",
       "3                      0                      0                    0   \n",
       "4                      0                      0                    0   \n",
       "\n",
       "   meter_بحر مربع الرجز  meter_بحر مشطور الرجز  meter_بحر مشطور السريع  \\\n",
       "0                     0                      0                       0   \n",
       "1                     0                      0                       0   \n",
       "2                     0                      0                       0   \n",
       "3                     0                      0                       0   \n",
       "4                     0                      0                       0   \n",
       "\n",
       "   meter_بحر مشطور الطويل  meter_بحر منهوك البسيط  meter_بحر منهوك الرجز  \\\n",
       "0                       0                       0                      0   \n",
       "1                       0                       0                      0   \n",
       "2                       0                       0                      0   \n",
       "3                       0                       0                      0   \n",
       "4                       0                       0                      0   \n",
       "\n",
       "   meter_بحر منهوك الكامل  meter_بحر منهوك المنسرح  meter_بحر موشح  \\\n",
       "0                       0                        0               0   \n",
       "1                       0                        0               0   \n",
       "2                       0                        0               0   \n",
       "3                       0                        0               0   \n",
       "4                       0                        0               0   \n",
       "\n",
       "   rhyme_قافية  الحاء (ح)  rhyme_قافية (#)  rhyme_قافية (الالف)  \\\n",
       "0                       0                0                    0   \n",
       "1                       0                0                    0   \n",
       "2                       0                0                    0   \n",
       "3                       0                0                    0   \n",
       "4                       0                0                    0   \n",
       "\n",
       "   rhyme_قافية (الحاء)  rhyme_قافية (الدال)  rhyme_قافية (الراء)  \\\n",
       "0                    0                    0                    0   \n",
       "1                    0                    0                    0   \n",
       "2                    0                    0                    0   \n",
       "3                    0                    0                    0   \n",
       "4                    0                    0                    0   \n",
       "\n",
       "   rhyme_قافية (العين)  rhyme_قافية (الفاء)  rhyme_قافية (القاف)  \\\n",
       "0                    0                    0                    0   \n",
       "1                    0                    0                    0   \n",
       "2                    0                    0                    0   \n",
       "3                    0                    0                    0   \n",
       "4                    0                    0                    0   \n",
       "\n",
       "   rhyme_قافية (اللام)  rhyme_قافية (الميم)  rhyme_قافية (النون)  \\\n",
       "0                    0                    0                    0   \n",
       "1                    0                    0                    0   \n",
       "2                    0                    0                    0   \n",
       "3                    0                    0                    0   \n",
       "4                    0                    0                    0   \n",
       "\n",
       "   rhyme_قافية (الياء)  rhyme_قافية (لا)  rhyme_قافية (لام مكسورة)  \\\n",
       "0                    0                 0                         0   \n",
       "1                    0                 0                         0   \n",
       "2                    0                 0                         0   \n",
       "3                    0                 0                         0   \n",
       "4                    0                 0                         0   \n",
       "\n",
       "   rhyme_قافية ألف الهمزة (أ)  rhyme_قافية الألف (إ)  rhyme_قافية الألف (ا)  \\\n",
       "0                           0                      0                      0   \n",
       "1                           0                      0                      1   \n",
       "2                           0                      0                      1   \n",
       "3                           0                      0                      1   \n",
       "4                           0                      0                      0   \n",
       "\n",
       "   rhyme_قافية الباء (ب)  rhyme_قافية التاء (ت)  \\\n",
       "0                      0                      0   \n",
       "1                      0                      0   \n",
       "2                      0                      0   \n",
       "3                      0                      0   \n",
       "4                      1                      0   \n",
       "\n",
       "   rhyme_قافية التاء المربوطة (ة)  rhyme_قافية الثاء (ث)  \\\n",
       "0                               0                      0   \n",
       "1                               0                      0   \n",
       "2                               0                      0   \n",
       "3                               0                      0   \n",
       "4                               0                      0   \n",
       "\n",
       "   rhyme_قافية الجيم (ج)  rhyme_قافية الحاء (ح)  rhyme_قافية الخاء (خ)  \\\n",
       "0                      0                      0                      0   \n",
       "1                      0                      0                      0   \n",
       "2                      0                      0                      0   \n",
       "3                      0                      0                      0   \n",
       "4                      0                      0                      0   \n",
       "\n",
       "   rhyme_قافية الدال (د)  rhyme_قافية الذال (ذ)  rhyme_قافية الراء (ر)  \\\n",
       "0                      1                      0                      0   \n",
       "1                      0                      0                      0   \n",
       "2                      0                      0                      0   \n",
       "3                      0                      0                      0   \n",
       "4                      0                      0                      0   \n",
       "\n",
       "   rhyme_قافية الزاى (ز)  rhyme_قافية السين (س)  rhyme_قافية الشين (ش)  \\\n",
       "0                      0                      0                      0   \n",
       "1                      0                      0                      0   \n",
       "2                      0                      0                      0   \n",
       "3                      0                      0                      0   \n",
       "4                      0                      0                      0   \n",
       "\n",
       "   rhyme_قافية الصاد (ص)  rhyme_قافية الضاد (ض)  rhyme_قافية الطاء (ط)  \\\n",
       "0                      0                      0                      0   \n",
       "1                      0                      0                      0   \n",
       "2                      0                      0                      0   \n",
       "3                      0                      0                      0   \n",
       "4                      0                      0                      0   \n",
       "\n",
       "   rhyme_قافية الظاء (ظ)  rhyme_قافية العين (ع)  rhyme_قافية الغين (غ)  \\\n",
       "0                      0                      0                      0   \n",
       "1                      0                      0                      0   \n",
       "2                      0                      0                      0   \n",
       "3                      0                      0                      0   \n",
       "4                      0                      0                      0   \n",
       "\n",
       "   rhyme_قافية الفاء (ف)  rhyme_قافية القاف (ق)  rhyme_قافية الكاف (ك)  \\\n",
       "0                      0                      0                      0   \n",
       "1                      0                      0                      0   \n",
       "2                      0                      0                      0   \n",
       "3                      0                      0                      0   \n",
       "4                      0                      0                      0   \n",
       "\n",
       "   rhyme_قافية اللام (ل)  rhyme_قافية الميم (م)  rhyme_قافية النون (ن)  \\\n",
       "0                      0                      0                      0   \n",
       "1                      0                      0                      0   \n",
       "2                      0                      0                      0   \n",
       "3                      0                      0                      0   \n",
       "4                      0                      0                      0   \n",
       "\n",
       "   rhyme_قافية الهاء (ه)  rhyme_قافية الهمزة (ء)  rhyme_قافية الواو (و)  \\\n",
       "0                      0                       0                      0   \n",
       "1                      0                       0                      0   \n",
       "2                      0                       0                      0   \n",
       "3                      0                       0                      0   \n",
       "4                      0                       0                      0   \n",
       "\n",
       "   rhyme_قافية الياء (ى)  rhyme_قافية الياء (ي)  rhyme_قافية واو همزة (ؤ)  \\\n",
       "0                      0                      0                         0   \n",
       "1                      0                      0                         0   \n",
       "2                      0                      0                         0   \n",
       "3                      0                      0                         0   \n",
       "4                      0                      0                         0   \n",
       "\n",
       "   rhyme_قافية ياء همزة (ئ)  text_length  text_length_log  \\\n",
       "0                         0          255         5.545177   \n",
       "1                         0         4658         8.446556   \n",
       "2                         0           66         4.204693   \n",
       "3                         0           78         4.369448   \n",
       "4                         0           73         4.304065   \n",
       "\n",
       "                                     bert_input_text  \n",
       "0  سَلامٌ في الصَحيفَةِ مِن لَقيطٍ\\nإِلى مَن بِال...  \n",
       "1  يا دارَ عَمرَةَ مِن مُحتَلِّها الجَرَعا\\nهاجَت...  \n",
       "2  وَخانَنا خَوّانٌ في اِرتِباعِنا\\nفَاِنفَدَّ لِ...  \n",
       "3  تَنَحَّ إِلَيكُم يا اِبنَ كوزٍ فَإِنَّنا\\nوَإِ...  \n",
       "4  تُطارِحُهُ الأَنسابُ حَتّى رَدَدنَهُ\\nإِلى نَس...  "
      ]
     },
     "execution_count": 102,
     "metadata": {},
     "output_type": "execute_result"
    }
   ],
   "source": [
    "pd.set_option('display.max_columns', None) \n",
    "df_features.head()\n"
   ]
  },
  {
   "cell_type": "code",
   "execution_count": null,
   "id": "c42f40da",
   "metadata": {},
   "outputs": [
    {
     "name": "stdout",
     "output_type": "stream",
     "text": [
      "Using device: cuda\n"
     ]
    }
   ],
   "source": [
    "import pandas as pd\n",
    "import numpy as np\n",
    "import torch\n",
    "from transformers import AutoTokenizer, AutoModelForSequenceClassification, Trainer, TrainingArguments\n",
    "from sklearn.model_selection import train_test_split\n",
    "from sklearn.preprocessing import LabelEncoder\n",
    "from sklearn.metrics import classification_report, confusion_matrix, accuracy_score, f1_score\n",
    "from sklearn.utils.class_weight import compute_class_weight\n",
    "import warnings\n",
    "warnings.filterwarnings('ignore')\n",
    "\n",
    "device = torch.device('cuda' if torch.cuda.is_available() else 'cpu')\n",
    "print(f\"Using device: {device}\")"
   ]
  },
  {
   "cell_type": "code",
   "execution_count": null,
   "id": "abfb3b76",
   "metadata": {},
   "outputs": [
    {
     "name": "stdout",
     "output_type": "stream",
     "text": [
      "Classes: ['العصر الأندلسي' 'العصر الاسلامي' 'العصر الاموي' 'العصر الايوبي'\n",
      " 'العصر الجاهلي' 'العصر العباسي' 'العصر العثماني' 'العصر المملوكي'\n",
      " 'المخضرمون']\n",
      "Number of classes: 9\n",
      "Class weights: {0: 1.364239384083935, 1: 24.479393339927466, 2: 1.1319368215636054, 3: 1.0201008477254303, 4: 3.514936325332576, 5: 0.31204582802721775, 6: 1.1068771710124186, 7: 0.636049001970359, 8: 2.515108401084011}\n"
     ]
    }
   ],
   "source": [
    "label_encoder = LabelEncoder()\n",
    "df_features['era_encoded'] = label_encoder.fit_transform(df_features['poet_era'])\n",
    "\n",
    "class_names = label_encoder.classes_\n",
    "n_classes = len(class_names)\n",
    "print(f\"Classes: {class_names}\")\n",
    "print(f\"Number of classes: {n_classes}\")\n",
    "\n",
    "class_weights = compute_class_weight(\n",
    "    'balanced',\n",
    "    classes=np.unique(df_features['era_encoded']),\n",
    "    y=df_features['era_encoded']\n",
    ")\n",
    "class_weights_dict = dict(zip(np.unique(df_features['era_encoded']), class_weights))\n",
    "print(f\"Class weights: {class_weights_dict}\")"
   ]
  },
  {
   "cell_type": "code",
   "execution_count": 106,
   "id": "8b423ab3",
   "metadata": {},
   "outputs": [
    {
     "data": {
      "text/plain": [
       "(74246, 145)"
      ]
     },
     "execution_count": 106,
     "metadata": {},
     "output_type": "execute_result"
    }
   ],
   "source": [
    "df_features.shape"
   ]
  },
  {
   "cell_type": "code",
   "execution_count": null,
   "id": "7b034540",
   "metadata": {},
   "outputs": [
    {
     "data": {
      "text/html": [
       "<div>\n",
       "<style scoped>\n",
       "    .dataframe tbody tr th:only-of-type {\n",
       "        vertical-align: middle;\n",
       "    }\n",
       "\n",
       "    .dataframe tbody tr th {\n",
       "        vertical-align: top;\n",
       "    }\n",
       "\n",
       "    .dataframe thead th {\n",
       "        text-align: right;\n",
       "    }\n",
       "</style>\n",
       "<table border=\"1\" class=\"dataframe\">\n",
       "  <thead>\n",
       "    <tr style=\"text-align: right;\">\n",
       "      <th></th>\n",
       "      <th>poet_name</th>\n",
       "      <th>poet_era</th>\n",
       "      <th>poem_tags</th>\n",
       "      <th>poem_title</th>\n",
       "      <th>poem_text</th>\n",
       "      <th>poem_count</th>\n",
       "      <th>is_short_poem</th>\n",
       "      <th>is_long_poem</th>\n",
       "      <th>genre_قصائد ابتهال</th>\n",
       "      <th>genre_قصائد اعتذار</th>\n",
       "      <th>genre_قصائد الاناشيد</th>\n",
       "      <th>genre_قصائد المعلقات</th>\n",
       "      <th>genre_قصائد جود وكرم</th>\n",
       "      <th>genre_قصائد حزينه</th>\n",
       "      <th>genre_قصائد حكمة</th>\n",
       "      <th>genre_قصائد دينية</th>\n",
       "      <th>genre_قصائد ذم</th>\n",
       "      <th>genre_قصائد رثاء</th>\n",
       "      <th>genre_قصائد رحمة</th>\n",
       "      <th>genre_قصائد رومنسيه</th>\n",
       "      <th>genre_قصائد سياسية</th>\n",
       "      <th>genre_قصائد شوق</th>\n",
       "      <th>genre_قصائد صبر</th>\n",
       "      <th>genre_قصائد عامه</th>\n",
       "      <th>genre_قصائد عتاب</th>\n",
       "      <th>genre_قصائد عدل</th>\n",
       "      <th>genre_قصائد غزل</th>\n",
       "      <th>genre_قصائد فراق</th>\n",
       "      <th>genre_قصائد قصيره</th>\n",
       "      <th>genre_قصائد مدح</th>\n",
       "      <th>genre_قصائد نصيحة</th>\n",
       "      <th>genre_قصائد هجاء</th>\n",
       "      <th>genre_قصائد وطنيه</th>\n",
       "      <th>style_عموديه</th>\n",
       "      <th>style_التفعيله</th>\n",
       "      <th>style_نثريه</th>\n",
       "      <th>meter_بحر أحذ الكامل</th>\n",
       "      <th>meter_بحر أحذ الوافر</th>\n",
       "      <th>meter_بحر البسيط</th>\n",
       "      <th>meter_بحر الخفيف</th>\n",
       "      <th>meter_بحر الدوبيت</th>\n",
       "      <th>meter_بحر الرجز</th>\n",
       "      <th>meter_بحر الرمل</th>\n",
       "      <th>meter_بحر السريع</th>\n",
       "      <th>meter_بحر السلسلة</th>\n",
       "      <th>meter_بحر الطويل</th>\n",
       "      <th>meter_بحر القوما</th>\n",
       "      <th>meter_بحر الكامل</th>\n",
       "      <th>meter_بحر المتدارك</th>\n",
       "      <th>meter_بحر المتقارب</th>\n",
       "      <th>meter_بحر المجتث</th>\n",
       "      <th>meter_بحر المديد</th>\n",
       "      <th>meter_بحر المضارع</th>\n",
       "      <th>meter_بحر المقتضب</th>\n",
       "      <th>meter_بحر المنسرح</th>\n",
       "      <th>meter_بحر المواليا</th>\n",
       "      <th>meter_بحر الهزج</th>\n",
       "      <th>meter_بحر الوافر</th>\n",
       "      <th>meter_بحر تفعيلة الكامل</th>\n",
       "      <th>meter_بحر مجزوء البسيط</th>\n",
       "      <th>meter_بحر مجزوء الخفيف</th>\n",
       "      <th>meter_بحر مجزوء الدوبيت</th>\n",
       "      <th>meter_بحر مجزوء الرجز</th>\n",
       "      <th>meter_بحر مجزوء الرمل</th>\n",
       "      <th>meter_بحر مجزوء السريع</th>\n",
       "      <th>meter_بحر مجزوء الطويل</th>\n",
       "      <th>meter_بحر مجزوء الكامل</th>\n",
       "      <th>meter_بحر مجزوء المتدارك</th>\n",
       "      <th>meter_بحر مجزوء المتقارب</th>\n",
       "      <th>meter_بحر مجزوء المجتث</th>\n",
       "      <th>meter_بحر مجزوء المديد</th>\n",
       "      <th>meter_بحر مجزوء المنسرح</th>\n",
       "      <th>meter_بحر مجزوء المواليا</th>\n",
       "      <th>meter_بحر مجزوء الهزج</th>\n",
       "      <th>meter_بحر مجزوء الوافر</th>\n",
       "      <th>meter_بحر مجزوء موشح</th>\n",
       "      <th>meter_بحر مخلع البسيط</th>\n",
       "      <th>meter_بحر مخلع الرجز</th>\n",
       "      <th>meter_بحر مخلع الرمل</th>\n",
       "      <th>meter_بحر مخلع السريع</th>\n",
       "      <th>meter_بحر مخلع الكامل</th>\n",
       "      <th>meter_بحر مخلع موشح</th>\n",
       "      <th>meter_بحر مربع الرجز</th>\n",
       "      <th>meter_بحر مشطور الرجز</th>\n",
       "      <th>meter_بحر مشطور السريع</th>\n",
       "      <th>meter_بحر مشطور الطويل</th>\n",
       "      <th>meter_بحر منهوك البسيط</th>\n",
       "      <th>meter_بحر منهوك الرجز</th>\n",
       "      <th>meter_بحر منهوك الكامل</th>\n",
       "      <th>meter_بحر منهوك المنسرح</th>\n",
       "      <th>meter_بحر موشح</th>\n",
       "      <th>rhyme_قافية  الحاء (ح)</th>\n",
       "      <th>rhyme_قافية (#)</th>\n",
       "      <th>rhyme_قافية (الالف)</th>\n",
       "      <th>rhyme_قافية (الحاء)</th>\n",
       "      <th>rhyme_قافية (الدال)</th>\n",
       "      <th>rhyme_قافية (الراء)</th>\n",
       "      <th>rhyme_قافية (العين)</th>\n",
       "      <th>rhyme_قافية (الفاء)</th>\n",
       "      <th>rhyme_قافية (القاف)</th>\n",
       "      <th>rhyme_قافية (اللام)</th>\n",
       "      <th>rhyme_قافية (الميم)</th>\n",
       "      <th>rhyme_قافية (النون)</th>\n",
       "      <th>rhyme_قافية (الياء)</th>\n",
       "      <th>rhyme_قافية (لا)</th>\n",
       "      <th>rhyme_قافية (لام مكسورة)</th>\n",
       "      <th>rhyme_قافية ألف الهمزة (أ)</th>\n",
       "      <th>rhyme_قافية الألف (إ)</th>\n",
       "      <th>rhyme_قافية الألف (ا)</th>\n",
       "      <th>rhyme_قافية الباء (ب)</th>\n",
       "      <th>rhyme_قافية التاء (ت)</th>\n",
       "      <th>rhyme_قافية التاء المربوطة (ة)</th>\n",
       "      <th>rhyme_قافية الثاء (ث)</th>\n",
       "      <th>rhyme_قافية الجيم (ج)</th>\n",
       "      <th>rhyme_قافية الحاء (ح)</th>\n",
       "      <th>rhyme_قافية الخاء (خ)</th>\n",
       "      <th>rhyme_قافية الدال (د)</th>\n",
       "      <th>rhyme_قافية الذال (ذ)</th>\n",
       "      <th>rhyme_قافية الراء (ر)</th>\n",
       "      <th>rhyme_قافية الزاى (ز)</th>\n",
       "      <th>rhyme_قافية السين (س)</th>\n",
       "      <th>rhyme_قافية الشين (ش)</th>\n",
       "      <th>rhyme_قافية الصاد (ص)</th>\n",
       "      <th>rhyme_قافية الضاد (ض)</th>\n",
       "      <th>rhyme_قافية الطاء (ط)</th>\n",
       "      <th>rhyme_قافية الظاء (ظ)</th>\n",
       "      <th>rhyme_قافية العين (ع)</th>\n",
       "      <th>rhyme_قافية الغين (غ)</th>\n",
       "      <th>rhyme_قافية الفاء (ف)</th>\n",
       "      <th>rhyme_قافية القاف (ق)</th>\n",
       "      <th>rhyme_قافية الكاف (ك)</th>\n",
       "      <th>rhyme_قافية اللام (ل)</th>\n",
       "      <th>rhyme_قافية الميم (م)</th>\n",
       "      <th>rhyme_قافية النون (ن)</th>\n",
       "      <th>rhyme_قافية الهاء (ه)</th>\n",
       "      <th>rhyme_قافية الهمزة (ء)</th>\n",
       "      <th>rhyme_قافية الواو (و)</th>\n",
       "      <th>rhyme_قافية الياء (ى)</th>\n",
       "      <th>rhyme_قافية الياء (ي)</th>\n",
       "      <th>rhyme_قافية واو همزة (ؤ)</th>\n",
       "      <th>rhyme_قافية ياء همزة (ئ)</th>\n",
       "      <th>text_length</th>\n",
       "      <th>text_length_log</th>\n",
       "      <th>bert_input_text</th>\n",
       "      <th>era_encoded</th>\n",
       "    </tr>\n",
       "  </thead>\n",
       "  <tbody>\n",
       "    <tr>\n",
       "      <th>0</th>\n",
       "      <td>لقيط بن يعمر الإيادي</td>\n",
       "      <td>العصر الجاهلي</td>\n",
       "      <td>قصائد هجاء, عموديه, بحر الوافر,  قافية الدال (د)</td>\n",
       "      <td>سلام في الصحيفة من لقيط</td>\n",
       "      <td>سَلامٌ في الصَحيفَةِ مِن لَقيطٍ\\nإِلى مَن بِال...</td>\n",
       "      <td>4</td>\n",
       "      <td>1</td>\n",
       "      <td>0</td>\n",
       "      <td>0</td>\n",
       "      <td>0</td>\n",
       "      <td>0</td>\n",
       "      <td>0</td>\n",
       "      <td>0</td>\n",
       "      <td>0</td>\n",
       "      <td>0</td>\n",
       "      <td>0</td>\n",
       "      <td>0</td>\n",
       "      <td>0</td>\n",
       "      <td>0</td>\n",
       "      <td>0</td>\n",
       "      <td>0</td>\n",
       "      <td>0</td>\n",
       "      <td>0</td>\n",
       "      <td>0</td>\n",
       "      <td>0</td>\n",
       "      <td>0</td>\n",
       "      <td>0</td>\n",
       "      <td>0</td>\n",
       "      <td>0</td>\n",
       "      <td>0</td>\n",
       "      <td>0</td>\n",
       "      <td>1</td>\n",
       "      <td>0</td>\n",
       "      <td>1</td>\n",
       "      <td>0</td>\n",
       "      <td>0</td>\n",
       "      <td>0</td>\n",
       "      <td>0</td>\n",
       "      <td>0</td>\n",
       "      <td>0</td>\n",
       "      <td>0</td>\n",
       "      <td>0</td>\n",
       "      <td>0</td>\n",
       "      <td>0</td>\n",
       "      <td>0</td>\n",
       "      <td>0</td>\n",
       "      <td>0</td>\n",
       "      <td>0</td>\n",
       "      <td>0</td>\n",
       "      <td>0</td>\n",
       "      <td>0</td>\n",
       "      <td>0</td>\n",
       "      <td>0</td>\n",
       "      <td>0</td>\n",
       "      <td>0</td>\n",
       "      <td>0</td>\n",
       "      <td>0</td>\n",
       "      <td>1</td>\n",
       "      <td>0</td>\n",
       "      <td>0</td>\n",
       "      <td>0</td>\n",
       "      <td>0</td>\n",
       "      <td>0</td>\n",
       "      <td>0</td>\n",
       "      <td>0</td>\n",
       "      <td>0</td>\n",
       "      <td>0</td>\n",
       "      <td>0</td>\n",
       "      <td>0</td>\n",
       "      <td>0</td>\n",
       "      <td>0</td>\n",
       "      <td>0</td>\n",
       "      <td>0</td>\n",
       "      <td>0</td>\n",
       "      <td>0</td>\n",
       "      <td>0</td>\n",
       "      <td>0</td>\n",
       "      <td>0</td>\n",
       "      <td>0</td>\n",
       "      <td>0</td>\n",
       "      <td>0</td>\n",
       "      <td>0</td>\n",
       "      <td>0</td>\n",
       "      <td>0</td>\n",
       "      <td>0</td>\n",
       "      <td>0</td>\n",
       "      <td>0</td>\n",
       "      <td>0</td>\n",
       "      <td>0</td>\n",
       "      <td>0</td>\n",
       "      <td>0</td>\n",
       "      <td>0</td>\n",
       "      <td>0</td>\n",
       "      <td>0</td>\n",
       "      <td>0</td>\n",
       "      <td>0</td>\n",
       "      <td>0</td>\n",
       "      <td>0</td>\n",
       "      <td>0</td>\n",
       "      <td>0</td>\n",
       "      <td>0</td>\n",
       "      <td>0</td>\n",
       "      <td>0</td>\n",
       "      <td>0</td>\n",
       "      <td>0</td>\n",
       "      <td>0</td>\n",
       "      <td>0</td>\n",
       "      <td>0</td>\n",
       "      <td>0</td>\n",
       "      <td>0</td>\n",
       "      <td>0</td>\n",
       "      <td>0</td>\n",
       "      <td>0</td>\n",
       "      <td>0</td>\n",
       "      <td>0</td>\n",
       "      <td>0</td>\n",
       "      <td>1</td>\n",
       "      <td>0</td>\n",
       "      <td>0</td>\n",
       "      <td>0</td>\n",
       "      <td>0</td>\n",
       "      <td>0</td>\n",
       "      <td>0</td>\n",
       "      <td>0</td>\n",
       "      <td>0</td>\n",
       "      <td>0</td>\n",
       "      <td>0</td>\n",
       "      <td>0</td>\n",
       "      <td>0</td>\n",
       "      <td>0</td>\n",
       "      <td>0</td>\n",
       "      <td>0</td>\n",
       "      <td>0</td>\n",
       "      <td>0</td>\n",
       "      <td>0</td>\n",
       "      <td>0</td>\n",
       "      <td>0</td>\n",
       "      <td>0</td>\n",
       "      <td>0</td>\n",
       "      <td>0</td>\n",
       "      <td>0</td>\n",
       "      <td>255</td>\n",
       "      <td>5.545177</td>\n",
       "      <td>سَلامٌ في الصَحيفَةِ مِن لَقيطٍ\\nإِلى مَن بِال...</td>\n",
       "      <td>4</td>\n",
       "    </tr>\n",
       "    <tr>\n",
       "      <th>1</th>\n",
       "      <td>لقيط بن يعمر الإيادي</td>\n",
       "      <td>العصر الجاهلي</td>\n",
       "      <td>قصائد حزينه, عموديه, بحر البسيط,  قافية الألف ...</td>\n",
       "      <td>يا دار عمرة من محتلها الجرعا</td>\n",
       "      <td>يا دارَ عَمرَةَ مِن مُحتَلِّها الجَرَعا\\nهاجَت...</td>\n",
       "      <td>60</td>\n",
       "      <td>0</td>\n",
       "      <td>1</td>\n",
       "      <td>0</td>\n",
       "      <td>0</td>\n",
       "      <td>0</td>\n",
       "      <td>0</td>\n",
       "      <td>0</td>\n",
       "      <td>1</td>\n",
       "      <td>0</td>\n",
       "      <td>0</td>\n",
       "      <td>0</td>\n",
       "      <td>0</td>\n",
       "      <td>0</td>\n",
       "      <td>0</td>\n",
       "      <td>0</td>\n",
       "      <td>0</td>\n",
       "      <td>0</td>\n",
       "      <td>0</td>\n",
       "      <td>0</td>\n",
       "      <td>0</td>\n",
       "      <td>0</td>\n",
       "      <td>0</td>\n",
       "      <td>0</td>\n",
       "      <td>0</td>\n",
       "      <td>0</td>\n",
       "      <td>0</td>\n",
       "      <td>0</td>\n",
       "      <td>1</td>\n",
       "      <td>0</td>\n",
       "      <td>0</td>\n",
       "      <td>0</td>\n",
       "      <td>0</td>\n",
       "      <td>1</td>\n",
       "      <td>0</td>\n",
       "      <td>0</td>\n",
       "      <td>0</td>\n",
       "      <td>0</td>\n",
       "      <td>0</td>\n",
       "      <td>0</td>\n",
       "      <td>0</td>\n",
       "      <td>0</td>\n",
       "      <td>0</td>\n",
       "      <td>0</td>\n",
       "      <td>0</td>\n",
       "      <td>0</td>\n",
       "      <td>0</td>\n",
       "      <td>0</td>\n",
       "      <td>0</td>\n",
       "      <td>0</td>\n",
       "      <td>0</td>\n",
       "      <td>0</td>\n",
       "      <td>0</td>\n",
       "      <td>0</td>\n",
       "      <td>0</td>\n",
       "      <td>0</td>\n",
       "      <td>0</td>\n",
       "      <td>0</td>\n",
       "      <td>0</td>\n",
       "      <td>0</td>\n",
       "      <td>0</td>\n",
       "      <td>0</td>\n",
       "      <td>0</td>\n",
       "      <td>0</td>\n",
       "      <td>0</td>\n",
       "      <td>0</td>\n",
       "      <td>0</td>\n",
       "      <td>0</td>\n",
       "      <td>0</td>\n",
       "      <td>0</td>\n",
       "      <td>0</td>\n",
       "      <td>0</td>\n",
       "      <td>0</td>\n",
       "      <td>0</td>\n",
       "      <td>0</td>\n",
       "      <td>0</td>\n",
       "      <td>0</td>\n",
       "      <td>0</td>\n",
       "      <td>0</td>\n",
       "      <td>0</td>\n",
       "      <td>0</td>\n",
       "      <td>0</td>\n",
       "      <td>0</td>\n",
       "      <td>0</td>\n",
       "      <td>0</td>\n",
       "      <td>0</td>\n",
       "      <td>0</td>\n",
       "      <td>0</td>\n",
       "      <td>0</td>\n",
       "      <td>0</td>\n",
       "      <td>0</td>\n",
       "      <td>0</td>\n",
       "      <td>0</td>\n",
       "      <td>0</td>\n",
       "      <td>0</td>\n",
       "      <td>0</td>\n",
       "      <td>0</td>\n",
       "      <td>0</td>\n",
       "      <td>0</td>\n",
       "      <td>0</td>\n",
       "      <td>0</td>\n",
       "      <td>0</td>\n",
       "      <td>0</td>\n",
       "      <td>1</td>\n",
       "      <td>0</td>\n",
       "      <td>0</td>\n",
       "      <td>0</td>\n",
       "      <td>0</td>\n",
       "      <td>0</td>\n",
       "      <td>0</td>\n",
       "      <td>0</td>\n",
       "      <td>0</td>\n",
       "      <td>0</td>\n",
       "      <td>0</td>\n",
       "      <td>0</td>\n",
       "      <td>0</td>\n",
       "      <td>0</td>\n",
       "      <td>0</td>\n",
       "      <td>0</td>\n",
       "      <td>0</td>\n",
       "      <td>0</td>\n",
       "      <td>0</td>\n",
       "      <td>0</td>\n",
       "      <td>0</td>\n",
       "      <td>0</td>\n",
       "      <td>0</td>\n",
       "      <td>0</td>\n",
       "      <td>0</td>\n",
       "      <td>0</td>\n",
       "      <td>0</td>\n",
       "      <td>0</td>\n",
       "      <td>0</td>\n",
       "      <td>0</td>\n",
       "      <td>0</td>\n",
       "      <td>0</td>\n",
       "      <td>0</td>\n",
       "      <td>4658</td>\n",
       "      <td>8.446556</td>\n",
       "      <td>يا دارَ عَمرَةَ مِن مُحتَلِّها الجَرَعا\\nهاجَت...</td>\n",
       "      <td>4</td>\n",
       "    </tr>\n",
       "    <tr>\n",
       "      <th>2</th>\n",
       "      <td>لقيط بن يعمر الإيادي</td>\n",
       "      <td>العصر الجاهلي</td>\n",
       "      <td>قصائد قصيره, عموديه, بحر الرجز,  قافية الألف (ا)</td>\n",
       "      <td>وخاننا خوان في ارتباعنا</td>\n",
       "      <td>وَخانَنا خَوّانٌ في اِرتِباعِنا\\nفَاِنفَدَّ لِ...</td>\n",
       "      <td>1</td>\n",
       "      <td>1</td>\n",
       "      <td>0</td>\n",
       "      <td>0</td>\n",
       "      <td>0</td>\n",
       "      <td>0</td>\n",
       "      <td>0</td>\n",
       "      <td>0</td>\n",
       "      <td>0</td>\n",
       "      <td>0</td>\n",
       "      <td>0</td>\n",
       "      <td>0</td>\n",
       "      <td>0</td>\n",
       "      <td>0</td>\n",
       "      <td>0</td>\n",
       "      <td>0</td>\n",
       "      <td>0</td>\n",
       "      <td>0</td>\n",
       "      <td>0</td>\n",
       "      <td>0</td>\n",
       "      <td>0</td>\n",
       "      <td>0</td>\n",
       "      <td>0</td>\n",
       "      <td>1</td>\n",
       "      <td>0</td>\n",
       "      <td>0</td>\n",
       "      <td>0</td>\n",
       "      <td>0</td>\n",
       "      <td>1</td>\n",
       "      <td>0</td>\n",
       "      <td>0</td>\n",
       "      <td>0</td>\n",
       "      <td>0</td>\n",
       "      <td>0</td>\n",
       "      <td>0</td>\n",
       "      <td>0</td>\n",
       "      <td>1</td>\n",
       "      <td>0</td>\n",
       "      <td>0</td>\n",
       "      <td>0</td>\n",
       "      <td>0</td>\n",
       "      <td>0</td>\n",
       "      <td>0</td>\n",
       "      <td>0</td>\n",
       "      <td>0</td>\n",
       "      <td>0</td>\n",
       "      <td>0</td>\n",
       "      <td>0</td>\n",
       "      <td>0</td>\n",
       "      <td>0</td>\n",
       "      <td>0</td>\n",
       "      <td>0</td>\n",
       "      <td>0</td>\n",
       "      <td>0</td>\n",
       "      <td>0</td>\n",
       "      <td>0</td>\n",
       "      <td>0</td>\n",
       "      <td>0</td>\n",
       "      <td>0</td>\n",
       "      <td>0</td>\n",
       "      <td>0</td>\n",
       "      <td>0</td>\n",
       "      <td>0</td>\n",
       "      <td>0</td>\n",
       "      <td>0</td>\n",
       "      <td>0</td>\n",
       "      <td>0</td>\n",
       "      <td>0</td>\n",
       "      <td>0</td>\n",
       "      <td>0</td>\n",
       "      <td>0</td>\n",
       "      <td>0</td>\n",
       "      <td>0</td>\n",
       "      <td>0</td>\n",
       "      <td>0</td>\n",
       "      <td>0</td>\n",
       "      <td>0</td>\n",
       "      <td>0</td>\n",
       "      <td>0</td>\n",
       "      <td>0</td>\n",
       "      <td>0</td>\n",
       "      <td>0</td>\n",
       "      <td>0</td>\n",
       "      <td>0</td>\n",
       "      <td>0</td>\n",
       "      <td>0</td>\n",
       "      <td>0</td>\n",
       "      <td>0</td>\n",
       "      <td>0</td>\n",
       "      <td>0</td>\n",
       "      <td>0</td>\n",
       "      <td>0</td>\n",
       "      <td>0</td>\n",
       "      <td>0</td>\n",
       "      <td>0</td>\n",
       "      <td>0</td>\n",
       "      <td>0</td>\n",
       "      <td>0</td>\n",
       "      <td>0</td>\n",
       "      <td>0</td>\n",
       "      <td>0</td>\n",
       "      <td>0</td>\n",
       "      <td>0</td>\n",
       "      <td>1</td>\n",
       "      <td>0</td>\n",
       "      <td>0</td>\n",
       "      <td>0</td>\n",
       "      <td>0</td>\n",
       "      <td>0</td>\n",
       "      <td>0</td>\n",
       "      <td>0</td>\n",
       "      <td>0</td>\n",
       "      <td>0</td>\n",
       "      <td>0</td>\n",
       "      <td>0</td>\n",
       "      <td>0</td>\n",
       "      <td>0</td>\n",
       "      <td>0</td>\n",
       "      <td>0</td>\n",
       "      <td>0</td>\n",
       "      <td>0</td>\n",
       "      <td>0</td>\n",
       "      <td>0</td>\n",
       "      <td>0</td>\n",
       "      <td>0</td>\n",
       "      <td>0</td>\n",
       "      <td>0</td>\n",
       "      <td>0</td>\n",
       "      <td>0</td>\n",
       "      <td>0</td>\n",
       "      <td>0</td>\n",
       "      <td>0</td>\n",
       "      <td>0</td>\n",
       "      <td>0</td>\n",
       "      <td>0</td>\n",
       "      <td>0</td>\n",
       "      <td>66</td>\n",
       "      <td>4.204693</td>\n",
       "      <td>وَخانَنا خَوّانٌ في اِرتِباعِنا\\nفَاِنفَدَّ لِ...</td>\n",
       "      <td>4</td>\n",
       "    </tr>\n",
       "    <tr>\n",
       "      <th>3</th>\n",
       "      <td>زبان بن سيار الفزاري</td>\n",
       "      <td>العصر الجاهلي</td>\n",
       "      <td>قصائد قصيره, عموديه, بحر الطويل,  قافية الألف ...</td>\n",
       "      <td>تنح إليكم يا ابن كوز فإننا</td>\n",
       "      <td>تَنَحَّ إِلَيكُم يا اِبنَ كوزٍ فَإِنَّنا\\nوَإِ...</td>\n",
       "      <td>1</td>\n",
       "      <td>1</td>\n",
       "      <td>0</td>\n",
       "      <td>0</td>\n",
       "      <td>0</td>\n",
       "      <td>0</td>\n",
       "      <td>0</td>\n",
       "      <td>0</td>\n",
       "      <td>0</td>\n",
       "      <td>0</td>\n",
       "      <td>0</td>\n",
       "      <td>0</td>\n",
       "      <td>0</td>\n",
       "      <td>0</td>\n",
       "      <td>0</td>\n",
       "      <td>0</td>\n",
       "      <td>0</td>\n",
       "      <td>0</td>\n",
       "      <td>0</td>\n",
       "      <td>0</td>\n",
       "      <td>0</td>\n",
       "      <td>0</td>\n",
       "      <td>0</td>\n",
       "      <td>1</td>\n",
       "      <td>0</td>\n",
       "      <td>0</td>\n",
       "      <td>0</td>\n",
       "      <td>0</td>\n",
       "      <td>1</td>\n",
       "      <td>0</td>\n",
       "      <td>0</td>\n",
       "      <td>0</td>\n",
       "      <td>0</td>\n",
       "      <td>0</td>\n",
       "      <td>0</td>\n",
       "      <td>0</td>\n",
       "      <td>0</td>\n",
       "      <td>0</td>\n",
       "      <td>0</td>\n",
       "      <td>0</td>\n",
       "      <td>1</td>\n",
       "      <td>0</td>\n",
       "      <td>0</td>\n",
       "      <td>0</td>\n",
       "      <td>0</td>\n",
       "      <td>0</td>\n",
       "      <td>0</td>\n",
       "      <td>0</td>\n",
       "      <td>0</td>\n",
       "      <td>0</td>\n",
       "      <td>0</td>\n",
       "      <td>0</td>\n",
       "      <td>0</td>\n",
       "      <td>0</td>\n",
       "      <td>0</td>\n",
       "      <td>0</td>\n",
       "      <td>0</td>\n",
       "      <td>0</td>\n",
       "      <td>0</td>\n",
       "      <td>0</td>\n",
       "      <td>0</td>\n",
       "      <td>0</td>\n",
       "      <td>0</td>\n",
       "      <td>0</td>\n",
       "      <td>0</td>\n",
       "      <td>0</td>\n",
       "      <td>0</td>\n",
       "      <td>0</td>\n",
       "      <td>0</td>\n",
       "      <td>0</td>\n",
       "      <td>0</td>\n",
       "      <td>0</td>\n",
       "      <td>0</td>\n",
       "      <td>0</td>\n",
       "      <td>0</td>\n",
       "      <td>0</td>\n",
       "      <td>0</td>\n",
       "      <td>0</td>\n",
       "      <td>0</td>\n",
       "      <td>0</td>\n",
       "      <td>0</td>\n",
       "      <td>0</td>\n",
       "      <td>0</td>\n",
       "      <td>0</td>\n",
       "      <td>0</td>\n",
       "      <td>0</td>\n",
       "      <td>0</td>\n",
       "      <td>0</td>\n",
       "      <td>0</td>\n",
       "      <td>0</td>\n",
       "      <td>0</td>\n",
       "      <td>0</td>\n",
       "      <td>0</td>\n",
       "      <td>0</td>\n",
       "      <td>0</td>\n",
       "      <td>0</td>\n",
       "      <td>0</td>\n",
       "      <td>0</td>\n",
       "      <td>0</td>\n",
       "      <td>0</td>\n",
       "      <td>0</td>\n",
       "      <td>0</td>\n",
       "      <td>0</td>\n",
       "      <td>1</td>\n",
       "      <td>0</td>\n",
       "      <td>0</td>\n",
       "      <td>0</td>\n",
       "      <td>0</td>\n",
       "      <td>0</td>\n",
       "      <td>0</td>\n",
       "      <td>0</td>\n",
       "      <td>0</td>\n",
       "      <td>0</td>\n",
       "      <td>0</td>\n",
       "      <td>0</td>\n",
       "      <td>0</td>\n",
       "      <td>0</td>\n",
       "      <td>0</td>\n",
       "      <td>0</td>\n",
       "      <td>0</td>\n",
       "      <td>0</td>\n",
       "      <td>0</td>\n",
       "      <td>0</td>\n",
       "      <td>0</td>\n",
       "      <td>0</td>\n",
       "      <td>0</td>\n",
       "      <td>0</td>\n",
       "      <td>0</td>\n",
       "      <td>0</td>\n",
       "      <td>0</td>\n",
       "      <td>0</td>\n",
       "      <td>0</td>\n",
       "      <td>0</td>\n",
       "      <td>0</td>\n",
       "      <td>0</td>\n",
       "      <td>0</td>\n",
       "      <td>78</td>\n",
       "      <td>4.369448</td>\n",
       "      <td>تَنَحَّ إِلَيكُم يا اِبنَ كوزٍ فَإِنَّنا\\nوَإِ...</td>\n",
       "      <td>4</td>\n",
       "    </tr>\n",
       "    <tr>\n",
       "      <th>4</th>\n",
       "      <td>زبان بن سيار الفزاري</td>\n",
       "      <td>العصر الجاهلي</td>\n",
       "      <td>قصائد قصيره, عموديه, بحر الطويل,  قافية الباء ...</td>\n",
       "      <td>تطارحه الأنساب حتى رددنه</td>\n",
       "      <td>تُطارِحُهُ الأَنسابُ حَتّى رَدَدنَهُ\\nإِلى نَس...</td>\n",
       "      <td>1</td>\n",
       "      <td>1</td>\n",
       "      <td>0</td>\n",
       "      <td>0</td>\n",
       "      <td>0</td>\n",
       "      <td>0</td>\n",
       "      <td>0</td>\n",
       "      <td>0</td>\n",
       "      <td>0</td>\n",
       "      <td>0</td>\n",
       "      <td>0</td>\n",
       "      <td>0</td>\n",
       "      <td>0</td>\n",
       "      <td>0</td>\n",
       "      <td>0</td>\n",
       "      <td>0</td>\n",
       "      <td>0</td>\n",
       "      <td>0</td>\n",
       "      <td>0</td>\n",
       "      <td>0</td>\n",
       "      <td>0</td>\n",
       "      <td>0</td>\n",
       "      <td>0</td>\n",
       "      <td>1</td>\n",
       "      <td>0</td>\n",
       "      <td>0</td>\n",
       "      <td>0</td>\n",
       "      <td>0</td>\n",
       "      <td>1</td>\n",
       "      <td>0</td>\n",
       "      <td>0</td>\n",
       "      <td>0</td>\n",
       "      <td>0</td>\n",
       "      <td>0</td>\n",
       "      <td>0</td>\n",
       "      <td>0</td>\n",
       "      <td>0</td>\n",
       "      <td>0</td>\n",
       "      <td>0</td>\n",
       "      <td>0</td>\n",
       "      <td>1</td>\n",
       "      <td>0</td>\n",
       "      <td>0</td>\n",
       "      <td>0</td>\n",
       "      <td>0</td>\n",
       "      <td>0</td>\n",
       "      <td>0</td>\n",
       "      <td>0</td>\n",
       "      <td>0</td>\n",
       "      <td>0</td>\n",
       "      <td>0</td>\n",
       "      <td>0</td>\n",
       "      <td>0</td>\n",
       "      <td>0</td>\n",
       "      <td>0</td>\n",
       "      <td>0</td>\n",
       "      <td>0</td>\n",
       "      <td>0</td>\n",
       "      <td>0</td>\n",
       "      <td>0</td>\n",
       "      <td>0</td>\n",
       "      <td>0</td>\n",
       "      <td>0</td>\n",
       "      <td>0</td>\n",
       "      <td>0</td>\n",
       "      <td>0</td>\n",
       "      <td>0</td>\n",
       "      <td>0</td>\n",
       "      <td>0</td>\n",
       "      <td>0</td>\n",
       "      <td>0</td>\n",
       "      <td>0</td>\n",
       "      <td>0</td>\n",
       "      <td>0</td>\n",
       "      <td>0</td>\n",
       "      <td>0</td>\n",
       "      <td>0</td>\n",
       "      <td>0</td>\n",
       "      <td>0</td>\n",
       "      <td>0</td>\n",
       "      <td>0</td>\n",
       "      <td>0</td>\n",
       "      <td>0</td>\n",
       "      <td>0</td>\n",
       "      <td>0</td>\n",
       "      <td>0</td>\n",
       "      <td>0</td>\n",
       "      <td>0</td>\n",
       "      <td>0</td>\n",
       "      <td>0</td>\n",
       "      <td>0</td>\n",
       "      <td>0</td>\n",
       "      <td>0</td>\n",
       "      <td>0</td>\n",
       "      <td>0</td>\n",
       "      <td>0</td>\n",
       "      <td>0</td>\n",
       "      <td>0</td>\n",
       "      <td>0</td>\n",
       "      <td>0</td>\n",
       "      <td>0</td>\n",
       "      <td>0</td>\n",
       "      <td>0</td>\n",
       "      <td>0</td>\n",
       "      <td>1</td>\n",
       "      <td>0</td>\n",
       "      <td>0</td>\n",
       "      <td>0</td>\n",
       "      <td>0</td>\n",
       "      <td>0</td>\n",
       "      <td>0</td>\n",
       "      <td>0</td>\n",
       "      <td>0</td>\n",
       "      <td>0</td>\n",
       "      <td>0</td>\n",
       "      <td>0</td>\n",
       "      <td>0</td>\n",
       "      <td>0</td>\n",
       "      <td>0</td>\n",
       "      <td>0</td>\n",
       "      <td>0</td>\n",
       "      <td>0</td>\n",
       "      <td>0</td>\n",
       "      <td>0</td>\n",
       "      <td>0</td>\n",
       "      <td>0</td>\n",
       "      <td>0</td>\n",
       "      <td>0</td>\n",
       "      <td>0</td>\n",
       "      <td>0</td>\n",
       "      <td>0</td>\n",
       "      <td>0</td>\n",
       "      <td>0</td>\n",
       "      <td>0</td>\n",
       "      <td>0</td>\n",
       "      <td>0</td>\n",
       "      <td>73</td>\n",
       "      <td>4.304065</td>\n",
       "      <td>تُطارِحُهُ الأَنسابُ حَتّى رَدَدنَهُ\\nإِلى نَس...</td>\n",
       "      <td>4</td>\n",
       "    </tr>\n",
       "  </tbody>\n",
       "</table>\n",
       "</div>"
      ],
      "text/plain": [
       "              poet_name       poet_era  \\\n",
       "0  لقيط بن يعمر الإيادي  العصر الجاهلي   \n",
       "1  لقيط بن يعمر الإيادي  العصر الجاهلي   \n",
       "2  لقيط بن يعمر الإيادي  العصر الجاهلي   \n",
       "3  زبان بن سيار الفزاري  العصر الجاهلي   \n",
       "4  زبان بن سيار الفزاري  العصر الجاهلي   \n",
       "\n",
       "                                           poem_tags  \\\n",
       "0  قصائد هجاء, عموديه, بحر الوافر,  قافية الدال (د)    \n",
       "1  قصائد حزينه, عموديه, بحر البسيط,  قافية الألف ...   \n",
       "2  قصائد قصيره, عموديه, بحر الرجز,  قافية الألف (ا)    \n",
       "3  قصائد قصيره, عموديه, بحر الطويل,  قافية الألف ...   \n",
       "4  قصائد قصيره, عموديه, بحر الطويل,  قافية الباء ...   \n",
       "\n",
       "                     poem_title  \\\n",
       "0       سلام في الصحيفة من لقيط   \n",
       "1  يا دار عمرة من محتلها الجرعا   \n",
       "2       وخاننا خوان في ارتباعنا   \n",
       "3    تنح إليكم يا ابن كوز فإننا   \n",
       "4      تطارحه الأنساب حتى رددنه   \n",
       "\n",
       "                                           poem_text  poem_count  \\\n",
       "0  سَلامٌ في الصَحيفَةِ مِن لَقيطٍ\\nإِلى مَن بِال...           4   \n",
       "1  يا دارَ عَمرَةَ مِن مُحتَلِّها الجَرَعا\\nهاجَت...          60   \n",
       "2  وَخانَنا خَوّانٌ في اِرتِباعِنا\\nفَاِنفَدَّ لِ...           1   \n",
       "3  تَنَحَّ إِلَيكُم يا اِبنَ كوزٍ فَإِنَّنا\\nوَإِ...           1   \n",
       "4  تُطارِحُهُ الأَنسابُ حَتّى رَدَدنَهُ\\nإِلى نَس...           1   \n",
       "\n",
       "   is_short_poem  is_long_poem  genre_قصائد ابتهال  genre_قصائد اعتذار  \\\n",
       "0              1             0                   0                   0   \n",
       "1              0             1                   0                   0   \n",
       "2              1             0                   0                   0   \n",
       "3              1             0                   0                   0   \n",
       "4              1             0                   0                   0   \n",
       "\n",
       "   genre_قصائد الاناشيد  genre_قصائد المعلقات  genre_قصائد جود وكرم  \\\n",
       "0                     0                     0                     0   \n",
       "1                     0                     0                     0   \n",
       "2                     0                     0                     0   \n",
       "3                     0                     0                     0   \n",
       "4                     0                     0                     0   \n",
       "\n",
       "   genre_قصائد حزينه  genre_قصائد حكمة  genre_قصائد دينية  genre_قصائد ذم  \\\n",
       "0                  0                 0                  0               0   \n",
       "1                  1                 0                  0               0   \n",
       "2                  0                 0                  0               0   \n",
       "3                  0                 0                  0               0   \n",
       "4                  0                 0                  0               0   \n",
       "\n",
       "   genre_قصائد رثاء  genre_قصائد رحمة  genre_قصائد رومنسيه  \\\n",
       "0                 0                 0                    0   \n",
       "1                 0                 0                    0   \n",
       "2                 0                 0                    0   \n",
       "3                 0                 0                    0   \n",
       "4                 0                 0                    0   \n",
       "\n",
       "   genre_قصائد سياسية  genre_قصائد شوق  genre_قصائد صبر  genre_قصائد عامه  \\\n",
       "0                   0                0                0                 0   \n",
       "1                   0                0                0                 0   \n",
       "2                   0                0                0                 0   \n",
       "3                   0                0                0                 0   \n",
       "4                   0                0                0                 0   \n",
       "\n",
       "   genre_قصائد عتاب  genre_قصائد عدل  genre_قصائد غزل  genre_قصائد فراق  \\\n",
       "0                 0                0                0                 0   \n",
       "1                 0                0                0                 0   \n",
       "2                 0                0                0                 0   \n",
       "3                 0                0                0                 0   \n",
       "4                 0                0                0                 0   \n",
       "\n",
       "   genre_قصائد قصيره  genre_قصائد مدح  genre_قصائد نصيحة  genre_قصائد هجاء  \\\n",
       "0                  0                0                  0                 1   \n",
       "1                  0                0                  0                 0   \n",
       "2                  1                0                  0                 0   \n",
       "3                  1                0                  0                 0   \n",
       "4                  1                0                  0                 0   \n",
       "\n",
       "   genre_قصائد وطنيه  style_عموديه  style_التفعيله  style_نثريه  \\\n",
       "0                  0             1               0            0   \n",
       "1                  0             1               0            0   \n",
       "2                  0             1               0            0   \n",
       "3                  0             1               0            0   \n",
       "4                  0             1               0            0   \n",
       "\n",
       "   meter_بحر أحذ الكامل  meter_بحر أحذ الوافر  meter_بحر البسيط  \\\n",
       "0                     0                     0                 0   \n",
       "1                     0                     0                 1   \n",
       "2                     0                     0                 0   \n",
       "3                     0                     0                 0   \n",
       "4                     0                     0                 0   \n",
       "\n",
       "   meter_بحر الخفيف  meter_بحر الدوبيت  meter_بحر الرجز  meter_بحر الرمل  \\\n",
       "0                 0                  0                0                0   \n",
       "1                 0                  0                0                0   \n",
       "2                 0                  0                1                0   \n",
       "3                 0                  0                0                0   \n",
       "4                 0                  0                0                0   \n",
       "\n",
       "   meter_بحر السريع  meter_بحر السلسلة  meter_بحر الطويل  meter_بحر القوما  \\\n",
       "0                 0                  0                 0                 0   \n",
       "1                 0                  0                 0                 0   \n",
       "2                 0                  0                 0                 0   \n",
       "3                 0                  0                 1                 0   \n",
       "4                 0                  0                 1                 0   \n",
       "\n",
       "   meter_بحر الكامل  meter_بحر المتدارك  meter_بحر المتقارب  meter_بحر المجتث  \\\n",
       "0                 0                   0                   0                 0   \n",
       "1                 0                   0                   0                 0   \n",
       "2                 0                   0                   0                 0   \n",
       "3                 0                   0                   0                 0   \n",
       "4                 0                   0                   0                 0   \n",
       "\n",
       "   meter_بحر المديد  meter_بحر المضارع  meter_بحر المقتضب  meter_بحر المنسرح  \\\n",
       "0                 0                  0                  0                  0   \n",
       "1                 0                  0                  0                  0   \n",
       "2                 0                  0                  0                  0   \n",
       "3                 0                  0                  0                  0   \n",
       "4                 0                  0                  0                  0   \n",
       "\n",
       "   meter_بحر المواليا  meter_بحر الهزج  meter_بحر الوافر  \\\n",
       "0                   0                0                 1   \n",
       "1                   0                0                 0   \n",
       "2                   0                0                 0   \n",
       "3                   0                0                 0   \n",
       "4                   0                0                 0   \n",
       "\n",
       "   meter_بحر تفعيلة الكامل  meter_بحر مجزوء البسيط  meter_بحر مجزوء الخفيف  \\\n",
       "0                        0                       0                       0   \n",
       "1                        0                       0                       0   \n",
       "2                        0                       0                       0   \n",
       "3                        0                       0                       0   \n",
       "4                        0                       0                       0   \n",
       "\n",
       "   meter_بحر مجزوء الدوبيت  meter_بحر مجزوء الرجز  meter_بحر مجزوء الرمل  \\\n",
       "0                        0                      0                      0   \n",
       "1                        0                      0                      0   \n",
       "2                        0                      0                      0   \n",
       "3                        0                      0                      0   \n",
       "4                        0                      0                      0   \n",
       "\n",
       "   meter_بحر مجزوء السريع  meter_بحر مجزوء الطويل  meter_بحر مجزوء الكامل  \\\n",
       "0                       0                       0                       0   \n",
       "1                       0                       0                       0   \n",
       "2                       0                       0                       0   \n",
       "3                       0                       0                       0   \n",
       "4                       0                       0                       0   \n",
       "\n",
       "   meter_بحر مجزوء المتدارك  meter_بحر مجزوء المتقارب  meter_بحر مجزوء المجتث  \\\n",
       "0                         0                         0                       0   \n",
       "1                         0                         0                       0   \n",
       "2                         0                         0                       0   \n",
       "3                         0                         0                       0   \n",
       "4                         0                         0                       0   \n",
       "\n",
       "   meter_بحر مجزوء المديد  meter_بحر مجزوء المنسرح  meter_بحر مجزوء المواليا  \\\n",
       "0                       0                        0                         0   \n",
       "1                       0                        0                         0   \n",
       "2                       0                        0                         0   \n",
       "3                       0                        0                         0   \n",
       "4                       0                        0                         0   \n",
       "\n",
       "   meter_بحر مجزوء الهزج  meter_بحر مجزوء الوافر  meter_بحر مجزوء موشح  \\\n",
       "0                      0                       0                     0   \n",
       "1                      0                       0                     0   \n",
       "2                      0                       0                     0   \n",
       "3                      0                       0                     0   \n",
       "4                      0                       0                     0   \n",
       "\n",
       "   meter_بحر مخلع البسيط  meter_بحر مخلع الرجز  meter_بحر مخلع الرمل  \\\n",
       "0                      0                     0                     0   \n",
       "1                      0                     0                     0   \n",
       "2                      0                     0                     0   \n",
       "3                      0                     0                     0   \n",
       "4                      0                     0                     0   \n",
       "\n",
       "   meter_بحر مخلع السريع  meter_بحر مخلع الكامل  meter_بحر مخلع موشح  \\\n",
       "0                      0                      0                    0   \n",
       "1                      0                      0                    0   \n",
       "2                      0                      0                    0   \n",
       "3                      0                      0                    0   \n",
       "4                      0                      0                    0   \n",
       "\n",
       "   meter_بحر مربع الرجز  meter_بحر مشطور الرجز  meter_بحر مشطور السريع  \\\n",
       "0                     0                      0                       0   \n",
       "1                     0                      0                       0   \n",
       "2                     0                      0                       0   \n",
       "3                     0                      0                       0   \n",
       "4                     0                      0                       0   \n",
       "\n",
       "   meter_بحر مشطور الطويل  meter_بحر منهوك البسيط  meter_بحر منهوك الرجز  \\\n",
       "0                       0                       0                      0   \n",
       "1                       0                       0                      0   \n",
       "2                       0                       0                      0   \n",
       "3                       0                       0                      0   \n",
       "4                       0                       0                      0   \n",
       "\n",
       "   meter_بحر منهوك الكامل  meter_بحر منهوك المنسرح  meter_بحر موشح  \\\n",
       "0                       0                        0               0   \n",
       "1                       0                        0               0   \n",
       "2                       0                        0               0   \n",
       "3                       0                        0               0   \n",
       "4                       0                        0               0   \n",
       "\n",
       "   rhyme_قافية  الحاء (ح)  rhyme_قافية (#)  rhyme_قافية (الالف)  \\\n",
       "0                       0                0                    0   \n",
       "1                       0                0                    0   \n",
       "2                       0                0                    0   \n",
       "3                       0                0                    0   \n",
       "4                       0                0                    0   \n",
       "\n",
       "   rhyme_قافية (الحاء)  rhyme_قافية (الدال)  rhyme_قافية (الراء)  \\\n",
       "0                    0                    0                    0   \n",
       "1                    0                    0                    0   \n",
       "2                    0                    0                    0   \n",
       "3                    0                    0                    0   \n",
       "4                    0                    0                    0   \n",
       "\n",
       "   rhyme_قافية (العين)  rhyme_قافية (الفاء)  rhyme_قافية (القاف)  \\\n",
       "0                    0                    0                    0   \n",
       "1                    0                    0                    0   \n",
       "2                    0                    0                    0   \n",
       "3                    0                    0                    0   \n",
       "4                    0                    0                    0   \n",
       "\n",
       "   rhyme_قافية (اللام)  rhyme_قافية (الميم)  rhyme_قافية (النون)  \\\n",
       "0                    0                    0                    0   \n",
       "1                    0                    0                    0   \n",
       "2                    0                    0                    0   \n",
       "3                    0                    0                    0   \n",
       "4                    0                    0                    0   \n",
       "\n",
       "   rhyme_قافية (الياء)  rhyme_قافية (لا)  rhyme_قافية (لام مكسورة)  \\\n",
       "0                    0                 0                         0   \n",
       "1                    0                 0                         0   \n",
       "2                    0                 0                         0   \n",
       "3                    0                 0                         0   \n",
       "4                    0                 0                         0   \n",
       "\n",
       "   rhyme_قافية ألف الهمزة (أ)  rhyme_قافية الألف (إ)  rhyme_قافية الألف (ا)  \\\n",
       "0                           0                      0                      0   \n",
       "1                           0                      0                      1   \n",
       "2                           0                      0                      1   \n",
       "3                           0                      0                      1   \n",
       "4                           0                      0                      0   \n",
       "\n",
       "   rhyme_قافية الباء (ب)  rhyme_قافية التاء (ت)  \\\n",
       "0                      0                      0   \n",
       "1                      0                      0   \n",
       "2                      0                      0   \n",
       "3                      0                      0   \n",
       "4                      1                      0   \n",
       "\n",
       "   rhyme_قافية التاء المربوطة (ة)  rhyme_قافية الثاء (ث)  \\\n",
       "0                               0                      0   \n",
       "1                               0                      0   \n",
       "2                               0                      0   \n",
       "3                               0                      0   \n",
       "4                               0                      0   \n",
       "\n",
       "   rhyme_قافية الجيم (ج)  rhyme_قافية الحاء (ح)  rhyme_قافية الخاء (خ)  \\\n",
       "0                      0                      0                      0   \n",
       "1                      0                      0                      0   \n",
       "2                      0                      0                      0   \n",
       "3                      0                      0                      0   \n",
       "4                      0                      0                      0   \n",
       "\n",
       "   rhyme_قافية الدال (د)  rhyme_قافية الذال (ذ)  rhyme_قافية الراء (ر)  \\\n",
       "0                      1                      0                      0   \n",
       "1                      0                      0                      0   \n",
       "2                      0                      0                      0   \n",
       "3                      0                      0                      0   \n",
       "4                      0                      0                      0   \n",
       "\n",
       "   rhyme_قافية الزاى (ز)  rhyme_قافية السين (س)  rhyme_قافية الشين (ش)  \\\n",
       "0                      0                      0                      0   \n",
       "1                      0                      0                      0   \n",
       "2                      0                      0                      0   \n",
       "3                      0                      0                      0   \n",
       "4                      0                      0                      0   \n",
       "\n",
       "   rhyme_قافية الصاد (ص)  rhyme_قافية الضاد (ض)  rhyme_قافية الطاء (ط)  \\\n",
       "0                      0                      0                      0   \n",
       "1                      0                      0                      0   \n",
       "2                      0                      0                      0   \n",
       "3                      0                      0                      0   \n",
       "4                      0                      0                      0   \n",
       "\n",
       "   rhyme_قافية الظاء (ظ)  rhyme_قافية العين (ع)  rhyme_قافية الغين (غ)  \\\n",
       "0                      0                      0                      0   \n",
       "1                      0                      0                      0   \n",
       "2                      0                      0                      0   \n",
       "3                      0                      0                      0   \n",
       "4                      0                      0                      0   \n",
       "\n",
       "   rhyme_قافية الفاء (ف)  rhyme_قافية القاف (ق)  rhyme_قافية الكاف (ك)  \\\n",
       "0                      0                      0                      0   \n",
       "1                      0                      0                      0   \n",
       "2                      0                      0                      0   \n",
       "3                      0                      0                      0   \n",
       "4                      0                      0                      0   \n",
       "\n",
       "   rhyme_قافية اللام (ل)  rhyme_قافية الميم (م)  rhyme_قافية النون (ن)  \\\n",
       "0                      0                      0                      0   \n",
       "1                      0                      0                      0   \n",
       "2                      0                      0                      0   \n",
       "3                      0                      0                      0   \n",
       "4                      0                      0                      0   \n",
       "\n",
       "   rhyme_قافية الهاء (ه)  rhyme_قافية الهمزة (ء)  rhyme_قافية الواو (و)  \\\n",
       "0                      0                       0                      0   \n",
       "1                      0                       0                      0   \n",
       "2                      0                       0                      0   \n",
       "3                      0                       0                      0   \n",
       "4                      0                       0                      0   \n",
       "\n",
       "   rhyme_قافية الياء (ى)  rhyme_قافية الياء (ي)  rhyme_قافية واو همزة (ؤ)  \\\n",
       "0                      0                      0                         0   \n",
       "1                      0                      0                         0   \n",
       "2                      0                      0                         0   \n",
       "3                      0                      0                         0   \n",
       "4                      0                      0                         0   \n",
       "\n",
       "   rhyme_قافية ياء همزة (ئ)  text_length  text_length_log  \\\n",
       "0                         0          255         5.545177   \n",
       "1                         0         4658         8.446556   \n",
       "2                         0           66         4.204693   \n",
       "3                         0           78         4.369448   \n",
       "4                         0           73         4.304065   \n",
       "\n",
       "                                     bert_input_text  era_encoded  \n",
       "0  سَلامٌ في الصَحيفَةِ مِن لَقيطٍ\\nإِلى مَن بِال...            4  \n",
       "1  يا دارَ عَمرَةَ مِن مُحتَلِّها الجَرَعا\\nهاجَت...            4  \n",
       "2  وَخانَنا خَوّانٌ في اِرتِباعِنا\\nفَاِنفَدَّ لِ...            4  \n",
       "3  تَنَحَّ إِلَيكُم يا اِبنَ كوزٍ فَإِنَّنا\\nوَإِ...            4  \n",
       "4  تُطارِحُهُ الأَنسابُ حَتّى رَدَدنَهُ\\nإِلى نَس...            4  "
      ]
     },
     "execution_count": 107,
     "metadata": {},
     "output_type": "execute_result"
    }
   ],
   "source": [
    "pd.set_option('display.max_columns', None)\n",
    "df_features.head()\n"
   ]
  },
  {
   "cell_type": "code",
   "execution_count": null,
   "id": "80edb31d",
   "metadata": {},
   "outputs": [],
   "source": [
    "MODEL_NAME = \"aubmindlab/bert-base-arabertv02\"\n",
    "tokenizer = AutoTokenizer.from_pretrained(MODEL_NAME)\n",
    "\n",
    "def tokenize_function(texts, max_length=512):\n",
    "    \"\"\"Tokenize texts for BERT\"\"\"\n",
    "    return tokenizer(\n",
    "        texts,\n",
    "        truncation=True,\n",
    "        padding=True,\n",
    "        max_length=max_length,\n",
    "        return_tensors=\"pt\"\n",
    "    )\n",
    "\n",
    "class PoetryDataset(torch.utils.data.Dataset):\n",
    "    def __init__(self, texts, labels, tokenizer, max_length=512):\n",
    "        self.texts = texts\n",
    "        self.labels = labels\n",
    "        self.tokenizer = tokenizer\n",
    "        self.max_length = max_length\n",
    "    \n",
    "    def __len__(self):\n",
    "        return len(self.texts)\n",
    "    \n",
    "    def __getitem__(self, idx):\n",
    "        text = str(self.texts[idx])\n",
    "        label = self.labels[idx]\n",
    "        \n",
    "        encoding = self.tokenizer(\n",
    "            text,\n",
    "            truncation=True,\n",
    "            padding='max_length',\n",
    "            max_length=self.max_length,\n",
    "            return_tensors='pt'\n",
    "        )\n",
    "        \n",
    "        return {\n",
    "            'input_ids': encoding['input_ids'].flatten(),\n",
    "            'attention_mask': encoding['attention_mask'].flatten(),\n",
    "            'labels': torch.tensor(label, dtype=torch.long)\n",
    "        }"
   ]
  },
  {
   "cell_type": "code",
   "execution_count": null,
   "id": "44900e62",
   "metadata": {},
   "outputs": [
    {
     "name": "stdout",
     "output_type": "stream",
     "text": [
      "Train size: 47516\n",
      "Validation size: 11880\n",
      "Test size: 14850\n"
     ]
    }
   ],
   "source": [
    "X = df_features['bert_input_text'].values\n",
    "y = df_features['era_encoded'].values\n",
    "\n",
    "X_train, X_test, y_train, y_test = train_test_split(\n",
    "    X, y, \n",
    "    test_size=0.2, \n",
    "    random_state=42, \n",
    "    stratify=y\n",
    ")\n",
    "\n",
    "X_train, X_val, y_train, y_val = train_test_split(\n",
    "    X_train, y_train, \n",
    "    test_size=0.2, \n",
    "    random_state=42, \n",
    "    stratify=y_train\n",
    ")\n",
    "\n",
    "print(f\"Train size: {len(X_train)}\")\n",
    "print(f\"Validation size: {len(X_val)}\")\n",
    "print(f\"Test size: {len(X_test)}\")\n",
    "\n",
    "train_dataset = PoetryDataset(X_train, y_train, tokenizer)\n",
    "val_dataset = PoetryDataset(X_val, y_val, tokenizer)\n",
    "test_dataset = PoetryDataset(X_test, y_test, tokenizer)"
   ]
  },
  {
   "cell_type": "code",
   "execution_count": null,
   "id": "20c5c710",
   "metadata": {},
   "outputs": [
    {
     "name": "stderr",
     "output_type": "stream",
     "text": [
      "Some weights of BertForSequenceClassification were not initialized from the model checkpoint at aubmindlab/bert-base-arabertv02 and are newly initialized: ['classifier.bias', 'classifier.weight']\n",
      "You should probably TRAIN this model on a down-stream task to be able to use it for predictions and inference.\n"
     ]
    },
    {
     "name": "stdout",
     "output_type": "stream",
     "text": [
      "Starting training...\n"
     ]
    },
    {
     "data": {
      "text/html": [
       "\n",
       "    <div>\n",
       "      \n",
       "      <progress value='7425' max='7425' style='width:300px; height:20px; vertical-align: middle;'></progress>\n",
       "      [7425/7425 1:14:31, Epoch 5/5]\n",
       "    </div>\n",
       "    <table border=\"1\" class=\"dataframe\">\n",
       "  <thead>\n",
       " <tr style=\"text-align: left;\">\n",
       "      <th>Step</th>\n",
       "      <th>Training Loss</th>\n",
       "      <th>Validation Loss</th>\n",
       "    </tr>\n",
       "  </thead>\n",
       "  <tbody>\n",
       "    <tr>\n",
       "      <td>500</td>\n",
       "      <td>2.041900</td>\n",
       "      <td>2.033698</td>\n",
       "    </tr>\n",
       "    <tr>\n",
       "      <td>1000</td>\n",
       "      <td>2.006400</td>\n",
       "      <td>1.972479</td>\n",
       "    </tr>\n",
       "    <tr>\n",
       "      <td>1500</td>\n",
       "      <td>1.915000</td>\n",
       "      <td>1.937073</td>\n",
       "    </tr>\n",
       "    <tr>\n",
       "      <td>2000</td>\n",
       "      <td>1.854000</td>\n",
       "      <td>1.951222</td>\n",
       "    </tr>\n",
       "    <tr>\n",
       "      <td>2500</td>\n",
       "      <td>1.884100</td>\n",
       "      <td>1.875212</td>\n",
       "    </tr>\n",
       "    <tr>\n",
       "      <td>3000</td>\n",
       "      <td>1.812000</td>\n",
       "      <td>1.898154</td>\n",
       "    </tr>\n",
       "    <tr>\n",
       "      <td>3500</td>\n",
       "      <td>1.686400</td>\n",
       "      <td>1.896579</td>\n",
       "    </tr>\n",
       "    <tr>\n",
       "      <td>4000</td>\n",
       "      <td>1.675900</td>\n",
       "      <td>1.861575</td>\n",
       "    </tr>\n",
       "    <tr>\n",
       "      <td>4500</td>\n",
       "      <td>1.545700</td>\n",
       "      <td>1.940854</td>\n",
       "    </tr>\n",
       "    <tr>\n",
       "      <td>5000</td>\n",
       "      <td>1.506600</td>\n",
       "      <td>1.980323</td>\n",
       "    </tr>\n",
       "    <tr>\n",
       "      <td>5500</td>\n",
       "      <td>1.512500</td>\n",
       "      <td>1.954812</td>\n",
       "    </tr>\n",
       "    <tr>\n",
       "      <td>6000</td>\n",
       "      <td>1.349200</td>\n",
       "      <td>2.017857</td>\n",
       "    </tr>\n",
       "    <tr>\n",
       "      <td>6500</td>\n",
       "      <td>1.316500</td>\n",
       "      <td>2.017507</td>\n",
       "    </tr>\n",
       "    <tr>\n",
       "      <td>7000</td>\n",
       "      <td>1.346000</td>\n",
       "      <td>2.017256</td>\n",
       "    </tr>\n",
       "  </tbody>\n",
       "</table><p>"
      ],
      "text/plain": [
       "<IPython.core.display.HTML object>"
      ]
     },
     "metadata": {},
     "output_type": "display_data"
    },
    {
     "name": "stdout",
     "output_type": "stream",
     "text": [
      "Training completed!\n"
     ]
    }
   ],
   "source": [
    "model = AutoModelForSequenceClassification.from_pretrained(\n",
    "    MODEL_NAME,\n",
    "    num_labels=n_classes,\n",
    "    problem_type=\"single_label_classification\"\n",
    ")\n",
    "\n",
    "model = model.to(device)\n",
    "\n",
    "class WeightedTrainer(Trainer):\n",
    "    def compute_loss(self, model, inputs, return_outputs=False, **kwargs):\n",
    "        labels = inputs.get(\"labels\")\n",
    "        outputs = model(**inputs)\n",
    "        logits = outputs.get(\"logits\")\n",
    "        \n",
    "        weight_tensor = torch.tensor([class_weights_dict[i] for i in range(n_classes)], \n",
    "                                   dtype=torch.float).to(device)\n",
    "        loss_fct = torch.nn.CrossEntropyLoss(weight=weight_tensor)\n",
    "        loss = loss_fct(logits.view(-1, n_classes), labels.view(-1))\n",
    "        \n",
    "        return (loss, outputs) if return_outputs else loss\n",
    "\n",
    "training_args = TrainingArguments(\n",
    "    output_dir='./results',\n",
    "    num_train_epochs=5,\n",
    "    per_device_train_batch_size=32, \n",
    "    per_device_eval_batch_size=32,\n",
    "    warmup_steps=500,\n",
    "    weight_decay=0.01,\n",
    "    logging_dir='./logs',\n",
    "    logging_steps=100,\n",
    "    eval_strategy=\"steps\",  \n",
    "    eval_steps=500,\n",
    "    save_strategy=\"steps\",\n",
    "    save_steps=500,\n",
    "    load_best_model_at_end=True,\n",
    "    metric_for_best_model=\"eval_loss\",\n",
    "    greater_is_better=False,\n",
    "    save_total_limit=2,\n",
    "    seed=42,\n",
    "    fp16=True, \n",
    ")\n",
    "\n",
    "trainer = WeightedTrainer(\n",
    "    model=model,\n",
    "    args=training_args,\n",
    "    train_dataset=train_dataset,\n",
    "    eval_dataset=val_dataset,\n",
    "    tokenizer=tokenizer,\n",
    ")\n",
    "\n",
    "print(\"Starting training...\")\n",
    "trainer.train()\n",
    "print(\"Training completed!\")"
   ]
  },
  {
   "cell_type": "code",
   "execution_count": null,
   "id": "fb06e61d",
   "metadata": {},
   "outputs": [
    {
     "data": {
      "text/html": [],
      "text/plain": [
       "<IPython.core.display.HTML object>"
      ]
     },
     "metadata": {},
     "output_type": "display_data"
    },
    {
     "name": "stdout",
     "output_type": "stream",
     "text": [
      "Test Accuracy: 0.2869\n",
      "F1 Score (Macro): 0.2611\n",
      "F1 Score (Weighted): 0.3015\n",
      "\n",
      "Classification Report:\n",
      "                precision    recall  f1-score   support\n",
      "\n",
      "العصر الأندلسي       0.23      0.30      0.26      1209\n",
      "العصر الاسلامي       0.14      0.13      0.14        67\n",
      "  العصر الاموي       0.31      0.15      0.20      1458\n",
      " العصر الايوبي       0.28      0.31      0.29      1618\n",
      " العصر الجاهلي       0.12      0.19      0.15       469\n",
      " العصر العباسي       0.56      0.19      0.29      5288\n",
      "العصر العثماني       0.46      0.50      0.48      1491\n",
      "العصر المملوكي       0.42      0.35      0.38      2594\n",
      "     المخضرمون       0.10      0.64      0.17       656\n",
      "\n",
      "      accuracy                           0.29     14850\n",
      "     macro avg       0.29      0.31      0.26     14850\n",
      "  weighted avg       0.41      0.29      0.30     14850\n",
      "\n",
      "\n",
      "Confusion Matrix:\n",
      "[[ 367    2   34  152   30  131  114  135  244]\n",
      " [   5    9    8    4   14    6    3    3   15]\n",
      " [  37   15  223   64  175  117   29   66  732]\n",
      " [ 202    5   44  504   39  153  165  187  319]\n",
      " [  16    3   33   24   88   30    6   20  249]\n",
      " [ 529   19  255  620  243 1012  291  596 1723]\n",
      " [ 143    1   34  148    7   84  743  224  107]\n",
      " [ 307    1   58  254   46  249  258  895  526]\n",
      " [  14   11   37   32   92   30    6   15  419]]\n"
     ]
    }
   ],
   "source": [
    "predictions = trainer.predict(test_dataset)\n",
    "y_pred = np.argmax(predictions.predictions, axis=1)\n",
    "\n",
    "accuracy = accuracy_score(y_test, y_pred)\n",
    "f1_macro = f1_score(y_test, y_pred, average='macro')\n",
    "f1_weighted = f1_score(y_test, y_pred, average='weighted')\n",
    "\n",
    "print(f\"Test Accuracy: {accuracy:.4f}\")\n",
    "print(f\"F1 Score (Macro): {f1_macro:.4f}\")\n",
    "print(f\"F1 Score (Weighted): {f1_weighted:.4f}\")\n",
    "\n",
    "print(\"\\nClassification Report:\")\n",
    "print(classification_report(y_test, y_pred, target_names=class_names))\n",
    "\n",
    "cm = confusion_matrix(y_test, y_pred)\n",
    "print(\"\\nConfusion Matrix:\")\n",
    "print(cm)"
   ]
  },
  {
   "cell_type": "code",
   "execution_count": null,
   "id": "61453b55",
   "metadata": {},
   "outputs": [
    {
     "name": "stdout",
     "output_type": "stream",
     "text": [
      "Per-class performance:\n",
      "              Era  Precision  Recall  F1-Score  Support\n",
      "0  العصر الأندلسي     0.2265  0.3036    0.2595     1209\n",
      "1  العصر الاسلامي     0.1364  0.1343    0.1353       67\n",
      "2    العصر الاموي     0.3072  0.1529    0.2042     1458\n",
      "3   العصر الايوبي     0.2797  0.3115    0.2947     1618\n",
      "4   العصر الجاهلي     0.1199  0.1876    0.1463      469\n",
      "5   العصر العباسي     0.5585  0.1914    0.2851     5288\n",
      "6  العصر العثماني     0.4601  0.4983    0.4784     1491\n",
      "7  العصر المملوكي     0.4180  0.3450    0.3780     2594\n",
      "8       المخضرمون     0.0967  0.6387    0.1679      656\n",
      "\n",
      "Challenging classes (F1 < 0.5): ['العصر الأندلسي', 'العصر الاسلامي', 'العصر الاموي', 'العصر الايوبي', 'العصر الجاهلي', 'العصر العباسي', 'العصر العثماني', 'العصر المملوكي', 'المخضرمون']\n"
     ]
    }
   ],
   "source": [
    "from sklearn.metrics import precision_recall_fscore_support\n",
    "\n",
    "precision, recall, f1, support = precision_recall_fscore_support(y_test, y_pred)\n",
    "\n",
    "results_df = pd.DataFrame({\n",
    "    'Era': class_names,\n",
    "    'Precision': precision,\n",
    "    'Recall': recall,\n",
    "    'F1-Score': f1,\n",
    "    'Support': support\n",
    "})\n",
    "\n",
    "print(\"Per-class performance:\")\n",
    "print(results_df.round(4))\n",
    "\n",
    "challenging_classes = results_df[results_df['F1-Score'] < 0.5]['Era'].tolist()\n",
    "print(f\"\\nChallenging classes (F1 < 0.5): {challenging_classes}\")"
   ]
  },
  {
   "cell_type": "markdown",
   "id": "f7cd2a57",
   "metadata": {},
   "source": [
    "The results of training is so poor so I suggest now to remove diacritics (Harakat) from the poems, and retrain again"
   ]
  },
  {
   "cell_type": "code",
   "execution_count": null,
   "id": "5b4b9a17",
   "metadata": {},
   "outputs": [
    {
     "data": {
      "text/html": [
       "<div>\n",
       "<style scoped>\n",
       "    .dataframe tbody tr th:only-of-type {\n",
       "        vertical-align: middle;\n",
       "    }\n",
       "\n",
       "    .dataframe tbody tr th {\n",
       "        vertical-align: top;\n",
       "    }\n",
       "\n",
       "    .dataframe thead th {\n",
       "        text-align: right;\n",
       "    }\n",
       "</style>\n",
       "<table border=\"1\" class=\"dataframe\">\n",
       "  <thead>\n",
       "    <tr style=\"text-align: right;\">\n",
       "      <th></th>\n",
       "      <th>poet_name</th>\n",
       "      <th>poet_era</th>\n",
       "      <th>poem_tags</th>\n",
       "      <th>poem_title</th>\n",
       "      <th>poem_text</th>\n",
       "      <th>poem_count</th>\n",
       "      <th>is_short_poem</th>\n",
       "      <th>is_long_poem</th>\n",
       "      <th>genre_قصائد ابتهال</th>\n",
       "      <th>genre_قصائد اعتذار</th>\n",
       "      <th>genre_قصائد الاناشيد</th>\n",
       "      <th>genre_قصائد المعلقات</th>\n",
       "      <th>genre_قصائد جود وكرم</th>\n",
       "      <th>genre_قصائد حزينه</th>\n",
       "      <th>genre_قصائد حكمة</th>\n",
       "      <th>genre_قصائد دينية</th>\n",
       "      <th>genre_قصائد ذم</th>\n",
       "      <th>genre_قصائد رثاء</th>\n",
       "      <th>genre_قصائد رحمة</th>\n",
       "      <th>genre_قصائد رومنسيه</th>\n",
       "      <th>genre_قصائد سياسية</th>\n",
       "      <th>genre_قصائد شوق</th>\n",
       "      <th>genre_قصائد صبر</th>\n",
       "      <th>genre_قصائد عامه</th>\n",
       "      <th>genre_قصائد عتاب</th>\n",
       "      <th>genre_قصائد عدل</th>\n",
       "      <th>genre_قصائد غزل</th>\n",
       "      <th>genre_قصائد فراق</th>\n",
       "      <th>genre_قصائد قصيره</th>\n",
       "      <th>genre_قصائد مدح</th>\n",
       "      <th>genre_قصائد نصيحة</th>\n",
       "      <th>genre_قصائد هجاء</th>\n",
       "      <th>genre_قصائد وطنيه</th>\n",
       "      <th>style_عموديه</th>\n",
       "      <th>style_التفعيله</th>\n",
       "      <th>style_نثريه</th>\n",
       "      <th>meter_بحر أحذ الكامل</th>\n",
       "      <th>meter_بحر أحذ الوافر</th>\n",
       "      <th>meter_بحر البسيط</th>\n",
       "      <th>meter_بحر الخفيف</th>\n",
       "      <th>meter_بحر الدوبيت</th>\n",
       "      <th>meter_بحر الرجز</th>\n",
       "      <th>meter_بحر الرمل</th>\n",
       "      <th>meter_بحر السريع</th>\n",
       "      <th>meter_بحر السلسلة</th>\n",
       "      <th>meter_بحر الطويل</th>\n",
       "      <th>meter_بحر القوما</th>\n",
       "      <th>meter_بحر الكامل</th>\n",
       "      <th>meter_بحر المتدارك</th>\n",
       "      <th>meter_بحر المتقارب</th>\n",
       "      <th>meter_بحر المجتث</th>\n",
       "      <th>meter_بحر المديد</th>\n",
       "      <th>meter_بحر المضارع</th>\n",
       "      <th>meter_بحر المقتضب</th>\n",
       "      <th>meter_بحر المنسرح</th>\n",
       "      <th>meter_بحر المواليا</th>\n",
       "      <th>meter_بحر الهزج</th>\n",
       "      <th>meter_بحر الوافر</th>\n",
       "      <th>meter_بحر تفعيلة الكامل</th>\n",
       "      <th>meter_بحر مجزوء البسيط</th>\n",
       "      <th>meter_بحر مجزوء الخفيف</th>\n",
       "      <th>meter_بحر مجزوء الدوبيت</th>\n",
       "      <th>meter_بحر مجزوء الرجز</th>\n",
       "      <th>meter_بحر مجزوء الرمل</th>\n",
       "      <th>meter_بحر مجزوء السريع</th>\n",
       "      <th>meter_بحر مجزوء الطويل</th>\n",
       "      <th>meter_بحر مجزوء الكامل</th>\n",
       "      <th>meter_بحر مجزوء المتدارك</th>\n",
       "      <th>meter_بحر مجزوء المتقارب</th>\n",
       "      <th>meter_بحر مجزوء المجتث</th>\n",
       "      <th>meter_بحر مجزوء المديد</th>\n",
       "      <th>meter_بحر مجزوء المنسرح</th>\n",
       "      <th>meter_بحر مجزوء المواليا</th>\n",
       "      <th>meter_بحر مجزوء الهزج</th>\n",
       "      <th>meter_بحر مجزوء الوافر</th>\n",
       "      <th>meter_بحر مجزوء موشح</th>\n",
       "      <th>meter_بحر مخلع البسيط</th>\n",
       "      <th>meter_بحر مخلع الرجز</th>\n",
       "      <th>meter_بحر مخلع الرمل</th>\n",
       "      <th>meter_بحر مخلع السريع</th>\n",
       "      <th>meter_بحر مخلع الكامل</th>\n",
       "      <th>meter_بحر مخلع موشح</th>\n",
       "      <th>meter_بحر مربع الرجز</th>\n",
       "      <th>meter_بحر مشطور الرجز</th>\n",
       "      <th>meter_بحر مشطور السريع</th>\n",
       "      <th>meter_بحر مشطور الطويل</th>\n",
       "      <th>meter_بحر منهوك البسيط</th>\n",
       "      <th>meter_بحر منهوك الرجز</th>\n",
       "      <th>meter_بحر منهوك الكامل</th>\n",
       "      <th>meter_بحر منهوك المنسرح</th>\n",
       "      <th>meter_بحر موشح</th>\n",
       "      <th>rhyme_قافية  الحاء (ح)</th>\n",
       "      <th>rhyme_قافية (#)</th>\n",
       "      <th>rhyme_قافية (الالف)</th>\n",
       "      <th>rhyme_قافية (الحاء)</th>\n",
       "      <th>rhyme_قافية (الدال)</th>\n",
       "      <th>rhyme_قافية (الراء)</th>\n",
       "      <th>rhyme_قافية (العين)</th>\n",
       "      <th>rhyme_قافية (الفاء)</th>\n",
       "      <th>rhyme_قافية (القاف)</th>\n",
       "      <th>rhyme_قافية (اللام)</th>\n",
       "      <th>rhyme_قافية (الميم)</th>\n",
       "      <th>rhyme_قافية (النون)</th>\n",
       "      <th>rhyme_قافية (الياء)</th>\n",
       "      <th>rhyme_قافية (لا)</th>\n",
       "      <th>rhyme_قافية (لام مكسورة)</th>\n",
       "      <th>rhyme_قافية ألف الهمزة (أ)</th>\n",
       "      <th>rhyme_قافية الألف (إ)</th>\n",
       "      <th>rhyme_قافية الألف (ا)</th>\n",
       "      <th>rhyme_قافية الباء (ب)</th>\n",
       "      <th>rhyme_قافية التاء (ت)</th>\n",
       "      <th>rhyme_قافية التاء المربوطة (ة)</th>\n",
       "      <th>rhyme_قافية الثاء (ث)</th>\n",
       "      <th>rhyme_قافية الجيم (ج)</th>\n",
       "      <th>rhyme_قافية الحاء (ح)</th>\n",
       "      <th>rhyme_قافية الخاء (خ)</th>\n",
       "      <th>rhyme_قافية الدال (د)</th>\n",
       "      <th>rhyme_قافية الذال (ذ)</th>\n",
       "      <th>rhyme_قافية الراء (ر)</th>\n",
       "      <th>rhyme_قافية الزاى (ز)</th>\n",
       "      <th>rhyme_قافية السين (س)</th>\n",
       "      <th>rhyme_قافية الشين (ش)</th>\n",
       "      <th>rhyme_قافية الصاد (ص)</th>\n",
       "      <th>rhyme_قافية الضاد (ض)</th>\n",
       "      <th>rhyme_قافية الطاء (ط)</th>\n",
       "      <th>rhyme_قافية الظاء (ظ)</th>\n",
       "      <th>rhyme_قافية العين (ع)</th>\n",
       "      <th>rhyme_قافية الغين (غ)</th>\n",
       "      <th>rhyme_قافية الفاء (ف)</th>\n",
       "      <th>rhyme_قافية القاف (ق)</th>\n",
       "      <th>rhyme_قافية الكاف (ك)</th>\n",
       "      <th>rhyme_قافية اللام (ل)</th>\n",
       "      <th>rhyme_قافية الميم (م)</th>\n",
       "      <th>rhyme_قافية النون (ن)</th>\n",
       "      <th>rhyme_قافية الهاء (ه)</th>\n",
       "      <th>rhyme_قافية الهمزة (ء)</th>\n",
       "      <th>rhyme_قافية الواو (و)</th>\n",
       "      <th>rhyme_قافية الياء (ى)</th>\n",
       "      <th>rhyme_قافية الياء (ي)</th>\n",
       "      <th>rhyme_قافية واو همزة (ؤ)</th>\n",
       "      <th>rhyme_قافية ياء همزة (ئ)</th>\n",
       "      <th>text_length</th>\n",
       "      <th>text_length_log</th>\n",
       "      <th>bert_input_text</th>\n",
       "      <th>era_encoded</th>\n",
       "    </tr>\n",
       "  </thead>\n",
       "  <tbody>\n",
       "    <tr>\n",
       "      <th>0</th>\n",
       "      <td>لقيط بن يعمر الإيادي</td>\n",
       "      <td>العصر الجاهلي</td>\n",
       "      <td>قصائد هجاء, عموديه, بحر الوافر,  قافية الدال (د)</td>\n",
       "      <td>سلام في الصحيفة من لقيط</td>\n",
       "      <td>سلام في الصحيفة من لقيط\\nإلى من بالجزيرة من إي...</td>\n",
       "      <td>4</td>\n",
       "      <td>1</td>\n",
       "      <td>0</td>\n",
       "      <td>0</td>\n",
       "      <td>0</td>\n",
       "      <td>0</td>\n",
       "      <td>0</td>\n",
       "      <td>0</td>\n",
       "      <td>0</td>\n",
       "      <td>0</td>\n",
       "      <td>0</td>\n",
       "      <td>0</td>\n",
       "      <td>0</td>\n",
       "      <td>0</td>\n",
       "      <td>0</td>\n",
       "      <td>0</td>\n",
       "      <td>0</td>\n",
       "      <td>0</td>\n",
       "      <td>0</td>\n",
       "      <td>0</td>\n",
       "      <td>0</td>\n",
       "      <td>0</td>\n",
       "      <td>0</td>\n",
       "      <td>0</td>\n",
       "      <td>0</td>\n",
       "      <td>0</td>\n",
       "      <td>1</td>\n",
       "      <td>0</td>\n",
       "      <td>1</td>\n",
       "      <td>0</td>\n",
       "      <td>0</td>\n",
       "      <td>0</td>\n",
       "      <td>0</td>\n",
       "      <td>0</td>\n",
       "      <td>0</td>\n",
       "      <td>0</td>\n",
       "      <td>0</td>\n",
       "      <td>0</td>\n",
       "      <td>0</td>\n",
       "      <td>0</td>\n",
       "      <td>0</td>\n",
       "      <td>0</td>\n",
       "      <td>0</td>\n",
       "      <td>0</td>\n",
       "      <td>0</td>\n",
       "      <td>0</td>\n",
       "      <td>0</td>\n",
       "      <td>0</td>\n",
       "      <td>0</td>\n",
       "      <td>0</td>\n",
       "      <td>0</td>\n",
       "      <td>0</td>\n",
       "      <td>1</td>\n",
       "      <td>0</td>\n",
       "      <td>0</td>\n",
       "      <td>0</td>\n",
       "      <td>0</td>\n",
       "      <td>0</td>\n",
       "      <td>0</td>\n",
       "      <td>0</td>\n",
       "      <td>0</td>\n",
       "      <td>0</td>\n",
       "      <td>0</td>\n",
       "      <td>0</td>\n",
       "      <td>0</td>\n",
       "      <td>0</td>\n",
       "      <td>0</td>\n",
       "      <td>0</td>\n",
       "      <td>0</td>\n",
       "      <td>0</td>\n",
       "      <td>0</td>\n",
       "      <td>0</td>\n",
       "      <td>0</td>\n",
       "      <td>0</td>\n",
       "      <td>0</td>\n",
       "      <td>0</td>\n",
       "      <td>0</td>\n",
       "      <td>0</td>\n",
       "      <td>0</td>\n",
       "      <td>0</td>\n",
       "      <td>0</td>\n",
       "      <td>0</td>\n",
       "      <td>0</td>\n",
       "      <td>0</td>\n",
       "      <td>0</td>\n",
       "      <td>0</td>\n",
       "      <td>0</td>\n",
       "      <td>0</td>\n",
       "      <td>0</td>\n",
       "      <td>0</td>\n",
       "      <td>0</td>\n",
       "      <td>0</td>\n",
       "      <td>0</td>\n",
       "      <td>0</td>\n",
       "      <td>0</td>\n",
       "      <td>0</td>\n",
       "      <td>0</td>\n",
       "      <td>0</td>\n",
       "      <td>0</td>\n",
       "      <td>0</td>\n",
       "      <td>0</td>\n",
       "      <td>0</td>\n",
       "      <td>0</td>\n",
       "      <td>0</td>\n",
       "      <td>0</td>\n",
       "      <td>0</td>\n",
       "      <td>0</td>\n",
       "      <td>0</td>\n",
       "      <td>0</td>\n",
       "      <td>0</td>\n",
       "      <td>0</td>\n",
       "      <td>1</td>\n",
       "      <td>0</td>\n",
       "      <td>0</td>\n",
       "      <td>0</td>\n",
       "      <td>0</td>\n",
       "      <td>0</td>\n",
       "      <td>0</td>\n",
       "      <td>0</td>\n",
       "      <td>0</td>\n",
       "      <td>0</td>\n",
       "      <td>0</td>\n",
       "      <td>0</td>\n",
       "      <td>0</td>\n",
       "      <td>0</td>\n",
       "      <td>0</td>\n",
       "      <td>0</td>\n",
       "      <td>0</td>\n",
       "      <td>0</td>\n",
       "      <td>0</td>\n",
       "      <td>0</td>\n",
       "      <td>0</td>\n",
       "      <td>0</td>\n",
       "      <td>0</td>\n",
       "      <td>0</td>\n",
       "      <td>0</td>\n",
       "      <td>255</td>\n",
       "      <td>5.545177</td>\n",
       "      <td>سَلامٌ في الصَحيفَةِ مِن لَقيطٍ\\nإِلى مَن بِال...</td>\n",
       "      <td>4</td>\n",
       "    </tr>\n",
       "    <tr>\n",
       "      <th>1</th>\n",
       "      <td>لقيط بن يعمر الإيادي</td>\n",
       "      <td>العصر الجاهلي</td>\n",
       "      <td>قصائد حزينه, عموديه, بحر البسيط,  قافية الألف ...</td>\n",
       "      <td>يا دار عمرة من محتلها الجرعا</td>\n",
       "      <td>يا دار عمرة من محتلها الجرعا\\nهاجت لي الهم وال...</td>\n",
       "      <td>60</td>\n",
       "      <td>0</td>\n",
       "      <td>1</td>\n",
       "      <td>0</td>\n",
       "      <td>0</td>\n",
       "      <td>0</td>\n",
       "      <td>0</td>\n",
       "      <td>0</td>\n",
       "      <td>1</td>\n",
       "      <td>0</td>\n",
       "      <td>0</td>\n",
       "      <td>0</td>\n",
       "      <td>0</td>\n",
       "      <td>0</td>\n",
       "      <td>0</td>\n",
       "      <td>0</td>\n",
       "      <td>0</td>\n",
       "      <td>0</td>\n",
       "      <td>0</td>\n",
       "      <td>0</td>\n",
       "      <td>0</td>\n",
       "      <td>0</td>\n",
       "      <td>0</td>\n",
       "      <td>0</td>\n",
       "      <td>0</td>\n",
       "      <td>0</td>\n",
       "      <td>0</td>\n",
       "      <td>0</td>\n",
       "      <td>1</td>\n",
       "      <td>0</td>\n",
       "      <td>0</td>\n",
       "      <td>0</td>\n",
       "      <td>0</td>\n",
       "      <td>1</td>\n",
       "      <td>0</td>\n",
       "      <td>0</td>\n",
       "      <td>0</td>\n",
       "      <td>0</td>\n",
       "      <td>0</td>\n",
       "      <td>0</td>\n",
       "      <td>0</td>\n",
       "      <td>0</td>\n",
       "      <td>0</td>\n",
       "      <td>0</td>\n",
       "      <td>0</td>\n",
       "      <td>0</td>\n",
       "      <td>0</td>\n",
       "      <td>0</td>\n",
       "      <td>0</td>\n",
       "      <td>0</td>\n",
       "      <td>0</td>\n",
       "      <td>0</td>\n",
       "      <td>0</td>\n",
       "      <td>0</td>\n",
       "      <td>0</td>\n",
       "      <td>0</td>\n",
       "      <td>0</td>\n",
       "      <td>0</td>\n",
       "      <td>0</td>\n",
       "      <td>0</td>\n",
       "      <td>0</td>\n",
       "      <td>0</td>\n",
       "      <td>0</td>\n",
       "      <td>0</td>\n",
       "      <td>0</td>\n",
       "      <td>0</td>\n",
       "      <td>0</td>\n",
       "      <td>0</td>\n",
       "      <td>0</td>\n",
       "      <td>0</td>\n",
       "      <td>0</td>\n",
       "      <td>0</td>\n",
       "      <td>0</td>\n",
       "      <td>0</td>\n",
       "      <td>0</td>\n",
       "      <td>0</td>\n",
       "      <td>0</td>\n",
       "      <td>0</td>\n",
       "      <td>0</td>\n",
       "      <td>0</td>\n",
       "      <td>0</td>\n",
       "      <td>0</td>\n",
       "      <td>0</td>\n",
       "      <td>0</td>\n",
       "      <td>0</td>\n",
       "      <td>0</td>\n",
       "      <td>0</td>\n",
       "      <td>0</td>\n",
       "      <td>0</td>\n",
       "      <td>0</td>\n",
       "      <td>0</td>\n",
       "      <td>0</td>\n",
       "      <td>0</td>\n",
       "      <td>0</td>\n",
       "      <td>0</td>\n",
       "      <td>0</td>\n",
       "      <td>0</td>\n",
       "      <td>0</td>\n",
       "      <td>0</td>\n",
       "      <td>0</td>\n",
       "      <td>0</td>\n",
       "      <td>0</td>\n",
       "      <td>0</td>\n",
       "      <td>1</td>\n",
       "      <td>0</td>\n",
       "      <td>0</td>\n",
       "      <td>0</td>\n",
       "      <td>0</td>\n",
       "      <td>0</td>\n",
       "      <td>0</td>\n",
       "      <td>0</td>\n",
       "      <td>0</td>\n",
       "      <td>0</td>\n",
       "      <td>0</td>\n",
       "      <td>0</td>\n",
       "      <td>0</td>\n",
       "      <td>0</td>\n",
       "      <td>0</td>\n",
       "      <td>0</td>\n",
       "      <td>0</td>\n",
       "      <td>0</td>\n",
       "      <td>0</td>\n",
       "      <td>0</td>\n",
       "      <td>0</td>\n",
       "      <td>0</td>\n",
       "      <td>0</td>\n",
       "      <td>0</td>\n",
       "      <td>0</td>\n",
       "      <td>0</td>\n",
       "      <td>0</td>\n",
       "      <td>0</td>\n",
       "      <td>0</td>\n",
       "      <td>0</td>\n",
       "      <td>0</td>\n",
       "      <td>0</td>\n",
       "      <td>0</td>\n",
       "      <td>4658</td>\n",
       "      <td>8.446556</td>\n",
       "      <td>يا دارَ عَمرَةَ مِن مُحتَلِّها الجَرَعا\\nهاجَت...</td>\n",
       "      <td>4</td>\n",
       "    </tr>\n",
       "    <tr>\n",
       "      <th>2</th>\n",
       "      <td>لقيط بن يعمر الإيادي</td>\n",
       "      <td>العصر الجاهلي</td>\n",
       "      <td>قصائد قصيره, عموديه, بحر الرجز,  قافية الألف (ا)</td>\n",
       "      <td>وخاننا خوان في ارتباعنا</td>\n",
       "      <td>وخاننا خوان في ارتباعنا\\nفانفد للسارح من سوامنا\\n</td>\n",
       "      <td>1</td>\n",
       "      <td>1</td>\n",
       "      <td>0</td>\n",
       "      <td>0</td>\n",
       "      <td>0</td>\n",
       "      <td>0</td>\n",
       "      <td>0</td>\n",
       "      <td>0</td>\n",
       "      <td>0</td>\n",
       "      <td>0</td>\n",
       "      <td>0</td>\n",
       "      <td>0</td>\n",
       "      <td>0</td>\n",
       "      <td>0</td>\n",
       "      <td>0</td>\n",
       "      <td>0</td>\n",
       "      <td>0</td>\n",
       "      <td>0</td>\n",
       "      <td>0</td>\n",
       "      <td>0</td>\n",
       "      <td>0</td>\n",
       "      <td>0</td>\n",
       "      <td>0</td>\n",
       "      <td>1</td>\n",
       "      <td>0</td>\n",
       "      <td>0</td>\n",
       "      <td>0</td>\n",
       "      <td>0</td>\n",
       "      <td>1</td>\n",
       "      <td>0</td>\n",
       "      <td>0</td>\n",
       "      <td>0</td>\n",
       "      <td>0</td>\n",
       "      <td>0</td>\n",
       "      <td>0</td>\n",
       "      <td>0</td>\n",
       "      <td>1</td>\n",
       "      <td>0</td>\n",
       "      <td>0</td>\n",
       "      <td>0</td>\n",
       "      <td>0</td>\n",
       "      <td>0</td>\n",
       "      <td>0</td>\n",
       "      <td>0</td>\n",
       "      <td>0</td>\n",
       "      <td>0</td>\n",
       "      <td>0</td>\n",
       "      <td>0</td>\n",
       "      <td>0</td>\n",
       "      <td>0</td>\n",
       "      <td>0</td>\n",
       "      <td>0</td>\n",
       "      <td>0</td>\n",
       "      <td>0</td>\n",
       "      <td>0</td>\n",
       "      <td>0</td>\n",
       "      <td>0</td>\n",
       "      <td>0</td>\n",
       "      <td>0</td>\n",
       "      <td>0</td>\n",
       "      <td>0</td>\n",
       "      <td>0</td>\n",
       "      <td>0</td>\n",
       "      <td>0</td>\n",
       "      <td>0</td>\n",
       "      <td>0</td>\n",
       "      <td>0</td>\n",
       "      <td>0</td>\n",
       "      <td>0</td>\n",
       "      <td>0</td>\n",
       "      <td>0</td>\n",
       "      <td>0</td>\n",
       "      <td>0</td>\n",
       "      <td>0</td>\n",
       "      <td>0</td>\n",
       "      <td>0</td>\n",
       "      <td>0</td>\n",
       "      <td>0</td>\n",
       "      <td>0</td>\n",
       "      <td>0</td>\n",
       "      <td>0</td>\n",
       "      <td>0</td>\n",
       "      <td>0</td>\n",
       "      <td>0</td>\n",
       "      <td>0</td>\n",
       "      <td>0</td>\n",
       "      <td>0</td>\n",
       "      <td>0</td>\n",
       "      <td>0</td>\n",
       "      <td>0</td>\n",
       "      <td>0</td>\n",
       "      <td>0</td>\n",
       "      <td>0</td>\n",
       "      <td>0</td>\n",
       "      <td>0</td>\n",
       "      <td>0</td>\n",
       "      <td>0</td>\n",
       "      <td>0</td>\n",
       "      <td>0</td>\n",
       "      <td>0</td>\n",
       "      <td>0</td>\n",
       "      <td>0</td>\n",
       "      <td>0</td>\n",
       "      <td>1</td>\n",
       "      <td>0</td>\n",
       "      <td>0</td>\n",
       "      <td>0</td>\n",
       "      <td>0</td>\n",
       "      <td>0</td>\n",
       "      <td>0</td>\n",
       "      <td>0</td>\n",
       "      <td>0</td>\n",
       "      <td>0</td>\n",
       "      <td>0</td>\n",
       "      <td>0</td>\n",
       "      <td>0</td>\n",
       "      <td>0</td>\n",
       "      <td>0</td>\n",
       "      <td>0</td>\n",
       "      <td>0</td>\n",
       "      <td>0</td>\n",
       "      <td>0</td>\n",
       "      <td>0</td>\n",
       "      <td>0</td>\n",
       "      <td>0</td>\n",
       "      <td>0</td>\n",
       "      <td>0</td>\n",
       "      <td>0</td>\n",
       "      <td>0</td>\n",
       "      <td>0</td>\n",
       "      <td>0</td>\n",
       "      <td>0</td>\n",
       "      <td>0</td>\n",
       "      <td>0</td>\n",
       "      <td>0</td>\n",
       "      <td>0</td>\n",
       "      <td>66</td>\n",
       "      <td>4.204693</td>\n",
       "      <td>وَخانَنا خَوّانٌ في اِرتِباعِنا\\nفَاِنفَدَّ لِ...</td>\n",
       "      <td>4</td>\n",
       "    </tr>\n",
       "    <tr>\n",
       "      <th>3</th>\n",
       "      <td>زبان بن سيار الفزاري</td>\n",
       "      <td>العصر الجاهلي</td>\n",
       "      <td>قصائد قصيره, عموديه, بحر الطويل,  قافية الألف ...</td>\n",
       "      <td>تنح إليكم يا ابن كوز فإننا</td>\n",
       "      <td>تنح إليكم يا ابن كوز فإننا\\nوإن ذدتنا راعون بر...</td>\n",
       "      <td>1</td>\n",
       "      <td>1</td>\n",
       "      <td>0</td>\n",
       "      <td>0</td>\n",
       "      <td>0</td>\n",
       "      <td>0</td>\n",
       "      <td>0</td>\n",
       "      <td>0</td>\n",
       "      <td>0</td>\n",
       "      <td>0</td>\n",
       "      <td>0</td>\n",
       "      <td>0</td>\n",
       "      <td>0</td>\n",
       "      <td>0</td>\n",
       "      <td>0</td>\n",
       "      <td>0</td>\n",
       "      <td>0</td>\n",
       "      <td>0</td>\n",
       "      <td>0</td>\n",
       "      <td>0</td>\n",
       "      <td>0</td>\n",
       "      <td>0</td>\n",
       "      <td>0</td>\n",
       "      <td>1</td>\n",
       "      <td>0</td>\n",
       "      <td>0</td>\n",
       "      <td>0</td>\n",
       "      <td>0</td>\n",
       "      <td>1</td>\n",
       "      <td>0</td>\n",
       "      <td>0</td>\n",
       "      <td>0</td>\n",
       "      <td>0</td>\n",
       "      <td>0</td>\n",
       "      <td>0</td>\n",
       "      <td>0</td>\n",
       "      <td>0</td>\n",
       "      <td>0</td>\n",
       "      <td>0</td>\n",
       "      <td>0</td>\n",
       "      <td>1</td>\n",
       "      <td>0</td>\n",
       "      <td>0</td>\n",
       "      <td>0</td>\n",
       "      <td>0</td>\n",
       "      <td>0</td>\n",
       "      <td>0</td>\n",
       "      <td>0</td>\n",
       "      <td>0</td>\n",
       "      <td>0</td>\n",
       "      <td>0</td>\n",
       "      <td>0</td>\n",
       "      <td>0</td>\n",
       "      <td>0</td>\n",
       "      <td>0</td>\n",
       "      <td>0</td>\n",
       "      <td>0</td>\n",
       "      <td>0</td>\n",
       "      <td>0</td>\n",
       "      <td>0</td>\n",
       "      <td>0</td>\n",
       "      <td>0</td>\n",
       "      <td>0</td>\n",
       "      <td>0</td>\n",
       "      <td>0</td>\n",
       "      <td>0</td>\n",
       "      <td>0</td>\n",
       "      <td>0</td>\n",
       "      <td>0</td>\n",
       "      <td>0</td>\n",
       "      <td>0</td>\n",
       "      <td>0</td>\n",
       "      <td>0</td>\n",
       "      <td>0</td>\n",
       "      <td>0</td>\n",
       "      <td>0</td>\n",
       "      <td>0</td>\n",
       "      <td>0</td>\n",
       "      <td>0</td>\n",
       "      <td>0</td>\n",
       "      <td>0</td>\n",
       "      <td>0</td>\n",
       "      <td>0</td>\n",
       "      <td>0</td>\n",
       "      <td>0</td>\n",
       "      <td>0</td>\n",
       "      <td>0</td>\n",
       "      <td>0</td>\n",
       "      <td>0</td>\n",
       "      <td>0</td>\n",
       "      <td>0</td>\n",
       "      <td>0</td>\n",
       "      <td>0</td>\n",
       "      <td>0</td>\n",
       "      <td>0</td>\n",
       "      <td>0</td>\n",
       "      <td>0</td>\n",
       "      <td>0</td>\n",
       "      <td>0</td>\n",
       "      <td>0</td>\n",
       "      <td>0</td>\n",
       "      <td>0</td>\n",
       "      <td>0</td>\n",
       "      <td>1</td>\n",
       "      <td>0</td>\n",
       "      <td>0</td>\n",
       "      <td>0</td>\n",
       "      <td>0</td>\n",
       "      <td>0</td>\n",
       "      <td>0</td>\n",
       "      <td>0</td>\n",
       "      <td>0</td>\n",
       "      <td>0</td>\n",
       "      <td>0</td>\n",
       "      <td>0</td>\n",
       "      <td>0</td>\n",
       "      <td>0</td>\n",
       "      <td>0</td>\n",
       "      <td>0</td>\n",
       "      <td>0</td>\n",
       "      <td>0</td>\n",
       "      <td>0</td>\n",
       "      <td>0</td>\n",
       "      <td>0</td>\n",
       "      <td>0</td>\n",
       "      <td>0</td>\n",
       "      <td>0</td>\n",
       "      <td>0</td>\n",
       "      <td>0</td>\n",
       "      <td>0</td>\n",
       "      <td>0</td>\n",
       "      <td>0</td>\n",
       "      <td>0</td>\n",
       "      <td>0</td>\n",
       "      <td>0</td>\n",
       "      <td>0</td>\n",
       "      <td>78</td>\n",
       "      <td>4.369448</td>\n",
       "      <td>تَنَحَّ إِلَيكُم يا اِبنَ كوزٍ فَإِنَّنا\\nوَإِ...</td>\n",
       "      <td>4</td>\n",
       "    </tr>\n",
       "    <tr>\n",
       "      <th>4</th>\n",
       "      <td>زبان بن سيار الفزاري</td>\n",
       "      <td>العصر الجاهلي</td>\n",
       "      <td>قصائد قصيره, عموديه, بحر الطويل,  قافية الباء ...</td>\n",
       "      <td>تطارحه الأنساب حتى رددنه</td>\n",
       "      <td>تطارحه الأنساب حتى رددنه\\nإلى نسب في أهل دومة ...</td>\n",
       "      <td>1</td>\n",
       "      <td>1</td>\n",
       "      <td>0</td>\n",
       "      <td>0</td>\n",
       "      <td>0</td>\n",
       "      <td>0</td>\n",
       "      <td>0</td>\n",
       "      <td>0</td>\n",
       "      <td>0</td>\n",
       "      <td>0</td>\n",
       "      <td>0</td>\n",
       "      <td>0</td>\n",
       "      <td>0</td>\n",
       "      <td>0</td>\n",
       "      <td>0</td>\n",
       "      <td>0</td>\n",
       "      <td>0</td>\n",
       "      <td>0</td>\n",
       "      <td>0</td>\n",
       "      <td>0</td>\n",
       "      <td>0</td>\n",
       "      <td>0</td>\n",
       "      <td>0</td>\n",
       "      <td>1</td>\n",
       "      <td>0</td>\n",
       "      <td>0</td>\n",
       "      <td>0</td>\n",
       "      <td>0</td>\n",
       "      <td>1</td>\n",
       "      <td>0</td>\n",
       "      <td>0</td>\n",
       "      <td>0</td>\n",
       "      <td>0</td>\n",
       "      <td>0</td>\n",
       "      <td>0</td>\n",
       "      <td>0</td>\n",
       "      <td>0</td>\n",
       "      <td>0</td>\n",
       "      <td>0</td>\n",
       "      <td>0</td>\n",
       "      <td>1</td>\n",
       "      <td>0</td>\n",
       "      <td>0</td>\n",
       "      <td>0</td>\n",
       "      <td>0</td>\n",
       "      <td>0</td>\n",
       "      <td>0</td>\n",
       "      <td>0</td>\n",
       "      <td>0</td>\n",
       "      <td>0</td>\n",
       "      <td>0</td>\n",
       "      <td>0</td>\n",
       "      <td>0</td>\n",
       "      <td>0</td>\n",
       "      <td>0</td>\n",
       "      <td>0</td>\n",
       "      <td>0</td>\n",
       "      <td>0</td>\n",
       "      <td>0</td>\n",
       "      <td>0</td>\n",
       "      <td>0</td>\n",
       "      <td>0</td>\n",
       "      <td>0</td>\n",
       "      <td>0</td>\n",
       "      <td>0</td>\n",
       "      <td>0</td>\n",
       "      <td>0</td>\n",
       "      <td>0</td>\n",
       "      <td>0</td>\n",
       "      <td>0</td>\n",
       "      <td>0</td>\n",
       "      <td>0</td>\n",
       "      <td>0</td>\n",
       "      <td>0</td>\n",
       "      <td>0</td>\n",
       "      <td>0</td>\n",
       "      <td>0</td>\n",
       "      <td>0</td>\n",
       "      <td>0</td>\n",
       "      <td>0</td>\n",
       "      <td>0</td>\n",
       "      <td>0</td>\n",
       "      <td>0</td>\n",
       "      <td>0</td>\n",
       "      <td>0</td>\n",
       "      <td>0</td>\n",
       "      <td>0</td>\n",
       "      <td>0</td>\n",
       "      <td>0</td>\n",
       "      <td>0</td>\n",
       "      <td>0</td>\n",
       "      <td>0</td>\n",
       "      <td>0</td>\n",
       "      <td>0</td>\n",
       "      <td>0</td>\n",
       "      <td>0</td>\n",
       "      <td>0</td>\n",
       "      <td>0</td>\n",
       "      <td>0</td>\n",
       "      <td>0</td>\n",
       "      <td>0</td>\n",
       "      <td>0</td>\n",
       "      <td>0</td>\n",
       "      <td>0</td>\n",
       "      <td>1</td>\n",
       "      <td>0</td>\n",
       "      <td>0</td>\n",
       "      <td>0</td>\n",
       "      <td>0</td>\n",
       "      <td>0</td>\n",
       "      <td>0</td>\n",
       "      <td>0</td>\n",
       "      <td>0</td>\n",
       "      <td>0</td>\n",
       "      <td>0</td>\n",
       "      <td>0</td>\n",
       "      <td>0</td>\n",
       "      <td>0</td>\n",
       "      <td>0</td>\n",
       "      <td>0</td>\n",
       "      <td>0</td>\n",
       "      <td>0</td>\n",
       "      <td>0</td>\n",
       "      <td>0</td>\n",
       "      <td>0</td>\n",
       "      <td>0</td>\n",
       "      <td>0</td>\n",
       "      <td>0</td>\n",
       "      <td>0</td>\n",
       "      <td>0</td>\n",
       "      <td>0</td>\n",
       "      <td>0</td>\n",
       "      <td>0</td>\n",
       "      <td>0</td>\n",
       "      <td>0</td>\n",
       "      <td>0</td>\n",
       "      <td>73</td>\n",
       "      <td>4.304065</td>\n",
       "      <td>تُطارِحُهُ الأَنسابُ حَتّى رَدَدنَهُ\\nإِلى نَس...</td>\n",
       "      <td>4</td>\n",
       "    </tr>\n",
       "  </tbody>\n",
       "</table>\n",
       "</div>"
      ],
      "text/plain": [
       "              poet_name       poet_era  \\\n",
       "0  لقيط بن يعمر الإيادي  العصر الجاهلي   \n",
       "1  لقيط بن يعمر الإيادي  العصر الجاهلي   \n",
       "2  لقيط بن يعمر الإيادي  العصر الجاهلي   \n",
       "3  زبان بن سيار الفزاري  العصر الجاهلي   \n",
       "4  زبان بن سيار الفزاري  العصر الجاهلي   \n",
       "\n",
       "                                           poem_tags  \\\n",
       "0  قصائد هجاء, عموديه, بحر الوافر,  قافية الدال (د)    \n",
       "1  قصائد حزينه, عموديه, بحر البسيط,  قافية الألف ...   \n",
       "2  قصائد قصيره, عموديه, بحر الرجز,  قافية الألف (ا)    \n",
       "3  قصائد قصيره, عموديه, بحر الطويل,  قافية الألف ...   \n",
       "4  قصائد قصيره, عموديه, بحر الطويل,  قافية الباء ...   \n",
       "\n",
       "                     poem_title  \\\n",
       "0       سلام في الصحيفة من لقيط   \n",
       "1  يا دار عمرة من محتلها الجرعا   \n",
       "2       وخاننا خوان في ارتباعنا   \n",
       "3    تنح إليكم يا ابن كوز فإننا   \n",
       "4      تطارحه الأنساب حتى رددنه   \n",
       "\n",
       "                                           poem_text  poem_count  \\\n",
       "0  سلام في الصحيفة من لقيط\\nإلى من بالجزيرة من إي...           4   \n",
       "1  يا دار عمرة من محتلها الجرعا\\nهاجت لي الهم وال...          60   \n",
       "2  وخاننا خوان في ارتباعنا\\nفانفد للسارح من سوامنا\\n           1   \n",
       "3  تنح إليكم يا ابن كوز فإننا\\nوإن ذدتنا راعون بر...           1   \n",
       "4  تطارحه الأنساب حتى رددنه\\nإلى نسب في أهل دومة ...           1   \n",
       "\n",
       "   is_short_poem  is_long_poem  genre_قصائد ابتهال  genre_قصائد اعتذار  \\\n",
       "0              1             0                   0                   0   \n",
       "1              0             1                   0                   0   \n",
       "2              1             0                   0                   0   \n",
       "3              1             0                   0                   0   \n",
       "4              1             0                   0                   0   \n",
       "\n",
       "   genre_قصائد الاناشيد  genre_قصائد المعلقات  genre_قصائد جود وكرم  \\\n",
       "0                     0                     0                     0   \n",
       "1                     0                     0                     0   \n",
       "2                     0                     0                     0   \n",
       "3                     0                     0                     0   \n",
       "4                     0                     0                     0   \n",
       "\n",
       "   genre_قصائد حزينه  genre_قصائد حكمة  genre_قصائد دينية  genre_قصائد ذم  \\\n",
       "0                  0                 0                  0               0   \n",
       "1                  1                 0                  0               0   \n",
       "2                  0                 0                  0               0   \n",
       "3                  0                 0                  0               0   \n",
       "4                  0                 0                  0               0   \n",
       "\n",
       "   genre_قصائد رثاء  genre_قصائد رحمة  genre_قصائد رومنسيه  \\\n",
       "0                 0                 0                    0   \n",
       "1                 0                 0                    0   \n",
       "2                 0                 0                    0   \n",
       "3                 0                 0                    0   \n",
       "4                 0                 0                    0   \n",
       "\n",
       "   genre_قصائد سياسية  genre_قصائد شوق  genre_قصائد صبر  genre_قصائد عامه  \\\n",
       "0                   0                0                0                 0   \n",
       "1                   0                0                0                 0   \n",
       "2                   0                0                0                 0   \n",
       "3                   0                0                0                 0   \n",
       "4                   0                0                0                 0   \n",
       "\n",
       "   genre_قصائد عتاب  genre_قصائد عدل  genre_قصائد غزل  genre_قصائد فراق  \\\n",
       "0                 0                0                0                 0   \n",
       "1                 0                0                0                 0   \n",
       "2                 0                0                0                 0   \n",
       "3                 0                0                0                 0   \n",
       "4                 0                0                0                 0   \n",
       "\n",
       "   genre_قصائد قصيره  genre_قصائد مدح  genre_قصائد نصيحة  genre_قصائد هجاء  \\\n",
       "0                  0                0                  0                 1   \n",
       "1                  0                0                  0                 0   \n",
       "2                  1                0                  0                 0   \n",
       "3                  1                0                  0                 0   \n",
       "4                  1                0                  0                 0   \n",
       "\n",
       "   genre_قصائد وطنيه  style_عموديه  style_التفعيله  style_نثريه  \\\n",
       "0                  0             1               0            0   \n",
       "1                  0             1               0            0   \n",
       "2                  0             1               0            0   \n",
       "3                  0             1               0            0   \n",
       "4                  0             1               0            0   \n",
       "\n",
       "   meter_بحر أحذ الكامل  meter_بحر أحذ الوافر  meter_بحر البسيط  \\\n",
       "0                     0                     0                 0   \n",
       "1                     0                     0                 1   \n",
       "2                     0                     0                 0   \n",
       "3                     0                     0                 0   \n",
       "4                     0                     0                 0   \n",
       "\n",
       "   meter_بحر الخفيف  meter_بحر الدوبيت  meter_بحر الرجز  meter_بحر الرمل  \\\n",
       "0                 0                  0                0                0   \n",
       "1                 0                  0                0                0   \n",
       "2                 0                  0                1                0   \n",
       "3                 0                  0                0                0   \n",
       "4                 0                  0                0                0   \n",
       "\n",
       "   meter_بحر السريع  meter_بحر السلسلة  meter_بحر الطويل  meter_بحر القوما  \\\n",
       "0                 0                  0                 0                 0   \n",
       "1                 0                  0                 0                 0   \n",
       "2                 0                  0                 0                 0   \n",
       "3                 0                  0                 1                 0   \n",
       "4                 0                  0                 1                 0   \n",
       "\n",
       "   meter_بحر الكامل  meter_بحر المتدارك  meter_بحر المتقارب  meter_بحر المجتث  \\\n",
       "0                 0                   0                   0                 0   \n",
       "1                 0                   0                   0                 0   \n",
       "2                 0                   0                   0                 0   \n",
       "3                 0                   0                   0                 0   \n",
       "4                 0                   0                   0                 0   \n",
       "\n",
       "   meter_بحر المديد  meter_بحر المضارع  meter_بحر المقتضب  meter_بحر المنسرح  \\\n",
       "0                 0                  0                  0                  0   \n",
       "1                 0                  0                  0                  0   \n",
       "2                 0                  0                  0                  0   \n",
       "3                 0                  0                  0                  0   \n",
       "4                 0                  0                  0                  0   \n",
       "\n",
       "   meter_بحر المواليا  meter_بحر الهزج  meter_بحر الوافر  \\\n",
       "0                   0                0                 1   \n",
       "1                   0                0                 0   \n",
       "2                   0                0                 0   \n",
       "3                   0                0                 0   \n",
       "4                   0                0                 0   \n",
       "\n",
       "   meter_بحر تفعيلة الكامل  meter_بحر مجزوء البسيط  meter_بحر مجزوء الخفيف  \\\n",
       "0                        0                       0                       0   \n",
       "1                        0                       0                       0   \n",
       "2                        0                       0                       0   \n",
       "3                        0                       0                       0   \n",
       "4                        0                       0                       0   \n",
       "\n",
       "   meter_بحر مجزوء الدوبيت  meter_بحر مجزوء الرجز  meter_بحر مجزوء الرمل  \\\n",
       "0                        0                      0                      0   \n",
       "1                        0                      0                      0   \n",
       "2                        0                      0                      0   \n",
       "3                        0                      0                      0   \n",
       "4                        0                      0                      0   \n",
       "\n",
       "   meter_بحر مجزوء السريع  meter_بحر مجزوء الطويل  meter_بحر مجزوء الكامل  \\\n",
       "0                       0                       0                       0   \n",
       "1                       0                       0                       0   \n",
       "2                       0                       0                       0   \n",
       "3                       0                       0                       0   \n",
       "4                       0                       0                       0   \n",
       "\n",
       "   meter_بحر مجزوء المتدارك  meter_بحر مجزوء المتقارب  meter_بحر مجزوء المجتث  \\\n",
       "0                         0                         0                       0   \n",
       "1                         0                         0                       0   \n",
       "2                         0                         0                       0   \n",
       "3                         0                         0                       0   \n",
       "4                         0                         0                       0   \n",
       "\n",
       "   meter_بحر مجزوء المديد  meter_بحر مجزوء المنسرح  meter_بحر مجزوء المواليا  \\\n",
       "0                       0                        0                         0   \n",
       "1                       0                        0                         0   \n",
       "2                       0                        0                         0   \n",
       "3                       0                        0                         0   \n",
       "4                       0                        0                         0   \n",
       "\n",
       "   meter_بحر مجزوء الهزج  meter_بحر مجزوء الوافر  meter_بحر مجزوء موشح  \\\n",
       "0                      0                       0                     0   \n",
       "1                      0                       0                     0   \n",
       "2                      0                       0                     0   \n",
       "3                      0                       0                     0   \n",
       "4                      0                       0                     0   \n",
       "\n",
       "   meter_بحر مخلع البسيط  meter_بحر مخلع الرجز  meter_بحر مخلع الرمل  \\\n",
       "0                      0                     0                     0   \n",
       "1                      0                     0                     0   \n",
       "2                      0                     0                     0   \n",
       "3                      0                     0                     0   \n",
       "4                      0                     0                     0   \n",
       "\n",
       "   meter_بحر مخلع السريع  meter_بحر مخلع الكامل  meter_بحر مخلع موشح  \\\n",
       "0                      0                      0                    0   \n",
       "1                      0                      0                    0   \n",
       "2                      0                      0                    0   \n",
       "3                      0                      0                    0   \n",
       "4                      0                      0                    0   \n",
       "\n",
       "   meter_بحر مربع الرجز  meter_بحر مشطور الرجز  meter_بحر مشطور السريع  \\\n",
       "0                     0                      0                       0   \n",
       "1                     0                      0                       0   \n",
       "2                     0                      0                       0   \n",
       "3                     0                      0                       0   \n",
       "4                     0                      0                       0   \n",
       "\n",
       "   meter_بحر مشطور الطويل  meter_بحر منهوك البسيط  meter_بحر منهوك الرجز  \\\n",
       "0                       0                       0                      0   \n",
       "1                       0                       0                      0   \n",
       "2                       0                       0                      0   \n",
       "3                       0                       0                      0   \n",
       "4                       0                       0                      0   \n",
       "\n",
       "   meter_بحر منهوك الكامل  meter_بحر منهوك المنسرح  meter_بحر موشح  \\\n",
       "0                       0                        0               0   \n",
       "1                       0                        0               0   \n",
       "2                       0                        0               0   \n",
       "3                       0                        0               0   \n",
       "4                       0                        0               0   \n",
       "\n",
       "   rhyme_قافية  الحاء (ح)  rhyme_قافية (#)  rhyme_قافية (الالف)  \\\n",
       "0                       0                0                    0   \n",
       "1                       0                0                    0   \n",
       "2                       0                0                    0   \n",
       "3                       0                0                    0   \n",
       "4                       0                0                    0   \n",
       "\n",
       "   rhyme_قافية (الحاء)  rhyme_قافية (الدال)  rhyme_قافية (الراء)  \\\n",
       "0                    0                    0                    0   \n",
       "1                    0                    0                    0   \n",
       "2                    0                    0                    0   \n",
       "3                    0                    0                    0   \n",
       "4                    0                    0                    0   \n",
       "\n",
       "   rhyme_قافية (العين)  rhyme_قافية (الفاء)  rhyme_قافية (القاف)  \\\n",
       "0                    0                    0                    0   \n",
       "1                    0                    0                    0   \n",
       "2                    0                    0                    0   \n",
       "3                    0                    0                    0   \n",
       "4                    0                    0                    0   \n",
       "\n",
       "   rhyme_قافية (اللام)  rhyme_قافية (الميم)  rhyme_قافية (النون)  \\\n",
       "0                    0                    0                    0   \n",
       "1                    0                    0                    0   \n",
       "2                    0                    0                    0   \n",
       "3                    0                    0                    0   \n",
       "4                    0                    0                    0   \n",
       "\n",
       "   rhyme_قافية (الياء)  rhyme_قافية (لا)  rhyme_قافية (لام مكسورة)  \\\n",
       "0                    0                 0                         0   \n",
       "1                    0                 0                         0   \n",
       "2                    0                 0                         0   \n",
       "3                    0                 0                         0   \n",
       "4                    0                 0                         0   \n",
       "\n",
       "   rhyme_قافية ألف الهمزة (أ)  rhyme_قافية الألف (إ)  rhyme_قافية الألف (ا)  \\\n",
       "0                           0                      0                      0   \n",
       "1                           0                      0                      1   \n",
       "2                           0                      0                      1   \n",
       "3                           0                      0                      1   \n",
       "4                           0                      0                      0   \n",
       "\n",
       "   rhyme_قافية الباء (ب)  rhyme_قافية التاء (ت)  \\\n",
       "0                      0                      0   \n",
       "1                      0                      0   \n",
       "2                      0                      0   \n",
       "3                      0                      0   \n",
       "4                      1                      0   \n",
       "\n",
       "   rhyme_قافية التاء المربوطة (ة)  rhyme_قافية الثاء (ث)  \\\n",
       "0                               0                      0   \n",
       "1                               0                      0   \n",
       "2                               0                      0   \n",
       "3                               0                      0   \n",
       "4                               0                      0   \n",
       "\n",
       "   rhyme_قافية الجيم (ج)  rhyme_قافية الحاء (ح)  rhyme_قافية الخاء (خ)  \\\n",
       "0                      0                      0                      0   \n",
       "1                      0                      0                      0   \n",
       "2                      0                      0                      0   \n",
       "3                      0                      0                      0   \n",
       "4                      0                      0                      0   \n",
       "\n",
       "   rhyme_قافية الدال (د)  rhyme_قافية الذال (ذ)  rhyme_قافية الراء (ر)  \\\n",
       "0                      1                      0                      0   \n",
       "1                      0                      0                      0   \n",
       "2                      0                      0                      0   \n",
       "3                      0                      0                      0   \n",
       "4                      0                      0                      0   \n",
       "\n",
       "   rhyme_قافية الزاى (ز)  rhyme_قافية السين (س)  rhyme_قافية الشين (ش)  \\\n",
       "0                      0                      0                      0   \n",
       "1                      0                      0                      0   \n",
       "2                      0                      0                      0   \n",
       "3                      0                      0                      0   \n",
       "4                      0                      0                      0   \n",
       "\n",
       "   rhyme_قافية الصاد (ص)  rhyme_قافية الضاد (ض)  rhyme_قافية الطاء (ط)  \\\n",
       "0                      0                      0                      0   \n",
       "1                      0                      0                      0   \n",
       "2                      0                      0                      0   \n",
       "3                      0                      0                      0   \n",
       "4                      0                      0                      0   \n",
       "\n",
       "   rhyme_قافية الظاء (ظ)  rhyme_قافية العين (ع)  rhyme_قافية الغين (غ)  \\\n",
       "0                      0                      0                      0   \n",
       "1                      0                      0                      0   \n",
       "2                      0                      0                      0   \n",
       "3                      0                      0                      0   \n",
       "4                      0                      0                      0   \n",
       "\n",
       "   rhyme_قافية الفاء (ف)  rhyme_قافية القاف (ق)  rhyme_قافية الكاف (ك)  \\\n",
       "0                      0                      0                      0   \n",
       "1                      0                      0                      0   \n",
       "2                      0                      0                      0   \n",
       "3                      0                      0                      0   \n",
       "4                      0                      0                      0   \n",
       "\n",
       "   rhyme_قافية اللام (ل)  rhyme_قافية الميم (م)  rhyme_قافية النون (ن)  \\\n",
       "0                      0                      0                      0   \n",
       "1                      0                      0                      0   \n",
       "2                      0                      0                      0   \n",
       "3                      0                      0                      0   \n",
       "4                      0                      0                      0   \n",
       "\n",
       "   rhyme_قافية الهاء (ه)  rhyme_قافية الهمزة (ء)  rhyme_قافية الواو (و)  \\\n",
       "0                      0                       0                      0   \n",
       "1                      0                       0                      0   \n",
       "2                      0                       0                      0   \n",
       "3                      0                       0                      0   \n",
       "4                      0                       0                      0   \n",
       "\n",
       "   rhyme_قافية الياء (ى)  rhyme_قافية الياء (ي)  rhyme_قافية واو همزة (ؤ)  \\\n",
       "0                      0                      0                         0   \n",
       "1                      0                      0                         0   \n",
       "2                      0                      0                         0   \n",
       "3                      0                      0                         0   \n",
       "4                      0                      0                         0   \n",
       "\n",
       "   rhyme_قافية ياء همزة (ئ)  text_length  text_length_log  \\\n",
       "0                         0          255         5.545177   \n",
       "1                         0         4658         8.446556   \n",
       "2                         0           66         4.204693   \n",
       "3                         0           78         4.369448   \n",
       "4                         0           73         4.304065   \n",
       "\n",
       "                                     bert_input_text  era_encoded  \n",
       "0  سَلامٌ في الصَحيفَةِ مِن لَقيطٍ\\nإِلى مَن بِال...            4  \n",
       "1  يا دارَ عَمرَةَ مِن مُحتَلِّها الجَرَعا\\nهاجَت...            4  \n",
       "2  وَخانَنا خَوّانٌ في اِرتِباعِنا\\nفَاِنفَدَّ لِ...            4  \n",
       "3  تَنَحَّ إِلَيكُم يا اِبنَ كوزٍ فَإِنَّنا\\nوَإِ...            4  \n",
       "4  تُطارِحُهُ الأَنسابُ حَتّى رَدَدنَهُ\\nإِلى نَس...            4  "
      ]
     },
     "execution_count": 141,
     "metadata": {},
     "output_type": "execute_result"
    }
   ],
   "source": [
    "pd.set_option('display.max_columns', None)\n",
    "df_features.head()\n"
   ]
  },
  {
   "cell_type": "code",
   "execution_count": null,
   "id": "2fd7e548",
   "metadata": {},
   "outputs": [],
   "source": [
    "import pandas as pd\n",
    "import re\n",
    "\n",
    "harakat_pattern = re.compile(r'[\\u0610-\\u061A\\u064B-\\u065F\\u0670\\u06D6-\\u06ED]')\n",
    "\n",
    "def remove_harakat(text):\n",
    "    return harakat_pattern.sub('', text)\n",
    "\n",
    "df_features['poem_text'] = df_features['poem_text'].astype(str).apply(remove_harakat)\n",
    "df_features['bert_input_text'] = df_features['bert_input_text'].astype(str).apply(remove_harakat)"
   ]
  },
  {
   "cell_type": "code",
   "execution_count": null,
   "id": "6598aad6",
   "metadata": {},
   "outputs": [
    {
     "data": {
      "text/html": [
       "<div>\n",
       "<style scoped>\n",
       "    .dataframe tbody tr th:only-of-type {\n",
       "        vertical-align: middle;\n",
       "    }\n",
       "\n",
       "    .dataframe tbody tr th {\n",
       "        vertical-align: top;\n",
       "    }\n",
       "\n",
       "    .dataframe thead th {\n",
       "        text-align: right;\n",
       "    }\n",
       "</style>\n",
       "<table border=\"1\" class=\"dataframe\">\n",
       "  <thead>\n",
       "    <tr style=\"text-align: right;\">\n",
       "      <th></th>\n",
       "      <th>poet_name</th>\n",
       "      <th>poet_era</th>\n",
       "      <th>poem_tags</th>\n",
       "      <th>poem_title</th>\n",
       "      <th>poem_text</th>\n",
       "      <th>poem_count</th>\n",
       "      <th>is_short_poem</th>\n",
       "      <th>is_long_poem</th>\n",
       "      <th>genre_قصائد ابتهال</th>\n",
       "      <th>genre_قصائد اعتذار</th>\n",
       "      <th>genre_قصائد الاناشيد</th>\n",
       "      <th>genre_قصائد المعلقات</th>\n",
       "      <th>genre_قصائد جود وكرم</th>\n",
       "      <th>genre_قصائد حزينه</th>\n",
       "      <th>genre_قصائد حكمة</th>\n",
       "      <th>genre_قصائد دينية</th>\n",
       "      <th>genre_قصائد ذم</th>\n",
       "      <th>genre_قصائد رثاء</th>\n",
       "      <th>genre_قصائد رحمة</th>\n",
       "      <th>genre_قصائد رومنسيه</th>\n",
       "      <th>genre_قصائد سياسية</th>\n",
       "      <th>genre_قصائد شوق</th>\n",
       "      <th>genre_قصائد صبر</th>\n",
       "      <th>genre_قصائد عامه</th>\n",
       "      <th>genre_قصائد عتاب</th>\n",
       "      <th>genre_قصائد عدل</th>\n",
       "      <th>genre_قصائد غزل</th>\n",
       "      <th>genre_قصائد فراق</th>\n",
       "      <th>genre_قصائد قصيره</th>\n",
       "      <th>genre_قصائد مدح</th>\n",
       "      <th>genre_قصائد نصيحة</th>\n",
       "      <th>genre_قصائد هجاء</th>\n",
       "      <th>genre_قصائد وطنيه</th>\n",
       "      <th>style_عموديه</th>\n",
       "      <th>style_التفعيله</th>\n",
       "      <th>style_نثريه</th>\n",
       "      <th>meter_بحر أحذ الكامل</th>\n",
       "      <th>meter_بحر أحذ الوافر</th>\n",
       "      <th>meter_بحر البسيط</th>\n",
       "      <th>meter_بحر الخفيف</th>\n",
       "      <th>meter_بحر الدوبيت</th>\n",
       "      <th>meter_بحر الرجز</th>\n",
       "      <th>meter_بحر الرمل</th>\n",
       "      <th>meter_بحر السريع</th>\n",
       "      <th>meter_بحر السلسلة</th>\n",
       "      <th>meter_بحر الطويل</th>\n",
       "      <th>meter_بحر القوما</th>\n",
       "      <th>meter_بحر الكامل</th>\n",
       "      <th>meter_بحر المتدارك</th>\n",
       "      <th>meter_بحر المتقارب</th>\n",
       "      <th>meter_بحر المجتث</th>\n",
       "      <th>meter_بحر المديد</th>\n",
       "      <th>meter_بحر المضارع</th>\n",
       "      <th>meter_بحر المقتضب</th>\n",
       "      <th>meter_بحر المنسرح</th>\n",
       "      <th>meter_بحر المواليا</th>\n",
       "      <th>meter_بحر الهزج</th>\n",
       "      <th>meter_بحر الوافر</th>\n",
       "      <th>meter_بحر تفعيلة الكامل</th>\n",
       "      <th>meter_بحر مجزوء البسيط</th>\n",
       "      <th>meter_بحر مجزوء الخفيف</th>\n",
       "      <th>meter_بحر مجزوء الدوبيت</th>\n",
       "      <th>meter_بحر مجزوء الرجز</th>\n",
       "      <th>meter_بحر مجزوء الرمل</th>\n",
       "      <th>meter_بحر مجزوء السريع</th>\n",
       "      <th>meter_بحر مجزوء الطويل</th>\n",
       "      <th>meter_بحر مجزوء الكامل</th>\n",
       "      <th>meter_بحر مجزوء المتدارك</th>\n",
       "      <th>meter_بحر مجزوء المتقارب</th>\n",
       "      <th>meter_بحر مجزوء المجتث</th>\n",
       "      <th>meter_بحر مجزوء المديد</th>\n",
       "      <th>meter_بحر مجزوء المنسرح</th>\n",
       "      <th>meter_بحر مجزوء المواليا</th>\n",
       "      <th>meter_بحر مجزوء الهزج</th>\n",
       "      <th>meter_بحر مجزوء الوافر</th>\n",
       "      <th>meter_بحر مجزوء موشح</th>\n",
       "      <th>meter_بحر مخلع البسيط</th>\n",
       "      <th>meter_بحر مخلع الرجز</th>\n",
       "      <th>meter_بحر مخلع الرمل</th>\n",
       "      <th>meter_بحر مخلع السريع</th>\n",
       "      <th>meter_بحر مخلع الكامل</th>\n",
       "      <th>meter_بحر مخلع موشح</th>\n",
       "      <th>meter_بحر مربع الرجز</th>\n",
       "      <th>meter_بحر مشطور الرجز</th>\n",
       "      <th>meter_بحر مشطور السريع</th>\n",
       "      <th>meter_بحر مشطور الطويل</th>\n",
       "      <th>meter_بحر منهوك البسيط</th>\n",
       "      <th>meter_بحر منهوك الرجز</th>\n",
       "      <th>meter_بحر منهوك الكامل</th>\n",
       "      <th>meter_بحر منهوك المنسرح</th>\n",
       "      <th>meter_بحر موشح</th>\n",
       "      <th>rhyme_قافية  الحاء (ح)</th>\n",
       "      <th>rhyme_قافية (#)</th>\n",
       "      <th>rhyme_قافية (الالف)</th>\n",
       "      <th>rhyme_قافية (الحاء)</th>\n",
       "      <th>rhyme_قافية (الدال)</th>\n",
       "      <th>rhyme_قافية (الراء)</th>\n",
       "      <th>rhyme_قافية (العين)</th>\n",
       "      <th>rhyme_قافية (الفاء)</th>\n",
       "      <th>rhyme_قافية (القاف)</th>\n",
       "      <th>rhyme_قافية (اللام)</th>\n",
       "      <th>rhyme_قافية (الميم)</th>\n",
       "      <th>rhyme_قافية (النون)</th>\n",
       "      <th>rhyme_قافية (الياء)</th>\n",
       "      <th>rhyme_قافية (لا)</th>\n",
       "      <th>rhyme_قافية (لام مكسورة)</th>\n",
       "      <th>rhyme_قافية ألف الهمزة (أ)</th>\n",
       "      <th>rhyme_قافية الألف (إ)</th>\n",
       "      <th>rhyme_قافية الألف (ا)</th>\n",
       "      <th>rhyme_قافية الباء (ب)</th>\n",
       "      <th>rhyme_قافية التاء (ت)</th>\n",
       "      <th>rhyme_قافية التاء المربوطة (ة)</th>\n",
       "      <th>rhyme_قافية الثاء (ث)</th>\n",
       "      <th>rhyme_قافية الجيم (ج)</th>\n",
       "      <th>rhyme_قافية الحاء (ح)</th>\n",
       "      <th>rhyme_قافية الخاء (خ)</th>\n",
       "      <th>rhyme_قافية الدال (د)</th>\n",
       "      <th>rhyme_قافية الذال (ذ)</th>\n",
       "      <th>rhyme_قافية الراء (ر)</th>\n",
       "      <th>rhyme_قافية الزاى (ز)</th>\n",
       "      <th>rhyme_قافية السين (س)</th>\n",
       "      <th>rhyme_قافية الشين (ش)</th>\n",
       "      <th>rhyme_قافية الصاد (ص)</th>\n",
       "      <th>rhyme_قافية الضاد (ض)</th>\n",
       "      <th>rhyme_قافية الطاء (ط)</th>\n",
       "      <th>rhyme_قافية الظاء (ظ)</th>\n",
       "      <th>rhyme_قافية العين (ع)</th>\n",
       "      <th>rhyme_قافية الغين (غ)</th>\n",
       "      <th>rhyme_قافية الفاء (ف)</th>\n",
       "      <th>rhyme_قافية القاف (ق)</th>\n",
       "      <th>rhyme_قافية الكاف (ك)</th>\n",
       "      <th>rhyme_قافية اللام (ل)</th>\n",
       "      <th>rhyme_قافية الميم (م)</th>\n",
       "      <th>rhyme_قافية النون (ن)</th>\n",
       "      <th>rhyme_قافية الهاء (ه)</th>\n",
       "      <th>rhyme_قافية الهمزة (ء)</th>\n",
       "      <th>rhyme_قافية الواو (و)</th>\n",
       "      <th>rhyme_قافية الياء (ى)</th>\n",
       "      <th>rhyme_قافية الياء (ي)</th>\n",
       "      <th>rhyme_قافية واو همزة (ؤ)</th>\n",
       "      <th>rhyme_قافية ياء همزة (ئ)</th>\n",
       "      <th>text_length</th>\n",
       "      <th>text_length_log</th>\n",
       "      <th>bert_input_text</th>\n",
       "      <th>era_encoded</th>\n",
       "    </tr>\n",
       "  </thead>\n",
       "  <tbody>\n",
       "    <tr>\n",
       "      <th>0</th>\n",
       "      <td>لقيط بن يعمر الإيادي</td>\n",
       "      <td>العصر الجاهلي</td>\n",
       "      <td>قصائد هجاء, عموديه, بحر الوافر,  قافية الدال (د)</td>\n",
       "      <td>سلام في الصحيفة من لقيط</td>\n",
       "      <td>سلام في الصحيفة من لقيط\\nإلى من بالجزيرة من إي...</td>\n",
       "      <td>4</td>\n",
       "      <td>1</td>\n",
       "      <td>0</td>\n",
       "      <td>0</td>\n",
       "      <td>0</td>\n",
       "      <td>0</td>\n",
       "      <td>0</td>\n",
       "      <td>0</td>\n",
       "      <td>0</td>\n",
       "      <td>0</td>\n",
       "      <td>0</td>\n",
       "      <td>0</td>\n",
       "      <td>0</td>\n",
       "      <td>0</td>\n",
       "      <td>0</td>\n",
       "      <td>0</td>\n",
       "      <td>0</td>\n",
       "      <td>0</td>\n",
       "      <td>0</td>\n",
       "      <td>0</td>\n",
       "      <td>0</td>\n",
       "      <td>0</td>\n",
       "      <td>0</td>\n",
       "      <td>0</td>\n",
       "      <td>0</td>\n",
       "      <td>0</td>\n",
       "      <td>1</td>\n",
       "      <td>0</td>\n",
       "      <td>1</td>\n",
       "      <td>0</td>\n",
       "      <td>0</td>\n",
       "      <td>0</td>\n",
       "      <td>0</td>\n",
       "      <td>0</td>\n",
       "      <td>0</td>\n",
       "      <td>0</td>\n",
       "      <td>0</td>\n",
       "      <td>0</td>\n",
       "      <td>0</td>\n",
       "      <td>0</td>\n",
       "      <td>0</td>\n",
       "      <td>0</td>\n",
       "      <td>0</td>\n",
       "      <td>0</td>\n",
       "      <td>0</td>\n",
       "      <td>0</td>\n",
       "      <td>0</td>\n",
       "      <td>0</td>\n",
       "      <td>0</td>\n",
       "      <td>0</td>\n",
       "      <td>0</td>\n",
       "      <td>0</td>\n",
       "      <td>1</td>\n",
       "      <td>0</td>\n",
       "      <td>0</td>\n",
       "      <td>0</td>\n",
       "      <td>0</td>\n",
       "      <td>0</td>\n",
       "      <td>0</td>\n",
       "      <td>0</td>\n",
       "      <td>0</td>\n",
       "      <td>0</td>\n",
       "      <td>0</td>\n",
       "      <td>0</td>\n",
       "      <td>0</td>\n",
       "      <td>0</td>\n",
       "      <td>0</td>\n",
       "      <td>0</td>\n",
       "      <td>0</td>\n",
       "      <td>0</td>\n",
       "      <td>0</td>\n",
       "      <td>0</td>\n",
       "      <td>0</td>\n",
       "      <td>0</td>\n",
       "      <td>0</td>\n",
       "      <td>0</td>\n",
       "      <td>0</td>\n",
       "      <td>0</td>\n",
       "      <td>0</td>\n",
       "      <td>0</td>\n",
       "      <td>0</td>\n",
       "      <td>0</td>\n",
       "      <td>0</td>\n",
       "      <td>0</td>\n",
       "      <td>0</td>\n",
       "      <td>0</td>\n",
       "      <td>0</td>\n",
       "      <td>0</td>\n",
       "      <td>0</td>\n",
       "      <td>0</td>\n",
       "      <td>0</td>\n",
       "      <td>0</td>\n",
       "      <td>0</td>\n",
       "      <td>0</td>\n",
       "      <td>0</td>\n",
       "      <td>0</td>\n",
       "      <td>0</td>\n",
       "      <td>0</td>\n",
       "      <td>0</td>\n",
       "      <td>0</td>\n",
       "      <td>0</td>\n",
       "      <td>0</td>\n",
       "      <td>0</td>\n",
       "      <td>0</td>\n",
       "      <td>0</td>\n",
       "      <td>0</td>\n",
       "      <td>0</td>\n",
       "      <td>0</td>\n",
       "      <td>0</td>\n",
       "      <td>0</td>\n",
       "      <td>0</td>\n",
       "      <td>1</td>\n",
       "      <td>0</td>\n",
       "      <td>0</td>\n",
       "      <td>0</td>\n",
       "      <td>0</td>\n",
       "      <td>0</td>\n",
       "      <td>0</td>\n",
       "      <td>0</td>\n",
       "      <td>0</td>\n",
       "      <td>0</td>\n",
       "      <td>0</td>\n",
       "      <td>0</td>\n",
       "      <td>0</td>\n",
       "      <td>0</td>\n",
       "      <td>0</td>\n",
       "      <td>0</td>\n",
       "      <td>0</td>\n",
       "      <td>0</td>\n",
       "      <td>0</td>\n",
       "      <td>0</td>\n",
       "      <td>0</td>\n",
       "      <td>0</td>\n",
       "      <td>0</td>\n",
       "      <td>0</td>\n",
       "      <td>0</td>\n",
       "      <td>255</td>\n",
       "      <td>5.545177</td>\n",
       "      <td>سلام في الصحيفة من لقيط\\nإلى من بالجزيرة من إي...</td>\n",
       "      <td>4</td>\n",
       "    </tr>\n",
       "    <tr>\n",
       "      <th>1</th>\n",
       "      <td>لقيط بن يعمر الإيادي</td>\n",
       "      <td>العصر الجاهلي</td>\n",
       "      <td>قصائد حزينه, عموديه, بحر البسيط,  قافية الألف ...</td>\n",
       "      <td>يا دار عمرة من محتلها الجرعا</td>\n",
       "      <td>يا دار عمرة من محتلها الجرعا\\nهاجت لي الهم وال...</td>\n",
       "      <td>60</td>\n",
       "      <td>0</td>\n",
       "      <td>1</td>\n",
       "      <td>0</td>\n",
       "      <td>0</td>\n",
       "      <td>0</td>\n",
       "      <td>0</td>\n",
       "      <td>0</td>\n",
       "      <td>1</td>\n",
       "      <td>0</td>\n",
       "      <td>0</td>\n",
       "      <td>0</td>\n",
       "      <td>0</td>\n",
       "      <td>0</td>\n",
       "      <td>0</td>\n",
       "      <td>0</td>\n",
       "      <td>0</td>\n",
       "      <td>0</td>\n",
       "      <td>0</td>\n",
       "      <td>0</td>\n",
       "      <td>0</td>\n",
       "      <td>0</td>\n",
       "      <td>0</td>\n",
       "      <td>0</td>\n",
       "      <td>0</td>\n",
       "      <td>0</td>\n",
       "      <td>0</td>\n",
       "      <td>0</td>\n",
       "      <td>1</td>\n",
       "      <td>0</td>\n",
       "      <td>0</td>\n",
       "      <td>0</td>\n",
       "      <td>0</td>\n",
       "      <td>1</td>\n",
       "      <td>0</td>\n",
       "      <td>0</td>\n",
       "      <td>0</td>\n",
       "      <td>0</td>\n",
       "      <td>0</td>\n",
       "      <td>0</td>\n",
       "      <td>0</td>\n",
       "      <td>0</td>\n",
       "      <td>0</td>\n",
       "      <td>0</td>\n",
       "      <td>0</td>\n",
       "      <td>0</td>\n",
       "      <td>0</td>\n",
       "      <td>0</td>\n",
       "      <td>0</td>\n",
       "      <td>0</td>\n",
       "      <td>0</td>\n",
       "      <td>0</td>\n",
       "      <td>0</td>\n",
       "      <td>0</td>\n",
       "      <td>0</td>\n",
       "      <td>0</td>\n",
       "      <td>0</td>\n",
       "      <td>0</td>\n",
       "      <td>0</td>\n",
       "      <td>0</td>\n",
       "      <td>0</td>\n",
       "      <td>0</td>\n",
       "      <td>0</td>\n",
       "      <td>0</td>\n",
       "      <td>0</td>\n",
       "      <td>0</td>\n",
       "      <td>0</td>\n",
       "      <td>0</td>\n",
       "      <td>0</td>\n",
       "      <td>0</td>\n",
       "      <td>0</td>\n",
       "      <td>0</td>\n",
       "      <td>0</td>\n",
       "      <td>0</td>\n",
       "      <td>0</td>\n",
       "      <td>0</td>\n",
       "      <td>0</td>\n",
       "      <td>0</td>\n",
       "      <td>0</td>\n",
       "      <td>0</td>\n",
       "      <td>0</td>\n",
       "      <td>0</td>\n",
       "      <td>0</td>\n",
       "      <td>0</td>\n",
       "      <td>0</td>\n",
       "      <td>0</td>\n",
       "      <td>0</td>\n",
       "      <td>0</td>\n",
       "      <td>0</td>\n",
       "      <td>0</td>\n",
       "      <td>0</td>\n",
       "      <td>0</td>\n",
       "      <td>0</td>\n",
       "      <td>0</td>\n",
       "      <td>0</td>\n",
       "      <td>0</td>\n",
       "      <td>0</td>\n",
       "      <td>0</td>\n",
       "      <td>0</td>\n",
       "      <td>0</td>\n",
       "      <td>0</td>\n",
       "      <td>0</td>\n",
       "      <td>0</td>\n",
       "      <td>1</td>\n",
       "      <td>0</td>\n",
       "      <td>0</td>\n",
       "      <td>0</td>\n",
       "      <td>0</td>\n",
       "      <td>0</td>\n",
       "      <td>0</td>\n",
       "      <td>0</td>\n",
       "      <td>0</td>\n",
       "      <td>0</td>\n",
       "      <td>0</td>\n",
       "      <td>0</td>\n",
       "      <td>0</td>\n",
       "      <td>0</td>\n",
       "      <td>0</td>\n",
       "      <td>0</td>\n",
       "      <td>0</td>\n",
       "      <td>0</td>\n",
       "      <td>0</td>\n",
       "      <td>0</td>\n",
       "      <td>0</td>\n",
       "      <td>0</td>\n",
       "      <td>0</td>\n",
       "      <td>0</td>\n",
       "      <td>0</td>\n",
       "      <td>0</td>\n",
       "      <td>0</td>\n",
       "      <td>0</td>\n",
       "      <td>0</td>\n",
       "      <td>0</td>\n",
       "      <td>0</td>\n",
       "      <td>0</td>\n",
       "      <td>0</td>\n",
       "      <td>4658</td>\n",
       "      <td>8.446556</td>\n",
       "      <td>يا دار عمرة من محتلها الجرعا\\nهاجت لي الهم وال...</td>\n",
       "      <td>4</td>\n",
       "    </tr>\n",
       "    <tr>\n",
       "      <th>2</th>\n",
       "      <td>لقيط بن يعمر الإيادي</td>\n",
       "      <td>العصر الجاهلي</td>\n",
       "      <td>قصائد قصيره, عموديه, بحر الرجز,  قافية الألف (ا)</td>\n",
       "      <td>وخاننا خوان في ارتباعنا</td>\n",
       "      <td>وخاننا خوان في ارتباعنا\\nفانفد للسارح من سوامنا\\n</td>\n",
       "      <td>1</td>\n",
       "      <td>1</td>\n",
       "      <td>0</td>\n",
       "      <td>0</td>\n",
       "      <td>0</td>\n",
       "      <td>0</td>\n",
       "      <td>0</td>\n",
       "      <td>0</td>\n",
       "      <td>0</td>\n",
       "      <td>0</td>\n",
       "      <td>0</td>\n",
       "      <td>0</td>\n",
       "      <td>0</td>\n",
       "      <td>0</td>\n",
       "      <td>0</td>\n",
       "      <td>0</td>\n",
       "      <td>0</td>\n",
       "      <td>0</td>\n",
       "      <td>0</td>\n",
       "      <td>0</td>\n",
       "      <td>0</td>\n",
       "      <td>0</td>\n",
       "      <td>0</td>\n",
       "      <td>1</td>\n",
       "      <td>0</td>\n",
       "      <td>0</td>\n",
       "      <td>0</td>\n",
       "      <td>0</td>\n",
       "      <td>1</td>\n",
       "      <td>0</td>\n",
       "      <td>0</td>\n",
       "      <td>0</td>\n",
       "      <td>0</td>\n",
       "      <td>0</td>\n",
       "      <td>0</td>\n",
       "      <td>0</td>\n",
       "      <td>1</td>\n",
       "      <td>0</td>\n",
       "      <td>0</td>\n",
       "      <td>0</td>\n",
       "      <td>0</td>\n",
       "      <td>0</td>\n",
       "      <td>0</td>\n",
       "      <td>0</td>\n",
       "      <td>0</td>\n",
       "      <td>0</td>\n",
       "      <td>0</td>\n",
       "      <td>0</td>\n",
       "      <td>0</td>\n",
       "      <td>0</td>\n",
       "      <td>0</td>\n",
       "      <td>0</td>\n",
       "      <td>0</td>\n",
       "      <td>0</td>\n",
       "      <td>0</td>\n",
       "      <td>0</td>\n",
       "      <td>0</td>\n",
       "      <td>0</td>\n",
       "      <td>0</td>\n",
       "      <td>0</td>\n",
       "      <td>0</td>\n",
       "      <td>0</td>\n",
       "      <td>0</td>\n",
       "      <td>0</td>\n",
       "      <td>0</td>\n",
       "      <td>0</td>\n",
       "      <td>0</td>\n",
       "      <td>0</td>\n",
       "      <td>0</td>\n",
       "      <td>0</td>\n",
       "      <td>0</td>\n",
       "      <td>0</td>\n",
       "      <td>0</td>\n",
       "      <td>0</td>\n",
       "      <td>0</td>\n",
       "      <td>0</td>\n",
       "      <td>0</td>\n",
       "      <td>0</td>\n",
       "      <td>0</td>\n",
       "      <td>0</td>\n",
       "      <td>0</td>\n",
       "      <td>0</td>\n",
       "      <td>0</td>\n",
       "      <td>0</td>\n",
       "      <td>0</td>\n",
       "      <td>0</td>\n",
       "      <td>0</td>\n",
       "      <td>0</td>\n",
       "      <td>0</td>\n",
       "      <td>0</td>\n",
       "      <td>0</td>\n",
       "      <td>0</td>\n",
       "      <td>0</td>\n",
       "      <td>0</td>\n",
       "      <td>0</td>\n",
       "      <td>0</td>\n",
       "      <td>0</td>\n",
       "      <td>0</td>\n",
       "      <td>0</td>\n",
       "      <td>0</td>\n",
       "      <td>0</td>\n",
       "      <td>0</td>\n",
       "      <td>0</td>\n",
       "      <td>1</td>\n",
       "      <td>0</td>\n",
       "      <td>0</td>\n",
       "      <td>0</td>\n",
       "      <td>0</td>\n",
       "      <td>0</td>\n",
       "      <td>0</td>\n",
       "      <td>0</td>\n",
       "      <td>0</td>\n",
       "      <td>0</td>\n",
       "      <td>0</td>\n",
       "      <td>0</td>\n",
       "      <td>0</td>\n",
       "      <td>0</td>\n",
       "      <td>0</td>\n",
       "      <td>0</td>\n",
       "      <td>0</td>\n",
       "      <td>0</td>\n",
       "      <td>0</td>\n",
       "      <td>0</td>\n",
       "      <td>0</td>\n",
       "      <td>0</td>\n",
       "      <td>0</td>\n",
       "      <td>0</td>\n",
       "      <td>0</td>\n",
       "      <td>0</td>\n",
       "      <td>0</td>\n",
       "      <td>0</td>\n",
       "      <td>0</td>\n",
       "      <td>0</td>\n",
       "      <td>0</td>\n",
       "      <td>0</td>\n",
       "      <td>0</td>\n",
       "      <td>66</td>\n",
       "      <td>4.204693</td>\n",
       "      <td>وخاننا خوان في ارتباعنا\\nفانفد للسارح من سوامنا\\n</td>\n",
       "      <td>4</td>\n",
       "    </tr>\n",
       "    <tr>\n",
       "      <th>3</th>\n",
       "      <td>زبان بن سيار الفزاري</td>\n",
       "      <td>العصر الجاهلي</td>\n",
       "      <td>قصائد قصيره, عموديه, بحر الطويل,  قافية الألف ...</td>\n",
       "      <td>تنح إليكم يا ابن كوز فإننا</td>\n",
       "      <td>تنح إليكم يا ابن كوز فإننا\\nوإن ذدتنا راعون بر...</td>\n",
       "      <td>1</td>\n",
       "      <td>1</td>\n",
       "      <td>0</td>\n",
       "      <td>0</td>\n",
       "      <td>0</td>\n",
       "      <td>0</td>\n",
       "      <td>0</td>\n",
       "      <td>0</td>\n",
       "      <td>0</td>\n",
       "      <td>0</td>\n",
       "      <td>0</td>\n",
       "      <td>0</td>\n",
       "      <td>0</td>\n",
       "      <td>0</td>\n",
       "      <td>0</td>\n",
       "      <td>0</td>\n",
       "      <td>0</td>\n",
       "      <td>0</td>\n",
       "      <td>0</td>\n",
       "      <td>0</td>\n",
       "      <td>0</td>\n",
       "      <td>0</td>\n",
       "      <td>0</td>\n",
       "      <td>1</td>\n",
       "      <td>0</td>\n",
       "      <td>0</td>\n",
       "      <td>0</td>\n",
       "      <td>0</td>\n",
       "      <td>1</td>\n",
       "      <td>0</td>\n",
       "      <td>0</td>\n",
       "      <td>0</td>\n",
       "      <td>0</td>\n",
       "      <td>0</td>\n",
       "      <td>0</td>\n",
       "      <td>0</td>\n",
       "      <td>0</td>\n",
       "      <td>0</td>\n",
       "      <td>0</td>\n",
       "      <td>0</td>\n",
       "      <td>1</td>\n",
       "      <td>0</td>\n",
       "      <td>0</td>\n",
       "      <td>0</td>\n",
       "      <td>0</td>\n",
       "      <td>0</td>\n",
       "      <td>0</td>\n",
       "      <td>0</td>\n",
       "      <td>0</td>\n",
       "      <td>0</td>\n",
       "      <td>0</td>\n",
       "      <td>0</td>\n",
       "      <td>0</td>\n",
       "      <td>0</td>\n",
       "      <td>0</td>\n",
       "      <td>0</td>\n",
       "      <td>0</td>\n",
       "      <td>0</td>\n",
       "      <td>0</td>\n",
       "      <td>0</td>\n",
       "      <td>0</td>\n",
       "      <td>0</td>\n",
       "      <td>0</td>\n",
       "      <td>0</td>\n",
       "      <td>0</td>\n",
       "      <td>0</td>\n",
       "      <td>0</td>\n",
       "      <td>0</td>\n",
       "      <td>0</td>\n",
       "      <td>0</td>\n",
       "      <td>0</td>\n",
       "      <td>0</td>\n",
       "      <td>0</td>\n",
       "      <td>0</td>\n",
       "      <td>0</td>\n",
       "      <td>0</td>\n",
       "      <td>0</td>\n",
       "      <td>0</td>\n",
       "      <td>0</td>\n",
       "      <td>0</td>\n",
       "      <td>0</td>\n",
       "      <td>0</td>\n",
       "      <td>0</td>\n",
       "      <td>0</td>\n",
       "      <td>0</td>\n",
       "      <td>0</td>\n",
       "      <td>0</td>\n",
       "      <td>0</td>\n",
       "      <td>0</td>\n",
       "      <td>0</td>\n",
       "      <td>0</td>\n",
       "      <td>0</td>\n",
       "      <td>0</td>\n",
       "      <td>0</td>\n",
       "      <td>0</td>\n",
       "      <td>0</td>\n",
       "      <td>0</td>\n",
       "      <td>0</td>\n",
       "      <td>0</td>\n",
       "      <td>0</td>\n",
       "      <td>0</td>\n",
       "      <td>0</td>\n",
       "      <td>0</td>\n",
       "      <td>1</td>\n",
       "      <td>0</td>\n",
       "      <td>0</td>\n",
       "      <td>0</td>\n",
       "      <td>0</td>\n",
       "      <td>0</td>\n",
       "      <td>0</td>\n",
       "      <td>0</td>\n",
       "      <td>0</td>\n",
       "      <td>0</td>\n",
       "      <td>0</td>\n",
       "      <td>0</td>\n",
       "      <td>0</td>\n",
       "      <td>0</td>\n",
       "      <td>0</td>\n",
       "      <td>0</td>\n",
       "      <td>0</td>\n",
       "      <td>0</td>\n",
       "      <td>0</td>\n",
       "      <td>0</td>\n",
       "      <td>0</td>\n",
       "      <td>0</td>\n",
       "      <td>0</td>\n",
       "      <td>0</td>\n",
       "      <td>0</td>\n",
       "      <td>0</td>\n",
       "      <td>0</td>\n",
       "      <td>0</td>\n",
       "      <td>0</td>\n",
       "      <td>0</td>\n",
       "      <td>0</td>\n",
       "      <td>0</td>\n",
       "      <td>0</td>\n",
       "      <td>78</td>\n",
       "      <td>4.369448</td>\n",
       "      <td>تنح إليكم يا ابن كوز فإننا\\nوإن ذدتنا راعون بر...</td>\n",
       "      <td>4</td>\n",
       "    </tr>\n",
       "    <tr>\n",
       "      <th>4</th>\n",
       "      <td>زبان بن سيار الفزاري</td>\n",
       "      <td>العصر الجاهلي</td>\n",
       "      <td>قصائد قصيره, عموديه, بحر الطويل,  قافية الباء ...</td>\n",
       "      <td>تطارحه الأنساب حتى رددنه</td>\n",
       "      <td>تطارحه الأنساب حتى رددنه\\nإلى نسب في أهل دومة ...</td>\n",
       "      <td>1</td>\n",
       "      <td>1</td>\n",
       "      <td>0</td>\n",
       "      <td>0</td>\n",
       "      <td>0</td>\n",
       "      <td>0</td>\n",
       "      <td>0</td>\n",
       "      <td>0</td>\n",
       "      <td>0</td>\n",
       "      <td>0</td>\n",
       "      <td>0</td>\n",
       "      <td>0</td>\n",
       "      <td>0</td>\n",
       "      <td>0</td>\n",
       "      <td>0</td>\n",
       "      <td>0</td>\n",
       "      <td>0</td>\n",
       "      <td>0</td>\n",
       "      <td>0</td>\n",
       "      <td>0</td>\n",
       "      <td>0</td>\n",
       "      <td>0</td>\n",
       "      <td>0</td>\n",
       "      <td>1</td>\n",
       "      <td>0</td>\n",
       "      <td>0</td>\n",
       "      <td>0</td>\n",
       "      <td>0</td>\n",
       "      <td>1</td>\n",
       "      <td>0</td>\n",
       "      <td>0</td>\n",
       "      <td>0</td>\n",
       "      <td>0</td>\n",
       "      <td>0</td>\n",
       "      <td>0</td>\n",
       "      <td>0</td>\n",
       "      <td>0</td>\n",
       "      <td>0</td>\n",
       "      <td>0</td>\n",
       "      <td>0</td>\n",
       "      <td>1</td>\n",
       "      <td>0</td>\n",
       "      <td>0</td>\n",
       "      <td>0</td>\n",
       "      <td>0</td>\n",
       "      <td>0</td>\n",
       "      <td>0</td>\n",
       "      <td>0</td>\n",
       "      <td>0</td>\n",
       "      <td>0</td>\n",
       "      <td>0</td>\n",
       "      <td>0</td>\n",
       "      <td>0</td>\n",
       "      <td>0</td>\n",
       "      <td>0</td>\n",
       "      <td>0</td>\n",
       "      <td>0</td>\n",
       "      <td>0</td>\n",
       "      <td>0</td>\n",
       "      <td>0</td>\n",
       "      <td>0</td>\n",
       "      <td>0</td>\n",
       "      <td>0</td>\n",
       "      <td>0</td>\n",
       "      <td>0</td>\n",
       "      <td>0</td>\n",
       "      <td>0</td>\n",
       "      <td>0</td>\n",
       "      <td>0</td>\n",
       "      <td>0</td>\n",
       "      <td>0</td>\n",
       "      <td>0</td>\n",
       "      <td>0</td>\n",
       "      <td>0</td>\n",
       "      <td>0</td>\n",
       "      <td>0</td>\n",
       "      <td>0</td>\n",
       "      <td>0</td>\n",
       "      <td>0</td>\n",
       "      <td>0</td>\n",
       "      <td>0</td>\n",
       "      <td>0</td>\n",
       "      <td>0</td>\n",
       "      <td>0</td>\n",
       "      <td>0</td>\n",
       "      <td>0</td>\n",
       "      <td>0</td>\n",
       "      <td>0</td>\n",
       "      <td>0</td>\n",
       "      <td>0</td>\n",
       "      <td>0</td>\n",
       "      <td>0</td>\n",
       "      <td>0</td>\n",
       "      <td>0</td>\n",
       "      <td>0</td>\n",
       "      <td>0</td>\n",
       "      <td>0</td>\n",
       "      <td>0</td>\n",
       "      <td>0</td>\n",
       "      <td>0</td>\n",
       "      <td>0</td>\n",
       "      <td>0</td>\n",
       "      <td>0</td>\n",
       "      <td>0</td>\n",
       "      <td>1</td>\n",
       "      <td>0</td>\n",
       "      <td>0</td>\n",
       "      <td>0</td>\n",
       "      <td>0</td>\n",
       "      <td>0</td>\n",
       "      <td>0</td>\n",
       "      <td>0</td>\n",
       "      <td>0</td>\n",
       "      <td>0</td>\n",
       "      <td>0</td>\n",
       "      <td>0</td>\n",
       "      <td>0</td>\n",
       "      <td>0</td>\n",
       "      <td>0</td>\n",
       "      <td>0</td>\n",
       "      <td>0</td>\n",
       "      <td>0</td>\n",
       "      <td>0</td>\n",
       "      <td>0</td>\n",
       "      <td>0</td>\n",
       "      <td>0</td>\n",
       "      <td>0</td>\n",
       "      <td>0</td>\n",
       "      <td>0</td>\n",
       "      <td>0</td>\n",
       "      <td>0</td>\n",
       "      <td>0</td>\n",
       "      <td>0</td>\n",
       "      <td>0</td>\n",
       "      <td>0</td>\n",
       "      <td>0</td>\n",
       "      <td>73</td>\n",
       "      <td>4.304065</td>\n",
       "      <td>تطارحه الأنساب حتى رددنه\\nإلى نسب في أهل دومة ...</td>\n",
       "      <td>4</td>\n",
       "    </tr>\n",
       "  </tbody>\n",
       "</table>\n",
       "</div>"
      ],
      "text/plain": [
       "              poet_name       poet_era  \\\n",
       "0  لقيط بن يعمر الإيادي  العصر الجاهلي   \n",
       "1  لقيط بن يعمر الإيادي  العصر الجاهلي   \n",
       "2  لقيط بن يعمر الإيادي  العصر الجاهلي   \n",
       "3  زبان بن سيار الفزاري  العصر الجاهلي   \n",
       "4  زبان بن سيار الفزاري  العصر الجاهلي   \n",
       "\n",
       "                                           poem_tags  \\\n",
       "0  قصائد هجاء, عموديه, بحر الوافر,  قافية الدال (د)    \n",
       "1  قصائد حزينه, عموديه, بحر البسيط,  قافية الألف ...   \n",
       "2  قصائد قصيره, عموديه, بحر الرجز,  قافية الألف (ا)    \n",
       "3  قصائد قصيره, عموديه, بحر الطويل,  قافية الألف ...   \n",
       "4  قصائد قصيره, عموديه, بحر الطويل,  قافية الباء ...   \n",
       "\n",
       "                     poem_title  \\\n",
       "0       سلام في الصحيفة من لقيط   \n",
       "1  يا دار عمرة من محتلها الجرعا   \n",
       "2       وخاننا خوان في ارتباعنا   \n",
       "3    تنح إليكم يا ابن كوز فإننا   \n",
       "4      تطارحه الأنساب حتى رددنه   \n",
       "\n",
       "                                           poem_text  poem_count  \\\n",
       "0  سلام في الصحيفة من لقيط\\nإلى من بالجزيرة من إي...           4   \n",
       "1  يا دار عمرة من محتلها الجرعا\\nهاجت لي الهم وال...          60   \n",
       "2  وخاننا خوان في ارتباعنا\\nفانفد للسارح من سوامنا\\n           1   \n",
       "3  تنح إليكم يا ابن كوز فإننا\\nوإن ذدتنا راعون بر...           1   \n",
       "4  تطارحه الأنساب حتى رددنه\\nإلى نسب في أهل دومة ...           1   \n",
       "\n",
       "   is_short_poem  is_long_poem  genre_قصائد ابتهال  genre_قصائد اعتذار  \\\n",
       "0              1             0                   0                   0   \n",
       "1              0             1                   0                   0   \n",
       "2              1             0                   0                   0   \n",
       "3              1             0                   0                   0   \n",
       "4              1             0                   0                   0   \n",
       "\n",
       "   genre_قصائد الاناشيد  genre_قصائد المعلقات  genre_قصائد جود وكرم  \\\n",
       "0                     0                     0                     0   \n",
       "1                     0                     0                     0   \n",
       "2                     0                     0                     0   \n",
       "3                     0                     0                     0   \n",
       "4                     0                     0                     0   \n",
       "\n",
       "   genre_قصائد حزينه  genre_قصائد حكمة  genre_قصائد دينية  genre_قصائد ذم  \\\n",
       "0                  0                 0                  0               0   \n",
       "1                  1                 0                  0               0   \n",
       "2                  0                 0                  0               0   \n",
       "3                  0                 0                  0               0   \n",
       "4                  0                 0                  0               0   \n",
       "\n",
       "   genre_قصائد رثاء  genre_قصائد رحمة  genre_قصائد رومنسيه  \\\n",
       "0                 0                 0                    0   \n",
       "1                 0                 0                    0   \n",
       "2                 0                 0                    0   \n",
       "3                 0                 0                    0   \n",
       "4                 0                 0                    0   \n",
       "\n",
       "   genre_قصائد سياسية  genre_قصائد شوق  genre_قصائد صبر  genre_قصائد عامه  \\\n",
       "0                   0                0                0                 0   \n",
       "1                   0                0                0                 0   \n",
       "2                   0                0                0                 0   \n",
       "3                   0                0                0                 0   \n",
       "4                   0                0                0                 0   \n",
       "\n",
       "   genre_قصائد عتاب  genre_قصائد عدل  genre_قصائد غزل  genre_قصائد فراق  \\\n",
       "0                 0                0                0                 0   \n",
       "1                 0                0                0                 0   \n",
       "2                 0                0                0                 0   \n",
       "3                 0                0                0                 0   \n",
       "4                 0                0                0                 0   \n",
       "\n",
       "   genre_قصائد قصيره  genre_قصائد مدح  genre_قصائد نصيحة  genre_قصائد هجاء  \\\n",
       "0                  0                0                  0                 1   \n",
       "1                  0                0                  0                 0   \n",
       "2                  1                0                  0                 0   \n",
       "3                  1                0                  0                 0   \n",
       "4                  1                0                  0                 0   \n",
       "\n",
       "   genre_قصائد وطنيه  style_عموديه  style_التفعيله  style_نثريه  \\\n",
       "0                  0             1               0            0   \n",
       "1                  0             1               0            0   \n",
       "2                  0             1               0            0   \n",
       "3                  0             1               0            0   \n",
       "4                  0             1               0            0   \n",
       "\n",
       "   meter_بحر أحذ الكامل  meter_بحر أحذ الوافر  meter_بحر البسيط  \\\n",
       "0                     0                     0                 0   \n",
       "1                     0                     0                 1   \n",
       "2                     0                     0                 0   \n",
       "3                     0                     0                 0   \n",
       "4                     0                     0                 0   \n",
       "\n",
       "   meter_بحر الخفيف  meter_بحر الدوبيت  meter_بحر الرجز  meter_بحر الرمل  \\\n",
       "0                 0                  0                0                0   \n",
       "1                 0                  0                0                0   \n",
       "2                 0                  0                1                0   \n",
       "3                 0                  0                0                0   \n",
       "4                 0                  0                0                0   \n",
       "\n",
       "   meter_بحر السريع  meter_بحر السلسلة  meter_بحر الطويل  meter_بحر القوما  \\\n",
       "0                 0                  0                 0                 0   \n",
       "1                 0                  0                 0                 0   \n",
       "2                 0                  0                 0                 0   \n",
       "3                 0                  0                 1                 0   \n",
       "4                 0                  0                 1                 0   \n",
       "\n",
       "   meter_بحر الكامل  meter_بحر المتدارك  meter_بحر المتقارب  meter_بحر المجتث  \\\n",
       "0                 0                   0                   0                 0   \n",
       "1                 0                   0                   0                 0   \n",
       "2                 0                   0                   0                 0   \n",
       "3                 0                   0                   0                 0   \n",
       "4                 0                   0                   0                 0   \n",
       "\n",
       "   meter_بحر المديد  meter_بحر المضارع  meter_بحر المقتضب  meter_بحر المنسرح  \\\n",
       "0                 0                  0                  0                  0   \n",
       "1                 0                  0                  0                  0   \n",
       "2                 0                  0                  0                  0   \n",
       "3                 0                  0                  0                  0   \n",
       "4                 0                  0                  0                  0   \n",
       "\n",
       "   meter_بحر المواليا  meter_بحر الهزج  meter_بحر الوافر  \\\n",
       "0                   0                0                 1   \n",
       "1                   0                0                 0   \n",
       "2                   0                0                 0   \n",
       "3                   0                0                 0   \n",
       "4                   0                0                 0   \n",
       "\n",
       "   meter_بحر تفعيلة الكامل  meter_بحر مجزوء البسيط  meter_بحر مجزوء الخفيف  \\\n",
       "0                        0                       0                       0   \n",
       "1                        0                       0                       0   \n",
       "2                        0                       0                       0   \n",
       "3                        0                       0                       0   \n",
       "4                        0                       0                       0   \n",
       "\n",
       "   meter_بحر مجزوء الدوبيت  meter_بحر مجزوء الرجز  meter_بحر مجزوء الرمل  \\\n",
       "0                        0                      0                      0   \n",
       "1                        0                      0                      0   \n",
       "2                        0                      0                      0   \n",
       "3                        0                      0                      0   \n",
       "4                        0                      0                      0   \n",
       "\n",
       "   meter_بحر مجزوء السريع  meter_بحر مجزوء الطويل  meter_بحر مجزوء الكامل  \\\n",
       "0                       0                       0                       0   \n",
       "1                       0                       0                       0   \n",
       "2                       0                       0                       0   \n",
       "3                       0                       0                       0   \n",
       "4                       0                       0                       0   \n",
       "\n",
       "   meter_بحر مجزوء المتدارك  meter_بحر مجزوء المتقارب  meter_بحر مجزوء المجتث  \\\n",
       "0                         0                         0                       0   \n",
       "1                         0                         0                       0   \n",
       "2                         0                         0                       0   \n",
       "3                         0                         0                       0   \n",
       "4                         0                         0                       0   \n",
       "\n",
       "   meter_بحر مجزوء المديد  meter_بحر مجزوء المنسرح  meter_بحر مجزوء المواليا  \\\n",
       "0                       0                        0                         0   \n",
       "1                       0                        0                         0   \n",
       "2                       0                        0                         0   \n",
       "3                       0                        0                         0   \n",
       "4                       0                        0                         0   \n",
       "\n",
       "   meter_بحر مجزوء الهزج  meter_بحر مجزوء الوافر  meter_بحر مجزوء موشح  \\\n",
       "0                      0                       0                     0   \n",
       "1                      0                       0                     0   \n",
       "2                      0                       0                     0   \n",
       "3                      0                       0                     0   \n",
       "4                      0                       0                     0   \n",
       "\n",
       "   meter_بحر مخلع البسيط  meter_بحر مخلع الرجز  meter_بحر مخلع الرمل  \\\n",
       "0                      0                     0                     0   \n",
       "1                      0                     0                     0   \n",
       "2                      0                     0                     0   \n",
       "3                      0                     0                     0   \n",
       "4                      0                     0                     0   \n",
       "\n",
       "   meter_بحر مخلع السريع  meter_بحر مخلع الكامل  meter_بحر مخلع موشح  \\\n",
       "0                      0                      0                    0   \n",
       "1                      0                      0                    0   \n",
       "2                      0                      0                    0   \n",
       "3                      0                      0                    0   \n",
       "4                      0                      0                    0   \n",
       "\n",
       "   meter_بحر مربع الرجز  meter_بحر مشطور الرجز  meter_بحر مشطور السريع  \\\n",
       "0                     0                      0                       0   \n",
       "1                     0                      0                       0   \n",
       "2                     0                      0                       0   \n",
       "3                     0                      0                       0   \n",
       "4                     0                      0                       0   \n",
       "\n",
       "   meter_بحر مشطور الطويل  meter_بحر منهوك البسيط  meter_بحر منهوك الرجز  \\\n",
       "0                       0                       0                      0   \n",
       "1                       0                       0                      0   \n",
       "2                       0                       0                      0   \n",
       "3                       0                       0                      0   \n",
       "4                       0                       0                      0   \n",
       "\n",
       "   meter_بحر منهوك الكامل  meter_بحر منهوك المنسرح  meter_بحر موشح  \\\n",
       "0                       0                        0               0   \n",
       "1                       0                        0               0   \n",
       "2                       0                        0               0   \n",
       "3                       0                        0               0   \n",
       "4                       0                        0               0   \n",
       "\n",
       "   rhyme_قافية  الحاء (ح)  rhyme_قافية (#)  rhyme_قافية (الالف)  \\\n",
       "0                       0                0                    0   \n",
       "1                       0                0                    0   \n",
       "2                       0                0                    0   \n",
       "3                       0                0                    0   \n",
       "4                       0                0                    0   \n",
       "\n",
       "   rhyme_قافية (الحاء)  rhyme_قافية (الدال)  rhyme_قافية (الراء)  \\\n",
       "0                    0                    0                    0   \n",
       "1                    0                    0                    0   \n",
       "2                    0                    0                    0   \n",
       "3                    0                    0                    0   \n",
       "4                    0                    0                    0   \n",
       "\n",
       "   rhyme_قافية (العين)  rhyme_قافية (الفاء)  rhyme_قافية (القاف)  \\\n",
       "0                    0                    0                    0   \n",
       "1                    0                    0                    0   \n",
       "2                    0                    0                    0   \n",
       "3                    0                    0                    0   \n",
       "4                    0                    0                    0   \n",
       "\n",
       "   rhyme_قافية (اللام)  rhyme_قافية (الميم)  rhyme_قافية (النون)  \\\n",
       "0                    0                    0                    0   \n",
       "1                    0                    0                    0   \n",
       "2                    0                    0                    0   \n",
       "3                    0                    0                    0   \n",
       "4                    0                    0                    0   \n",
       "\n",
       "   rhyme_قافية (الياء)  rhyme_قافية (لا)  rhyme_قافية (لام مكسورة)  \\\n",
       "0                    0                 0                         0   \n",
       "1                    0                 0                         0   \n",
       "2                    0                 0                         0   \n",
       "3                    0                 0                         0   \n",
       "4                    0                 0                         0   \n",
       "\n",
       "   rhyme_قافية ألف الهمزة (أ)  rhyme_قافية الألف (إ)  rhyme_قافية الألف (ا)  \\\n",
       "0                           0                      0                      0   \n",
       "1                           0                      0                      1   \n",
       "2                           0                      0                      1   \n",
       "3                           0                      0                      1   \n",
       "4                           0                      0                      0   \n",
       "\n",
       "   rhyme_قافية الباء (ب)  rhyme_قافية التاء (ت)  \\\n",
       "0                      0                      0   \n",
       "1                      0                      0   \n",
       "2                      0                      0   \n",
       "3                      0                      0   \n",
       "4                      1                      0   \n",
       "\n",
       "   rhyme_قافية التاء المربوطة (ة)  rhyme_قافية الثاء (ث)  \\\n",
       "0                               0                      0   \n",
       "1                               0                      0   \n",
       "2                               0                      0   \n",
       "3                               0                      0   \n",
       "4                               0                      0   \n",
       "\n",
       "   rhyme_قافية الجيم (ج)  rhyme_قافية الحاء (ح)  rhyme_قافية الخاء (خ)  \\\n",
       "0                      0                      0                      0   \n",
       "1                      0                      0                      0   \n",
       "2                      0                      0                      0   \n",
       "3                      0                      0                      0   \n",
       "4                      0                      0                      0   \n",
       "\n",
       "   rhyme_قافية الدال (د)  rhyme_قافية الذال (ذ)  rhyme_قافية الراء (ر)  \\\n",
       "0                      1                      0                      0   \n",
       "1                      0                      0                      0   \n",
       "2                      0                      0                      0   \n",
       "3                      0                      0                      0   \n",
       "4                      0                      0                      0   \n",
       "\n",
       "   rhyme_قافية الزاى (ز)  rhyme_قافية السين (س)  rhyme_قافية الشين (ش)  \\\n",
       "0                      0                      0                      0   \n",
       "1                      0                      0                      0   \n",
       "2                      0                      0                      0   \n",
       "3                      0                      0                      0   \n",
       "4                      0                      0                      0   \n",
       "\n",
       "   rhyme_قافية الصاد (ص)  rhyme_قافية الضاد (ض)  rhyme_قافية الطاء (ط)  \\\n",
       "0                      0                      0                      0   \n",
       "1                      0                      0                      0   \n",
       "2                      0                      0                      0   \n",
       "3                      0                      0                      0   \n",
       "4                      0                      0                      0   \n",
       "\n",
       "   rhyme_قافية الظاء (ظ)  rhyme_قافية العين (ع)  rhyme_قافية الغين (غ)  \\\n",
       "0                      0                      0                      0   \n",
       "1                      0                      0                      0   \n",
       "2                      0                      0                      0   \n",
       "3                      0                      0                      0   \n",
       "4                      0                      0                      0   \n",
       "\n",
       "   rhyme_قافية الفاء (ف)  rhyme_قافية القاف (ق)  rhyme_قافية الكاف (ك)  \\\n",
       "0                      0                      0                      0   \n",
       "1                      0                      0                      0   \n",
       "2                      0                      0                      0   \n",
       "3                      0                      0                      0   \n",
       "4                      0                      0                      0   \n",
       "\n",
       "   rhyme_قافية اللام (ل)  rhyme_قافية الميم (م)  rhyme_قافية النون (ن)  \\\n",
       "0                      0                      0                      0   \n",
       "1                      0                      0                      0   \n",
       "2                      0                      0                      0   \n",
       "3                      0                      0                      0   \n",
       "4                      0                      0                      0   \n",
       "\n",
       "   rhyme_قافية الهاء (ه)  rhyme_قافية الهمزة (ء)  rhyme_قافية الواو (و)  \\\n",
       "0                      0                       0                      0   \n",
       "1                      0                       0                      0   \n",
       "2                      0                       0                      0   \n",
       "3                      0                       0                      0   \n",
       "4                      0                       0                      0   \n",
       "\n",
       "   rhyme_قافية الياء (ى)  rhyme_قافية الياء (ي)  rhyme_قافية واو همزة (ؤ)  \\\n",
       "0                      0                      0                         0   \n",
       "1                      0                      0                         0   \n",
       "2                      0                      0                         0   \n",
       "3                      0                      0                         0   \n",
       "4                      0                      0                         0   \n",
       "\n",
       "   rhyme_قافية ياء همزة (ئ)  text_length  text_length_log  \\\n",
       "0                         0          255         5.545177   \n",
       "1                         0         4658         8.446556   \n",
       "2                         0           66         4.204693   \n",
       "3                         0           78         4.369448   \n",
       "4                         0           73         4.304065   \n",
       "\n",
       "                                     bert_input_text  era_encoded  \n",
       "0  سلام في الصحيفة من لقيط\\nإلى من بالجزيرة من إي...            4  \n",
       "1  يا دار عمرة من محتلها الجرعا\\nهاجت لي الهم وال...            4  \n",
       "2  وخاننا خوان في ارتباعنا\\nفانفد للسارح من سوامنا\\n            4  \n",
       "3  تنح إليكم يا ابن كوز فإننا\\nوإن ذدتنا راعون بر...            4  \n",
       "4  تطارحه الأنساب حتى رددنه\\nإلى نسب في أهل دومة ...            4  "
      ]
     },
     "execution_count": 144,
     "metadata": {},
     "output_type": "execute_result"
    }
   ],
   "source": [
    "pd.set_option('display.max_columns', None)\n",
    "df_features.head()\n"
   ]
  },
  {
   "cell_type": "markdown",
   "id": "6ae26e68",
   "metadata": {},
   "source": [
    "Now we will retrain the model after we removed Harakat from teh poem and adjust the hyperparameters"
   ]
  },
  {
   "cell_type": "code",
   "execution_count": null,
   "id": "d5209dec",
   "metadata": {},
   "outputs": [
    {
     "name": "stderr",
     "output_type": "stream",
     "text": [
      "Some weights of BertForSequenceClassification were not initialized from the model checkpoint at aubmindlab/bert-base-arabertv02 and are newly initialized: ['classifier.bias', 'classifier.weight']\n",
      "You should probably TRAIN this model on a down-stream task to be able to use it for predictions and inference.\n"
     ]
    },
    {
     "name": "stdout",
     "output_type": "stream",
     "text": [
      "Starting training...\n"
     ]
    },
    {
     "data": {
      "text/html": [
       "\n",
       "    <div>\n",
       "      \n",
       "      <progress value='29700' max='29700' style='width:300px; height:20px; vertical-align: middle;'></progress>\n",
       "      [29700/29700 3:06:07, Epoch 10/10]\n",
       "    </div>\n",
       "    <table border=\"1\" class=\"dataframe\">\n",
       "  <thead>\n",
       " <tr style=\"text-align: left;\">\n",
       "      <th>Step</th>\n",
       "      <th>Training Loss</th>\n",
       "      <th>Validation Loss</th>\n",
       "    </tr>\n",
       "  </thead>\n",
       "  <tbody>\n",
       "    <tr>\n",
       "      <td>500</td>\n",
       "      <td>2.067700</td>\n",
       "      <td>2.034806</td>\n",
       "    </tr>\n",
       "    <tr>\n",
       "      <td>1000</td>\n",
       "      <td>2.009900</td>\n",
       "      <td>1.974757</td>\n",
       "    </tr>\n",
       "    <tr>\n",
       "      <td>1500</td>\n",
       "      <td>1.963800</td>\n",
       "      <td>1.967795</td>\n",
       "    </tr>\n",
       "    <tr>\n",
       "      <td>2000</td>\n",
       "      <td>1.963200</td>\n",
       "      <td>1.948253</td>\n",
       "    </tr>\n",
       "    <tr>\n",
       "      <td>2500</td>\n",
       "      <td>1.897500</td>\n",
       "      <td>1.904302</td>\n",
       "    </tr>\n",
       "    <tr>\n",
       "      <td>3000</td>\n",
       "      <td>1.899700</td>\n",
       "      <td>1.895619</td>\n",
       "    </tr>\n",
       "    <tr>\n",
       "      <td>3500</td>\n",
       "      <td>1.865300</td>\n",
       "      <td>1.883627</td>\n",
       "    </tr>\n",
       "    <tr>\n",
       "      <td>4000</td>\n",
       "      <td>1.820500</td>\n",
       "      <td>1.895445</td>\n",
       "    </tr>\n",
       "    <tr>\n",
       "      <td>4500</td>\n",
       "      <td>1.888900</td>\n",
       "      <td>1.892404</td>\n",
       "    </tr>\n",
       "    <tr>\n",
       "      <td>5000</td>\n",
       "      <td>1.823900</td>\n",
       "      <td>1.863341</td>\n",
       "    </tr>\n",
       "    <tr>\n",
       "      <td>5500</td>\n",
       "      <td>1.803700</td>\n",
       "      <td>1.901492</td>\n",
       "    </tr>\n",
       "    <tr>\n",
       "      <td>6000</td>\n",
       "      <td>1.825500</td>\n",
       "      <td>1.889177</td>\n",
       "    </tr>\n",
       "    <tr>\n",
       "      <td>6500</td>\n",
       "      <td>1.680600</td>\n",
       "      <td>1.842814</td>\n",
       "    </tr>\n",
       "    <tr>\n",
       "      <td>7000</td>\n",
       "      <td>1.720700</td>\n",
       "      <td>1.874654</td>\n",
       "    </tr>\n",
       "    <tr>\n",
       "      <td>7500</td>\n",
       "      <td>1.736800</td>\n",
       "      <td>1.849649</td>\n",
       "    </tr>\n",
       "    <tr>\n",
       "      <td>8000</td>\n",
       "      <td>1.684600</td>\n",
       "      <td>1.852516</td>\n",
       "    </tr>\n",
       "    <tr>\n",
       "      <td>8500</td>\n",
       "      <td>1.623200</td>\n",
       "      <td>1.861933</td>\n",
       "    </tr>\n",
       "    <tr>\n",
       "      <td>9000</td>\n",
       "      <td>1.531600</td>\n",
       "      <td>1.897363</td>\n",
       "    </tr>\n",
       "    <tr>\n",
       "      <td>9500</td>\n",
       "      <td>1.582200</td>\n",
       "      <td>1.866390</td>\n",
       "    </tr>\n",
       "    <tr>\n",
       "      <td>10000</td>\n",
       "      <td>1.507900</td>\n",
       "      <td>1.861190</td>\n",
       "    </tr>\n",
       "    <tr>\n",
       "      <td>10500</td>\n",
       "      <td>1.542500</td>\n",
       "      <td>1.885722</td>\n",
       "    </tr>\n",
       "    <tr>\n",
       "      <td>11000</td>\n",
       "      <td>1.584600</td>\n",
       "      <td>1.892722</td>\n",
       "    </tr>\n",
       "    <tr>\n",
       "      <td>11500</td>\n",
       "      <td>1.571200</td>\n",
       "      <td>1.875605</td>\n",
       "    </tr>\n",
       "    <tr>\n",
       "      <td>12000</td>\n",
       "      <td>1.381600</td>\n",
       "      <td>1.989771</td>\n",
       "    </tr>\n",
       "    <tr>\n",
       "      <td>12500</td>\n",
       "      <td>1.453600</td>\n",
       "      <td>1.963398</td>\n",
       "    </tr>\n",
       "    <tr>\n",
       "      <td>13000</td>\n",
       "      <td>1.423500</td>\n",
       "      <td>1.926478</td>\n",
       "    </tr>\n",
       "    <tr>\n",
       "      <td>13500</td>\n",
       "      <td>1.440000</td>\n",
       "      <td>2.004646</td>\n",
       "    </tr>\n",
       "    <tr>\n",
       "      <td>14000</td>\n",
       "      <td>1.426900</td>\n",
       "      <td>1.964549</td>\n",
       "    </tr>\n",
       "    <tr>\n",
       "      <td>14500</td>\n",
       "      <td>1.350300</td>\n",
       "      <td>1.992428</td>\n",
       "    </tr>\n",
       "    <tr>\n",
       "      <td>15000</td>\n",
       "      <td>1.307400</td>\n",
       "      <td>2.024457</td>\n",
       "    </tr>\n",
       "    <tr>\n",
       "      <td>15500</td>\n",
       "      <td>1.358000</td>\n",
       "      <td>2.021003</td>\n",
       "    </tr>\n",
       "    <tr>\n",
       "      <td>16000</td>\n",
       "      <td>1.310000</td>\n",
       "      <td>2.039669</td>\n",
       "    </tr>\n",
       "    <tr>\n",
       "      <td>16500</td>\n",
       "      <td>1.260700</td>\n",
       "      <td>2.055636</td>\n",
       "    </tr>\n",
       "    <tr>\n",
       "      <td>17000</td>\n",
       "      <td>1.292400</td>\n",
       "      <td>2.042253</td>\n",
       "    </tr>\n",
       "    <tr>\n",
       "      <td>17500</td>\n",
       "      <td>1.327600</td>\n",
       "      <td>2.059482</td>\n",
       "    </tr>\n",
       "    <tr>\n",
       "      <td>18000</td>\n",
       "      <td>1.194800</td>\n",
       "      <td>2.122945</td>\n",
       "    </tr>\n",
       "    <tr>\n",
       "      <td>18500</td>\n",
       "      <td>1.145200</td>\n",
       "      <td>2.146282</td>\n",
       "    </tr>\n",
       "    <tr>\n",
       "      <td>19000</td>\n",
       "      <td>1.136900</td>\n",
       "      <td>2.188825</td>\n",
       "    </tr>\n",
       "    <tr>\n",
       "      <td>19500</td>\n",
       "      <td>1.183000</td>\n",
       "      <td>2.194275</td>\n",
       "    </tr>\n",
       "    <tr>\n",
       "      <td>20000</td>\n",
       "      <td>1.118100</td>\n",
       "      <td>2.184533</td>\n",
       "    </tr>\n",
       "    <tr>\n",
       "      <td>20500</td>\n",
       "      <td>1.133700</td>\n",
       "      <td>2.196714</td>\n",
       "    </tr>\n",
       "    <tr>\n",
       "      <td>21000</td>\n",
       "      <td>1.080900</td>\n",
       "      <td>2.234758</td>\n",
       "    </tr>\n",
       "    <tr>\n",
       "      <td>21500</td>\n",
       "      <td>1.080800</td>\n",
       "      <td>2.296691</td>\n",
       "    </tr>\n",
       "    <tr>\n",
       "      <td>22000</td>\n",
       "      <td>1.074800</td>\n",
       "      <td>2.303938</td>\n",
       "    </tr>\n",
       "    <tr>\n",
       "      <td>22500</td>\n",
       "      <td>1.090500</td>\n",
       "      <td>2.268611</td>\n",
       "    </tr>\n",
       "    <tr>\n",
       "      <td>23000</td>\n",
       "      <td>1.150900</td>\n",
       "      <td>2.292774</td>\n",
       "    </tr>\n",
       "    <tr>\n",
       "      <td>23500</td>\n",
       "      <td>1.072000</td>\n",
       "      <td>2.288796</td>\n",
       "    </tr>\n",
       "    <tr>\n",
       "      <td>24000</td>\n",
       "      <td>1.031200</td>\n",
       "      <td>2.346668</td>\n",
       "    </tr>\n",
       "    <tr>\n",
       "      <td>24500</td>\n",
       "      <td>0.987300</td>\n",
       "      <td>2.408329</td>\n",
       "    </tr>\n",
       "    <tr>\n",
       "      <td>25000</td>\n",
       "      <td>0.991300</td>\n",
       "      <td>2.382313</td>\n",
       "    </tr>\n",
       "    <tr>\n",
       "      <td>25500</td>\n",
       "      <td>0.979400</td>\n",
       "      <td>2.388103</td>\n",
       "    </tr>\n",
       "    <tr>\n",
       "      <td>26000</td>\n",
       "      <td>0.974200</td>\n",
       "      <td>2.375436</td>\n",
       "    </tr>\n",
       "    <tr>\n",
       "      <td>26500</td>\n",
       "      <td>1.075700</td>\n",
       "      <td>2.406550</td>\n",
       "    </tr>\n",
       "    <tr>\n",
       "      <td>27000</td>\n",
       "      <td>0.942600</td>\n",
       "      <td>2.420210</td>\n",
       "    </tr>\n",
       "    <tr>\n",
       "      <td>27500</td>\n",
       "      <td>0.908600</td>\n",
       "      <td>2.434556</td>\n",
       "    </tr>\n",
       "    <tr>\n",
       "      <td>28000</td>\n",
       "      <td>0.988700</td>\n",
       "      <td>2.440579</td>\n",
       "    </tr>\n",
       "    <tr>\n",
       "      <td>28500</td>\n",
       "      <td>1.015300</td>\n",
       "      <td>2.449411</td>\n",
       "    </tr>\n",
       "    <tr>\n",
       "      <td>29000</td>\n",
       "      <td>1.037700</td>\n",
       "      <td>2.443432</td>\n",
       "    </tr>\n",
       "    <tr>\n",
       "      <td>29500</td>\n",
       "      <td>0.994100</td>\n",
       "      <td>2.455463</td>\n",
       "    </tr>\n",
       "  </tbody>\n",
       "</table><p>"
      ],
      "text/plain": [
       "<IPython.core.display.HTML object>"
      ]
     },
     "metadata": {},
     "output_type": "display_data"
    },
    {
     "name": "stdout",
     "output_type": "stream",
     "text": [
      "Training completed!\n"
     ]
    }
   ],
   "source": [
    "model = AutoModelForSequenceClassification.from_pretrained(\n",
    "    MODEL_NAME,\n",
    "    num_labels=n_classes,\n",
    "    problem_type=\"single_label_classification\"\n",
    ")\n",
    "\n",
    "model = model.to(device)\n",
    "\n",
    "class WeightedTrainer(Trainer):\n",
    "    def compute_loss(self, model, inputs, return_outputs=False, **kwargs):\n",
    "        labels = inputs.get(\"labels\")\n",
    "        outputs = model(**inputs)\n",
    "        logits = outputs.get(\"logits\")\n",
    "        \n",
    "        weight_tensor = torch.tensor([class_weights_dict[i] for i in range(n_classes)], \n",
    "                                   dtype=torch.float).to(device)\n",
    "        loss_fct = torch.nn.CrossEntropyLoss(weight=weight_tensor)\n",
    "        loss = loss_fct(logits.view(-1, n_classes), labels.view(-1))\n",
    "        \n",
    "        return (loss, outputs) if return_outputs else loss\n",
    "\n",
    "training_args = TrainingArguments(\n",
    "    output_dir='./results',\n",
    "    num_train_epochs=10,\n",
    "    per_device_train_batch_size=16,  \n",
    "    per_device_eval_batch_size=16,\n",
    "    learning_rate=2e-5,\n",
    "    warmup_steps=500,\n",
    "    weight_decay=0.01,\n",
    "    logging_dir='./logs',\n",
    "    logging_steps=100,\n",
    "    eval_strategy=\"steps\",  \n",
    "    eval_steps=500,\n",
    "    save_strategy=\"steps\",\n",
    "    save_steps=500,\n",
    "    load_best_model_at_end=True,\n",
    "    metric_for_best_model=\"eval_loss\",\n",
    "    greater_is_better=False,\n",
    "    save_total_limit=2,\n",
    "    seed=42,\n",
    "    fp16=True,  \n",
    ")\n",
    "\n",
    "trainer = WeightedTrainer(\n",
    "    model=model,\n",
    "    args=training_args,\n",
    "    train_dataset=train_dataset,\n",
    "    eval_dataset=val_dataset,\n",
    "    tokenizer=tokenizer,\n",
    ")\n",
    "\n",
    "print(\"Starting training...\")\n",
    "trainer.train()\n",
    "print(\"Training completed!\")"
   ]
  },
  {
   "cell_type": "code",
   "execution_count": null,
   "id": "1ccbb539",
   "metadata": {},
   "outputs": [
    {
     "data": {
      "text/html": [],
      "text/plain": [
       "<IPython.core.display.HTML object>"
      ]
     },
     "metadata": {},
     "output_type": "display_data"
    },
    {
     "name": "stdout",
     "output_type": "stream",
     "text": [
      "Test Accuracy: 0.2877\n",
      "F1 Score (Macro): 0.2330\n",
      "F1 Score (Weighted): 0.3029\n",
      "\n",
      "Classification Report:\n",
      "                precision    recall  f1-score   support\n",
      "\n",
      "العصر الأندلسي       0.21      0.35      0.26      1209\n",
      "العصر الاسلامي       0.00      0.00      0.00        67\n",
      "  العصر الاموي       0.27      0.19      0.22      1458\n",
      " العصر الايوبي       0.35      0.24      0.28      1618\n",
      " العصر الجاهلي       0.07      0.04      0.05       469\n",
      " العصر العباسي       0.53      0.24      0.33      5288\n",
      "العصر العثماني       0.39      0.53      0.45      1491\n",
      "العصر المملوكي       0.49      0.23      0.31      2594\n",
      "     المخضرمون       0.10      0.74      0.18       656\n",
      "\n",
      "      accuracy                           0.29     14850\n",
      "     macro avg       0.27      0.28      0.23     14850\n",
      "  weighted avg       0.40      0.29      0.30     14850\n",
      "\n",
      "\n",
      "Confusion Matrix:\n",
      "[[ 428    0   39   87   21  173  156   59  246]\n",
      " [   5    0   19    1    2    7    8    0   25]\n",
      " [  57    1  271   35   45  137   47   20  845]\n",
      " [ 262    1   78  386   29  228  216   90  328]\n",
      " [  35    0   48   14   18   32   12    4  306]\n",
      " [ 648    0  367  310   66 1294  448  287 1868]\n",
      " [ 175    0   35  103    6  109  792  155  116]\n",
      " [ 395    0   88  152   23  434  343  601  558]\n",
      " [  21    0   56   16   33   33    7    7  483]]\n"
     ]
    }
   ],
   "source": [
    "predictions = trainer.predict(test_dataset)\n",
    "y_pred = np.argmax(predictions.predictions, axis=1)\n",
    "\n",
    "accuracy = accuracy_score(y_test, y_pred)\n",
    "f1_macro = f1_score(y_test, y_pred, average='macro')\n",
    "f1_weighted = f1_score(y_test, y_pred, average='weighted')\n",
    "\n",
    "print(f\"Test Accuracy: {accuracy:.4f}\")\n",
    "print(f\"F1 Score (Macro): {f1_macro:.4f}\")\n",
    "print(f\"F1 Score (Weighted): {f1_weighted:.4f}\")\n",
    "\n",
    "print(\"\\nClassification Report:\")\n",
    "print(classification_report(y_test, y_pred, target_names=class_names))\n",
    "\n",
    "cm = confusion_matrix(y_test, y_pred)\n",
    "print(\"\\nConfusion Matrix:\")\n",
    "print(cm)"
   ]
  },
  {
   "cell_type": "markdown",
   "id": "c4614791",
   "metadata": {},
   "source": [
    "As we can see above the model accuracy still low, my suggestions is to work more on the imbalanced classes"
   ]
  },
  {
   "cell_type": "code",
   "execution_count": null,
   "id": "bbf80156",
   "metadata": {},
   "outputs": [
    {
     "name": "stdout",
     "output_type": "stream",
     "text": [
      "Model saved successfully!\n"
     ]
    }
   ],
   "source": [
    "model.save_pretrained('./arabic_poetry_bert_model')\n",
    "tokenizer.save_pretrained('./arabic_poetry_bert_model')\n",
    "\n",
    "import joblib\n",
    "joblib.dump(label_encoder, './arabic_poetry_bert_model/label_encoder.pkl')\n",
    "\n",
    "print(\"Model saved successfully!\")\n",
    "\n",
    "def load_model():\n",
    "    model = AutoModelForSequenceClassification.from_pretrained('./arabic_poetry_bert_model')\n",
    "    tokenizer = AutoTokenizer.from_pretrained('./arabic_poetry_bert_model')\n",
    "    label_encoder = joblib.load('./arabic_poetry_bert_model/label_encoder.pkl')\n",
    "    return model, tokenizer, label_encoder"
   ]
  }
 ],
 "metadata": {
  "kernelspec": {
   "display_name": "Python 3",
   "language": "python",
   "name": "python3"
  },
  "language_info": {
   "codemirror_mode": {
    "name": "ipython",
    "version": 3
   },
   "file_extension": ".py",
   "mimetype": "text/x-python",
   "name": "python",
   "nbconvert_exporter": "python",
   "pygments_lexer": "ipython3",
   "version": "3.10.12"
  }
 },
 "nbformat": 4,
 "nbformat_minor": 5
}
